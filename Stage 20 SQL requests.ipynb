{
 "cells": [
  {
   "cell_type": "raw",
   "metadata": {},
   "source": [
    "Описание задачи и исходных данных\n",
    "\n",
    "Коронавирус застал мир врасплох, изменив привычный порядок вещей. В свободное время жители городов больше не выходят на улицу, не посещают кафе и торговые центры. Зато стало больше времени для книг. Это заметили стартаперы — и бросились создавать приложения для тех, кто любит читать.\n",
    "Ваша компания решила быть на волне и купила крупный сервис для чтения книг по подписке. Ваша первая задача как аналитика — проанализировать базу данных.\n",
    "В ней — информация о книгах, издательствах, авторах, а также пользовательские обзоры книг. Эти данные помогут сформулировать ценностное предложение для нового продукта.\n",
    "Описание данных\n",
    "\n",
    "Таблица books\n",
    "Содержит данные о книгах:\n",
    "book_id — идентификатор книги;\n",
    "author_id — идентификатор автора;\n",
    "title — название книги;\n",
    "num_pages — количество страниц;\n",
    "publication_date — дата публикации книги;\n",
    "publisher_id — идентификатор издателя.\n",
    "\n",
    "\n",
    "Таблица authors\n",
    "Содержит данные об авторах:\n",
    "author_id — идентификатор автора;\n",
    "author — имя автора.\n",
    "\n",
    "Таблица publishers\n",
    "Содержит данные об издательствах:\n",
    "publisher_id — идентификатор издательства;\n",
    "publisher — название издательства;\n",
    "\n",
    "\n",
    "Таблица ratings\n",
    "Содержит данные о пользовательских оценках книг:\n",
    "rating_id — идентификатор оценки;\n",
    "book_id — идентификатор книги;\n",
    "username — имя пользователя, оставившего оценку;\n",
    "rating — оценка книги.\n",
    "\n",
    "\n",
    "Таблица reviews\n",
    "Содержит данные о пользовательских обзорах:\n",
    "review_id — идентификатор обзора;\n",
    "book_id — идентификатор книги;\n",
    "username — имя автора обзора;\n",
    "text — текст обзора.\n",
    "\n",
    "Задания\n",
    "Посчитайте, сколько книг вышло после 1 января 2000 года;\n",
    "Для каждой книги посчитайте количество обзоров и среднюю оценку;\n",
    "Определите издательство, которое выпустило наибольшее число книг толще 50 страниц — так вы исключите из анализа брошюры;\n",
    "Определите автора с самой высокой средней оценкой книг — учитывайте только книги с 50 и более оценками;\n",
    "Посчитайте среднее количество обзоров от пользователей, которые поставили больше 50 оценок.\n",
    "\n",
    "Как выполнить задание?\n",
    "Опишите цели исследования;\n",
    "Исследуйте таблицы — выведите первые строки;\n",
    "Сделайте по одному SQL-запросу для решения каждого задания;\n",
    "Выведите результаты каждого запроса в тетрадке;\n",
    "Опишите выводы по каждой из решённых задач.\n"
   ]
  },
  {
   "cell_type": "markdown",
   "metadata": {},
   "source": [
    "# Цель исследования ответить на ряд специфических вопросов со стороны стартаперов для увеличения охвата целевой аудитории."
   ]
  },
  {
   "cell_type": "raw",
   "metadata": {},
   "source": [
    "Перечень вопросов:\n",
    "\n",
    "1.Посчитайте, сколько книг вышло после 1 января 2000 года;\n",
    "2.Для каждой книги посчитайте количество обзоров и среднюю оценку;\n",
    "3.Определите издательство, которое выпустило наибольшее число книг толще 50 страниц — так вы исключите из анализа брошюры;\n",
    "4.Определите автора с самой высокой средней оценкой книг — учитывайте только книги с 50 и более оценками;\n",
    "5.Посчитайте среднее количество обзоров от пользователей, которые поставили больше 50 оценок."
   ]
  },
  {
   "cell_type": "markdown",
   "metadata": {},
   "source": [
    "# Подключимся к базе и получим информацию"
   ]
  },
  {
   "cell_type": "code",
   "execution_count": 11,
   "metadata": {},
   "outputs": [],
   "source": [
    "import pandas as pd\n",
    "from sqlalchemy import create_engine\n",
    "import requests"
   ]
  },
  {
   "cell_type": "code",
   "execution_count": 12,
   "metadata": {},
   "outputs": [],
   "source": [
    "# устанавливаем параметры\n",
    "db_config = {'user': 'praktikum_student', # имя пользователя\n",
    "             'pwd': 'Sdf4$2;d-d30pp', # пароль\n",
    "             'host': 'rc1b-wcoijxj3yxfsf3fs.mdb.yandexcloud.net',\n",
    "             'port': 6432, # порт подключения\n",
    "             'db': 'data-analyst-final-project-db'} # название базы данных\n",
    "\n",
    "connection_string = 'postgresql://{}:{}@{}:{}/{}'.format(db_config['user'],\n",
    "                                                         db_config['pwd'],\n",
    "                                                         db_config['host'],\n",
    "                                                         db_config['port'],\n",
    "                                                         db_config['db'])\n",
    "# сохраняем коннектор\n",
    "engine = create_engine(connection_string, connect_args={'sslmode':'require'})"
   ]
  },
  {
   "cell_type": "markdown",
   "metadata": {},
   "source": [
    "# 1. Посчитайте, сколько книг вышло после 1 января 2000 года"
   ]
  },
  {
   "cell_type": "raw",
   "metadata": {},
   "source": [
    "# Сделаю запрос и посмотрю, что вообще за информацию у нас получается"
   ]
  },
  {
   "cell_type": "code",
   "execution_count": 13,
   "metadata": {},
   "outputs": [
    {
     "name": "stdout",
     "output_type": "stream",
     "text": [
      "Количество записей = 1000\n"
     ]
    },
    {
     "data": {
      "text/html": [
       "<div>\n",
       "<style scoped>\n",
       "    .dataframe tbody tr th:only-of-type {\n",
       "        vertical-align: middle;\n",
       "    }\n",
       "\n",
       "    .dataframe tbody tr th {\n",
       "        vertical-align: top;\n",
       "    }\n",
       "\n",
       "    .dataframe thead th {\n",
       "        text-align: right;\n",
       "    }\n",
       "</style>\n",
       "<table border=\"1\" class=\"dataframe\">\n",
       "  <thead>\n",
       "    <tr style=\"text-align: right;\">\n",
       "      <th></th>\n",
       "      <th>book_id</th>\n",
       "      <th>author_id</th>\n",
       "      <th>title</th>\n",
       "      <th>num_pages</th>\n",
       "      <th>publication_date</th>\n",
       "      <th>publisher_id</th>\n",
       "    </tr>\n",
       "  </thead>\n",
       "  <tbody>\n",
       "    <tr>\n",
       "      <th>0</th>\n",
       "      <td>1</td>\n",
       "      <td>546</td>\n",
       "      <td>'Salem's Lot</td>\n",
       "      <td>594</td>\n",
       "      <td>2005-11-01</td>\n",
       "      <td>93</td>\n",
       "    </tr>\n",
       "    <tr>\n",
       "      <th>1</th>\n",
       "      <td>2</td>\n",
       "      <td>465</td>\n",
       "      <td>1 000 Places to See Before You Die</td>\n",
       "      <td>992</td>\n",
       "      <td>2003-05-22</td>\n",
       "      <td>336</td>\n",
       "    </tr>\n",
       "    <tr>\n",
       "      <th>2</th>\n",
       "      <td>3</td>\n",
       "      <td>407</td>\n",
       "      <td>13 Little Blue Envelopes (Little Blue Envelope...</td>\n",
       "      <td>322</td>\n",
       "      <td>2010-12-21</td>\n",
       "      <td>135</td>\n",
       "    </tr>\n",
       "  </tbody>\n",
       "</table>\n",
       "</div>"
      ],
      "text/plain": [
       "   book_id  author_id                                              title  \\\n",
       "0        1        546                                       'Salem's Lot   \n",
       "1        2        465                 1 000 Places to See Before You Die   \n",
       "2        3        407  13 Little Blue Envelopes (Little Blue Envelope...   \n",
       "\n",
       "   num_pages publication_date  publisher_id  \n",
       "0        594       2005-11-01            93  \n",
       "1        992       2003-05-22           336  \n",
       "2        322       2010-12-21           135  "
      ]
     },
     "execution_count": 13,
     "metadata": {},
     "output_type": "execute_result"
    }
   ],
   "source": [
    "query = '''\n",
    "SELECT *\n",
    "FROM books\n",
    "'''\n",
    "test = pd.io.sql.read_sql(query, con = engine)\n",
    "print('Количество записей =', len(test))\n",
    "test.head(3)"
   ]
  },
  {
   "cell_type": "code",
   "execution_count": 14,
   "metadata": {},
   "outputs": [
    {
     "name": "stdout",
     "output_type": "stream",
     "text": [
      "<class 'pandas.core.frame.DataFrame'>\n",
      "RangeIndex: 1000 entries, 0 to 999\n",
      "Data columns (total 6 columns):\n",
      " #   Column            Non-Null Count  Dtype \n",
      "---  ------            --------------  ----- \n",
      " 0   book_id           1000 non-null   int64 \n",
      " 1   author_id         1000 non-null   int64 \n",
      " 2   title             1000 non-null   object\n",
      " 3   num_pages         1000 non-null   int64 \n",
      " 4   publication_date  1000 non-null   object\n",
      " 5   publisher_id      1000 non-null   int64 \n",
      "dtypes: int64(4), object(2)\n",
      "memory usage: 47.0+ KB\n"
     ]
    }
   ],
   "source": [
    "test.info()"
   ]
  },
  {
   "cell_type": "code",
   "execution_count": 15,
   "metadata": {},
   "outputs": [
    {
     "data": {
      "text/html": [
       "<div>\n",
       "<style scoped>\n",
       "    .dataframe tbody tr th:only-of-type {\n",
       "        vertical-align: middle;\n",
       "    }\n",
       "\n",
       "    .dataframe tbody tr th {\n",
       "        vertical-align: top;\n",
       "    }\n",
       "\n",
       "    .dataframe thead th {\n",
       "        text-align: right;\n",
       "    }\n",
       "</style>\n",
       "<table border=\"1\" class=\"dataframe\">\n",
       "  <thead>\n",
       "    <tr style=\"text-align: right;\">\n",
       "      <th></th>\n",
       "      <th>book_id</th>\n",
       "      <th>author_id</th>\n",
       "      <th>num_pages</th>\n",
       "      <th>publisher_id</th>\n",
       "    </tr>\n",
       "  </thead>\n",
       "  <tbody>\n",
       "    <tr>\n",
       "      <th>count</th>\n",
       "      <td>1000.000000</td>\n",
       "      <td>1000.000000</td>\n",
       "      <td>1000.00000</td>\n",
       "      <td>1000.000000</td>\n",
       "    </tr>\n",
       "    <tr>\n",
       "      <th>mean</th>\n",
       "      <td>500.500000</td>\n",
       "      <td>320.417000</td>\n",
       "      <td>389.11100</td>\n",
       "      <td>171.270000</td>\n",
       "    </tr>\n",
       "    <tr>\n",
       "      <th>std</th>\n",
       "      <td>288.819436</td>\n",
       "      <td>181.620172</td>\n",
       "      <td>229.39014</td>\n",
       "      <td>99.082685</td>\n",
       "    </tr>\n",
       "    <tr>\n",
       "      <th>min</th>\n",
       "      <td>1.000000</td>\n",
       "      <td>1.000000</td>\n",
       "      <td>14.00000</td>\n",
       "      <td>1.000000</td>\n",
       "    </tr>\n",
       "    <tr>\n",
       "      <th>25%</th>\n",
       "      <td>250.750000</td>\n",
       "      <td>162.750000</td>\n",
       "      <td>249.00000</td>\n",
       "      <td>83.000000</td>\n",
       "    </tr>\n",
       "    <tr>\n",
       "      <th>50%</th>\n",
       "      <td>500.500000</td>\n",
       "      <td>316.500000</td>\n",
       "      <td>352.00000</td>\n",
       "      <td>177.500000</td>\n",
       "    </tr>\n",
       "    <tr>\n",
       "      <th>75%</th>\n",
       "      <td>750.250000</td>\n",
       "      <td>481.000000</td>\n",
       "      <td>453.00000</td>\n",
       "      <td>258.000000</td>\n",
       "    </tr>\n",
       "    <tr>\n",
       "      <th>max</th>\n",
       "      <td>1000.000000</td>\n",
       "      <td>636.000000</td>\n",
       "      <td>2690.00000</td>\n",
       "      <td>340.000000</td>\n",
       "    </tr>\n",
       "  </tbody>\n",
       "</table>\n",
       "</div>"
      ],
      "text/plain": [
       "           book_id    author_id   num_pages  publisher_id\n",
       "count  1000.000000  1000.000000  1000.00000   1000.000000\n",
       "mean    500.500000   320.417000   389.11100    171.270000\n",
       "std     288.819436   181.620172   229.39014     99.082685\n",
       "min       1.000000     1.000000    14.00000      1.000000\n",
       "25%     250.750000   162.750000   249.00000     83.000000\n",
       "50%     500.500000   316.500000   352.00000    177.500000\n",
       "75%     750.250000   481.000000   453.00000    258.000000\n",
       "max    1000.000000   636.000000  2690.00000    340.000000"
      ]
     },
     "execution_count": 15,
     "metadata": {},
     "output_type": "execute_result"
    }
   ],
   "source": [
    "test.describe()"
   ]
  },
  {
   "cell_type": "code",
   "execution_count": 16,
   "metadata": {},
   "outputs": [
    {
     "data": {
      "text/plain": [
       "book_id             0\n",
       "author_id           0\n",
       "title               0\n",
       "num_pages           0\n",
       "publication_date    0\n",
       "publisher_id        0\n",
       "dtype: int64"
      ]
     },
     "execution_count": 16,
     "metadata": {},
     "output_type": "execute_result"
    }
   ],
   "source": [
    "test.isnull().sum()"
   ]
  },
  {
   "cell_type": "raw",
   "metadata": {},
   "source": [
    "Вывод: столбец с датой publication_date в формате object. В остальном вроде данные нормальные, без пропусков и с правильными типами"
   ]
  },
  {
   "cell_type": "raw",
   "metadata": {},
   "source": [
    "#  Посчитаем, сколько книг вышло после 1 января 2000 года"
   ]
  },
  {
   "cell_type": "code",
   "execution_count": 17,
   "metadata": {},
   "outputs": [
    {
     "name": "stdout",
     "output_type": "stream",
     "text": [
      "Количество книг = 819\n"
     ]
    }
   ],
   "source": [
    "query = '''\n",
    "SELECT *\n",
    "FROM books\n",
    "WHERE publication_date>'2000-01-01'\n",
    "'''\n",
    "test = pd.io.sql.read_sql(query, con = engine)\n",
    "print('Количество книг =', len(test))\n"
   ]
  },
  {
   "cell_type": "raw",
   "metadata": {},
   "source": [
    "Вывод: количество книг, выпущенных с 01-01-2020 составило 819 единиц"
   ]
  },
  {
   "cell_type": "markdown",
   "metadata": {},
   "source": [
    "# 2.Для каждой книги посчитаем количество обзоров и среднюю оценку"
   ]
  },
  {
   "cell_type": "code",
   "execution_count": 18,
   "metadata": {},
   "outputs": [
    {
     "data": {
      "text/html": [
       "<div>\n",
       "<style scoped>\n",
       "    .dataframe tbody tr th:only-of-type {\n",
       "        vertical-align: middle;\n",
       "    }\n",
       "\n",
       "    .dataframe tbody tr th {\n",
       "        vertical-align: top;\n",
       "    }\n",
       "\n",
       "    .dataframe thead th {\n",
       "        text-align: right;\n",
       "    }\n",
       "</style>\n",
       "<table border=\"1\" class=\"dataframe\">\n",
       "  <thead>\n",
       "    <tr style=\"text-align: right;\">\n",
       "      <th></th>\n",
       "      <th>review_id</th>\n",
       "      <th>book_id</th>\n",
       "      <th>username</th>\n",
       "      <th>text</th>\n",
       "    </tr>\n",
       "  </thead>\n",
       "  <tbody>\n",
       "    <tr>\n",
       "      <th>0</th>\n",
       "      <td>1</td>\n",
       "      <td>1</td>\n",
       "      <td>brandtandrea</td>\n",
       "      <td>Mention society tell send professor analysis. ...</td>\n",
       "    </tr>\n",
       "    <tr>\n",
       "      <th>1</th>\n",
       "      <td>2</td>\n",
       "      <td>1</td>\n",
       "      <td>ryanfranco</td>\n",
       "      <td>Foot glass pretty audience hit themselves. Amo...</td>\n",
       "    </tr>\n",
       "    <tr>\n",
       "      <th>2</th>\n",
       "      <td>3</td>\n",
       "      <td>2</td>\n",
       "      <td>lorichen</td>\n",
       "      <td>Listen treat keep worry. Miss husband tax but ...</td>\n",
       "    </tr>\n",
       "    <tr>\n",
       "      <th>3</th>\n",
       "      <td>4</td>\n",
       "      <td>3</td>\n",
       "      <td>johnsonamanda</td>\n",
       "      <td>Finally month interesting blue could nature cu...</td>\n",
       "    </tr>\n",
       "    <tr>\n",
       "      <th>4</th>\n",
       "      <td>5</td>\n",
       "      <td>3</td>\n",
       "      <td>scotttamara</td>\n",
       "      <td>Nation purpose heavy give wait song will. List...</td>\n",
       "    </tr>\n",
       "  </tbody>\n",
       "</table>\n",
       "</div>"
      ],
      "text/plain": [
       "   review_id  book_id       username  \\\n",
       "0          1        1   brandtandrea   \n",
       "1          2        1     ryanfranco   \n",
       "2          3        2       lorichen   \n",
       "3          4        3  johnsonamanda   \n",
       "4          5        3    scotttamara   \n",
       "\n",
       "                                                text  \n",
       "0  Mention society tell send professor analysis. ...  \n",
       "1  Foot glass pretty audience hit themselves. Amo...  \n",
       "2  Listen treat keep worry. Miss husband tax but ...  \n",
       "3  Finally month interesting blue could nature cu...  \n",
       "4  Nation purpose heavy give wait song will. List...  "
      ]
     },
     "execution_count": 18,
     "metadata": {},
     "output_type": "execute_result"
    }
   ],
   "source": [
    "query = '''\n",
    "SELECT *\n",
    "FROM reviews\n",
    "'''\n",
    "test = pd.io.sql.read_sql(query, con = engine)\n",
    "test.head()"
   ]
  },
  {
   "cell_type": "code",
   "execution_count": 19,
   "metadata": {},
   "outputs": [
    {
     "data": {
      "text/html": [
       "<div>\n",
       "<style scoped>\n",
       "    .dataframe tbody tr th:only-of-type {\n",
       "        vertical-align: middle;\n",
       "    }\n",
       "\n",
       "    .dataframe tbody tr th {\n",
       "        vertical-align: top;\n",
       "    }\n",
       "\n",
       "    .dataframe thead th {\n",
       "        text-align: right;\n",
       "    }\n",
       "</style>\n",
       "<table border=\"1\" class=\"dataframe\">\n",
       "  <thead>\n",
       "    <tr style=\"text-align: right;\">\n",
       "      <th></th>\n",
       "      <th>rating_id</th>\n",
       "      <th>book_id</th>\n",
       "      <th>username</th>\n",
       "      <th>rating</th>\n",
       "    </tr>\n",
       "  </thead>\n",
       "  <tbody>\n",
       "    <tr>\n",
       "      <th>0</th>\n",
       "      <td>1</td>\n",
       "      <td>1</td>\n",
       "      <td>ryanfranco</td>\n",
       "      <td>4</td>\n",
       "    </tr>\n",
       "    <tr>\n",
       "      <th>1</th>\n",
       "      <td>2</td>\n",
       "      <td>1</td>\n",
       "      <td>grantpatricia</td>\n",
       "      <td>2</td>\n",
       "    </tr>\n",
       "    <tr>\n",
       "      <th>2</th>\n",
       "      <td>3</td>\n",
       "      <td>1</td>\n",
       "      <td>brandtandrea</td>\n",
       "      <td>5</td>\n",
       "    </tr>\n",
       "    <tr>\n",
       "      <th>3</th>\n",
       "      <td>4</td>\n",
       "      <td>2</td>\n",
       "      <td>lorichen</td>\n",
       "      <td>3</td>\n",
       "    </tr>\n",
       "    <tr>\n",
       "      <th>4</th>\n",
       "      <td>5</td>\n",
       "      <td>2</td>\n",
       "      <td>mariokeller</td>\n",
       "      <td>2</td>\n",
       "    </tr>\n",
       "  </tbody>\n",
       "</table>\n",
       "</div>"
      ],
      "text/plain": [
       "   rating_id  book_id       username  rating\n",
       "0          1        1     ryanfranco       4\n",
       "1          2        1  grantpatricia       2\n",
       "2          3        1   brandtandrea       5\n",
       "3          4        2       lorichen       3\n",
       "4          5        2    mariokeller       2"
      ]
     },
     "execution_count": 19,
     "metadata": {},
     "output_type": "execute_result"
    }
   ],
   "source": [
    "query = '''\n",
    "SELECT *\n",
    "FROM ratings\n",
    "'''\n",
    "test = pd.io.sql.read_sql(query, con = engine)\n",
    "test.head()"
   ]
  },
  {
   "cell_type": "code",
   "execution_count": 20,
   "metadata": {},
   "outputs": [
    {
     "data": {
      "text/html": [
       "<div>\n",
       "<style scoped>\n",
       "    .dataframe tbody tr th:only-of-type {\n",
       "        vertical-align: middle;\n",
       "    }\n",
       "\n",
       "    .dataframe tbody tr th {\n",
       "        vertical-align: top;\n",
       "    }\n",
       "\n",
       "    .dataframe thead th {\n",
       "        text-align: right;\n",
       "    }\n",
       "</style>\n",
       "<table border=\"1\" class=\"dataframe\">\n",
       "  <thead>\n",
       "    <tr style=\"text-align: right;\">\n",
       "      <th></th>\n",
       "      <th>title</th>\n",
       "      <th>total_rev</th>\n",
       "      <th>avg_rating</th>\n",
       "    </tr>\n",
       "  </thead>\n",
       "  <tbody>\n",
       "    <tr>\n",
       "      <th>0</th>\n",
       "      <td>Twilight (Twilight  #1)</td>\n",
       "      <td>7</td>\n",
       "      <td>3.7</td>\n",
       "    </tr>\n",
       "    <tr>\n",
       "      <th>1</th>\n",
       "      <td>Water for Elephants</td>\n",
       "      <td>6</td>\n",
       "      <td>4.0</td>\n",
       "    </tr>\n",
       "    <tr>\n",
       "      <th>2</th>\n",
       "      <td>The Glass Castle</td>\n",
       "      <td>6</td>\n",
       "      <td>4.2</td>\n",
       "    </tr>\n",
       "    <tr>\n",
       "      <th>3</th>\n",
       "      <td>Harry Potter and the Prisoner of Azkaban (Harr...</td>\n",
       "      <td>6</td>\n",
       "      <td>4.4</td>\n",
       "    </tr>\n",
       "    <tr>\n",
       "      <th>4</th>\n",
       "      <td>The Curious Incident of the Dog in the Night-Time</td>\n",
       "      <td>6</td>\n",
       "      <td>4.1</td>\n",
       "    </tr>\n",
       "  </tbody>\n",
       "</table>\n",
       "</div>"
      ],
      "text/plain": [
       "                                               title  total_rev  avg_rating\n",
       "0                            Twilight (Twilight  #1)          7         3.7\n",
       "1                                Water for Elephants          6         4.0\n",
       "2                                   The Glass Castle          6         4.2\n",
       "3  Harry Potter and the Prisoner of Azkaban (Harr...          6         4.4\n",
       "4  The Curious Incident of the Dog in the Night-Time          6         4.1"
      ]
     },
     "execution_count": 20,
     "metadata": {},
     "output_type": "execute_result"
    }
   ],
   "source": [
    "query = '''\n",
    "SELECT title,\n",
    "       COUNT(DISTINCT review_id) AS total_rev,\n",
    "       ROUND(AVG(rating), 1) AS avg_rating\n",
    "FROM books \n",
    "     LEFT JOIN ratings AS rat \n",
    "     ON books.book_id = rat.book_id\n",
    "     LEFT JOIN reviews AS rev \n",
    "     ON books.book_id = rev.book_id\n",
    "GROUP BY books.book_id\n",
    "ORDER BY total_rev DESC\n",
    "         \n",
    "'''\n",
    "test = pd.io.sql.read_sql(query, con = engine)\n",
    "test.head()"
   ]
  },
  {
   "cell_type": "markdown",
   "metadata": {},
   "source": [
    "Вывод: Книга Twilight (Twilight #1) лидер по числу ревью, но не рейтингу."
   ]
  },
  {
   "cell_type": "markdown",
   "metadata": {},
   "source": [
    "# 3. Определим издательство, которое выпустило наибольшее число книг толще 50 страниц — так исключим из анализа брошюры"
   ]
  },
  {
   "cell_type": "markdown",
   "metadata": {},
   "source": [
    "Таблица publishers\n",
    "Содержит данные об издательствах:\n",
    "publisher_id — идентификатор издательства;\n",
    "publisher — название издательства;"
   ]
  },
  {
   "cell_type": "code",
   "execution_count": 21,
   "metadata": {},
   "outputs": [
    {
     "data": {
      "text/html": [
       "<div>\n",
       "<style scoped>\n",
       "    .dataframe tbody tr th:only-of-type {\n",
       "        vertical-align: middle;\n",
       "    }\n",
       "\n",
       "    .dataframe tbody tr th {\n",
       "        vertical-align: top;\n",
       "    }\n",
       "\n",
       "    .dataframe thead th {\n",
       "        text-align: right;\n",
       "    }\n",
       "</style>\n",
       "<table border=\"1\" class=\"dataframe\">\n",
       "  <thead>\n",
       "    <tr style=\"text-align: right;\">\n",
       "      <th></th>\n",
       "      <th>publisher_id</th>\n",
       "      <th>publisher</th>\n",
       "    </tr>\n",
       "  </thead>\n",
       "  <tbody>\n",
       "    <tr>\n",
       "      <th>0</th>\n",
       "      <td>1</td>\n",
       "      <td>Ace</td>\n",
       "    </tr>\n",
       "    <tr>\n",
       "      <th>1</th>\n",
       "      <td>2</td>\n",
       "      <td>Ace Book</td>\n",
       "    </tr>\n",
       "    <tr>\n",
       "      <th>2</th>\n",
       "      <td>3</td>\n",
       "      <td>Ace Books</td>\n",
       "    </tr>\n",
       "    <tr>\n",
       "      <th>3</th>\n",
       "      <td>4</td>\n",
       "      <td>Ace Hardcover</td>\n",
       "    </tr>\n",
       "    <tr>\n",
       "      <th>4</th>\n",
       "      <td>5</td>\n",
       "      <td>Addison Wesley Publishing Company</td>\n",
       "    </tr>\n",
       "  </tbody>\n",
       "</table>\n",
       "</div>"
      ],
      "text/plain": [
       "   publisher_id                          publisher\n",
       "0             1                                Ace\n",
       "1             2                           Ace Book\n",
       "2             3                          Ace Books\n",
       "3             4                      Ace Hardcover\n",
       "4             5  Addison Wesley Publishing Company"
      ]
     },
     "execution_count": 21,
     "metadata": {},
     "output_type": "execute_result"
    }
   ],
   "source": [
    "query = '''\n",
    "SELECT *\n",
    "FROM publishers\n",
    "'''\n",
    "test = pd.io.sql.read_sql(query, con = engine)\n",
    "test.head(5)"
   ]
  },
  {
   "cell_type": "code",
   "execution_count": 22,
   "metadata": {},
   "outputs": [
    {
     "data": {
      "text/html": [
       "<div>\n",
       "<style scoped>\n",
       "    .dataframe tbody tr th:only-of-type {\n",
       "        vertical-align: middle;\n",
       "    }\n",
       "\n",
       "    .dataframe tbody tr th {\n",
       "        vertical-align: top;\n",
       "    }\n",
       "\n",
       "    .dataframe thead th {\n",
       "        text-align: right;\n",
       "    }\n",
       "</style>\n",
       "<table border=\"1\" class=\"dataframe\">\n",
       "  <thead>\n",
       "    <tr style=\"text-align: right;\">\n",
       "      <th></th>\n",
       "      <th>publisher</th>\n",
       "      <th>total_books</th>\n",
       "    </tr>\n",
       "  </thead>\n",
       "  <tbody>\n",
       "    <tr>\n",
       "      <th>0</th>\n",
       "      <td>Penguin Books</td>\n",
       "      <td>42</td>\n",
       "    </tr>\n",
       "  </tbody>\n",
       "</table>\n",
       "</div>"
      ],
      "text/plain": [
       "       publisher  total_books\n",
       "0  Penguin Books           42"
      ]
     },
     "execution_count": 22,
     "metadata": {},
     "output_type": "execute_result"
    }
   ],
   "source": [
    "query = '''\n",
    "SELECT publisher,\n",
    "       COUNT(publisher) as total_books            \n",
    "FROM books \n",
    "LEFT JOIN publishers AS pub \n",
    "     ON books.publisher_id = pub.publisher_id\n",
    "WHERE num_pages>=50\n",
    "GROUP BY publisher\n",
    "ORDER BY total_books DESC\n",
    "\n",
    "'''\n",
    "books_every = pd.io.sql.read_sql(query, con = engine)\n",
    "books_every.head(1)"
   ]
  },
  {
   "cell_type": "raw",
   "metadata": {},
   "source": [
    "Вывод: В таблице издения с указанием количства выпущенных книг, толщиной 50 страниц и более. "
   ]
  },
  {
   "cell_type": "markdown",
   "metadata": {},
   "source": [
    "# 4. Найдем автора с самой высокой средней оценкой книг — учитываем только книги с 50 и более оценками;"
   ]
  },
  {
   "cell_type": "raw",
   "metadata": {},
   "source": [
    "для удобства)\n",
    "\n",
    "Содержит данные о книгах:\n",
    "•\tbook_id — идентификатор книги;\n",
    "•\tauthor_id — идентификатор автора;\n",
    "•\ttitle — название книги;\n",
    "•\tnum_pages — количество страниц;\n",
    "•\tpublication_date — дата публикации книги;\n",
    "•\tpublisher_id — идентификатор издателя.\n",
    "\n",
    "Таблица authors\n",
    "Содержит данные об авторах:\n",
    "•\tauthor_id — идентификатор автора;\n",
    "•\tauthor — имя автора.\n",
    "\n",
    "Таблица publishers\n",
    "Содержит данные об издательствах:\n",
    "•\tpublisher_id — идентификатор издательства;\n",
    "•\tpublisher — название издательства;\n",
    "\n",
    "Таблица ratings\n",
    "Содержит данные о пользовательских оценках книг:\n",
    "•\trating_id — идентификатор оценки;\n",
    "•\tbook_id — идентификатор книги;\n",
    "•\tusername — имя пользователя, оставившего оценку;\n",
    "•\trating — оценка книги.\n",
    "\n",
    "Таблица reviews\n",
    "Содержит данные о пользовательских обзорах на книги:\n",
    "•\treview_id — идентификатор обзора;\n",
    "•\tbook_id — идентификатор книги;\n",
    "•\tusername — имя пользователя, написавшего обзор;\n",
    "•\ttext — текст обзора."
   ]
  },
  {
   "cell_type": "raw",
   "metadata": {},
   "source": [
    "Найдем автора с самой высокой средней оценкой книг — учитываем только книги с 50 и более оценками;"
   ]
  },
  {
   "cell_type": "code",
   "execution_count": 23,
   "metadata": {},
   "outputs": [
    {
     "data": {
      "text/html": [
       "<div>\n",
       "<style scoped>\n",
       "    .dataframe tbody tr th:only-of-type {\n",
       "        vertical-align: middle;\n",
       "    }\n",
       "\n",
       "    .dataframe tbody tr th {\n",
       "        vertical-align: top;\n",
       "    }\n",
       "\n",
       "    .dataframe thead th {\n",
       "        text-align: right;\n",
       "    }\n",
       "</style>\n",
       "<table border=\"1\" class=\"dataframe\">\n",
       "  <thead>\n",
       "    <tr style=\"text-align: right;\">\n",
       "      <th></th>\n",
       "      <th>author_id</th>\n",
       "      <th>author</th>\n",
       "    </tr>\n",
       "  </thead>\n",
       "  <tbody>\n",
       "    <tr>\n",
       "      <th>0</th>\n",
       "      <td>1</td>\n",
       "      <td>A.S. Byatt</td>\n",
       "    </tr>\n",
       "    <tr>\n",
       "      <th>1</th>\n",
       "      <td>2</td>\n",
       "      <td>Aesop/Laura Harris/Laura Gibbs</td>\n",
       "    </tr>\n",
       "    <tr>\n",
       "      <th>2</th>\n",
       "      <td>3</td>\n",
       "      <td>Agatha Christie</td>\n",
       "    </tr>\n",
       "    <tr>\n",
       "      <th>3</th>\n",
       "      <td>4</td>\n",
       "      <td>Alan Brennert</td>\n",
       "    </tr>\n",
       "    <tr>\n",
       "      <th>4</th>\n",
       "      <td>5</td>\n",
       "      <td>Alan Moore/David   Lloyd</td>\n",
       "    </tr>\n",
       "  </tbody>\n",
       "</table>\n",
       "</div>"
      ],
      "text/plain": [
       "   author_id                          author\n",
       "0          1                      A.S. Byatt\n",
       "1          2  Aesop/Laura Harris/Laura Gibbs\n",
       "2          3                 Agatha Christie\n",
       "3          4                   Alan Brennert\n",
       "4          5        Alan Moore/David   Lloyd"
      ]
     },
     "execution_count": 23,
     "metadata": {},
     "output_type": "execute_result"
    }
   ],
   "source": [
    "query = '''\n",
    "SELECT *\n",
    "FROM authors\n",
    "'''\n",
    "test = pd.io.sql.read_sql(query, con = engine)\n",
    "test.head(5)"
   ]
  },
  {
   "cell_type": "code",
   "execution_count": 25,
   "metadata": {},
   "outputs": [
    {
     "data": {
      "text/html": [
       "<div>\n",
       "<style scoped>\n",
       "    .dataframe tbody tr th:only-of-type {\n",
       "        vertical-align: middle;\n",
       "    }\n",
       "\n",
       "    .dataframe tbody tr th {\n",
       "        vertical-align: top;\n",
       "    }\n",
       "\n",
       "    .dataframe thead th {\n",
       "        text-align: right;\n",
       "    }\n",
       "</style>\n",
       "<table border=\"1\" class=\"dataframe\">\n",
       "  <thead>\n",
       "    <tr style=\"text-align: right;\">\n",
       "      <th></th>\n",
       "      <th>author</th>\n",
       "      <th>middle_rating</th>\n",
       "      <th>total_books</th>\n",
       "    </tr>\n",
       "  </thead>\n",
       "  <tbody>\n",
       "    <tr>\n",
       "      <th>0</th>\n",
       "      <td>Diana Gabaldon</td>\n",
       "      <td>4.30</td>\n",
       "      <td>50</td>\n",
       "    </tr>\n",
       "    <tr>\n",
       "      <th>1</th>\n",
       "      <td>J.K. Rowling/Mary GrandPré</td>\n",
       "      <td>4.29</td>\n",
       "      <td>312</td>\n",
       "    </tr>\n",
       "    <tr>\n",
       "      <th>2</th>\n",
       "      <td>Agatha Christie</td>\n",
       "      <td>4.28</td>\n",
       "      <td>53</td>\n",
       "    </tr>\n",
       "    <tr>\n",
       "      <th>3</th>\n",
       "      <td>Markus Zusak/Cao Xuân Việt Khương</td>\n",
       "      <td>4.26</td>\n",
       "      <td>53</td>\n",
       "    </tr>\n",
       "    <tr>\n",
       "      <th>4</th>\n",
       "      <td>J.R.R. Tolkien</td>\n",
       "      <td>4.24</td>\n",
       "      <td>166</td>\n",
       "    </tr>\n",
       "  </tbody>\n",
       "</table>\n",
       "</div>"
      ],
      "text/plain": [
       "                              author  middle_rating  total_books\n",
       "0                     Diana Gabaldon           4.30           50\n",
       "1         J.K. Rowling/Mary GrandPré           4.29          312\n",
       "2                    Agatha Christie           4.28           53\n",
       "3  Markus Zusak/Cao Xuân Việt Khương           4.26           53\n",
       "4                     J.R.R. Tolkien           4.24          166"
      ]
     },
     "execution_count": 25,
     "metadata": {},
     "output_type": "execute_result"
    }
   ],
   "source": [
    "query = '''\n",
    "SELECT author,\n",
    "      ROUND((AVG(rating)),2) AS middle_rating,\n",
    "      COUNT(rat.book_id) AS total_books\n",
    "FROM books as b\n",
    "     LEFT JOIN authors AS aut \n",
    "     ON b.author_id = aut.author_id\n",
    "     LEFT JOIN ratings AS rat \n",
    "     ON b.book_id = rat.book_id\n",
    "GROUP BY author\n",
    "HAVING COUNT(rat.rating)>=50\n",
    "ORDER BY middle_rating DESC\n",
    "\n",
    "'''\n",
    "books_every_r = pd.io.sql.read_sql(query, con = engine)\n",
    "books_every_r.head()"
   ]
  },
  {
   "cell_type": "code",
   "execution_count": 26,
   "metadata": {},
   "outputs": [],
   "source": [
    "# Сделаем группировку по book_id"
   ]
  },
  {
   "cell_type": "code",
   "execution_count": 27,
   "metadata": {},
   "outputs": [
    {
     "data": {
      "text/html": [
       "<div>\n",
       "<style scoped>\n",
       "    .dataframe tbody tr th:only-of-type {\n",
       "        vertical-align: middle;\n",
       "    }\n",
       "\n",
       "    .dataframe tbody tr th {\n",
       "        vertical-align: top;\n",
       "    }\n",
       "\n",
       "    .dataframe thead th {\n",
       "        text-align: right;\n",
       "    }\n",
       "</style>\n",
       "<table border=\"1\" class=\"dataframe\">\n",
       "  <thead>\n",
       "    <tr style=\"text-align: right;\">\n",
       "      <th></th>\n",
       "      <th>book_id</th>\n",
       "      <th>middle_rating</th>\n",
       "      <th>total_books</th>\n",
       "    </tr>\n",
       "  </thead>\n",
       "  <tbody>\n",
       "    <tr>\n",
       "      <th>0</th>\n",
       "      <td>302</td>\n",
       "      <td>4.41</td>\n",
       "      <td>82</td>\n",
       "    </tr>\n",
       "    <tr>\n",
       "      <th>1</th>\n",
       "      <td>722</td>\n",
       "      <td>4.39</td>\n",
       "      <td>74</td>\n",
       "    </tr>\n",
       "    <tr>\n",
       "      <th>2</th>\n",
       "      <td>299</td>\n",
       "      <td>4.29</td>\n",
       "      <td>80</td>\n",
       "    </tr>\n",
       "    <tr>\n",
       "      <th>3</th>\n",
       "      <td>656</td>\n",
       "      <td>4.26</td>\n",
       "      <td>53</td>\n",
       "    </tr>\n",
       "    <tr>\n",
       "      <th>4</th>\n",
       "      <td>300</td>\n",
       "      <td>4.25</td>\n",
       "      <td>73</td>\n",
       "    </tr>\n",
       "  </tbody>\n",
       "</table>\n",
       "</div>"
      ],
      "text/plain": [
       "   book_id  middle_rating  total_books\n",
       "0      302           4.41           82\n",
       "1      722           4.39           74\n",
       "2      299           4.29           80\n",
       "3      656           4.26           53\n",
       "4      300           4.25           73"
      ]
     },
     "execution_count": 27,
     "metadata": {},
     "output_type": "execute_result"
    }
   ],
   "source": [
    "query = '''\n",
    "SELECT b.book_id,\n",
    "      ROUND((AVG(rating)),2) AS middle_rating,\n",
    "      COUNT(rat.book_id) AS total_books\n",
    "FROM books as b\n",
    "     LEFT JOIN authors AS aut \n",
    "     ON b.author_id = aut.author_id\n",
    "     LEFT JOIN ratings AS rat \n",
    "     ON b.book_id = rat.book_id\n",
    "GROUP BY b.book_id\n",
    "HAVING COUNT(rat.rating)>=50\n",
    "ORDER BY middle_rating DESC\n",
    "\n",
    "'''\n",
    "books_every_r = pd.io.sql.read_sql(query, con = engine)\n",
    "books_every_r.head()"
   ]
  },
  {
   "cell_type": "code",
   "execution_count": 28,
   "metadata": {},
   "outputs": [],
   "source": [
    "# Получились другие данные"
   ]
  },
  {
   "cell_type": "raw",
   "metadata": {},
   "source": [
    "# Итого, финальный вариант"
   ]
  },
  {
   "cell_type": "code",
   "execution_count": 29,
   "metadata": {},
   "outputs": [
    {
     "name": "stdout",
     "output_type": "stream",
     "text": [
      "Автор книги с наивысшим рейтингом 4.41 и количеством оценок не менее 50:  J.K. Rowling/Mary GrandPré\n"
     ]
    }
   ],
   "source": [
    "query = '''\n",
    "SELECT author                \n",
    "FROM books as b\n",
    "     LEFT JOIN authors AS aut \n",
    "     ON b.author_id = aut.author_id\n",
    "     LEFT JOIN ratings AS rat \n",
    "     ON b.book_id = rat.book_id  \n",
    "WHERE b.book_id = \n",
    "(\n",
    "SELECT temp.book_id\n",
    "FROM\n",
    "(\n",
    "SELECT b.book_id,\n",
    "      ROUND((AVG(rating)),2) AS middle_rating          \n",
    "FROM books as b\n",
    "     LEFT JOIN authors AS aut \n",
    "     ON b.author_id = aut.author_id\n",
    "     LEFT JOIN ratings AS rat \n",
    "     ON b.book_id = rat.book_id\n",
    "GROUP BY b.book_id\n",
    "HAVING COUNT(rat.rating)>=50\n",
    "ORDER BY middle_rating DESC\n",
    "LIMIT 1) as temp\n",
    ")\n",
    "LIMIT 1\n",
    "\n",
    "'''\n",
    "books_every = pd.io.sql.read_sql(query, con = engine)\n",
    "max_rait = books_every_r['middle_rating'][0]\n",
    "print(f'Автор книги с наивысшим рейтингом {max_rait} и количеством оценок не менее 50: ', books_every['author'][0])"
   ]
  },
  {
   "cell_type": "raw",
   "metadata": {},
   "source": [
    "Вывод: Наивысший рейтинг 4.41 у автора J.K. Rowling/Mary GrandPré. Всего автор выпустил 82 книги с количеством оценок 50 или более."
   ]
  },
  {
   "cell_type": "markdown",
   "metadata": {},
   "source": [
    "# 5. Посчитайм среднее количество обзоров от пользователей, которые поставили больше 50 оценок."
   ]
  },
  {
   "cell_type": "code",
   "execution_count": 30,
   "metadata": {},
   "outputs": [
    {
     "data": {
      "text/html": [
       "<div>\n",
       "<style scoped>\n",
       "    .dataframe tbody tr th:only-of-type {\n",
       "        vertical-align: middle;\n",
       "    }\n",
       "\n",
       "    .dataframe tbody tr th {\n",
       "        vertical-align: top;\n",
       "    }\n",
       "\n",
       "    .dataframe thead th {\n",
       "        text-align: right;\n",
       "    }\n",
       "</style>\n",
       "<table border=\"1\" class=\"dataframe\">\n",
       "  <thead>\n",
       "    <tr style=\"text-align: right;\">\n",
       "      <th></th>\n",
       "      <th>middle_review_from_users</th>\n",
       "    </tr>\n",
       "  </thead>\n",
       "  <tbody>\n",
       "    <tr>\n",
       "      <th>0</th>\n",
       "      <td>24.33</td>\n",
       "    </tr>\n",
       "  </tbody>\n",
       "</table>\n",
       "</div>"
      ],
      "text/plain": [
       "   middle_review_from_users\n",
       "0                     24.33"
      ]
     },
     "execution_count": 30,
     "metadata": {},
     "output_type": "execute_result"
    }
   ],
   "source": [
    "query = \"\"\"\n",
    "SELECT ROUND((AVG(review_cnt)),2) AS middle_review_from_users\n",
    "FROM (\n",
    "       SELECT username, \n",
    "              COUNT(review_id) AS review_cnt\n",
    "       FROM reviews \n",
    "       WHERE username IN (\n",
    "                          SELECT username\n",
    "                          FROM ratings\n",
    "                          GROUP BY username\n",
    "                          HAVING COUNT(rating_id) > 50)\n",
    "       GROUP BY  username\n",
    "      ) AS temp\n",
    "\"\"\"\n",
    "books_every = pd.io.sql.read_sql(query, con = engine)\n",
    "books_every.head()\n"
   ]
  },
  {
   "cell_type": "raw",
   "metadata": {},
   "source": [
    "Вывод: Cреднее количество обзоров от пользователей, которые поставили более 50 оценов - 24,33 обзора"
   ]
  },
  {
   "cell_type": "raw",
   "metadata": {},
   "source": [
    "Подведем краткий результат проведенной работы:\n",
    "\n",
    "-Всего с 01-01-2020 выпущенно 819 разничных книг и брошюр\n",
    "-Максимально количество обзоров на книгу не превышает 7\n",
    "-Наиболее успешный издатель книг, толщиной более 50 страниц- Penguin Books\n",
    "-Наиболее успешный автор книг, с рейтингом 4.41 и не менее 50 оценками - J.K. Rowling/Mary GrandPré\n",
    "-Среднее количество обзоров от пользователей с не менее чем 50 оценками - 24,33.\n"
   ]
  }
 ],
 "metadata": {
  "ExecuteTimeLog": [
   {
    "duration": 624,
    "start_time": "2023-02-01T07:15:55.781Z"
   },
   {
    "duration": 5912,
    "start_time": "2023-02-01T07:16:03.274Z"
   },
   {
    "duration": 3,
    "start_time": "2023-02-01T07:17:05.681Z"
   },
   {
    "duration": 4,
    "start_time": "2023-02-01T07:17:08.794Z"
   },
   {
    "duration": 268,
    "start_time": "2023-02-01T07:17:25.922Z"
   },
   {
    "duration": 101,
    "start_time": "2023-02-01T07:18:27.988Z"
   },
   {
    "duration": 11,
    "start_time": "2023-02-01T07:18:48.010Z"
   },
   {
    "duration": 22,
    "start_time": "2023-02-01T07:19:03.703Z"
   },
   {
    "duration": 5,
    "start_time": "2023-02-01T07:20:28.366Z"
   },
   {
    "duration": 95,
    "start_time": "2023-02-01T07:22:14.788Z"
   },
   {
    "duration": 99,
    "start_time": "2023-02-01T07:22:42.957Z"
   },
   {
    "duration": 125,
    "start_time": "2023-02-01T07:55:53.923Z"
   },
   {
    "duration": 121,
    "start_time": "2023-02-01T07:55:59.454Z"
   },
   {
    "duration": 149,
    "start_time": "2023-02-01T07:56:07.653Z"
   },
   {
    "duration": 236,
    "start_time": "2023-02-01T07:57:01.763Z"
   },
   {
    "duration": 145,
    "start_time": "2023-02-01T07:57:42.255Z"
   },
   {
    "duration": 105,
    "start_time": "2023-02-01T07:58:19.001Z"
   },
   {
    "duration": 153,
    "start_time": "2023-02-01T07:58:57.045Z"
   },
   {
    "duration": 249,
    "start_time": "2023-02-01T07:59:02.443Z"
   },
   {
    "duration": 115,
    "start_time": "2023-02-01T08:01:27.294Z"
   },
   {
    "duration": 139,
    "start_time": "2023-02-01T08:04:29.525Z"
   },
   {
    "duration": 76,
    "start_time": "2023-02-01T08:04:48.832Z"
   },
   {
    "duration": 138,
    "start_time": "2023-02-01T08:05:06.912Z"
   },
   {
    "duration": 70,
    "start_time": "2023-02-01T08:05:12.320Z"
   },
   {
    "duration": 83,
    "start_time": "2023-02-01T08:05:19.373Z"
   },
   {
    "duration": 72,
    "start_time": "2023-02-01T08:06:19.939Z"
   },
   {
    "duration": 70,
    "start_time": "2023-02-01T08:06:24.789Z"
   },
   {
    "duration": 119,
    "start_time": "2023-02-01T08:07:01.221Z"
   },
   {
    "duration": 75,
    "start_time": "2023-02-01T08:07:22.434Z"
   },
   {
    "duration": 72,
    "start_time": "2023-02-01T08:08:09.823Z"
   },
   {
    "duration": 88,
    "start_time": "2023-02-01T08:09:17.303Z"
   },
   {
    "duration": 89,
    "start_time": "2023-02-01T08:12:45.548Z"
   },
   {
    "duration": 141,
    "start_time": "2023-02-01T08:13:15.464Z"
   },
   {
    "duration": 158,
    "start_time": "2023-02-01T08:13:47.020Z"
   },
   {
    "duration": 76,
    "start_time": "2023-02-01T08:13:55.845Z"
   },
   {
    "duration": 76,
    "start_time": "2023-02-01T08:14:06.845Z"
   },
   {
    "duration": 79,
    "start_time": "2023-02-01T08:14:13.672Z"
   },
   {
    "duration": 78,
    "start_time": "2023-02-01T08:16:30.844Z"
   },
   {
    "duration": 73,
    "start_time": "2023-02-01T08:16:35.372Z"
   },
   {
    "duration": 75,
    "start_time": "2023-02-01T08:16:49.504Z"
   },
   {
    "duration": 598,
    "start_time": "2023-02-01T08:17:16.430Z"
   },
   {
    "duration": 74,
    "start_time": "2023-02-01T08:21:27.014Z"
   },
   {
    "duration": 72,
    "start_time": "2023-02-01T08:21:39.724Z"
   },
   {
    "duration": 73,
    "start_time": "2023-02-01T08:21:48.803Z"
   },
   {
    "duration": 74,
    "start_time": "2023-02-01T08:21:55.696Z"
   },
   {
    "duration": 77,
    "start_time": "2023-02-01T08:22:22.046Z"
   },
   {
    "duration": 155,
    "start_time": "2023-02-01T08:22:30.574Z"
   },
   {
    "duration": 104,
    "start_time": "2023-02-01T08:23:43.409Z"
   },
   {
    "duration": 76,
    "start_time": "2023-02-01T08:23:50.847Z"
   },
   {
    "duration": 3,
    "start_time": "2023-02-01T08:27:52.041Z"
   },
   {
    "duration": 4,
    "start_time": "2023-02-01T08:27:52.482Z"
   },
   {
    "duration": 4,
    "start_time": "2023-02-01T08:27:57.193Z"
   },
   {
    "duration": 317,
    "start_time": "2023-02-01T08:28:02.603Z"
   },
   {
    "duration": 594,
    "start_time": "2023-02-01T08:28:23.103Z"
   },
   {
    "duration": 5744,
    "start_time": "2023-02-01T08:28:23.699Z"
   },
   {
    "duration": 350,
    "start_time": "2023-02-01T08:28:29.445Z"
   },
   {
    "duration": 10,
    "start_time": "2023-02-01T08:28:29.797Z"
   },
   {
    "duration": 27,
    "start_time": "2023-02-01T08:28:29.809Z"
   },
   {
    "duration": 7,
    "start_time": "2023-02-01T08:28:29.837Z"
   },
   {
    "duration": 95,
    "start_time": "2023-02-01T08:28:29.845Z"
   },
   {
    "duration": 92,
    "start_time": "2023-02-01T08:28:29.941Z"
   },
   {
    "duration": 88,
    "start_time": "2023-02-01T08:28:30.035Z"
   },
   {
    "duration": 86,
    "start_time": "2023-02-01T08:28:30.125Z"
   },
   {
    "duration": 91,
    "start_time": "2023-02-01T08:28:30.213Z"
   },
   {
    "duration": 85,
    "start_time": "2023-02-01T08:28:30.305Z"
   },
   {
    "duration": 86,
    "start_time": "2023-02-01T08:28:30.392Z"
   },
   {
    "duration": 89,
    "start_time": "2023-02-01T08:28:30.480Z"
   },
   {
    "duration": 83,
    "start_time": "2023-02-01T08:29:04.141Z"
   },
   {
    "duration": 605,
    "start_time": "2023-02-01T08:50:33.217Z"
   },
   {
    "duration": 9399,
    "start_time": "2023-02-01T08:50:33.825Z"
   },
   {
    "duration": 87,
    "start_time": "2023-02-01T08:50:43.226Z"
   },
   {
    "duration": 13,
    "start_time": "2023-02-01T08:50:43.315Z"
   },
   {
    "duration": 23,
    "start_time": "2023-02-01T08:50:43.331Z"
   },
   {
    "duration": 7,
    "start_time": "2023-02-01T08:50:43.355Z"
   },
   {
    "duration": 42,
    "start_time": "2023-02-01T08:50:43.363Z"
   },
   {
    "duration": 24,
    "start_time": "2023-02-01T08:50:43.408Z"
   },
   {
    "duration": 24,
    "start_time": "2023-02-01T08:50:43.434Z"
   },
   {
    "duration": 25,
    "start_time": "2023-02-01T08:50:43.460Z"
   },
   {
    "duration": 16,
    "start_time": "2023-02-01T08:50:43.488Z"
   },
   {
    "duration": 24,
    "start_time": "2023-02-01T08:50:43.507Z"
   },
   {
    "duration": 19,
    "start_time": "2023-02-01T08:50:43.533Z"
   },
   {
    "duration": 15,
    "start_time": "2023-02-01T08:50:43.555Z"
   },
   {
    "duration": 19,
    "start_time": "2023-02-01T08:50:52.716Z"
   },
   {
    "duration": 42,
    "start_time": "2023-02-01T08:51:06.192Z"
   },
   {
    "duration": 57,
    "start_time": "2023-02-01T09:52:31.946Z"
   },
   {
    "duration": 624,
    "start_time": "2023-02-01T09:52:55.158Z"
   },
   {
    "duration": 8914,
    "start_time": "2023-02-01T09:52:55.787Z"
   },
   {
    "duration": 66,
    "start_time": "2023-02-01T09:53:04.703Z"
   },
   {
    "duration": 12,
    "start_time": "2023-02-01T09:53:04.771Z"
   },
   {
    "duration": 54,
    "start_time": "2023-02-01T09:53:04.785Z"
   },
   {
    "duration": 21,
    "start_time": "2023-02-01T09:53:04.842Z"
   },
   {
    "duration": 27,
    "start_time": "2023-02-01T09:53:04.866Z"
   },
   {
    "duration": 58,
    "start_time": "2023-02-01T09:53:04.895Z"
   },
   {
    "duration": 36,
    "start_time": "2023-02-01T09:53:04.955Z"
   },
   {
    "duration": 36,
    "start_time": "2023-02-01T09:53:04.994Z"
   },
   {
    "duration": 20,
    "start_time": "2023-02-01T09:53:05.032Z"
   },
   {
    "duration": 22,
    "start_time": "2023-02-01T09:53:05.054Z"
   },
   {
    "duration": 56,
    "start_time": "2023-02-01T09:53:05.078Z"
   },
   {
    "duration": 15,
    "start_time": "2023-02-01T09:53:05.136Z"
   },
   {
    "duration": 189,
    "start_time": "2023-02-01T09:54:30.118Z"
   },
   {
    "duration": 107,
    "start_time": "2023-02-01T09:54:48.130Z"
   },
   {
    "duration": 100,
    "start_time": "2023-02-01T09:54:55.865Z"
   },
   {
    "duration": 121,
    "start_time": "2023-02-01T09:55:15.787Z"
   },
   {
    "duration": 116,
    "start_time": "2023-02-01T09:56:33.121Z"
   },
   {
    "duration": 23,
    "start_time": "2023-02-01T09:57:14.232Z"
   },
   {
    "duration": 110,
    "start_time": "2023-02-01T09:57:51.039Z"
   },
   {
    "duration": 133,
    "start_time": "2023-02-01T09:58:25.071Z"
   },
   {
    "duration": 160,
    "start_time": "2023-02-01T09:58:37.712Z"
   },
   {
    "duration": 123,
    "start_time": "2023-02-01T09:58:46.079Z"
   },
   {
    "duration": 21,
    "start_time": "2023-02-01T09:59:06.286Z"
   },
   {
    "duration": 63,
    "start_time": "2023-02-01T09:59:22.692Z"
   },
   {
    "duration": 132,
    "start_time": "2023-02-01T09:59:44.165Z"
   },
   {
    "duration": 103,
    "start_time": "2023-02-01T09:59:55.635Z"
   },
   {
    "duration": 15,
    "start_time": "2023-02-01T10:00:11.215Z"
   },
   {
    "duration": 102,
    "start_time": "2023-02-01T10:00:22.762Z"
   },
   {
    "duration": 237,
    "start_time": "2023-02-01T10:00:29.540Z"
   },
   {
    "duration": 15,
    "start_time": "2023-02-01T10:00:34.632Z"
   },
   {
    "duration": 140,
    "start_time": "2023-02-01T10:00:38.869Z"
   },
   {
    "duration": 101,
    "start_time": "2023-02-01T10:00:45.208Z"
   },
   {
    "duration": 108,
    "start_time": "2023-02-01T10:00:52.650Z"
   },
   {
    "duration": 14,
    "start_time": "2023-02-01T10:01:11.411Z"
   },
   {
    "duration": 100,
    "start_time": "2023-02-01T10:01:17.133Z"
   },
   {
    "duration": 107,
    "start_time": "2023-02-01T10:01:20.063Z"
   },
   {
    "duration": 15,
    "start_time": "2023-02-01T10:01:26.465Z"
   },
   {
    "duration": 98,
    "start_time": "2023-02-01T10:01:51.310Z"
   },
   {
    "duration": 112,
    "start_time": "2023-02-01T10:02:01.060Z"
   },
   {
    "duration": 106,
    "start_time": "2023-02-01T10:02:15.424Z"
   },
   {
    "duration": 15,
    "start_time": "2023-02-01T10:02:29.611Z"
   },
   {
    "duration": 36,
    "start_time": "2023-02-01T10:02:43.779Z"
   },
   {
    "duration": 106,
    "start_time": "2023-02-01T10:02:49.903Z"
   },
   {
    "duration": 24,
    "start_time": "2023-02-01T10:02:54.220Z"
   },
   {
    "duration": 1637,
    "start_time": "2023-02-01T10:03:11.677Z"
   },
   {
    "duration": 15,
    "start_time": "2023-02-01T10:03:33.173Z"
   },
   {
    "duration": 120,
    "start_time": "2023-02-01T10:03:50.353Z"
   },
   {
    "duration": 115,
    "start_time": "2023-02-01T10:03:54.815Z"
   },
   {
    "duration": 110,
    "start_time": "2023-02-01T10:04:05.877Z"
   },
   {
    "duration": 15,
    "start_time": "2023-02-01T10:04:11.439Z"
   },
   {
    "duration": 15,
    "start_time": "2023-02-01T10:05:33.886Z"
   },
   {
    "duration": 13,
    "start_time": "2023-02-01T10:09:24.446Z"
   },
   {
    "duration": 106,
    "start_time": "2023-02-01T10:10:40.142Z"
   },
   {
    "duration": 86,
    "start_time": "2023-02-01T10:10:54.746Z"
   },
   {
    "duration": 96,
    "start_time": "2023-02-01T10:10:58.572Z"
   },
   {
    "duration": 93,
    "start_time": "2023-02-01T10:13:29.937Z"
   },
   {
    "duration": 18,
    "start_time": "2023-02-01T10:13:35.682Z"
   },
   {
    "duration": 95,
    "start_time": "2023-02-01T10:13:54.409Z"
   },
   {
    "duration": 94,
    "start_time": "2023-02-01T10:14:08.417Z"
   },
   {
    "duration": 97,
    "start_time": "2023-02-01T10:14:15.376Z"
   },
   {
    "duration": 48,
    "start_time": "2023-02-01T10:14:28.451Z"
   },
   {
    "duration": 122,
    "start_time": "2023-02-01T10:14:41.738Z"
   },
   {
    "duration": 14,
    "start_time": "2023-02-01T10:14:47.093Z"
   },
   {
    "duration": 14,
    "start_time": "2023-02-01T10:15:03.247Z"
   },
   {
    "duration": 94,
    "start_time": "2023-02-01T10:15:19.939Z"
   },
   {
    "duration": 15,
    "start_time": "2023-02-01T10:15:26.816Z"
   },
   {
    "duration": 14,
    "start_time": "2023-02-01T10:15:47.564Z"
   },
   {
    "duration": 1580,
    "start_time": "2023-02-01T10:16:32.227Z"
   },
   {
    "duration": 13,
    "start_time": "2023-02-01T10:17:58.555Z"
   },
   {
    "duration": 108,
    "start_time": "2023-02-01T10:18:13.680Z"
   },
   {
    "duration": 96,
    "start_time": "2023-02-01T10:18:56.649Z"
   },
   {
    "duration": 101,
    "start_time": "2023-02-01T10:19:38.657Z"
   },
   {
    "duration": 16,
    "start_time": "2023-02-01T10:23:42.325Z"
   },
   {
    "duration": 16,
    "start_time": "2023-02-01T10:26:24.663Z"
   },
   {
    "duration": 91,
    "start_time": "2023-02-01T10:26:57.097Z"
   },
   {
    "duration": 16,
    "start_time": "2023-02-01T10:27:03.907Z"
   },
   {
    "duration": 50,
    "start_time": "2023-02-01T10:29:06.452Z"
   },
   {
    "duration": 92,
    "start_time": "2023-02-01T10:29:25.095Z"
   },
   {
    "duration": 69,
    "start_time": "2023-02-01T10:29:32.308Z"
   },
   {
    "duration": 107,
    "start_time": "2023-02-01T10:30:44.617Z"
   },
   {
    "duration": 108,
    "start_time": "2023-02-01T10:30:57.262Z"
   },
   {
    "duration": 98,
    "start_time": "2023-02-01T10:31:00.256Z"
   },
   {
    "duration": 94,
    "start_time": "2023-02-01T10:31:19.880Z"
   },
   {
    "duration": 12,
    "start_time": "2023-02-01T10:32:18.007Z"
   },
   {
    "duration": 13,
    "start_time": "2023-02-01T10:32:23.133Z"
   },
   {
    "duration": 12,
    "start_time": "2023-02-01T10:32:29.048Z"
   },
   {
    "duration": 17,
    "start_time": "2023-02-01T10:32:48.261Z"
   },
   {
    "duration": 15,
    "start_time": "2023-02-01T10:33:09.089Z"
   },
   {
    "duration": 15,
    "start_time": "2023-02-01T10:33:41.418Z"
   },
   {
    "duration": 16,
    "start_time": "2023-02-01T10:33:57.309Z"
   },
   {
    "duration": 14,
    "start_time": "2023-02-01T10:34:25.773Z"
   },
   {
    "duration": 15,
    "start_time": "2023-02-01T10:35:09.394Z"
   },
   {
    "duration": 14,
    "start_time": "2023-02-01T10:36:32.610Z"
   },
   {
    "duration": 16,
    "start_time": "2023-02-01T10:39:28.291Z"
   },
   {
    "duration": 15,
    "start_time": "2023-02-01T10:39:37.245Z"
   },
   {
    "duration": 18,
    "start_time": "2023-02-01T10:41:51.447Z"
   },
   {
    "duration": 16,
    "start_time": "2023-02-01T10:42:41.531Z"
   },
   {
    "duration": 2,
    "start_time": "2023-02-01T10:43:15.747Z"
   },
   {
    "duration": 16,
    "start_time": "2023-02-01T10:43:19.915Z"
   },
   {
    "duration": 15,
    "start_time": "2023-02-01T10:43:46.708Z"
   },
   {
    "duration": 14,
    "start_time": "2023-02-01T10:44:40.821Z"
   },
   {
    "duration": 19,
    "start_time": "2023-02-01T10:46:20.534Z"
   },
   {
    "duration": 585,
    "start_time": "2023-02-01T10:46:27.229Z"
   },
   {
    "duration": 8730,
    "start_time": "2023-02-01T10:46:27.816Z"
   },
   {
    "duration": 64,
    "start_time": "2023-02-01T10:46:36.547Z"
   },
   {
    "duration": 12,
    "start_time": "2023-02-01T10:46:36.613Z"
   },
   {
    "duration": 78,
    "start_time": "2023-02-01T10:46:36.626Z"
   },
   {
    "duration": 63,
    "start_time": "2023-02-01T10:46:36.706Z"
   },
   {
    "duration": 46,
    "start_time": "2023-02-01T10:46:36.771Z"
   },
   {
    "duration": 27,
    "start_time": "2023-02-01T10:46:36.819Z"
   },
   {
    "duration": 32,
    "start_time": "2023-02-01T10:46:36.848Z"
   },
   {
    "duration": 28,
    "start_time": "2023-02-01T10:46:36.883Z"
   },
   {
    "duration": 11,
    "start_time": "2023-02-01T10:46:36.914Z"
   },
   {
    "duration": 13,
    "start_time": "2023-02-01T10:46:36.926Z"
   },
   {
    "duration": 14,
    "start_time": "2023-02-01T10:46:36.941Z"
   },
   {
    "duration": 2,
    "start_time": "2023-02-01T10:46:36.957Z"
   },
   {
    "duration": 23,
    "start_time": "2023-02-01T10:46:36.960Z"
   },
   {
    "duration": 9,
    "start_time": "2023-02-01T10:46:36.985Z"
   },
   {
    "duration": 31,
    "start_time": "2023-02-01T10:46:36.995Z"
   },
   {
    "duration": 3,
    "start_time": "2023-02-01T10:46:37.028Z"
   },
   {
    "duration": 23,
    "start_time": "2023-02-01T10:46:37.033Z"
   },
   {
    "duration": 16,
    "start_time": "2023-02-01T10:46:37.058Z"
   },
   {
    "duration": 24,
    "start_time": "2023-02-01T10:46:45.277Z"
   },
   {
    "duration": 82,
    "start_time": "2023-02-01T10:46:46.039Z"
   },
   {
    "duration": 27,
    "start_time": "2023-02-01T10:46:51.992Z"
   },
   {
    "duration": 24,
    "start_time": "2023-02-01T10:46:53.191Z"
   },
   {
    "duration": 28,
    "start_time": "2023-02-01T10:47:00.588Z"
   },
   {
    "duration": 26,
    "start_time": "2023-02-01T10:47:09.488Z"
   },
   {
    "duration": 3,
    "start_time": "2023-02-01T10:47:12.408Z"
   },
   {
    "duration": 31,
    "start_time": "2023-02-01T10:47:12.892Z"
   },
   {
    "duration": 20,
    "start_time": "2023-02-01T10:47:20.519Z"
   },
   {
    "duration": 3,
    "start_time": "2023-02-01T10:47:21.499Z"
   },
   {
    "duration": 33,
    "start_time": "2023-02-01T10:47:22.791Z"
   },
   {
    "duration": 17,
    "start_time": "2023-02-01T10:47:26.656Z"
   },
   {
    "duration": 3,
    "start_time": "2023-02-01T10:47:29.545Z"
   },
   {
    "duration": 18,
    "start_time": "2023-02-01T10:47:33.706Z"
   },
   {
    "duration": 17,
    "start_time": "2023-02-01T10:47:56.449Z"
   },
   {
    "duration": 13,
    "start_time": "2023-02-01T10:48:12.614Z"
   },
   {
    "duration": 13,
    "start_time": "2023-02-01T10:48:18.628Z"
   },
   {
    "duration": 81,
    "start_time": "2023-02-01T10:48:57.057Z"
   },
   {
    "duration": 13,
    "start_time": "2023-02-01T10:49:05.906Z"
   },
   {
    "duration": 92,
    "start_time": "2023-02-01T10:50:17.558Z"
   },
   {
    "duration": 31,
    "start_time": "2023-02-01T10:50:25.891Z"
   },
   {
    "duration": 2,
    "start_time": "2023-02-01T10:50:26.589Z"
   },
   {
    "duration": 14,
    "start_time": "2023-02-01T10:50:28.429Z"
   },
   {
    "duration": 14,
    "start_time": "2023-02-01T10:50:33.608Z"
   },
   {
    "duration": 11,
    "start_time": "2023-02-01T10:51:04.853Z"
   },
   {
    "duration": 27,
    "start_time": "2023-02-01T10:51:16.991Z"
   },
   {
    "duration": 29,
    "start_time": "2023-02-01T10:51:22.791Z"
   },
   {
    "duration": 564,
    "start_time": "2023-02-01T11:00:52.611Z"
   },
   {
    "duration": 7894,
    "start_time": "2023-02-01T11:00:53.177Z"
   },
   {
    "duration": 73,
    "start_time": "2023-02-01T11:01:01.073Z"
   },
   {
    "duration": 12,
    "start_time": "2023-02-01T11:01:01.147Z"
   },
   {
    "duration": 44,
    "start_time": "2023-02-01T11:01:01.162Z"
   },
   {
    "duration": 17,
    "start_time": "2023-02-01T11:01:01.208Z"
   },
   {
    "duration": 40,
    "start_time": "2023-02-01T11:01:01.226Z"
   },
   {
    "duration": 34,
    "start_time": "2023-02-01T11:01:01.267Z"
   },
   {
    "duration": 55,
    "start_time": "2023-02-01T11:01:01.304Z"
   },
   {
    "duration": 30,
    "start_time": "2023-02-01T11:01:01.361Z"
   },
   {
    "duration": 14,
    "start_time": "2023-02-01T11:01:01.394Z"
   },
   {
    "duration": 50,
    "start_time": "2023-02-01T11:01:01.410Z"
   },
   {
    "duration": 28,
    "start_time": "2023-02-01T11:01:01.462Z"
   },
   {
    "duration": 28,
    "start_time": "2023-02-01T11:01:01.492Z"
   },
   {
    "duration": 39,
    "start_time": "2023-02-01T11:01:01.522Z"
   },
   {
    "duration": 30,
    "start_time": "2023-02-01T11:01:01.563Z"
   },
   {
    "duration": 23,
    "start_time": "2023-02-01T11:01:01.595Z"
   },
   {
    "duration": 9,
    "start_time": "2023-02-01T11:01:01.620Z"
   },
   {
    "duration": 47,
    "start_time": "2023-02-01T11:01:01.630Z"
   },
   {
    "duration": 46,
    "start_time": "2023-02-01T11:01:01.679Z"
   }
  ],
  "kernelspec": {
   "display_name": "Python 3 (ipykernel)",
   "language": "python",
   "name": "python3"
  },
  "language_info": {
   "codemirror_mode": {
    "name": "ipython",
    "version": 3
   },
   "file_extension": ".py",
   "mimetype": "text/x-python",
   "name": "python",
   "nbconvert_exporter": "python",
   "pygments_lexer": "ipython3",
   "version": "3.9.12"
  },
  "toc": {
   "base_numbering": 1,
   "nav_menu": {},
   "number_sections": true,
   "sideBar": true,
   "skip_h1_title": true,
   "title_cell": "Table of Contents",
   "title_sidebar": "Contents",
   "toc_cell": false,
   "toc_position": {},
   "toc_section_display": true,
   "toc_window_display": false
  }
 },
 "nbformat": 4,
 "nbformat_minor": 2
}
