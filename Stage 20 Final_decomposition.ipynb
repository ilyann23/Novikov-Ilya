{
 "cells": [
  {
   "cell_type": "markdown",
   "metadata": {},
   "source": [
    "# Наименование работы: Анализ оттока клиентов банка"
   ]
  },
  {
   "cell_type": "raw",
   "metadata": {},
   "source": [
    "Автор работы: Новиков И.В.\n",
    "Контактная информация:\n",
    "e-mail: nonentrysystem@inbox.ru\n",
    "mob: 8-910-450-01-01"
   ]
  },
  {
   "cell_type": "raw",
   "metadata": {},
   "source": [
    "Описание работы:\n",
    "Проанализируйте клиентов регионального банка и выделите сегменты клиентов, которые склонны уходить из банка.\n",
    "- Проведите исследовательский анализ данных,\n",
    "- Выделите портреты клиентов, которые склонны уходить из банка,\n",
    "- Сформулируйте и проверьте статистические гипотезы.\n",
    "*Проверьте гипотезу различия дохода между теми клиентами, которые ушли и теми, которые остались.*\n",
    "*Сформулируйте и проверьте статистическую гипотезу относительно представленных данных*\n"
   ]
  },
  {
   "cell_type": "raw",
   "metadata": {},
   "source": [
    "Исходные данные: файл bank_dataset.csv\n",
    "Объем: до 10тыс. записей\n",
    "Размер: до 1 Mb\n",
    "Тип датасета: CSV"
   ]
  },
  {
   "cell_type": "raw",
   "metadata": {},
   "source": [
    "Описание файла данных:\n",
    "Датасет с данными о клиентах банка «Метанпром». \n",
    "Локации: города Ярославль, Ростов Великий, Рыбинск.\n",
    "\n",
    "Наименование колонок и из описание:\n",
    "- `userid` — идентификатор пользователя,\n",
    "- `score` — баллы кредитного скоринга,\n",
    "- `City` — город,\n",
    "- `Gender` — пол,\n",
    "- `Age` — возраст,\n",
    "- `Objects` — количество объектов в собственности,\n",
    "- `Balance` — баланс на счёте,\n",
    "- `Products` — количество продуктов, которыми пользуется клиент,\n",
    "- `CreditCard` — есть ли кредитная карта,\n",
    "- `Loyalty` — активный клиент,\n",
    "- `estimated_salary` — заработная плата клиента,\n",
    "- `Churn` — ушёл или нет."
   ]
  },
  {
   "cell_type": "raw",
   "metadata": {},
   "source": [
    "Предполагаемый план работы:\n",
    "\n",
    "Выберите один из наборов:\n",
    "\n",
    "Набор №1\n",
    "1. Постройте диаграмму, отражающую количество клиентов в зависимости от числа используемых продуктов.\n",
    "2. Добавьте индикатор процента ушедших клиентов.\n",
    "3. Добавьте фильтр дашборда по городу.\n",
    "\n",
    "Набор №2\n",
    "1. Постройте диаграмму, отображающую распределение заработной платы клиентов.\n",
    "2. Добавьте индикатор, отображающий процент клиентов, имеющих кредитную карту.\n",
    "3. Добавьте фильтр дашборда, позволяющий выбрать ушёл клиент или нет."
   ]
  },
  {
   "cell_type": "markdown",
   "metadata": {},
   "source": [
    "# Наименование Этапа: Декомпозиция\n",
    "Разбивка задачи проекта на шаги — обязательный этап, который принесёт вам 1 сторипойнт. Составив чёткий план решения задачи и утвердив его с тимлидом, вы избежите лишних доработок и сможете быстрее завершить проект.\n",
    "Выполните декомпозицию в Jupyter Notebook. Используйте Markdown, чтобы лучше оформить и структурировать документ.\n",
    "Тимлид может принять декомпозицию сразу, а может попросить её скорректировать или задать вопросы. Вы получите комментарии тимлида в отдельных ячейках вашего документа в течение 24 часов после отправки."
   ]
  },
  {
   "cell_type": "raw",
   "metadata": {},
   "source": [
    "План работы:\n",
    "\n",
    "1. Изучение датасета:\n",
    "Цель - первичная информация подходит ли вообще датасет для анализа и что в нем за данные\n",
    "\n",
    "2. Предобработка данных\n",
    "- проверяем/ изменяем тип данных\n",
    "- заполняем/ удаляем или оставляем пропуски\n",
    "- удаляем явные и неявные дубликаты\n",
    "- меняем названиям столбцов с загловной на строчную\n",
    "- проверям результат\n",
    "\n",
    "3. Проведем исследовательский анализ данных\n",
    "- построим мартицу корреляции и определим признаки наиболее сильно влияющие на отток клиентов.\n",
    "\n",
    "4. Выделем портреты клиентов, которые склонны уходить из банка по признакам из п.3\n",
    "\n",
    "5. Формируем и проверяем статистические гипотезы (А/А и А/В тесты)\n",
    "\n",
    "Выдвигаем гипотезы, и будем проверять:     \n",
    "- Для разминки: Мужчины менее дисциплинорованы в своем выборе по сравненюм женщинами\n",
    "- Клиенты с бысоким кредитным скорингом более стабильны\n",
    "- В маленьких городах клиенты менее стабильнее (Ярославть - 600тыс.чел, Ростов Великий 28 тыс чел, Рыбинск 180тыс.чел) \n",
    "- Клиенты с 2 и более объектами в собственности более стабильны\n",
    "- Клиенты без объектов собственности менее стабильны   \n",
    "- Клиенты с денежными средствами на счету более стабильны\n",
    "- Клинеты пользующиеся 2 и более продуктами более стабильны чем клиенты использующие 1 и менее продукт\n",
    "- Клиенты с кредитной картой менее стабильны \n",
    "- Активные клиенты более стабильны чем неактивные\n",
    "- Зарплатные клиенты реже уходят чем незарплатные\n",
    "- Клиенты с высоким доходом более стабильны\n",
    "\n",
    "6. Результаты исследования\n",
    "- Признаки ухода\n",
    "- Типы/категории клиентов склонные к уходу\n",
    "\n",
    "7. Вывод (заключение)\n",
    "\n"
   ]
  },
  {
   "cell_type": "markdown",
   "metadata": {},
   "source": [
    "# Этап 0. Подгружаем библиотеки"
   ]
  },
  {
   "cell_type": "code",
   "execution_count": 2,
   "metadata": {},
   "outputs": [],
   "source": [
    "import pandas as pd\n",
    "import numpy as np\n",
    "import math\n",
    "import matplotlib.pyplot as plt\n",
    "from scipy import stats as st\n",
    "import seaborn as sns"
   ]
  },
  {
   "cell_type": "markdown",
   "metadata": {},
   "source": [
    "# Этап 1. Изучим датасет"
   ]
  },
  {
   "cell_type": "code",
   "execution_count": 3,
   "metadata": {},
   "outputs": [
    {
     "data": {
      "text/html": [
       "<div>\n",
       "<style scoped>\n",
       "    .dataframe tbody tr th:only-of-type {\n",
       "        vertical-align: middle;\n",
       "    }\n",
       "\n",
       "    .dataframe tbody tr th {\n",
       "        vertical-align: top;\n",
       "    }\n",
       "\n",
       "    .dataframe thead th {\n",
       "        text-align: right;\n",
       "    }\n",
       "</style>\n",
       "<table border=\"1\" class=\"dataframe\">\n",
       "  <thead>\n",
       "    <tr style=\"text-align: right;\">\n",
       "      <th></th>\n",
       "      <th>userid</th>\n",
       "      <th>score</th>\n",
       "      <th>City</th>\n",
       "      <th>Gender</th>\n",
       "      <th>Age</th>\n",
       "      <th>Objects</th>\n",
       "      <th>Balance</th>\n",
       "      <th>Products</th>\n",
       "      <th>CreditCard</th>\n",
       "      <th>Loyalty</th>\n",
       "      <th>estimated_salary</th>\n",
       "      <th>Churn</th>\n",
       "    </tr>\n",
       "  </thead>\n",
       "  <tbody>\n",
       "    <tr>\n",
       "      <th>0</th>\n",
       "      <td>15677338</td>\n",
       "      <td>619</td>\n",
       "      <td>Ярославль</td>\n",
       "      <td>Ж</td>\n",
       "      <td>42</td>\n",
       "      <td>2</td>\n",
       "      <td>NaN</td>\n",
       "      <td>1</td>\n",
       "      <td>1</td>\n",
       "      <td>1</td>\n",
       "      <td>101348.88</td>\n",
       "      <td>1</td>\n",
       "    </tr>\n",
       "    <tr>\n",
       "      <th>1</th>\n",
       "      <td>15690047</td>\n",
       "      <td>608</td>\n",
       "      <td>Рыбинск</td>\n",
       "      <td>Ж</td>\n",
       "      <td>41</td>\n",
       "      <td>1</td>\n",
       "      <td>83807.86</td>\n",
       "      <td>1</td>\n",
       "      <td>0</td>\n",
       "      <td>1</td>\n",
       "      <td>112542.58</td>\n",
       "      <td>0</td>\n",
       "    </tr>\n",
       "    <tr>\n",
       "      <th>2</th>\n",
       "      <td>15662040</td>\n",
       "      <td>502</td>\n",
       "      <td>Ярославль</td>\n",
       "      <td>Ж</td>\n",
       "      <td>42</td>\n",
       "      <td>8</td>\n",
       "      <td>159660.80</td>\n",
       "      <td>3</td>\n",
       "      <td>1</td>\n",
       "      <td>0</td>\n",
       "      <td>113931.57</td>\n",
       "      <td>1</td>\n",
       "    </tr>\n",
       "    <tr>\n",
       "      <th>3</th>\n",
       "      <td>15744090</td>\n",
       "      <td>699</td>\n",
       "      <td>Ярославль</td>\n",
       "      <td>Ж</td>\n",
       "      <td>39</td>\n",
       "      <td>1</td>\n",
       "      <td>NaN</td>\n",
       "      <td>2</td>\n",
       "      <td>0</td>\n",
       "      <td>0</td>\n",
       "      <td>93826.63</td>\n",
       "      <td>0</td>\n",
       "    </tr>\n",
       "    <tr>\n",
       "      <th>4</th>\n",
       "      <td>15780624</td>\n",
       "      <td>850</td>\n",
       "      <td>Рыбинск</td>\n",
       "      <td>Ж</td>\n",
       "      <td>43</td>\n",
       "      <td>2</td>\n",
       "      <td>125510.82</td>\n",
       "      <td>1</td>\n",
       "      <td>1</td>\n",
       "      <td>1</td>\n",
       "      <td>79084.10</td>\n",
       "      <td>0</td>\n",
       "    </tr>\n",
       "  </tbody>\n",
       "</table>\n",
       "</div>"
      ],
      "text/plain": [
       "     userid  score       City Gender  Age  Objects    Balance  Products  \\\n",
       "0  15677338    619  Ярославль      Ж   42        2        NaN         1   \n",
       "1  15690047    608    Рыбинск      Ж   41        1   83807.86         1   \n",
       "2  15662040    502  Ярославль      Ж   42        8  159660.80         3   \n",
       "3  15744090    699  Ярославль      Ж   39        1        NaN         2   \n",
       "4  15780624    850    Рыбинск      Ж   43        2  125510.82         1   \n",
       "\n",
       "   CreditCard  Loyalty  estimated_salary  Churn  \n",
       "0           1        1         101348.88      1  \n",
       "1           0        1         112542.58      0  \n",
       "2           1        0         113931.57      1  \n",
       "3           0        0          93826.63      0  \n",
       "4           1        1          79084.10      0  "
      ]
     },
     "metadata": {},
     "output_type": "display_data"
    },
    {
     "name": "stdout",
     "output_type": "stream",
     "text": [
      "<class 'pandas.core.frame.DataFrame'>\n",
      "RangeIndex: 10000 entries, 0 to 9999\n",
      "Data columns (total 12 columns):\n",
      " #   Column            Non-Null Count  Dtype  \n",
      "---  ------            --------------  -----  \n",
      " 0   userid            10000 non-null  int64  \n",
      " 1   score             10000 non-null  int64  \n",
      " 2   City              10000 non-null  object \n",
      " 3   Gender            10000 non-null  object \n",
      " 4   Age               10000 non-null  int64  \n",
      " 5   Objects           10000 non-null  int64  \n",
      " 6   Balance           6383 non-null   float64\n",
      " 7   Products          10000 non-null  int64  \n",
      " 8   CreditCard        10000 non-null  int64  \n",
      " 9   Loyalty           10000 non-null  int64  \n",
      " 10  estimated_salary  10000 non-null  float64\n",
      " 11  Churn             10000 non-null  int64  \n",
      "dtypes: float64(2), int64(8), object(2)\n",
      "memory usage: 937.6+ KB\n"
     ]
    }
   ],
   "source": [
    "df = pd.read_csv('C:/Users/MaCSC LLC/datasets/bank_dataset.csv')\n",
    "display(df.head(5))\n",
    "df.info()"
   ]
  },
  {
   "cell_type": "code",
   "execution_count": 4,
   "metadata": {},
   "outputs": [
    {
     "name": "stdout",
     "output_type": "stream",
     "text": [
      "userid                 0\n",
      "score                  0\n",
      "City                   0\n",
      "Gender                 0\n",
      "Age                    0\n",
      "Objects                0\n",
      "Balance             3617\n",
      "Products               0\n",
      "CreditCard             0\n",
      "Loyalty                0\n",
      "estimated_salary       0\n",
      "Churn                  0\n",
      "dtype: int64\n",
      " \n",
      "Полных дубликатов: 0\n"
     ]
    }
   ],
   "source": [
    "print(df.isnull().sum()) \n",
    "print(' ') \n",
    "print('Полных дубликатов:', df.duplicated().sum())"
   ]
  },
  {
   "cell_type": "code",
   "execution_count": 5,
   "metadata": {},
   "outputs": [
    {
     "name": "stdout",
     "output_type": "stream",
     "text": [
      "['Ярославль' 'Рыбинск' 'Ростов Великий']\n",
      "['Ж' 'М']\n",
      "92 18\n",
      "[1 0]\n"
     ]
    }
   ],
   "source": [
    "print(df['City'].unique())\n",
    "print(df['Gender'].unique())\n",
    "print(df['Age'].max(),df['Age'].min()) \n",
    "print(df['Churn'].unique())          "
   ]
  },
  {
   "cell_type": "raw",
   "metadata": {},
   "source": [
    "Вывод по этапу 1: Данные пригодны для анализа. Информация выглядит корректной. Много опропусков в графе баланс."
   ]
  },
  {
   "cell_type": "markdown",
   "metadata": {},
   "source": [
    "# Этап 2. Предобработка данных"
   ]
  },
  {
   "cell_type": "raw",
   "metadata": {},
   "source": [
    "приведем названия столбцов к строчному виду и поставим заглушки на пропуски Balance "
   ]
  },
  {
   "cell_type": "code",
   "execution_count": 6,
   "metadata": {},
   "outputs": [],
   "source": [
    "df.columns = df.columns.str.lower()\n",
    "df['balance'] = df['balance'].fillna(-5)"
   ]
  },
  {
   "cell_type": "code",
   "execution_count": 7,
   "metadata": {},
   "outputs": [
    {
     "name": "stdout",
     "output_type": "stream",
     "text": [
      "userid              0\n",
      "score               0\n",
      "city                0\n",
      "gender              0\n",
      "age                 0\n",
      "objects             0\n",
      "balance             0\n",
      "products            0\n",
      "creditcard          0\n",
      "loyalty             0\n",
      "estimated_salary    0\n",
      "churn               0\n",
      "dtype: int64\n"
     ]
    }
   ],
   "source": [
    "print(df.isnull().sum())"
   ]
  },
  {
   "cell_type": "raw",
   "metadata": {},
   "source": [
    "Вывод по этапу 2. Данные не нуждаются в предобработке."
   ]
  },
  {
   "cell_type": "raw",
   "metadata": {},
   "source": [
    "Предварительные вывод по этаку декомпозиции: Даннае пригодны для анализа"
   ]
  }
 ],
 "metadata": {
  "ExecuteTimeLog": [
   {
    "duration": 85,
    "start_time": "2023-01-10T07:10:37.155Z"
   },
   {
    "duration": 95,
    "start_time": "2023-01-10T07:55:55.822Z"
   },
   {
    "duration": 49,
    "start_time": "2023-01-11T08:08:27.390Z"
   },
   {
    "duration": 52,
    "start_time": "2023-01-11T08:08:33.455Z"
   },
   {
    "duration": 59,
    "start_time": "2023-01-11T08:09:45.438Z"
   },
   {
    "duration": 49,
    "start_time": "2023-01-11T08:11:39.612Z"
   },
   {
    "duration": 40,
    "start_time": "2023-01-11T08:12:08.019Z"
   },
   {
    "duration": 400,
    "start_time": "2023-01-11T08:16:53.312Z"
   },
   {
    "duration": 4,
    "start_time": "2023-01-11T09:55:13.052Z"
   },
   {
    "duration": 1086,
    "start_time": "2023-01-11T09:56:09.520Z"
   },
   {
    "duration": 107,
    "start_time": "2023-01-11T09:57:27.298Z"
   },
   {
    "duration": 79,
    "start_time": "2023-01-11T09:58:54.110Z"
   },
   {
    "duration": 13,
    "start_time": "2023-01-11T09:58:55.134Z"
   },
   {
    "duration": 12,
    "start_time": "2023-01-11T09:59:20.888Z"
   },
   {
    "duration": 6,
    "start_time": "2023-01-11T10:00:05.666Z"
   },
   {
    "duration": 49,
    "start_time": "2023-01-11T10:18:38.654Z"
   },
   {
    "duration": 1342,
    "start_time": "2023-01-11T10:18:46.189Z"
   },
   {
    "duration": 260,
    "start_time": "2023-01-11T10:18:47.534Z"
   },
   {
    "duration": 0,
    "start_time": "2023-01-11T10:18:47.796Z"
   },
   {
    "duration": 0,
    "start_time": "2023-01-11T10:18:47.797Z"
   },
   {
    "duration": 52,
    "start_time": "2023-01-11T10:18:56.648Z"
   },
   {
    "duration": 61,
    "start_time": "2023-01-11T10:19:02.071Z"
   },
   {
    "duration": 15,
    "start_time": "2023-01-11T10:19:03.076Z"
   },
   {
    "duration": 6,
    "start_time": "2023-01-11T10:19:03.960Z"
   },
   {
    "duration": 12,
    "start_time": "2023-01-11T10:19:10.975Z"
   },
   {
    "duration": 6,
    "start_time": "2023-01-11T10:19:14.071Z"
   },
   {
    "duration": 13,
    "start_time": "2023-01-11T10:21:47.471Z"
   },
   {
    "duration": 3,
    "start_time": "2023-01-11T10:21:56.155Z"
   },
   {
    "duration": 4,
    "start_time": "2023-01-11T10:22:21.818Z"
   },
   {
    "duration": 3,
    "start_time": "2023-01-11T10:22:46.864Z"
   },
   {
    "duration": 1166,
    "start_time": "2023-01-11T12:04:12.383Z"
   },
   {
    "duration": 1180,
    "start_time": "2023-01-11T12:04:20.960Z"
   },
   {
    "duration": 61,
    "start_time": "2023-01-11T12:04:22.142Z"
   },
   {
    "duration": 14,
    "start_time": "2023-01-11T12:04:22.205Z"
   },
   {
    "duration": 7,
    "start_time": "2023-01-11T12:04:22.221Z"
   },
   {
    "duration": 4,
    "start_time": "2023-01-11T12:04:22.238Z"
   },
   {
    "duration": 5,
    "start_time": "2023-01-11T12:06:22.793Z"
   },
   {
    "duration": 6,
    "start_time": "2023-01-11T12:06:35.386Z"
   },
   {
    "duration": 1230,
    "start_time": "2023-01-11T12:14:02.750Z"
   },
   {
    "duration": 64,
    "start_time": "2023-01-11T12:14:03.982Z"
   },
   {
    "duration": 12,
    "start_time": "2023-01-11T12:14:04.048Z"
   },
   {
    "duration": 6,
    "start_time": "2023-01-11T12:14:04.062Z"
   },
   {
    "duration": 13,
    "start_time": "2023-01-11T12:14:04.070Z"
   },
   {
    "duration": 10,
    "start_time": "2023-01-11T12:14:04.085Z"
   },
   {
    "duration": 83,
    "start_time": "2023-01-11T12:14:04.097Z"
   },
   {
    "duration": 1231,
    "start_time": "2023-01-11T12:17:25.840Z"
   },
   {
    "duration": 64,
    "start_time": "2023-01-11T12:17:27.074Z"
   },
   {
    "duration": 15,
    "start_time": "2023-01-11T12:17:27.139Z"
   },
   {
    "duration": 7,
    "start_time": "2023-01-11T12:17:27.156Z"
   },
   {
    "duration": 8,
    "start_time": "2023-01-11T12:17:27.164Z"
   },
   {
    "duration": 11,
    "start_time": "2023-01-11T12:17:27.174Z"
   },
   {
    "duration": 589,
    "start_time": "2023-01-11T12:17:27.187Z"
   }
  ],
  "kernelspec": {
   "display_name": "Python 3 (ipykernel)",
   "language": "python",
   "name": "python3"
  },
  "language_info": {
   "codemirror_mode": {
    "name": "ipython",
    "version": 3
   },
   "file_extension": ".py",
   "mimetype": "text/x-python",
   "name": "python",
   "nbconvert_exporter": "python",
   "pygments_lexer": "ipython3",
   "version": "3.9.12"
  },
  "toc": {
   "base_numbering": 1,
   "nav_menu": {},
   "number_sections": true,
   "sideBar": true,
   "skip_h1_title": true,
   "title_cell": "Table of Contents",
   "title_sidebar": "Contents",
   "toc_cell": false,
   "toc_position": {},
   "toc_section_display": true,
   "toc_window_display": false
  }
 },
 "nbformat": 4,
 "nbformat_minor": 2
}
