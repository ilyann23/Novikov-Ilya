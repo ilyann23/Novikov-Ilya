{
 "cells": [
  {
   "cell_type": "markdown",
   "id": "c81daeeb",
   "metadata": {
    "deletable": false,
    "id": "c81daeeb"
   },
   "source": [
    "# Исследование надежности заемщиков\n"
   ]
  },
  {
   "cell_type": "markdown",
   "id": "744d7639",
   "metadata": {
    "deletable": false,
    "id": "744d7639"
   },
   "source": [
    "## Откройте таблицу и изучите общую информацию о данных"
   ]
  },
  {
   "cell_type": "markdown",
   "id": "e7a14c31",
   "metadata": {
    "deletable": false,
    "id": "e7a14c31"
   },
   "source": [
    "**Задание 1. Импортируйте библиотеку pandas. Считайте данные из csv-файла в датафрейм и сохраните в переменную `data`. Путь к файлу:**\n",
    "\n",
    "`/datasets/data.csv`"
   ]
  },
  {
   "cell_type": "code",
   "execution_count": 26,
   "id": "7bcf75c9",
   "metadata": {
    "deletable": false,
    "id": "7bcf75c9"
   },
   "outputs": [],
   "source": [
    "import pandas as pd\n",
    "\n",
    "try:\n",
    "    data = pd.read_csv('C:/Users/MaCSC LLC/datasets/data.csv')\n",
    "except:\n",
    "    data = pd.read_csv('https://code.s3.yandex.net/datasets/data.csv')"
   ]
  },
  {
   "cell_type": "markdown",
   "id": "b8038fe3",
   "metadata": {
    "deletable": false,
    "id": "b8038fe3"
   },
   "source": [
    "**Задание 2. Выведите первые 20 строчек датафрейма `data` на экран.**"
   ]
  },
  {
   "cell_type": "code",
   "execution_count": 27,
   "id": "2a7cab99",
   "metadata": {
    "deletable": false,
    "id": "2a7cab99",
    "outputId": "1a8f3ef2-d323-4ec2-ddf7-89670b5944c4"
   },
   "outputs": [
    {
     "data": {
      "text/html": [
       "<div>\n",
       "<style scoped>\n",
       "    .dataframe tbody tr th:only-of-type {\n",
       "        vertical-align: middle;\n",
       "    }\n",
       "\n",
       "    .dataframe tbody tr th {\n",
       "        vertical-align: top;\n",
       "    }\n",
       "\n",
       "    .dataframe thead th {\n",
       "        text-align: right;\n",
       "    }\n",
       "</style>\n",
       "<table border=\"1\" class=\"dataframe\">\n",
       "  <thead>\n",
       "    <tr style=\"text-align: right;\">\n",
       "      <th></th>\n",
       "      <th>children</th>\n",
       "      <th>days_employed</th>\n",
       "      <th>dob_years</th>\n",
       "      <th>education</th>\n",
       "      <th>education_id</th>\n",
       "      <th>family_status</th>\n",
       "      <th>family_status_id</th>\n",
       "      <th>gender</th>\n",
       "      <th>income_type</th>\n",
       "      <th>debt</th>\n",
       "      <th>total_income</th>\n",
       "      <th>purpose</th>\n",
       "    </tr>\n",
       "  </thead>\n",
       "  <tbody>\n",
       "    <tr>\n",
       "      <th>0</th>\n",
       "      <td>1</td>\n",
       "      <td>-8437.673028</td>\n",
       "      <td>42</td>\n",
       "      <td>высшее</td>\n",
       "      <td>0</td>\n",
       "      <td>женат / замужем</td>\n",
       "      <td>0</td>\n",
       "      <td>F</td>\n",
       "      <td>сотрудник</td>\n",
       "      <td>0</td>\n",
       "      <td>253875.639453</td>\n",
       "      <td>покупка жилья</td>\n",
       "    </tr>\n",
       "    <tr>\n",
       "      <th>1</th>\n",
       "      <td>1</td>\n",
       "      <td>-4024.803754</td>\n",
       "      <td>36</td>\n",
       "      <td>среднее</td>\n",
       "      <td>1</td>\n",
       "      <td>женат / замужем</td>\n",
       "      <td>0</td>\n",
       "      <td>F</td>\n",
       "      <td>сотрудник</td>\n",
       "      <td>0</td>\n",
       "      <td>112080.014102</td>\n",
       "      <td>приобретение автомобиля</td>\n",
       "    </tr>\n",
       "    <tr>\n",
       "      <th>2</th>\n",
       "      <td>0</td>\n",
       "      <td>-5623.422610</td>\n",
       "      <td>33</td>\n",
       "      <td>Среднее</td>\n",
       "      <td>1</td>\n",
       "      <td>женат / замужем</td>\n",
       "      <td>0</td>\n",
       "      <td>M</td>\n",
       "      <td>сотрудник</td>\n",
       "      <td>0</td>\n",
       "      <td>145885.952297</td>\n",
       "      <td>покупка жилья</td>\n",
       "    </tr>\n",
       "    <tr>\n",
       "      <th>3</th>\n",
       "      <td>3</td>\n",
       "      <td>-4124.747207</td>\n",
       "      <td>32</td>\n",
       "      <td>среднее</td>\n",
       "      <td>1</td>\n",
       "      <td>женат / замужем</td>\n",
       "      <td>0</td>\n",
       "      <td>M</td>\n",
       "      <td>сотрудник</td>\n",
       "      <td>0</td>\n",
       "      <td>267628.550329</td>\n",
       "      <td>дополнительное образование</td>\n",
       "    </tr>\n",
       "    <tr>\n",
       "      <th>4</th>\n",
       "      <td>0</td>\n",
       "      <td>340266.072047</td>\n",
       "      <td>53</td>\n",
       "      <td>среднее</td>\n",
       "      <td>1</td>\n",
       "      <td>гражданский брак</td>\n",
       "      <td>1</td>\n",
       "      <td>F</td>\n",
       "      <td>пенсионер</td>\n",
       "      <td>0</td>\n",
       "      <td>158616.077870</td>\n",
       "      <td>сыграть свадьбу</td>\n",
       "    </tr>\n",
       "    <tr>\n",
       "      <th>5</th>\n",
       "      <td>0</td>\n",
       "      <td>-926.185831</td>\n",
       "      <td>27</td>\n",
       "      <td>высшее</td>\n",
       "      <td>0</td>\n",
       "      <td>гражданский брак</td>\n",
       "      <td>1</td>\n",
       "      <td>M</td>\n",
       "      <td>компаньон</td>\n",
       "      <td>0</td>\n",
       "      <td>255763.565419</td>\n",
       "      <td>покупка жилья</td>\n",
       "    </tr>\n",
       "    <tr>\n",
       "      <th>6</th>\n",
       "      <td>0</td>\n",
       "      <td>-2879.202052</td>\n",
       "      <td>43</td>\n",
       "      <td>высшее</td>\n",
       "      <td>0</td>\n",
       "      <td>женат / замужем</td>\n",
       "      <td>0</td>\n",
       "      <td>F</td>\n",
       "      <td>компаньон</td>\n",
       "      <td>0</td>\n",
       "      <td>240525.971920</td>\n",
       "      <td>операции с жильем</td>\n",
       "    </tr>\n",
       "    <tr>\n",
       "      <th>7</th>\n",
       "      <td>0</td>\n",
       "      <td>-152.779569</td>\n",
       "      <td>50</td>\n",
       "      <td>СРЕДНЕЕ</td>\n",
       "      <td>1</td>\n",
       "      <td>женат / замужем</td>\n",
       "      <td>0</td>\n",
       "      <td>M</td>\n",
       "      <td>сотрудник</td>\n",
       "      <td>0</td>\n",
       "      <td>135823.934197</td>\n",
       "      <td>образование</td>\n",
       "    </tr>\n",
       "    <tr>\n",
       "      <th>8</th>\n",
       "      <td>2</td>\n",
       "      <td>-6929.865299</td>\n",
       "      <td>35</td>\n",
       "      <td>ВЫСШЕЕ</td>\n",
       "      <td>0</td>\n",
       "      <td>гражданский брак</td>\n",
       "      <td>1</td>\n",
       "      <td>F</td>\n",
       "      <td>сотрудник</td>\n",
       "      <td>0</td>\n",
       "      <td>95856.832424</td>\n",
       "      <td>на проведение свадьбы</td>\n",
       "    </tr>\n",
       "    <tr>\n",
       "      <th>9</th>\n",
       "      <td>0</td>\n",
       "      <td>-2188.756445</td>\n",
       "      <td>41</td>\n",
       "      <td>среднее</td>\n",
       "      <td>1</td>\n",
       "      <td>женат / замужем</td>\n",
       "      <td>0</td>\n",
       "      <td>M</td>\n",
       "      <td>сотрудник</td>\n",
       "      <td>0</td>\n",
       "      <td>144425.938277</td>\n",
       "      <td>покупка жилья для семьи</td>\n",
       "    </tr>\n",
       "    <tr>\n",
       "      <th>10</th>\n",
       "      <td>2</td>\n",
       "      <td>-4171.483647</td>\n",
       "      <td>36</td>\n",
       "      <td>высшее</td>\n",
       "      <td>0</td>\n",
       "      <td>женат / замужем</td>\n",
       "      <td>0</td>\n",
       "      <td>M</td>\n",
       "      <td>компаньон</td>\n",
       "      <td>0</td>\n",
       "      <td>113943.491460</td>\n",
       "      <td>покупка недвижимости</td>\n",
       "    </tr>\n",
       "    <tr>\n",
       "      <th>11</th>\n",
       "      <td>0</td>\n",
       "      <td>-792.701887</td>\n",
       "      <td>40</td>\n",
       "      <td>среднее</td>\n",
       "      <td>1</td>\n",
       "      <td>женат / замужем</td>\n",
       "      <td>0</td>\n",
       "      <td>F</td>\n",
       "      <td>сотрудник</td>\n",
       "      <td>0</td>\n",
       "      <td>77069.234271</td>\n",
       "      <td>покупка коммерческой недвижимости</td>\n",
       "    </tr>\n",
       "    <tr>\n",
       "      <th>12</th>\n",
       "      <td>0</td>\n",
       "      <td>NaN</td>\n",
       "      <td>65</td>\n",
       "      <td>среднее</td>\n",
       "      <td>1</td>\n",
       "      <td>гражданский брак</td>\n",
       "      <td>1</td>\n",
       "      <td>M</td>\n",
       "      <td>пенсионер</td>\n",
       "      <td>0</td>\n",
       "      <td>NaN</td>\n",
       "      <td>сыграть свадьбу</td>\n",
       "    </tr>\n",
       "    <tr>\n",
       "      <th>13</th>\n",
       "      <td>0</td>\n",
       "      <td>-1846.641941</td>\n",
       "      <td>54</td>\n",
       "      <td>неоконченное высшее</td>\n",
       "      <td>2</td>\n",
       "      <td>женат / замужем</td>\n",
       "      <td>0</td>\n",
       "      <td>F</td>\n",
       "      <td>сотрудник</td>\n",
       "      <td>0</td>\n",
       "      <td>130458.228857</td>\n",
       "      <td>приобретение автомобиля</td>\n",
       "    </tr>\n",
       "    <tr>\n",
       "      <th>14</th>\n",
       "      <td>0</td>\n",
       "      <td>-1844.956182</td>\n",
       "      <td>56</td>\n",
       "      <td>высшее</td>\n",
       "      <td>0</td>\n",
       "      <td>гражданский брак</td>\n",
       "      <td>1</td>\n",
       "      <td>F</td>\n",
       "      <td>компаньон</td>\n",
       "      <td>1</td>\n",
       "      <td>165127.911772</td>\n",
       "      <td>покупка жилой недвижимости</td>\n",
       "    </tr>\n",
       "    <tr>\n",
       "      <th>15</th>\n",
       "      <td>1</td>\n",
       "      <td>-972.364419</td>\n",
       "      <td>26</td>\n",
       "      <td>среднее</td>\n",
       "      <td>1</td>\n",
       "      <td>женат / замужем</td>\n",
       "      <td>0</td>\n",
       "      <td>F</td>\n",
       "      <td>сотрудник</td>\n",
       "      <td>0</td>\n",
       "      <td>116820.904450</td>\n",
       "      <td>строительство собственной недвижимости</td>\n",
       "    </tr>\n",
       "    <tr>\n",
       "      <th>16</th>\n",
       "      <td>0</td>\n",
       "      <td>-1719.934226</td>\n",
       "      <td>35</td>\n",
       "      <td>среднее</td>\n",
       "      <td>1</td>\n",
       "      <td>женат / замужем</td>\n",
       "      <td>0</td>\n",
       "      <td>F</td>\n",
       "      <td>сотрудник</td>\n",
       "      <td>0</td>\n",
       "      <td>289202.704229</td>\n",
       "      <td>недвижимость</td>\n",
       "    </tr>\n",
       "    <tr>\n",
       "      <th>17</th>\n",
       "      <td>0</td>\n",
       "      <td>-2369.999720</td>\n",
       "      <td>33</td>\n",
       "      <td>высшее</td>\n",
       "      <td>0</td>\n",
       "      <td>гражданский брак</td>\n",
       "      <td>1</td>\n",
       "      <td>M</td>\n",
       "      <td>сотрудник</td>\n",
       "      <td>0</td>\n",
       "      <td>90410.586745</td>\n",
       "      <td>строительство недвижимости</td>\n",
       "    </tr>\n",
       "    <tr>\n",
       "      <th>18</th>\n",
       "      <td>0</td>\n",
       "      <td>400281.136913</td>\n",
       "      <td>53</td>\n",
       "      <td>среднее</td>\n",
       "      <td>1</td>\n",
       "      <td>вдовец / вдова</td>\n",
       "      <td>2</td>\n",
       "      <td>F</td>\n",
       "      <td>пенсионер</td>\n",
       "      <td>0</td>\n",
       "      <td>56823.777243</td>\n",
       "      <td>на покупку подержанного автомобиля</td>\n",
       "    </tr>\n",
       "    <tr>\n",
       "      <th>19</th>\n",
       "      <td>0</td>\n",
       "      <td>-10038.818549</td>\n",
       "      <td>48</td>\n",
       "      <td>СРЕДНЕЕ</td>\n",
       "      <td>1</td>\n",
       "      <td>в разводе</td>\n",
       "      <td>3</td>\n",
       "      <td>F</td>\n",
       "      <td>сотрудник</td>\n",
       "      <td>0</td>\n",
       "      <td>242831.107982</td>\n",
       "      <td>на покупку своего автомобиля</td>\n",
       "    </tr>\n",
       "  </tbody>\n",
       "</table>\n",
       "</div>"
      ],
      "text/plain": [
       "    children  days_employed  dob_years            education  education_id  \\\n",
       "0          1   -8437.673028         42               высшее             0   \n",
       "1          1   -4024.803754         36              среднее             1   \n",
       "2          0   -5623.422610         33              Среднее             1   \n",
       "3          3   -4124.747207         32              среднее             1   \n",
       "4          0  340266.072047         53              среднее             1   \n",
       "5          0    -926.185831         27               высшее             0   \n",
       "6          0   -2879.202052         43               высшее             0   \n",
       "7          0    -152.779569         50              СРЕДНЕЕ             1   \n",
       "8          2   -6929.865299         35               ВЫСШЕЕ             0   \n",
       "9          0   -2188.756445         41              среднее             1   \n",
       "10         2   -4171.483647         36               высшее             0   \n",
       "11         0    -792.701887         40              среднее             1   \n",
       "12         0            NaN         65              среднее             1   \n",
       "13         0   -1846.641941         54  неоконченное высшее             2   \n",
       "14         0   -1844.956182         56               высшее             0   \n",
       "15         1    -972.364419         26              среднее             1   \n",
       "16         0   -1719.934226         35              среднее             1   \n",
       "17         0   -2369.999720         33               высшее             0   \n",
       "18         0  400281.136913         53              среднее             1   \n",
       "19         0  -10038.818549         48              СРЕДНЕЕ             1   \n",
       "\n",
       "       family_status  family_status_id gender income_type  debt  \\\n",
       "0    женат / замужем                 0      F   сотрудник     0   \n",
       "1    женат / замужем                 0      F   сотрудник     0   \n",
       "2    женат / замужем                 0      M   сотрудник     0   \n",
       "3    женат / замужем                 0      M   сотрудник     0   \n",
       "4   гражданский брак                 1      F   пенсионер     0   \n",
       "5   гражданский брак                 1      M   компаньон     0   \n",
       "6    женат / замужем                 0      F   компаньон     0   \n",
       "7    женат / замужем                 0      M   сотрудник     0   \n",
       "8   гражданский брак                 1      F   сотрудник     0   \n",
       "9    женат / замужем                 0      M   сотрудник     0   \n",
       "10   женат / замужем                 0      M   компаньон     0   \n",
       "11   женат / замужем                 0      F   сотрудник     0   \n",
       "12  гражданский брак                 1      M   пенсионер     0   \n",
       "13   женат / замужем                 0      F   сотрудник     0   \n",
       "14  гражданский брак                 1      F   компаньон     1   \n",
       "15   женат / замужем                 0      F   сотрудник     0   \n",
       "16   женат / замужем                 0      F   сотрудник     0   \n",
       "17  гражданский брак                 1      M   сотрудник     0   \n",
       "18    вдовец / вдова                 2      F   пенсионер     0   \n",
       "19         в разводе                 3      F   сотрудник     0   \n",
       "\n",
       "     total_income                                 purpose  \n",
       "0   253875.639453                           покупка жилья  \n",
       "1   112080.014102                 приобретение автомобиля  \n",
       "2   145885.952297                           покупка жилья  \n",
       "3   267628.550329              дополнительное образование  \n",
       "4   158616.077870                         сыграть свадьбу  \n",
       "5   255763.565419                           покупка жилья  \n",
       "6   240525.971920                       операции с жильем  \n",
       "7   135823.934197                             образование  \n",
       "8    95856.832424                   на проведение свадьбы  \n",
       "9   144425.938277                 покупка жилья для семьи  \n",
       "10  113943.491460                    покупка недвижимости  \n",
       "11   77069.234271       покупка коммерческой недвижимости  \n",
       "12            NaN                         сыграть свадьбу  \n",
       "13  130458.228857                 приобретение автомобиля  \n",
       "14  165127.911772              покупка жилой недвижимости  \n",
       "15  116820.904450  строительство собственной недвижимости  \n",
       "16  289202.704229                            недвижимость  \n",
       "17   90410.586745              строительство недвижимости  \n",
       "18   56823.777243      на покупку подержанного автомобиля  \n",
       "19  242831.107982            на покупку своего автомобиля  "
      ]
     },
     "execution_count": 27,
     "metadata": {},
     "output_type": "execute_result"
    }
   ],
   "source": [
    "data.head(20)"
   ]
  },
  {
   "cell_type": "markdown",
   "id": "1c12e233",
   "metadata": {
    "deletable": false,
    "id": "1c12e233"
   },
   "source": [
    "**Задание 3. Выведите основную информацию о датафрейме с помощью метода `info()`.**"
   ]
  },
  {
   "cell_type": "code",
   "execution_count": 28,
   "id": "2b757bca",
   "metadata": {
    "deletable": false,
    "id": "2b757bca",
    "outputId": "15376089-8dad-46c9-b520-c05248d43158"
   },
   "outputs": [
    {
     "name": "stdout",
     "output_type": "stream",
     "text": [
      "<class 'pandas.core.frame.DataFrame'>\n",
      "RangeIndex: 21525 entries, 0 to 21524\n",
      "Data columns (total 12 columns):\n",
      " #   Column            Non-Null Count  Dtype  \n",
      "---  ------            --------------  -----  \n",
      " 0   children          21525 non-null  int64  \n",
      " 1   days_employed     19351 non-null  float64\n",
      " 2   dob_years         21525 non-null  int64  \n",
      " 3   education         21525 non-null  object \n",
      " 4   education_id      21525 non-null  int64  \n",
      " 5   family_status     21525 non-null  object \n",
      " 6   family_status_id  21525 non-null  int64  \n",
      " 7   gender            21525 non-null  object \n",
      " 8   income_type       21525 non-null  object \n",
      " 9   debt              21525 non-null  int64  \n",
      " 10  total_income      19351 non-null  float64\n",
      " 11  purpose           21525 non-null  object \n",
      "dtypes: float64(2), int64(5), object(5)\n",
      "memory usage: 2.0+ MB\n"
     ]
    }
   ],
   "source": [
    "data.info()"
   ]
  },
  {
   "cell_type": "markdown",
   "id": "333ec665",
   "metadata": {
    "deletable": false,
    "id": "333ec665"
   },
   "source": [
    "## Предобработка данных"
   ]
  },
  {
   "cell_type": "markdown",
   "id": "02d92d53",
   "metadata": {
    "deletable": false,
    "id": "02d92d53"
   },
   "source": [
    "### Удаление пропусков"
   ]
  },
  {
   "cell_type": "markdown",
   "id": "cd84967c",
   "metadata": {
    "deletable": false,
    "id": "cd84967c"
   },
   "source": [
    "**Задание 4. Выведите количество пропущенных значений для каждого столбца. Используйте комбинацию двух методов.**"
   ]
  },
  {
   "cell_type": "code",
   "execution_count": 29,
   "id": "7f9b2309",
   "metadata": {
    "deletable": false,
    "id": "7f9b2309",
    "outputId": "81f4d817-781c-465c-ed15-91ce4446810d"
   },
   "outputs": [
    {
     "data": {
      "text/plain": [
       "children               0\n",
       "days_employed       2174\n",
       "dob_years              0\n",
       "education              0\n",
       "education_id           0\n",
       "family_status          0\n",
       "family_status_id       0\n",
       "gender                 0\n",
       "income_type            0\n",
       "debt                   0\n",
       "total_income        2174\n",
       "purpose                0\n",
       "dtype: int64"
      ]
     },
     "execution_count": 29,
     "metadata": {},
     "output_type": "execute_result"
    }
   ],
   "source": [
    "data.isna().sum()"
   ]
  },
  {
   "cell_type": "markdown",
   "id": "db86e27b",
   "metadata": {
    "deletable": false,
    "id": "db86e27b"
   },
   "source": [
    "**Задание 5. В двух столбцах есть пропущенные значения. Один из них — `days_employed`. Пропуски в этом столбце вы обработаете на следующем этапе. Другой столбец с пропущенными значениями — `total_income` — хранит данные о доходах. На сумму дохода сильнее всего влияет тип занятости, поэтому заполнить пропуски в этом столбце нужно медианным значением по каждому типу из столбца `income_type`. Например, у человека с типом занятости `сотрудник` пропуск в столбце `total_income` должен быть заполнен медианным доходом среди всех записей с тем же типом.**"
   ]
  },
  {
   "cell_type": "code",
   "execution_count": 30,
   "id": "42006a93",
   "metadata": {
    "deletable": false,
    "id": "42006a93"
   },
   "outputs": [],
   "source": [
    "for t in data['income_type'].unique():\n",
    "    data.loc[(data['income_type'] == t) & (data['total_income'].isna()), 'total_income'] = \\\n",
    "    data.loc[(data['income_type'] == t), 'total_income'].median()"
   ]
  },
  {
   "cell_type": "markdown",
   "id": "89da5ece",
   "metadata": {
    "deletable": false,
    "id": "89da5ece"
   },
   "source": [
    "### Обработка аномальных значений"
   ]
  },
  {
   "cell_type": "markdown",
   "id": "57964554",
   "metadata": {
    "deletable": false,
    "id": "57964554"
   },
   "source": [
    "**Задание 6. В данных могут встречаться артефакты (аномалии) — значения, которые не отражают действительность и появились по какой-то ошибке. таким артефактом будет отрицательное количество дней трудового стажа в столбце `days_employed`. Для реальных данных это нормально. Обработайте значения в этом столбце: замените все отрицательные значения положительными с помощью метода `abs()`.**"
   ]
  },
  {
   "cell_type": "code",
   "execution_count": 31,
   "id": "f6f055bf",
   "metadata": {
    "deletable": false,
    "id": "f6f055bf"
   },
   "outputs": [],
   "source": [
    "data['days_employed'] = data['days_employed'].abs()"
   ]
  },
  {
   "cell_type": "markdown",
   "id": "6107dd2f",
   "metadata": {
    "deletable": false,
    "id": "6107dd2f"
   },
   "source": [
    "**Задание 7. Для каждого типа занятости выведите медианное значение трудового стажа `days_employed` в днях.**"
   ]
  },
  {
   "cell_type": "code",
   "execution_count": 32,
   "id": "85a5faf6",
   "metadata": {
    "deletable": false,
    "id": "85a5faf6",
    "outputId": "801ef80e-522b-4668-f34e-565af7432bcf"
   },
   "outputs": [
    {
     "data": {
      "text/plain": [
       "income_type\n",
       "безработный        366413.652744\n",
       "в декрете            3296.759962\n",
       "госслужащий          2689.368353\n",
       "компаньон            1547.382223\n",
       "пенсионер          365213.306266\n",
       "предприниматель       520.848083\n",
       "сотрудник            1574.202821\n",
       "студент               578.751554\n",
       "Name: days_employed, dtype: float64"
      ]
     },
     "execution_count": 32,
     "metadata": {},
     "output_type": "execute_result"
    }
   ],
   "source": [
    "data.groupby('income_type')['days_employed'].agg('median')"
   ]
  },
  {
   "cell_type": "markdown",
   "id": "38d1a030",
   "metadata": {
    "deletable": false,
    "id": "38d1a030"
   },
   "source": [
    "У двух типов (безработные и пенсионеры) получатся аномально большие значения. Исправить такие значения сложно, поэтому оставьте их как есть. Тем более этот столбец не понадобится вам для исследования."
   ]
  },
  {
   "cell_type": "markdown",
   "id": "d8a9f147",
   "metadata": {
    "deletable": false,
    "id": "d8a9f147"
   },
   "source": [
    "**Задание 8. Выведите перечень уникальных значений столбца `children`.**"
   ]
  },
  {
   "cell_type": "code",
   "execution_count": 33,
   "id": "ef5056eb",
   "metadata": {
    "deletable": false,
    "id": "ef5056eb",
    "outputId": "6975b15c-7f95-4697-d16d-a0c79b657b03"
   },
   "outputs": [
    {
     "data": {
      "text/plain": [
       "array([ 1,  0,  3,  2, -1,  4, 20,  5], dtype=int64)"
      ]
     },
     "execution_count": 33,
     "metadata": {},
     "output_type": "execute_result"
    }
   ],
   "source": [
    "data['children'].unique()"
   ]
  },
  {
   "cell_type": "markdown",
   "id": "40b9ebf2",
   "metadata": {
    "deletable": false,
    "id": "40b9ebf2"
   },
   "source": [
    "**Задание 9. В столбце `children` есть два аномальных значения. Удалите строки, в которых встречаются такие аномальные значения из датафрейма `data`.**"
   ]
  },
  {
   "cell_type": "code",
   "execution_count": 34,
   "id": "3ff9801d",
   "metadata": {
    "deletable": false,
    "id": "3ff9801d"
   },
   "outputs": [],
   "source": [
    "data = data[(data['children'] != -1) & (data['children'] != 20)]"
   ]
  },
  {
   "cell_type": "markdown",
   "id": "bbc4d0ce",
   "metadata": {
    "deletable": false,
    "id": "bbc4d0ce"
   },
   "source": [
    "**Задание 10. Ещё раз выведите перечень уникальных значений столбца `children`, чтобы убедиться, что артефакты удалены.**"
   ]
  },
  {
   "cell_type": "code",
   "execution_count": 35,
   "id": "ad4fa8b7",
   "metadata": {
    "deletable": false,
    "id": "ad4fa8b7",
    "outputId": "b2097101-d49d-44d9-901b-32a65c9463d1"
   },
   "outputs": [
    {
     "data": {
      "text/plain": [
       "array([1, 0, 3, 2, 4, 5], dtype=int64)"
      ]
     },
     "execution_count": 35,
     "metadata": {},
     "output_type": "execute_result"
    }
   ],
   "source": [
    "data['children'].unique()"
   ]
  },
  {
   "cell_type": "markdown",
   "id": "75440b63",
   "metadata": {
    "deletable": false,
    "id": "75440b63"
   },
   "source": [
    "### Удаление пропусков (продолжение)"
   ]
  },
  {
   "cell_type": "markdown",
   "id": "f4ea573f",
   "metadata": {
    "deletable": false,
    "id": "f4ea573f"
   },
   "source": [
    "**Задание 11. Заполните пропуски в столбце `days_employed` медианными значениями по каждого типа занятости `income_type`.**"
   ]
  },
  {
   "cell_type": "code",
   "execution_count": 36,
   "id": "af6b1a7e",
   "metadata": {
    "deletable": false,
    "id": "af6b1a7e"
   },
   "outputs": [],
   "source": [
    "for t in data['income_type'].unique():\n",
    "    data.loc[(data['income_type'] == t) & (data['days_employed'].isna()), 'days_employed'] = \\\n",
    "    data.loc[(data['income_type'] == t), 'days_employed'].median()"
   ]
  },
  {
   "cell_type": "markdown",
   "id": "2753f40d",
   "metadata": {
    "deletable": false,
    "id": "2753f40d"
   },
   "source": [
    "**Задание 12. Убедитесь, что все пропуски заполнены. Проверьте себя и ещё раз выведите количество пропущенных значений для каждого столбца с помощью двух методов.**"
   ]
  },
  {
   "cell_type": "code",
   "execution_count": 37,
   "id": "55f78bc2",
   "metadata": {
    "deletable": false,
    "id": "55f78bc2",
    "outputId": "8da1e4e1-358e-4e87-98c9-f261bce0a7b2"
   },
   "outputs": [
    {
     "data": {
      "text/plain": [
       "children            0\n",
       "days_employed       0\n",
       "dob_years           0\n",
       "education           0\n",
       "education_id        0\n",
       "family_status       0\n",
       "family_status_id    0\n",
       "gender              0\n",
       "income_type         0\n",
       "debt                0\n",
       "total_income        0\n",
       "purpose             0\n",
       "dtype: int64"
      ]
     },
     "execution_count": 37,
     "metadata": {},
     "output_type": "execute_result"
    }
   ],
   "source": [
    "data.isna().sum()"
   ]
  },
  {
   "cell_type": "markdown",
   "id": "ddc81e43",
   "metadata": {
    "deletable": false,
    "id": "ddc81e43"
   },
   "source": [
    "### Изменение типов данных"
   ]
  },
  {
   "cell_type": "markdown",
   "id": "42d19d24",
   "metadata": {
    "deletable": false,
    "id": "42d19d24"
   },
   "source": [
    "**Задание 13. Замените вещественный тип данных в столбце `total_income` на целочисленный с помощью метода `astype()`.**"
   ]
  },
  {
   "cell_type": "code",
   "execution_count": 38,
   "id": "920b65ad",
   "metadata": {
    "deletable": false,
    "id": "920b65ad"
   },
   "outputs": [],
   "source": [
    "data['total_income'] = data['total_income'].astype(int)"
   ]
  },
  {
   "cell_type": "markdown",
   "id": "80c420ba",
   "metadata": {
    "deletable": false,
    "id": "80c420ba"
   },
   "source": [
    "### Обработка дубликатов"
   ]
  },
  {
   "cell_type": "markdown",
   "id": "dc587695",
   "metadata": {
    "deletable": false,
    "id": "dc587695"
   },
   "source": [
    "**Задание 14. Выведите на экран количество строк-дубликатов в данных. Если такие строки присутствуют, удалите их.**"
   ]
  },
  {
   "cell_type": "code",
   "execution_count": 39,
   "id": "3ee445e4",
   "metadata": {
    "deletable": false,
    "id": "3ee445e4",
    "outputId": "9684deba-1934-42d1-99e1-cda61740f822"
   },
   "outputs": [
    {
     "data": {
      "text/plain": [
       "54"
      ]
     },
     "execution_count": 39,
     "metadata": {},
     "output_type": "execute_result"
    }
   ],
   "source": [
    "data.duplicated().sum()"
   ]
  },
  {
   "cell_type": "code",
   "execution_count": 40,
   "id": "8575fe05",
   "metadata": {
    "deletable": false,
    "id": "8575fe05"
   },
   "outputs": [],
   "source": [
    "data = data.drop_duplicates()"
   ]
  },
  {
   "cell_type": "markdown",
   "id": "9771a76c",
   "metadata": {
    "deletable": false,
    "id": "9771a76c"
   },
   "source": [
    "**Задание 15. Обработайте неявные дубликаты в столбце `education`. В этом столбце есть одни и те же значения, но записанные по-разному: с использованием заглавных и строчных букв. Приведите их к нижнему регистру. Проверьте остальные столбцы.**"
   ]
  },
  {
   "cell_type": "code",
   "execution_count": 41,
   "id": "a9f8e2bf",
   "metadata": {
    "deletable": false,
    "id": "a9f8e2bf"
   },
   "outputs": [],
   "source": [
    "data['education'] = data['education'].str.lower()"
   ]
  },
  {
   "cell_type": "markdown",
   "id": "9904cf55",
   "metadata": {
    "deletable": false,
    "id": "9904cf55"
   },
   "source": [
    "### Категоризация данных"
   ]
  },
  {
   "cell_type": "markdown",
   "id": "72fcc8a2",
   "metadata": {
    "deletable": false,
    "id": "72fcc8a2"
   },
   "source": [
    "**Задание 16. На основании диапазонов, указанных ниже, создайте в датафрейме `data` столбец `total_income_category` с категориями:**\n",
    "\n",
    "- 0–30000 — `'E'`;\n",
    "- 30001–50000 — `'D'`;\n",
    "- 50001–200000 — `'C'`;\n",
    "- 200001–1000000 — `'B'`;\n",
    "- 1000001 и выше — `'A'`.\n",
    "\n",
    "\n",
    "**Например, кредитополучателю с доходом 25000 нужно назначить категорию `'E'`, а клиенту, получающему 235000, — `'B'`. Используйте собственную функцию с именем `categorize_income()` и метод `apply()`.**"
   ]
  },
  {
   "cell_type": "code",
   "execution_count": 42,
   "id": "e1771346",
   "metadata": {
    "deletable": false,
    "id": "e1771346"
   },
   "outputs": [],
   "source": [
    "def categorize_income(income):\n",
    "    try:\n",
    "        if 0 <= income <= 30000:\n",
    "            return 'E'\n",
    "        elif 30001 <= income <= 50000:\n",
    "            return 'D'\n",
    "        elif 50001 <= income <= 200000:\n",
    "            return 'C'\n",
    "        elif 200001 <= income <= 1000000:\n",
    "            return 'B'\n",
    "        elif income >= 1000001:\n",
    "            return 'A'\n",
    "    except:\n",
    "        pass"
   ]
  },
  {
   "cell_type": "code",
   "execution_count": 43,
   "id": "d5f3586d",
   "metadata": {
    "deletable": false,
    "id": "d5f3586d"
   },
   "outputs": [],
   "source": [
    "data['total_income_category'] = data['total_income'].apply(categorize_income)"
   ]
  },
  {
   "cell_type": "markdown",
   "id": "dde49b5c",
   "metadata": {
    "deletable": false,
    "id": "dde49b5c"
   },
   "source": [
    "**Задание 17. Выведите на экран перечень уникальных целей взятия кредита из столбца `purpose`.**"
   ]
  },
  {
   "cell_type": "code",
   "execution_count": 44,
   "id": "f67ce9b3",
   "metadata": {
    "deletable": false,
    "id": "f67ce9b3",
    "outputId": "673c12d9-7d7e-4ae0-9812-c622c89dd244"
   },
   "outputs": [
    {
     "data": {
      "text/plain": [
       "array(['покупка жилья', 'приобретение автомобиля',\n",
       "       'дополнительное образование', 'сыграть свадьбу',\n",
       "       'операции с жильем', 'образование', 'на проведение свадьбы',\n",
       "       'покупка жилья для семьи', 'покупка недвижимости',\n",
       "       'покупка коммерческой недвижимости', 'покупка жилой недвижимости',\n",
       "       'строительство собственной недвижимости', 'недвижимость',\n",
       "       'строительство недвижимости', 'на покупку подержанного автомобиля',\n",
       "       'на покупку своего автомобиля',\n",
       "       'операции с коммерческой недвижимостью',\n",
       "       'строительство жилой недвижимости', 'жилье',\n",
       "       'операции со своей недвижимостью', 'автомобили',\n",
       "       'заняться образованием', 'сделка с подержанным автомобилем',\n",
       "       'получение образования', 'автомобиль', 'свадьба',\n",
       "       'получение дополнительного образования', 'покупка своего жилья',\n",
       "       'операции с недвижимостью', 'получение высшего образования',\n",
       "       'свой автомобиль', 'сделка с автомобилем',\n",
       "       'профильное образование', 'высшее образование',\n",
       "       'покупка жилья для сдачи', 'на покупку автомобиля', 'ремонт жилью',\n",
       "       'заняться высшим образованием'], dtype=object)"
      ]
     },
     "execution_count": 44,
     "metadata": {},
     "output_type": "execute_result"
    }
   ],
   "source": [
    "data['purpose'].unique()"
   ]
  },
  {
   "cell_type": "markdown",
   "id": "85d0aef0",
   "metadata": {
    "deletable": false,
    "id": "85d0aef0"
   },
   "source": [
    "**Задание 18. Создайте функцию, которая на основании данных из столбца `purpose` сформирует новый столбец `purpose_category`, в который войдут следующие категории:**\n",
    "\n",
    "- `'операции с автомобилем'`,\n",
    "- `'операции с недвижимостью'`,\n",
    "- `'проведение свадьбы'`,\n",
    "- `'получение образования'`.\n",
    "\n",
    "**Например, если в столбце `purpose` находится подстрока `'на покупку автомобиля'`, то в столбце `purpose_category` должна появиться строка `'операции с автомобилем'`.**\n",
    "\n",
    "**Используйте собственную функцию с именем `categorize_purpose()` и метод `apply()`. Изучите данные в столбце `purpose` и определите, какие подстроки помогут вам правильно определить категорию.**"
   ]
  },
  {
   "cell_type": "code",
   "execution_count": 45,
   "id": "e149fab4",
   "metadata": {
    "deletable": false,
    "id": "e149fab4"
   },
   "outputs": [],
   "source": [
    "def categorize_purpose(row):\n",
    "    try:\n",
    "        if 'автом' in row:\n",
    "            return 'операции с автомобилем'\n",
    "        elif 'жил' in row or 'недвиж' in row:\n",
    "            return 'операции с недвижимостью'\n",
    "        elif 'свад' in row:\n",
    "            return 'проведение свадьбы'\n",
    "        elif 'образов' in row:\n",
    "            return 'получение образования'\n",
    "    except:\n",
    "        return 'нет категории'"
   ]
  },
  {
   "cell_type": "code",
   "execution_count": 46,
   "id": "bf36e69b",
   "metadata": {
    "deletable": false,
    "id": "bf36e69b"
   },
   "outputs": [],
   "source": [
    "data['purpose_category'] = data['purpose'].apply(categorize_purpose)"
   ]
  },
  {
   "cell_type": "markdown",
   "id": "09b242bf",
   "metadata": {
    "deletable": false,
    "editable": false,
    "id": "09b242bf"
   },
   "source": [
    "## Исследуйте данные и ответьте на вопросы"
   ]
  },
  {
   "cell_type": "markdown",
   "id": "c5d66278",
   "metadata": {
    "deletable": false,
    "editable": false,
    "id": "c5d66278"
   },
   "source": [
    "**Задание 19. Есть ли зависимость между количеством детей и возвратом кредита в срок?**"
   ]
  },
  {
   "cell_type": "code",
   "execution_count": 47,
   "id": "2cacfc4a",
   "metadata": {
    "id": "2cacfc4a"
   },
   "outputs": [
    {
     "name": "stdout",
     "output_type": "stream",
     "text": [
      "children\n",
      "0    7.54\n",
      "1    9.23\n",
      "2    9.45\n",
      "3    8.18\n",
      "4    9.76\n",
      "5    0.00\n",
      "dtype: float64\n"
     ]
    }
   ],
   "source": [
    "dety = data.groupby('children')['debt'].sum() / data.groupby('children')['children'].count()\n",
    "print(f'{round((dety*100),2)}')"
   ]
  },
  {
   "cell_type": "markdown",
   "id": "3a6b99ec",
   "metadata": {
    "deletable": false,
    "id": "3a6b99ec"
   },
   "source": [
    "По результатам видно, что с увеличением количества детей в семьях, растет процент должников. Из многодетных наиболее ответственные семьи с 3 детьми.  "
   ]
  },
  {
   "cell_type": "markdown",
   "id": "97be82ca",
   "metadata": {
    "deletable": false,
    "editable": false,
    "id": "97be82ca"
   },
   "source": [
    "**Задание 20. Есть ли зависимость между семейным положением и возвратом кредита в срок?**"
   ]
  },
  {
   "cell_type": "code",
   "execution_count": 48,
   "id": "dc3f7ee8",
   "metadata": {
    "id": "dc3f7ee8"
   },
   "outputs": [
    {
     "name": "stdout",
     "output_type": "stream",
     "text": [
      "family_status\n",
      "Не женат / не замужем    9.76\n",
      "в разводе                7.06\n",
      "вдовец / вдова           6.62\n",
      "гражданский брак         9.29\n",
      "женат / замужем          7.56\n",
      "dtype: float64\n"
     ]
    }
   ],
   "source": [
    "temp = (data.groupby('family_status')['debt'].sum()/data.groupby('family_status')['family_status'].count()) \n",
    "#print(round((temp*100),2))\n",
    "print(f'{round((temp*100),2)}')\n",
    "\n",
    "#    print('Семейное полождение:', temp[i])"
   ]
  },
  {
   "cell_type": "raw",
   "id": "3cd30905",
   "metadata": {
    "deletable": false,
    "id": "1cef7837"
   },
   "source": [
    "markdown Самыми надежными заемщиками является группа \"вдова/вдовец\" и немного хуже группа \"в разводе\". Самыми плохими заемщиками выступают 2 группы - \"не женат/не замужем\" и \"гражданский брак\". Группа \"женат/замужем\" занимае среднее положение в надежности. "
   ]
  },
  {
   "cell_type": "markdown",
   "id": "1e8b2fca",
   "metadata": {
    "deletable": false,
    "editable": false,
    "id": "1e8b2fca"
   },
   "source": [
    "**Задание 21. Есть ли зависимость между уровнем дохода и возвратом кредита в срок?**"
   ]
  },
  {
   "cell_type": "code",
   "execution_count": 49,
   "id": "bfd40028",
   "metadata": {
    "id": "cd7e3720"
   },
   "outputs": [
    {
     "name": "stdout",
     "output_type": "stream",
     "text": [
      "Процент должников по категориям\n",
      "category_loans_new\n",
      "A happy  (more 200000)      0.070649\n",
      "B lucky  (150000-20000)     0.085021\n",
      "C middle (10000-150000)     0.086877\n",
      "D normal (50000-10000)      0.081267\n",
      "E low    (25000-50000)      0.060606\n",
      "F looser (less 25000)       0.125000\n",
      "Name: debt, dtype: float64\n",
      "\n",
      "Всего заемщиков по категориям\n",
      "category_loans_new\n",
      "A happy  (more 200000)      5039\n",
      "B lucky  (150000-20000)     4740\n",
      "C middle (10000-150000)     7125\n",
      "D normal (50000-10000)      4073\n",
      "E low    (25000-50000)       363\n",
      "F looser (less 25000)          8\n",
      "Name: debt, dtype: int64\n",
      "\n",
      "Медианный доход по категориям. *Оценить, насколько правильно были выбраны категории\n",
      "category_loans_new\n",
      "A happy  (more 200000)      257951.0\n",
      "B lucky  (150000-20000)     172357.0\n",
      "C middle (10000-150000)     127518.0\n",
      "D normal (50000-10000)       81279.0\n",
      "E low    (25000-50000)       43508.0\n",
      "F looser (less 25000)        21795.0\n",
      "Name: total_income, dtype: float64\n"
     ]
    }
   ],
   "source": [
    "#print(data['total_income'].unique())\n",
    "#print (data.info())\n",
    "def category_loans(income):\n",
    "    if 0<=income<=25000:\n",
    "        return 'F looser (less 25000)'\n",
    "    elif 25000<income<50000:\n",
    "        return 'E low    (25000-50000)' \n",
    "    elif 50000<=income<100000:\n",
    "        return 'D normal (50000-10000)'  \n",
    "    elif 100000<=income<150000:\n",
    "        return 'C middle (10000-150000) '    \n",
    "    elif 150000<=income<200000:\n",
    "        return 'B lucky  (150000-20000)'\n",
    "    elif income>=200000:\n",
    "        return 'A happy  (more 200000)'\n",
    "\n",
    "data['category_loans_new'] = data['total_income'].apply(category_loans) \n",
    "print('Процент должников по категориям')\n",
    "print((data.groupby('category_loans_new')['debt'].sum()/data.groupby('category_loans_new')['debt'].count())) \n",
    "\n",
    "print('')\n",
    "print('Всего заемщиков по категориям')\n",
    "#print[data.groupby('catogory_loans')['catogory_loans'].count()]\n",
    "print(data.groupby('category_loans_new')['debt'].count())\n",
    "print('')\n",
    "print('Медианный доход по категориям. *Оценить, насколько правильно были выбраны категории')\n",
    "print(data.groupby('category_loans_new')['total_income'].median())\n",
    "\n"
   ]
  },
  {
   "cell_type": "markdown",
   "id": "e8593def",
   "metadata": {
    "deletable": false,
    "id": "e8593def"
   },
   "source": [
    "Добавил отношение всех должников к заемщикам по категориям. Как видно, уровень доходя влияет на процент должников. \n",
    "У наименее обеспеченной категории F, с доходами менее 25000 (а медианная там 21000) должников 12,5%. \n",
    "У категории E, с доходами 25000-50000 самый низкий процент долников 6%. Это самые ответственные заемщики. \n",
    "Категории В, С, D -  с доходами 50000- 150000 процент должников 8.1..8.7%. Средний класс и самый многочисленный класс. Можно использовать как бенчмарк.\n",
    "Категория А с доходами 20000+, процент должников 7%. Как видно, наличие высокого дохода не означает высокую ответственность перед кредитором.\n",
    "\n",
    "Рекомендация: ограничить выдачу кредитов категории F.\n",
    "Вывод: Самые ненадежный заемщик - это средний и средне-нормлаьный класс."
   ]
  },
  {
   "cell_type": "markdown",
   "id": "99ecbd1f",
   "metadata": {
    "deletable": false,
    "editable": false,
    "id": "99ecbd1f"
   },
   "source": [
    "**Задание 22. Как разные цели кредита влияют на его возврат в срок?**"
   ]
  },
  {
   "cell_type": "code",
   "execution_count": 50,
   "id": "2b687290",
   "metadata": {
    "id": "2b687290"
   },
   "outputs": [
    {
     "name": "stdout",
     "output_type": "stream",
     "text": [
      "purpose_category\n",
      "операции с автомобилем      0.093436\n",
      "операции с недвижимостью    0.072531\n",
      "получение образования       0.092504\n",
      "проведение свадьбы          0.078744\n",
      "Name: debt, dtype: float64\n"
     ]
    }
   ],
   "source": [
    "#print (data.groupby('purpose_category')['debt'].sum())\n",
    "#print (data.groupby('purpose_category')['debt'].count())\n",
    "print (data.groupby('purpose_category')['debt'].sum()/data.groupby('purpose_category')['debt'].count())  \n"
   ]
  },
  {
   "cell_type": "markdown",
   "id": "b4bb2ce6",
   "metadata": {
    "deletable": false,
    "id": "b4bb2ce6"
   },
   "source": [
    "от 27-06-2022\n",
    "Добывил отношение должников к заемщикам по целевым категориям кредита.\n",
    "Задолженности по \"операции с недвижимостью\" - 7,2%\n",
    "Задолженности по \"проведение свадьбы\" - 7,9%\n",
    "Задолженности по \"получение образования\" - 9,2%\n",
    "Задолженности по \"операции с автомобилем\" - 9,3%\n",
    "\n",
    "\n",
    "\n",
    "от 23-06-2022 markdown Вывод! Наиболее безопасный кредит, это кредит на свадьбу. У нас люди любят гулять. Свадьба на Бали в кредит на 5 лет норма жизни))) Образование и операции с автомобилем примерно на одном уровне невозврата, а наиболее частый невозвратный кредит - это операции с недвижимостью."
   ]
  },
  {
   "cell_type": "markdown",
   "id": "09c3ac4c",
   "metadata": {
    "deletable": false,
    "editable": false,
    "id": "09c3ac4c"
   },
   "source": [
    "**Задание 23. Приведите возможные причины появления пропусков в исходных данных.**"
   ]
  },
  {
   "cell_type": "markdown",
   "id": "9da2ceda",
   "metadata": {
    "deletable": false,
    "id": "9da2ceda"
   },
   "source": [
    "кривой код, ошибки при выгрузке/склейке, созначельные пропуски при заполнении юзерами."
   ]
  },
  {
   "cell_type": "markdown",
   "id": "7b0487d6",
   "metadata": {
    "deletable": false,
    "editable": false,
    "id": "7b0487d6"
   },
   "source": [
    "**Задание 24. Объясните, почему заполнить пропуски медианным значением — лучшее решение для количественных переменных.**"
   ]
  },
  {
   "cell_type": "markdown",
   "id": "7ecf2b8e",
   "metadata": {
    "deletable": false,
    "id": "7ecf2b8e"
   },
   "source": [
    "markdown Заполняя пропуски медианным значением мы можем сохранить запись в таблице для возмоности ее использования и при этом за счет медианного значения, отсутствует влияние на конечный результат.  "
   ]
  },
  {
   "cell_type": "markdown",
   "id": "6db5255a",
   "metadata": {
    "deletable": false,
    "editable": false,
    "id": "6db5255a"
   },
   "source": [
    "## Общий вывод."
   ]
  },
  {
   "cell_type": "markdown",
   "id": "bad65432",
   "metadata": {
    "id": "bad65432"
   },
   "source": [
    "1. Дети отрицательно вляют на возврат долгов. \n",
    "2. Неустоявшиеся семейные категории (не женат/не замужем и гражданский брак) самые ненадежные заемщики. Разведенные или овдовевшие самые лучишие заемщики.\n",
    "3. Доход влияет на процент должников. С низкими доходами (до 25000) самый большой процент невозврата. Обеспеченные также грешать задолженностью, несмотря на возможность платить в срок. Люди, в целом, халатно относятся к задолженности.\n",
    "4. Также отличаеются целевым категориям кредита. Задолженности по \"операции с недвижимостью\" и \"проведение свадьбы\" наименьшие.\n",
    "\n",
    "Вывод. Данные исследования мы рассматривали по отдельности и не учитывали взаимного влияния. Например мы не знаем, почему обеспеченные имеют задолженность 7%. На машину, образование или свадьбу данной категории, в целом, кредиты не требуются. Остается только недвижимость, значит 7% это проблемная недвижимость? Может это схематозы по выводуЮ отмывке и обналичке средств? Следовательно надо рассматривать группы не по отдельности, а комплексно. И в каждой группе по доходам (и добавть подгруппы образование и профессия) проводить ислледование. Тогда можно получить гораздо более точный результат. "
   ]
  }
 ],
 "metadata": {
  "ExecuteTimeLog": [
   {
    "duration": 46,
    "start_time": "2022-06-23T09:46:48.297Z"
   },
   {
    "duration": 471,
    "start_time": "2022-06-23T09:46:53.358Z"
   },
   {
    "duration": 20,
    "start_time": "2022-06-23T09:46:53.831Z"
   },
   {
    "duration": 30,
    "start_time": "2022-06-23T09:46:53.852Z"
   },
   {
    "duration": 23,
    "start_time": "2022-06-23T09:46:53.884Z"
   },
   {
    "duration": 57,
    "start_time": "2022-06-23T09:46:53.908Z"
   },
   {
    "duration": 32,
    "start_time": "2022-06-23T09:46:53.967Z"
   },
   {
    "duration": 40,
    "start_time": "2022-06-23T09:46:54.001Z"
   },
   {
    "duration": 44,
    "start_time": "2022-06-23T09:46:54.043Z"
   },
   {
    "duration": 35,
    "start_time": "2022-06-23T09:46:54.089Z"
   },
   {
    "duration": 21,
    "start_time": "2022-06-23T09:46:54.126Z"
   },
   {
    "duration": 59,
    "start_time": "2022-06-23T09:46:54.149Z"
   },
   {
    "duration": 15,
    "start_time": "2022-06-23T09:46:54.209Z"
   },
   {
    "duration": 49,
    "start_time": "2022-06-23T09:46:54.226Z"
   },
   {
    "duration": 48,
    "start_time": "2022-06-23T09:46:54.276Z"
   },
   {
    "duration": 26,
    "start_time": "2022-06-23T09:46:54.325Z"
   },
   {
    "duration": 19,
    "start_time": "2022-06-23T09:46:54.353Z"
   },
   {
    "duration": 37,
    "start_time": "2022-06-23T09:46:54.374Z"
   },
   {
    "duration": 41,
    "start_time": "2022-06-23T09:46:54.412Z"
   },
   {
    "duration": 39,
    "start_time": "2022-06-23T09:46:54.455Z"
   },
   {
    "duration": 31,
    "start_time": "2022-06-23T09:46:54.495Z"
   },
   {
    "duration": 59,
    "start_time": "2022-06-23T09:46:54.528Z"
   },
   {
    "duration": 8,
    "start_time": "2022-06-23T09:46:55.566Z"
   },
   {
    "duration": 9,
    "start_time": "2022-06-23T10:10:48.735Z"
   },
   {
    "duration": 3,
    "start_time": "2022-06-23T10:12:35.376Z"
   },
   {
    "duration": 17,
    "start_time": "2022-06-23T10:12:43.756Z"
   },
   {
    "duration": 6,
    "start_time": "2022-06-23T10:12:53.953Z"
   },
   {
    "duration": 5,
    "start_time": "2022-06-23T10:13:17.302Z"
   },
   {
    "duration": 4,
    "start_time": "2022-06-23T10:13:24.256Z"
   },
   {
    "duration": 6,
    "start_time": "2022-06-23T10:13:51.366Z"
   },
   {
    "duration": 8,
    "start_time": "2022-06-23T10:14:04.210Z"
   },
   {
    "duration": 32,
    "start_time": "2022-06-23T10:14:13.856Z"
   },
   {
    "duration": 7,
    "start_time": "2022-06-23T10:14:17.175Z"
   },
   {
    "duration": 8,
    "start_time": "2022-06-23T10:16:02.017Z"
   },
   {
    "duration": 9,
    "start_time": "2022-06-23T10:16:27.107Z"
   },
   {
    "duration": 8,
    "start_time": "2022-06-23T10:16:33.003Z"
   },
   {
    "duration": 7,
    "start_time": "2022-06-23T10:16:51.874Z"
   },
   {
    "duration": 8,
    "start_time": "2022-06-23T10:17:22.265Z"
   },
   {
    "duration": 10,
    "start_time": "2022-06-23T10:19:55.304Z"
   },
   {
    "duration": 4,
    "start_time": "2022-06-23T10:22:11.477Z"
   },
   {
    "duration": 4,
    "start_time": "2022-06-23T10:22:21.606Z"
   },
   {
    "duration": 4,
    "start_time": "2022-06-23T10:22:27.306Z"
   },
   {
    "duration": 8,
    "start_time": "2022-06-23T10:22:31.713Z"
   },
   {
    "duration": 12,
    "start_time": "2022-06-23T10:22:46.247Z"
   },
   {
    "duration": 15,
    "start_time": "2022-06-23T10:23:33.925Z"
   },
   {
    "duration": 8,
    "start_time": "2022-06-23T10:23:46.095Z"
   },
   {
    "duration": 7,
    "start_time": "2022-06-23T10:23:58.546Z"
   },
   {
    "duration": 8,
    "start_time": "2022-06-23T10:24:37.246Z"
   },
   {
    "duration": 10,
    "start_time": "2022-06-23T10:24:49.876Z"
   },
   {
    "duration": 8,
    "start_time": "2022-06-23T10:24:55.046Z"
   },
   {
    "duration": 217,
    "start_time": "2022-06-23T10:27:07.704Z"
   },
   {
    "duration": 8,
    "start_time": "2022-06-23T10:27:14.213Z"
   },
   {
    "duration": 9,
    "start_time": "2022-06-23T10:27:31.006Z"
   },
   {
    "duration": 9,
    "start_time": "2022-06-23T10:27:44.302Z"
   },
   {
    "duration": 7,
    "start_time": "2022-06-23T10:27:55.199Z"
   },
   {
    "duration": 10,
    "start_time": "2022-06-23T10:28:05.764Z"
   },
   {
    "duration": 10,
    "start_time": "2022-06-23T10:28:13.823Z"
   },
   {
    "duration": 9,
    "start_time": "2022-06-23T10:28:17.907Z"
   },
   {
    "duration": 96,
    "start_time": "2022-06-23T10:28:22.001Z"
   },
   {
    "duration": 11,
    "start_time": "2022-06-23T10:28:28.769Z"
   },
   {
    "duration": 8,
    "start_time": "2022-06-23T10:28:35.918Z"
   },
   {
    "duration": 8,
    "start_time": "2022-06-23T10:28:43.416Z"
   },
   {
    "duration": 9,
    "start_time": "2022-06-23T10:28:53.367Z"
   },
   {
    "duration": 8,
    "start_time": "2022-06-23T10:30:43.155Z"
   },
   {
    "duration": 3,
    "start_time": "2022-06-23T10:40:09.674Z"
   },
   {
    "duration": 11,
    "start_time": "2022-06-23T10:40:48.409Z"
   },
   {
    "duration": 110,
    "start_time": "2022-06-23T10:41:37.692Z"
   },
   {
    "duration": 15,
    "start_time": "2022-06-23T10:42:08.512Z"
   },
   {
    "duration": 22,
    "start_time": "2022-06-23T10:42:43.055Z"
   },
   {
    "duration": 16,
    "start_time": "2022-06-23T10:42:55.916Z"
   },
   {
    "duration": 8,
    "start_time": "2022-06-23T10:43:16.512Z"
   },
   {
    "duration": 5,
    "start_time": "2022-06-23T10:43:28.724Z"
   },
   {
    "duration": 5,
    "start_time": "2022-06-23T10:43:55.927Z"
   },
   {
    "duration": 11,
    "start_time": "2022-06-23T10:53:25.125Z"
   },
   {
    "duration": 10,
    "start_time": "2022-06-23T10:53:33.305Z"
   },
   {
    "duration": 7,
    "start_time": "2022-06-23T10:54:05.927Z"
   },
   {
    "duration": 10,
    "start_time": "2022-06-23T10:54:47.267Z"
   },
   {
    "duration": 10,
    "start_time": "2022-06-23T10:54:57.117Z"
   },
   {
    "duration": 10,
    "start_time": "2022-06-23T10:55:14.522Z"
   },
   {
    "duration": 7,
    "start_time": "2022-06-23T10:55:21.097Z"
   },
   {
    "duration": 8,
    "start_time": "2022-06-23T10:55:34.405Z"
   },
   {
    "duration": 10,
    "start_time": "2022-06-23T10:55:43.060Z"
   },
   {
    "duration": 11,
    "start_time": "2022-06-23T10:56:15.157Z"
   },
   {
    "duration": 11,
    "start_time": "2022-06-23T10:56:27.117Z"
   },
   {
    "duration": 10,
    "start_time": "2022-06-23T10:56:31.062Z"
   },
   {
    "duration": 10,
    "start_time": "2022-06-23T10:56:36.215Z"
   },
   {
    "duration": 11,
    "start_time": "2022-06-23T10:56:44.714Z"
   },
   {
    "duration": 22,
    "start_time": "2022-06-23T10:56:51.755Z"
   },
   {
    "duration": 92,
    "start_time": "2022-06-23T10:57:01.612Z"
   },
   {
    "duration": 20,
    "start_time": "2022-06-23T10:57:08.267Z"
   },
   {
    "duration": 10,
    "start_time": "2022-06-23T10:57:14.109Z"
   },
   {
    "duration": 8,
    "start_time": "2022-06-23T10:57:28.447Z"
   },
   {
    "duration": 9,
    "start_time": "2022-06-23T10:58:32.209Z"
   },
   {
    "duration": 11,
    "start_time": "2022-06-23T10:58:44.289Z"
   },
   {
    "duration": 11,
    "start_time": "2022-06-23T10:59:00.267Z"
   },
   {
    "duration": 11,
    "start_time": "2022-06-23T10:59:35.664Z"
   },
   {
    "duration": 9,
    "start_time": "2022-06-23T11:00:09.268Z"
   },
   {
    "duration": 10,
    "start_time": "2022-06-23T11:00:19.097Z"
   },
   {
    "duration": 11,
    "start_time": "2022-06-23T11:00:23.948Z"
   },
   {
    "duration": 10,
    "start_time": "2022-06-23T11:00:37.606Z"
   },
   {
    "duration": 11,
    "start_time": "2022-06-23T11:00:43.447Z"
   },
   {
    "duration": 89,
    "start_time": "2022-06-23T11:04:28.884Z"
   },
   {
    "duration": 13,
    "start_time": "2022-06-23T11:04:38.448Z"
   },
   {
    "duration": 12,
    "start_time": "2022-06-23T11:04:50.419Z"
   },
   {
    "duration": 12,
    "start_time": "2022-06-23T11:05:02.351Z"
   },
   {
    "duration": 14,
    "start_time": "2022-06-23T11:05:06.752Z"
   },
   {
    "duration": 10,
    "start_time": "2022-06-23T11:05:14.716Z"
   },
   {
    "duration": 10,
    "start_time": "2022-06-23T11:05:28.649Z"
   },
   {
    "duration": 10,
    "start_time": "2022-06-23T11:05:56.394Z"
   },
   {
    "duration": 11,
    "start_time": "2022-06-23T11:06:02.385Z"
   },
   {
    "duration": 10,
    "start_time": "2022-06-23T11:06:09.632Z"
   },
   {
    "duration": 10,
    "start_time": "2022-06-23T11:06:15.929Z"
   },
   {
    "duration": 10,
    "start_time": "2022-06-23T11:06:22.698Z"
   },
   {
    "duration": 9,
    "start_time": "2022-06-23T11:06:29.980Z"
   },
   {
    "duration": 10,
    "start_time": "2022-06-23T11:06:52.659Z"
   },
   {
    "duration": 151,
    "start_time": "2022-06-23T11:19:15.804Z"
   },
   {
    "duration": 11,
    "start_time": "2022-06-23T11:19:19.468Z"
   },
   {
    "duration": 12,
    "start_time": "2022-06-23T11:19:23.548Z"
   },
   {
    "duration": 12,
    "start_time": "2022-06-23T11:19:28.989Z"
   },
   {
    "duration": 13,
    "start_time": "2022-06-23T11:19:34.809Z"
   },
   {
    "duration": 11,
    "start_time": "2022-06-23T11:19:39.630Z"
   },
   {
    "duration": 14,
    "start_time": "2022-06-23T11:19:43.781Z"
   },
   {
    "duration": 11,
    "start_time": "2022-06-23T11:19:46.359Z"
   },
   {
    "duration": 11,
    "start_time": "2022-06-23T11:19:55.720Z"
   },
   {
    "duration": 10,
    "start_time": "2022-06-23T11:20:04.577Z"
   },
   {
    "duration": 4,
    "start_time": "2022-06-23T11:20:10.507Z"
   },
   {
    "duration": 11,
    "start_time": "2022-06-23T11:20:15.670Z"
   },
   {
    "duration": 139,
    "start_time": "2022-06-23T11:20:29.849Z"
   },
   {
    "duration": 11,
    "start_time": "2022-06-23T11:20:33.969Z"
   },
   {
    "duration": 11,
    "start_time": "2022-06-23T11:20:45.450Z"
   },
   {
    "duration": 11,
    "start_time": "2022-06-23T11:20:52.159Z"
   },
   {
    "duration": 10,
    "start_time": "2022-06-23T11:25:48.410Z"
   },
   {
    "duration": 10,
    "start_time": "2022-06-23T11:26:05.610Z"
   },
   {
    "duration": 10,
    "start_time": "2022-06-23T11:26:20.781Z"
   },
   {
    "duration": 8,
    "start_time": "2022-06-23T11:26:41.001Z"
   },
   {
    "duration": 7,
    "start_time": "2022-06-23T11:27:00.660Z"
   },
   {
    "duration": 9,
    "start_time": "2022-06-23T11:27:09.744Z"
   },
   {
    "duration": 7,
    "start_time": "2022-06-23T11:29:48.285Z"
   },
   {
    "duration": 10,
    "start_time": "2022-06-23T11:30:00.280Z"
   },
   {
    "duration": 8,
    "start_time": "2022-06-23T11:30:07.382Z"
   },
   {
    "duration": 11,
    "start_time": "2022-06-23T11:30:14.746Z"
   },
   {
    "duration": 5,
    "start_time": "2022-06-23T11:30:58.849Z"
   },
   {
    "duration": 6,
    "start_time": "2022-06-23T11:44:57.379Z"
   },
   {
    "duration": 13,
    "start_time": "2022-06-23T11:46:48.961Z"
   },
   {
    "duration": 21,
    "start_time": "2022-06-23T11:47:06.310Z"
   },
   {
    "duration": 74,
    "start_time": "2022-06-23T11:47:31.580Z"
   },
   {
    "duration": 15,
    "start_time": "2022-06-23T11:47:31.656Z"
   },
   {
    "duration": 27,
    "start_time": "2022-06-23T11:47:31.673Z"
   },
   {
    "duration": 32,
    "start_time": "2022-06-23T11:47:31.701Z"
   },
   {
    "duration": 58,
    "start_time": "2022-06-23T11:47:31.735Z"
   },
   {
    "duration": 3,
    "start_time": "2022-06-23T11:47:31.795Z"
   },
   {
    "duration": 18,
    "start_time": "2022-06-23T11:47:31.799Z"
   },
   {
    "duration": 31,
    "start_time": "2022-06-23T11:47:31.818Z"
   },
   {
    "duration": 29,
    "start_time": "2022-06-23T11:47:31.850Z"
   },
   {
    "duration": 8,
    "start_time": "2022-06-23T11:47:31.880Z"
   },
   {
    "duration": 62,
    "start_time": "2022-06-23T11:47:31.890Z"
   },
   {
    "duration": 10,
    "start_time": "2022-06-23T11:47:31.954Z"
   },
   {
    "duration": 8,
    "start_time": "2022-06-23T11:47:31.966Z"
   },
   {
    "duration": 35,
    "start_time": "2022-06-23T11:47:31.976Z"
   },
   {
    "duration": 37,
    "start_time": "2022-06-23T11:47:32.013Z"
   },
   {
    "duration": 45,
    "start_time": "2022-06-23T11:47:32.053Z"
   },
   {
    "duration": 16,
    "start_time": "2022-06-23T11:47:32.099Z"
   },
   {
    "duration": 45,
    "start_time": "2022-06-23T11:47:32.117Z"
   },
   {
    "duration": 26,
    "start_time": "2022-06-23T11:47:32.164Z"
   },
   {
    "duration": 23,
    "start_time": "2022-06-23T11:47:32.192Z"
   },
   {
    "duration": 42,
    "start_time": "2022-06-23T11:47:32.217Z"
   },
   {
    "duration": 35,
    "start_time": "2022-06-23T11:47:32.261Z"
   },
   {
    "duration": 31,
    "start_time": "2022-06-23T11:47:32.298Z"
   },
   {
    "duration": 19,
    "start_time": "2022-06-23T11:47:33.847Z"
   },
   {
    "duration": 18,
    "start_time": "2022-06-23T12:05:40.948Z"
   },
   {
    "duration": 21,
    "start_time": "2022-06-23T12:06:23.506Z"
   },
   {
    "duration": 20,
    "start_time": "2022-06-23T12:11:24.917Z"
   },
   {
    "duration": 14,
    "start_time": "2022-06-23T12:11:35.055Z"
   },
   {
    "duration": 13,
    "start_time": "2022-06-23T12:12:05.107Z"
   },
   {
    "duration": 20,
    "start_time": "2022-06-23T12:12:12.699Z"
   },
   {
    "duration": 28,
    "start_time": "2022-06-23T12:13:19.078Z"
   },
   {
    "duration": 20,
    "start_time": "2022-06-23T12:13:29.848Z"
   },
   {
    "duration": 25,
    "start_time": "2022-06-23T12:13:48.515Z"
   },
   {
    "duration": 19,
    "start_time": "2022-06-23T12:13:54.035Z"
   },
   {
    "duration": 17,
    "start_time": "2022-06-23T12:13:59.604Z"
   },
   {
    "duration": 13,
    "start_time": "2022-06-23T12:14:21.047Z"
   },
   {
    "duration": 13,
    "start_time": "2022-06-23T12:14:36.387Z"
   },
   {
    "duration": 15,
    "start_time": "2022-06-23T12:14:48.174Z"
   },
   {
    "duration": 17,
    "start_time": "2022-06-23T12:14:55.967Z"
   },
   {
    "duration": 20,
    "start_time": "2022-06-23T12:15:03.926Z"
   },
   {
    "duration": 15,
    "start_time": "2022-06-23T12:15:15.789Z"
   },
   {
    "duration": 13,
    "start_time": "2022-06-23T12:15:40.156Z"
   },
   {
    "duration": 14,
    "start_time": "2022-06-23T12:16:44.526Z"
   },
   {
    "duration": 14,
    "start_time": "2022-06-23T12:17:17.197Z"
   },
   {
    "duration": 14,
    "start_time": "2022-06-23T12:18:16.907Z"
   },
   {
    "duration": 14,
    "start_time": "2022-06-23T12:18:38.216Z"
   },
   {
    "duration": 14,
    "start_time": "2022-06-23T12:18:49.626Z"
   },
   {
    "duration": 15,
    "start_time": "2022-06-23T12:18:56.046Z"
   },
   {
    "duration": 66,
    "start_time": "2022-06-23T12:19:32.977Z"
   },
   {
    "duration": 14,
    "start_time": "2022-06-23T12:19:33.045Z"
   },
   {
    "duration": 17,
    "start_time": "2022-06-23T12:19:33.060Z"
   },
   {
    "duration": 8,
    "start_time": "2022-06-23T12:19:33.078Z"
   },
   {
    "duration": 53,
    "start_time": "2022-06-23T12:19:33.088Z"
   },
   {
    "duration": 3,
    "start_time": "2022-06-23T12:19:33.142Z"
   },
   {
    "duration": 10,
    "start_time": "2022-06-23T12:19:33.146Z"
   },
   {
    "duration": 5,
    "start_time": "2022-06-23T12:19:33.157Z"
   },
   {
    "duration": 7,
    "start_time": "2022-06-23T12:19:33.163Z"
   },
   {
    "duration": 5,
    "start_time": "2022-06-23T12:19:33.171Z"
   },
   {
    "duration": 52,
    "start_time": "2022-06-23T12:19:33.177Z"
   },
   {
    "duration": 8,
    "start_time": "2022-06-23T12:19:33.230Z"
   },
   {
    "duration": 5,
    "start_time": "2022-06-23T12:19:33.239Z"
   },
   {
    "duration": 18,
    "start_time": "2022-06-23T12:19:33.246Z"
   },
   {
    "duration": 15,
    "start_time": "2022-06-23T12:19:33.265Z"
   },
   {
    "duration": 10,
    "start_time": "2022-06-23T12:19:33.281Z"
   },
   {
    "duration": 5,
    "start_time": "2022-06-23T12:19:33.292Z"
   },
   {
    "duration": 31,
    "start_time": "2022-06-23T12:19:33.298Z"
   },
   {
    "duration": 9,
    "start_time": "2022-06-23T12:19:33.330Z"
   },
   {
    "duration": 5,
    "start_time": "2022-06-23T12:19:33.340Z"
   },
   {
    "duration": 11,
    "start_time": "2022-06-23T12:19:33.346Z"
   },
   {
    "duration": 11,
    "start_time": "2022-06-23T12:19:33.359Z"
   },
   {
    "duration": 11,
    "start_time": "2022-06-23T12:19:33.371Z"
   },
   {
    "duration": 8,
    "start_time": "2022-06-23T12:19:45.186Z"
   },
   {
    "duration": 10,
    "start_time": "2022-06-23T12:19:47.656Z"
   },
   {
    "duration": 6,
    "start_time": "2022-06-23T12:20:12.656Z"
   },
   {
    "duration": 11,
    "start_time": "2022-06-23T12:21:55.966Z"
   },
   {
    "duration": 8,
    "start_time": "2022-06-23T12:25:14.086Z"
   },
   {
    "duration": 5,
    "start_time": "2022-06-23T12:25:31.358Z"
   },
   {
    "duration": 5,
    "start_time": "2022-06-23T12:25:42.706Z"
   },
   {
    "duration": 6,
    "start_time": "2022-06-23T12:26:03.585Z"
   },
   {
    "duration": 5,
    "start_time": "2022-06-23T12:27:00.062Z"
   },
   {
    "duration": 90,
    "start_time": "2022-06-23T12:28:15.287Z"
   },
   {
    "duration": 6,
    "start_time": "2022-06-23T12:28:18.246Z"
   },
   {
    "duration": 8,
    "start_time": "2022-06-23T12:28:24.826Z"
   },
   {
    "duration": 69,
    "start_time": "2022-06-23T12:35:54.636Z"
   },
   {
    "duration": 16,
    "start_time": "2022-06-23T12:35:54.707Z"
   },
   {
    "duration": 18,
    "start_time": "2022-06-23T12:35:54.724Z"
   },
   {
    "duration": 10,
    "start_time": "2022-06-23T12:35:54.745Z"
   },
   {
    "duration": 42,
    "start_time": "2022-06-23T12:35:54.757Z"
   },
   {
    "duration": 26,
    "start_time": "2022-06-23T12:35:54.801Z"
   },
   {
    "duration": 10,
    "start_time": "2022-06-23T12:35:54.829Z"
   },
   {
    "duration": 5,
    "start_time": "2022-06-23T12:35:54.841Z"
   },
   {
    "duration": 6,
    "start_time": "2022-06-23T12:35:54.848Z"
   },
   {
    "duration": 6,
    "start_time": "2022-06-23T12:35:54.857Z"
   },
   {
    "duration": 65,
    "start_time": "2022-06-23T12:35:54.865Z"
   },
   {
    "duration": 9,
    "start_time": "2022-06-23T12:35:54.932Z"
   },
   {
    "duration": 4,
    "start_time": "2022-06-23T12:35:54.943Z"
   },
   {
    "duration": 21,
    "start_time": "2022-06-23T12:35:54.948Z"
   },
   {
    "duration": 19,
    "start_time": "2022-06-23T12:35:54.970Z"
   },
   {
    "duration": 36,
    "start_time": "2022-06-23T12:35:54.991Z"
   },
   {
    "duration": 15,
    "start_time": "2022-06-23T12:35:55.029Z"
   },
   {
    "duration": 18,
    "start_time": "2022-06-23T12:35:55.046Z"
   },
   {
    "duration": 10,
    "start_time": "2022-06-23T12:35:55.066Z"
   },
   {
    "duration": 4,
    "start_time": "2022-06-23T12:35:55.078Z"
   },
   {
    "duration": 12,
    "start_time": "2022-06-23T12:35:55.083Z"
   },
   {
    "duration": 10,
    "start_time": "2022-06-23T12:35:55.097Z"
   },
   {
    "duration": 24,
    "start_time": "2022-06-23T12:35:55.108Z"
   },
   {
    "duration": 8,
    "start_time": "2022-06-23T12:35:55.134Z"
   },
   {
    "duration": 10,
    "start_time": "2022-06-23T12:36:03.325Z"
   },
   {
    "duration": 47,
    "start_time": "2022-06-27T06:20:03.149Z"
   },
   {
    "duration": 439,
    "start_time": "2022-06-27T06:20:07.413Z"
   },
   {
    "duration": 26,
    "start_time": "2022-06-27T06:20:07.854Z"
   },
   {
    "duration": 23,
    "start_time": "2022-06-27T06:20:07.881Z"
   },
   {
    "duration": 15,
    "start_time": "2022-06-27T06:20:07.906Z"
   },
   {
    "duration": 39,
    "start_time": "2022-06-27T06:20:07.924Z"
   },
   {
    "duration": 3,
    "start_time": "2022-06-27T06:20:07.965Z"
   },
   {
    "duration": 13,
    "start_time": "2022-06-27T06:20:07.970Z"
   },
   {
    "duration": 9,
    "start_time": "2022-06-27T06:20:07.985Z"
   },
   {
    "duration": 17,
    "start_time": "2022-06-27T06:20:07.995Z"
   },
   {
    "duration": 21,
    "start_time": "2022-06-27T06:20:08.013Z"
   },
   {
    "duration": 37,
    "start_time": "2022-06-27T06:20:08.036Z"
   },
   {
    "duration": 9,
    "start_time": "2022-06-27T06:20:08.075Z"
   },
   {
    "duration": 9,
    "start_time": "2022-06-27T06:20:08.085Z"
   },
   {
    "duration": 34,
    "start_time": "2022-06-27T06:20:08.097Z"
   },
   {
    "duration": 22,
    "start_time": "2022-06-27T06:20:08.133Z"
   },
   {
    "duration": 12,
    "start_time": "2022-06-27T06:20:08.157Z"
   },
   {
    "duration": 7,
    "start_time": "2022-06-27T06:20:08.170Z"
   },
   {
    "duration": 23,
    "start_time": "2022-06-27T06:20:08.179Z"
   },
   {
    "duration": 25,
    "start_time": "2022-06-27T06:20:08.204Z"
   },
   {
    "duration": 15,
    "start_time": "2022-06-27T06:20:08.231Z"
   },
   {
    "duration": 30,
    "start_time": "2022-06-27T06:20:08.248Z"
   },
   {
    "duration": 14,
    "start_time": "2022-06-27T06:20:08.280Z"
   },
   {
    "duration": 14,
    "start_time": "2022-06-27T06:20:08.296Z"
   },
   {
    "duration": 24,
    "start_time": "2022-06-27T06:20:08.311Z"
   },
   {
    "duration": 8,
    "start_time": "2022-06-27T06:20:41.820Z"
   },
   {
    "duration": 7,
    "start_time": "2022-06-27T06:21:00.970Z"
   },
   {
    "duration": 9,
    "start_time": "2022-06-27T06:21:58.319Z"
   },
   {
    "duration": 22,
    "start_time": "2022-06-27T06:22:16.392Z"
   },
   {
    "duration": 34,
    "start_time": "2022-06-27T06:23:00.409Z"
   },
   {
    "duration": 12,
    "start_time": "2022-06-27T06:23:04.600Z"
   },
   {
    "duration": 7,
    "start_time": "2022-06-27T06:23:20.351Z"
   },
   {
    "duration": 21,
    "start_time": "2022-06-27T06:23:41.388Z"
   },
   {
    "duration": 28,
    "start_time": "2022-06-27T06:24:49.930Z"
   },
   {
    "duration": 22,
    "start_time": "2022-06-27T06:25:52.519Z"
   },
   {
    "duration": 27,
    "start_time": "2022-06-27T06:36:46.609Z"
   },
   {
    "duration": 23,
    "start_time": "2022-06-27T06:37:26.396Z"
   },
   {
    "duration": 29,
    "start_time": "2022-06-27T06:38:03.440Z"
   },
   {
    "duration": 17,
    "start_time": "2022-06-27T06:38:13.116Z"
   },
   {
    "duration": 31,
    "start_time": "2022-06-27T06:38:58.360Z"
   },
   {
    "duration": 32,
    "start_time": "2022-06-27T06:41:28.078Z"
   },
   {
    "duration": 34,
    "start_time": "2022-06-27T06:41:36.610Z"
   },
   {
    "duration": 45,
    "start_time": "2022-06-27T06:42:52.220Z"
   },
   {
    "duration": 23,
    "start_time": "2022-06-27T06:43:29.512Z"
   },
   {
    "duration": 24,
    "start_time": "2022-06-27T06:43:50.881Z"
   },
   {
    "duration": 22,
    "start_time": "2022-06-27T06:43:56.508Z"
   },
   {
    "duration": 21,
    "start_time": "2022-06-27T06:44:10.390Z"
   },
   {
    "duration": 21,
    "start_time": "2022-06-27T06:44:31.571Z"
   },
   {
    "duration": 19,
    "start_time": "2022-06-27T06:44:50.110Z"
   },
   {
    "duration": 19,
    "start_time": "2022-06-27T06:47:56.553Z"
   },
   {
    "duration": 19,
    "start_time": "2022-06-27T06:48:06.987Z"
   },
   {
    "duration": 17,
    "start_time": "2022-06-27T06:48:14.720Z"
   },
   {
    "duration": 27,
    "start_time": "2022-06-27T06:48:25.211Z"
   },
   {
    "duration": 23,
    "start_time": "2022-06-27T06:56:21.110Z"
   },
   {
    "duration": 30,
    "start_time": "2022-06-27T06:58:38.964Z"
   },
   {
    "duration": 23,
    "start_time": "2022-06-27T06:58:49.778Z"
   },
   {
    "duration": 25,
    "start_time": "2022-06-27T06:59:16.248Z"
   },
   {
    "duration": 23,
    "start_time": "2022-06-27T06:59:39.201Z"
   },
   {
    "duration": 30,
    "start_time": "2022-06-27T07:00:32.380Z"
   },
   {
    "duration": 33,
    "start_time": "2022-06-27T07:01:16.826Z"
   },
   {
    "duration": 31,
    "start_time": "2022-06-27T07:01:31.720Z"
   },
   {
    "duration": 1022,
    "start_time": "2022-06-27T07:02:55.458Z"
   },
   {
    "duration": 141,
    "start_time": "2022-06-27T07:03:30.413Z"
   },
   {
    "duration": 266,
    "start_time": "2022-06-27T07:03:35.630Z"
   },
   {
    "duration": 27,
    "start_time": "2022-06-27T07:03:42.739Z"
   },
   {
    "duration": 25,
    "start_time": "2022-06-27T07:03:51.432Z"
   },
   {
    "duration": 10,
    "start_time": "2022-06-27T07:04:12.730Z"
   },
   {
    "duration": 5,
    "start_time": "2022-06-27T07:04:35.338Z"
   },
   {
    "duration": 29,
    "start_time": "2022-06-27T07:04:41.577Z"
   },
   {
    "duration": 10,
    "start_time": "2022-06-27T07:05:03.268Z"
   },
   {
    "duration": 29,
    "start_time": "2022-06-27T07:05:19.280Z"
   },
   {
    "duration": 4,
    "start_time": "2022-06-27T07:05:25.955Z"
   },
   {
    "duration": 4,
    "start_time": "2022-06-27T07:05:50.619Z"
   },
   {
    "duration": 30,
    "start_time": "2022-06-27T07:05:54.800Z"
   },
   {
    "duration": 54,
    "start_time": "2022-06-27T07:06:18.369Z"
   },
   {
    "duration": 18,
    "start_time": "2022-06-27T07:06:26.831Z"
   },
   {
    "duration": 10,
    "start_time": "2022-06-27T07:06:32.441Z"
   }
  ],
  "colab": {
   "name": "dpp_template_part2.ipynb",
   "provenance": []
  },
  "kernelspec": {
   "display_name": "Python 3 (ipykernel)",
   "language": "python",
   "name": "python3"
  },
  "language_info": {
   "codemirror_mode": {
    "name": "ipython",
    "version": 3
   },
   "file_extension": ".py",
   "mimetype": "text/x-python",
   "name": "python",
   "nbconvert_exporter": "python",
   "pygments_lexer": "ipython3",
   "version": "3.9.12"
  },
  "toc": {
   "base_numbering": 1,
   "nav_menu": {},
   "number_sections": true,
   "sideBar": true,
   "skip_h1_title": true,
   "title_cell": "Table of Contents",
   "title_sidebar": "Contents",
   "toc_cell": false,
   "toc_position": {},
   "toc_section_display": true,
   "toc_window_display": false
  }
 },
 "nbformat": 4,
 "nbformat_minor": 5
}
