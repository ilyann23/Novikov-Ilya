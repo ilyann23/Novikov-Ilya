{
 "cells": [
  {
   "cell_type": "markdown",
   "metadata": {},
   "source": [
    "# Stage 15"
   ]
  },
  {
   "cell_type": "markdown",
   "metadata": {},
   "source": [
    "Вы — аналитик крупного интернет-магазина. Вместе с отделом маркетинга вы подготовили список гипотез для увеличения выручки.\n",
    "Приоритизируйте гипотезы, запустите A/B-тест и проанализируйте результаты.\n"
   ]
  },
  {
   "cell_type": "markdown",
   "metadata": {},
   "source": [
    "Цель: Сравнить Группы А и Группы В. Сделать выводы об их идентичности или нет.\n",
    "\n",
    "Исходные данные:\n",
    "1. Таблица hypothesis. Сдержание:\n",
    "•\tHypothesis — краткое описание гипотезы;\n",
    "•\tReach — охват пользователей по 10-балльной шкале;\n",
    "•\tImpact — влияние на пользователей по 10-балльной шкале;\n",
    "•\tConfidence — уверенность в гипотезе по 10-балльной шкале;\n",
    "•\tEfforts — затраты ресурсов на проверку гипотезы по 10-балльной шкале. Чем больше значение Efforts, тем дороже проверка гипотезы.\n",
    "\n",
    "2. Таблица orders. Сдержание:\n",
    "•\ttransactionId — идентификатор заказа;\n",
    "•\tvisitorId — идентификатор пользователя, совершившего заказ;\n",
    "•\tdate — дата, когда был совершён заказ;\n",
    "•\trevenue — выручка заказа;\n",
    "•\tgroup — группа A/B-теста, в которую попал заказ.\n",
    "\n",
    "3. Таблица visitors. Сдержание:\n",
    "•\tdate — дата;\n",
    "•\tgroup — группа A/B-теста;\n",
    "•\tvisitors — количество пользователей в указанную дату в указанной группе A/B-теста\n",
    "\n"
   ]
  },
  {
   "cell_type": "code",
   "execution_count": 29,
   "metadata": {},
   "outputs": [],
   "source": [
    "# подготовка к работе. Загружаем библиотеки.\n",
    "import pandas as pd\n",
    "import datetime as dt\n",
    "import numpy as np\n",
    "import matplotlib.pyplot as plt\n",
    "import seaborn as sns\n",
    "from IPython.display import display\n",
    "import scipy.stats as stats\n",
    "from pandas.plotting import register_matplotlib_converters\n",
    "import warnings"
   ]
  },
  {
   "cell_type": "code",
   "execution_count": 30,
   "metadata": {},
   "outputs": [],
   "source": [
    "# загружаем исходные данные\n",
    "hypothesis = pd.read_csv('C:/Users/MaCSC LLC/datasets/hypothesis.csv')\n",
    "orders = pd.read_csv('C:/Users/MaCSC LLC/datasets/orders.csv')\n",
    "visitors = pd.read_csv('C:/Users/MaCSC LLC/datasets/visitors.csv')"
   ]
  },
  {
   "cell_type": "markdown",
   "metadata": {},
   "source": [
    "# Предобработка данных для анализа"
   ]
  },
  {
   "cell_type": "code",
   "execution_count": 31,
   "metadata": {},
   "outputs": [],
   "source": [
    "def my_data(data):\n",
    "    \n",
    "    print('_______________________________________________________________________')\n",
    "    print(' ')\n",
    "    display(data.head())\n",
    "    print(' ')\n",
    "    data.info()\n",
    "    print(' ')\n",
    "    print('Полных дубликатов: ',data.duplicated().sum())\n",
    "    print('Пропусков: ',data.isnull().sum())\n",
    "    print(' ')\n",
    "   "
   ]
  },
  {
   "cell_type": "code",
   "execution_count": 32,
   "metadata": {
    "scrolled": true
   },
   "outputs": [
    {
     "name": "stdout",
     "output_type": "stream",
     "text": [
      "Смотрим датафрейм hypothesis \n",
      "_______________________________________________________________________\n",
      " \n"
     ]
    },
    {
     "data": {
      "text/html": [
       "<div>\n",
       "<style scoped>\n",
       "    .dataframe tbody tr th:only-of-type {\n",
       "        vertical-align: middle;\n",
       "    }\n",
       "\n",
       "    .dataframe tbody tr th {\n",
       "        vertical-align: top;\n",
       "    }\n",
       "\n",
       "    .dataframe thead th {\n",
       "        text-align: right;\n",
       "    }\n",
       "</style>\n",
       "<table border=\"1\" class=\"dataframe\">\n",
       "  <thead>\n",
       "    <tr style=\"text-align: right;\">\n",
       "      <th></th>\n",
       "      <th>Hypothesis</th>\n",
       "      <th>Reach</th>\n",
       "      <th>Impact</th>\n",
       "      <th>Confidence</th>\n",
       "      <th>Efforts</th>\n",
       "    </tr>\n",
       "  </thead>\n",
       "  <tbody>\n",
       "    <tr>\n",
       "      <th>0</th>\n",
       "      <td>Добавить два новых канала привлечения трафика, что позволит привлекать на 30% больше пользователей</td>\n",
       "      <td>3</td>\n",
       "      <td>10</td>\n",
       "      <td>8</td>\n",
       "      <td>6</td>\n",
       "    </tr>\n",
       "    <tr>\n",
       "      <th>1</th>\n",
       "      <td>Запустить собственную службу доставки, что сократит срок доставки заказов</td>\n",
       "      <td>2</td>\n",
       "      <td>5</td>\n",
       "      <td>4</td>\n",
       "      <td>10</td>\n",
       "    </tr>\n",
       "    <tr>\n",
       "      <th>2</th>\n",
       "      <td>Добавить блоки рекомендаций товаров на сайт интернет магазина, чтобы повысить конверсию и средни...</td>\n",
       "      <td>8</td>\n",
       "      <td>3</td>\n",
       "      <td>7</td>\n",
       "      <td>3</td>\n",
       "    </tr>\n",
       "    <tr>\n",
       "      <th>3</th>\n",
       "      <td>Изменить структура категорий, что увеличит конверсию, т.к. пользователи быстрее найдут нужный товар</td>\n",
       "      <td>8</td>\n",
       "      <td>3</td>\n",
       "      <td>3</td>\n",
       "      <td>8</td>\n",
       "    </tr>\n",
       "    <tr>\n",
       "      <th>4</th>\n",
       "      <td>Изменить цвет фона главной страницы, чтобы увеличить вовлеченность пользователей</td>\n",
       "      <td>3</td>\n",
       "      <td>1</td>\n",
       "      <td>1</td>\n",
       "      <td>1</td>\n",
       "    </tr>\n",
       "  </tbody>\n",
       "</table>\n",
       "</div>"
      ],
      "text/plain": [
       "                                                                                            Hypothesis  \\\n",
       "0   Добавить два новых канала привлечения трафика, что позволит привлекать на 30% больше пользователей   \n",
       "1                            Запустить собственную службу доставки, что сократит срок доставки заказов   \n",
       "2  Добавить блоки рекомендаций товаров на сайт интернет магазина, чтобы повысить конверсию и средни...   \n",
       "3  Изменить структура категорий, что увеличит конверсию, т.к. пользователи быстрее найдут нужный товар   \n",
       "4                     Изменить цвет фона главной страницы, чтобы увеличить вовлеченность пользователей   \n",
       "\n",
       "   Reach  Impact  Confidence  Efforts  \n",
       "0      3      10           8        6  \n",
       "1      2       5           4       10  \n",
       "2      8       3           7        3  \n",
       "3      8       3           3        8  \n",
       "4      3       1           1        1  "
      ]
     },
     "metadata": {},
     "output_type": "display_data"
    },
    {
     "name": "stdout",
     "output_type": "stream",
     "text": [
      " \n",
      "<class 'pandas.core.frame.DataFrame'>\n",
      "RangeIndex: 9 entries, 0 to 8\n",
      "Data columns (total 5 columns):\n",
      " #   Column      Non-Null Count  Dtype \n",
      "---  ------      --------------  ----- \n",
      " 0   Hypothesis  9 non-null      object\n",
      " 1   Reach       9 non-null      int64 \n",
      " 2   Impact      9 non-null      int64 \n",
      " 3   Confidence  9 non-null      int64 \n",
      " 4   Efforts     9 non-null      int64 \n",
      "dtypes: int64(4), object(1)\n",
      "memory usage: 488.0+ bytes\n",
      " \n",
      "Полных дубликатов:  0\n",
      "Пропусков:  Hypothesis    0\n",
      "Reach         0\n",
      "Impact        0\n",
      "Confidence    0\n",
      "Efforts       0\n",
      "dtype: int64\n",
      " \n"
     ]
    }
   ],
   "source": [
    "print(f'Смотрим датафрейм hypothesis ')\n",
    "my_data(hypothesis)"
   ]
  },
  {
   "cell_type": "code",
   "execution_count": 33,
   "metadata": {},
   "outputs": [
    {
     "name": "stdout",
     "output_type": "stream",
     "text": [
      "Смотрим датафрейм orders\n",
      "_______________________________________________________________________\n",
      " \n"
     ]
    },
    {
     "data": {
      "text/html": [
       "<div>\n",
       "<style scoped>\n",
       "    .dataframe tbody tr th:only-of-type {\n",
       "        vertical-align: middle;\n",
       "    }\n",
       "\n",
       "    .dataframe tbody tr th {\n",
       "        vertical-align: top;\n",
       "    }\n",
       "\n",
       "    .dataframe thead th {\n",
       "        text-align: right;\n",
       "    }\n",
       "</style>\n",
       "<table border=\"1\" class=\"dataframe\">\n",
       "  <thead>\n",
       "    <tr style=\"text-align: right;\">\n",
       "      <th></th>\n",
       "      <th>transactionId</th>\n",
       "      <th>visitorId</th>\n",
       "      <th>date</th>\n",
       "      <th>revenue</th>\n",
       "      <th>group</th>\n",
       "    </tr>\n",
       "  </thead>\n",
       "  <tbody>\n",
       "    <tr>\n",
       "      <th>0</th>\n",
       "      <td>3667963787</td>\n",
       "      <td>3312258926</td>\n",
       "      <td>2019-08-15</td>\n",
       "      <td>1650</td>\n",
       "      <td>B</td>\n",
       "    </tr>\n",
       "    <tr>\n",
       "      <th>1</th>\n",
       "      <td>2804400009</td>\n",
       "      <td>3642806036</td>\n",
       "      <td>2019-08-15</td>\n",
       "      <td>730</td>\n",
       "      <td>B</td>\n",
       "    </tr>\n",
       "    <tr>\n",
       "      <th>2</th>\n",
       "      <td>2961555356</td>\n",
       "      <td>4069496402</td>\n",
       "      <td>2019-08-15</td>\n",
       "      <td>400</td>\n",
       "      <td>A</td>\n",
       "    </tr>\n",
       "    <tr>\n",
       "      <th>3</th>\n",
       "      <td>3797467345</td>\n",
       "      <td>1196621759</td>\n",
       "      <td>2019-08-15</td>\n",
       "      <td>9759</td>\n",
       "      <td>B</td>\n",
       "    </tr>\n",
       "    <tr>\n",
       "      <th>4</th>\n",
       "      <td>2282983706</td>\n",
       "      <td>2322279887</td>\n",
       "      <td>2019-08-15</td>\n",
       "      <td>2308</td>\n",
       "      <td>B</td>\n",
       "    </tr>\n",
       "  </tbody>\n",
       "</table>\n",
       "</div>"
      ],
      "text/plain": [
       "   transactionId   visitorId        date  revenue group\n",
       "0     3667963787  3312258926  2019-08-15     1650     B\n",
       "1     2804400009  3642806036  2019-08-15      730     B\n",
       "2     2961555356  4069496402  2019-08-15      400     A\n",
       "3     3797467345  1196621759  2019-08-15     9759     B\n",
       "4     2282983706  2322279887  2019-08-15     2308     B"
      ]
     },
     "metadata": {},
     "output_type": "display_data"
    },
    {
     "name": "stdout",
     "output_type": "stream",
     "text": [
      " \n",
      "<class 'pandas.core.frame.DataFrame'>\n",
      "RangeIndex: 1197 entries, 0 to 1196\n",
      "Data columns (total 5 columns):\n",
      " #   Column         Non-Null Count  Dtype \n",
      "---  ------         --------------  ----- \n",
      " 0   transactionId  1197 non-null   int64 \n",
      " 1   visitorId      1197 non-null   int64 \n",
      " 2   date           1197 non-null   object\n",
      " 3   revenue        1197 non-null   int64 \n",
      " 4   group          1197 non-null   object\n",
      "dtypes: int64(3), object(2)\n",
      "memory usage: 46.9+ KB\n",
      " \n",
      "Полных дубликатов:  0\n",
      "Пропусков:  transactionId    0\n",
      "visitorId        0\n",
      "date             0\n",
      "revenue          0\n",
      "group            0\n",
      "dtype: int64\n",
      " \n"
     ]
    }
   ],
   "source": [
    "print(f'Смотрим датафрейм orders')\n",
    "my_data(orders)"
   ]
  },
  {
   "cell_type": "code",
   "execution_count": 34,
   "metadata": {},
   "outputs": [
    {
     "name": "stdout",
     "output_type": "stream",
     "text": [
      "Смотрим датафрейм visitors\n",
      "_______________________________________________________________________\n",
      " \n"
     ]
    },
    {
     "data": {
      "text/html": [
       "<div>\n",
       "<style scoped>\n",
       "    .dataframe tbody tr th:only-of-type {\n",
       "        vertical-align: middle;\n",
       "    }\n",
       "\n",
       "    .dataframe tbody tr th {\n",
       "        vertical-align: top;\n",
       "    }\n",
       "\n",
       "    .dataframe thead th {\n",
       "        text-align: right;\n",
       "    }\n",
       "</style>\n",
       "<table border=\"1\" class=\"dataframe\">\n",
       "  <thead>\n",
       "    <tr style=\"text-align: right;\">\n",
       "      <th></th>\n",
       "      <th>date</th>\n",
       "      <th>group</th>\n",
       "      <th>visitors</th>\n",
       "    </tr>\n",
       "  </thead>\n",
       "  <tbody>\n",
       "    <tr>\n",
       "      <th>0</th>\n",
       "      <td>2019-08-01</td>\n",
       "      <td>A</td>\n",
       "      <td>719</td>\n",
       "    </tr>\n",
       "    <tr>\n",
       "      <th>1</th>\n",
       "      <td>2019-08-02</td>\n",
       "      <td>A</td>\n",
       "      <td>619</td>\n",
       "    </tr>\n",
       "    <tr>\n",
       "      <th>2</th>\n",
       "      <td>2019-08-03</td>\n",
       "      <td>A</td>\n",
       "      <td>507</td>\n",
       "    </tr>\n",
       "    <tr>\n",
       "      <th>3</th>\n",
       "      <td>2019-08-04</td>\n",
       "      <td>A</td>\n",
       "      <td>717</td>\n",
       "    </tr>\n",
       "    <tr>\n",
       "      <th>4</th>\n",
       "      <td>2019-08-05</td>\n",
       "      <td>A</td>\n",
       "      <td>756</td>\n",
       "    </tr>\n",
       "  </tbody>\n",
       "</table>\n",
       "</div>"
      ],
      "text/plain": [
       "         date group  visitors\n",
       "0  2019-08-01     A       719\n",
       "1  2019-08-02     A       619\n",
       "2  2019-08-03     A       507\n",
       "3  2019-08-04     A       717\n",
       "4  2019-08-05     A       756"
      ]
     },
     "metadata": {},
     "output_type": "display_data"
    },
    {
     "name": "stdout",
     "output_type": "stream",
     "text": [
      " \n",
      "<class 'pandas.core.frame.DataFrame'>\n",
      "RangeIndex: 62 entries, 0 to 61\n",
      "Data columns (total 3 columns):\n",
      " #   Column    Non-Null Count  Dtype \n",
      "---  ------    --------------  ----- \n",
      " 0   date      62 non-null     object\n",
      " 1   group     62 non-null     object\n",
      " 2   visitors  62 non-null     int64 \n",
      "dtypes: int64(1), object(2)\n",
      "memory usage: 1.6+ KB\n",
      " \n",
      "Полных дубликатов:  0\n",
      "Пропусков:  date        0\n",
      "group       0\n",
      "visitors    0\n",
      "dtype: int64\n",
      " \n"
     ]
    }
   ],
   "source": [
    "print(f'Смотрим датафрейм visitors')\n",
    "my_data(visitors)"
   ]
  },
  {
   "cell_type": "code",
   "execution_count": 35,
   "metadata": {},
   "outputs": [],
   "source": [
    "# поправим тип данных\n",
    "orders['date'] = pd.to_datetime(orders['date'])\n",
    "visitors['date'] = pd.to_datetime(visitors['date'])"
   ]
  },
  {
   "cell_type": "markdown",
   "metadata": {},
   "source": [
    "Все. Предобратотка завершена. Тип дат поправил, пропусков и явных дубликатов нет"
   ]
  },
  {
   "cell_type": "markdown",
   "metadata": {},
   "source": [
    "# Часть 1. Приоритизация гипотез"
   ]
  },
  {
   "cell_type": "raw",
   "metadata": {},
   "source": [
    "Задание:\n",
    "В файле /datasets/hypothesis.csv 9 гипотез по увеличению выручки интернет-магазина с указанными параметрами Reach, Impact, Confidence, Effort.\n",
    "Задача\n",
    "•\tПримените фреймворк ICE для приоритизации гипотез. Отсортируйте их по убыванию приоритета.\n",
    "•\tПримените фреймворк RICE для приоритизации гипотез. Отсортируйте их по убыванию приоритета.\n",
    "•\tУкажите, как изменилась приоритизация гипотез при применении RICE вместо ICE. Объясните, почему так произошло.\n"
   ]
  },
  {
   "cell_type": "markdown",
   "metadata": {},
   "source": [
    "1.1 Примените фреймворк ICE для приоритизации гипотез. Отсортируйте их по убыванию приоритета."
   ]
  },
  {
   "cell_type": "code",
   "execution_count": 36,
   "metadata": {},
   "outputs": [
    {
     "name": "stdout",
     "output_type": "stream",
     "text": [
      "Index(['Hypothesis', 'Reach', 'Impact', 'Confidence', 'Efforts'], dtype='object')\n"
     ]
    }
   ],
   "source": [
    "# посмотрим названия столбцов\n",
    "print (hypothesis.columns)"
   ]
  },
  {
   "cell_type": "code",
   "execution_count": 37,
   "metadata": {},
   "outputs": [
    {
     "name": "stderr",
     "output_type": "stream",
     "text": [
      "C:\\Users\\MaCSC LLC\\AppData\\Local\\Temp\\ipykernel_13684\\1117120570.py:6: FutureWarning: Passing a set as an indexer is deprecated and will raise in a future version. Use a list instead.\n",
      "  display(hypothesis[{'Hypothesis','ICE'}])\n"
     ]
    },
    {
     "data": {
      "text/html": [
       "<div>\n",
       "<style scoped>\n",
       "    .dataframe tbody tr th:only-of-type {\n",
       "        vertical-align: middle;\n",
       "    }\n",
       "\n",
       "    .dataframe tbody tr th {\n",
       "        vertical-align: top;\n",
       "    }\n",
       "\n",
       "    .dataframe thead th {\n",
       "        text-align: right;\n",
       "    }\n",
       "</style>\n",
       "<table border=\"1\" class=\"dataframe\">\n",
       "  <thead>\n",
       "    <tr style=\"text-align: right;\">\n",
       "      <th></th>\n",
       "      <th>ICE</th>\n",
       "      <th>Hypothesis</th>\n",
       "    </tr>\n",
       "  </thead>\n",
       "  <tbody>\n",
       "    <tr>\n",
       "      <th>8</th>\n",
       "      <td>16.20</td>\n",
       "      <td>Запустить акцию, дающую скидку на товар в день рождения</td>\n",
       "    </tr>\n",
       "    <tr>\n",
       "      <th>0</th>\n",
       "      <td>13.33</td>\n",
       "      <td>Добавить два новых канала привлечения трафика, что позволит привлекать на 30% больше пользователей</td>\n",
       "    </tr>\n",
       "    <tr>\n",
       "      <th>7</th>\n",
       "      <td>11.20</td>\n",
       "      <td>Добавить форму подписки на все основные страницы, чтобы собрать базу клиентов для email-рассылок</td>\n",
       "    </tr>\n",
       "    <tr>\n",
       "      <th>6</th>\n",
       "      <td>8.00</td>\n",
       "      <td>Показать на главной странице баннеры с актуальными акциями и распродажами, чтобы увеличить конве...</td>\n",
       "    </tr>\n",
       "    <tr>\n",
       "      <th>2</th>\n",
       "      <td>7.00</td>\n",
       "      <td>Добавить блоки рекомендаций товаров на сайт интернет магазина, чтобы повысить конверсию и средни...</td>\n",
       "    </tr>\n",
       "    <tr>\n",
       "      <th>1</th>\n",
       "      <td>2.00</td>\n",
       "      <td>Запустить собственную службу доставки, что сократит срок доставки заказов</td>\n",
       "    </tr>\n",
       "    <tr>\n",
       "      <th>5</th>\n",
       "      <td>1.33</td>\n",
       "      <td>Добавить страницу отзывов клиентов о магазине, что позволит увеличить количество заказов</td>\n",
       "    </tr>\n",
       "    <tr>\n",
       "      <th>3</th>\n",
       "      <td>1.12</td>\n",
       "      <td>Изменить структура категорий, что увеличит конверсию, т.к. пользователи быстрее найдут нужный товар</td>\n",
       "    </tr>\n",
       "    <tr>\n",
       "      <th>4</th>\n",
       "      <td>1.00</td>\n",
       "      <td>Изменить цвет фона главной страницы, чтобы увеличить вовлеченность пользователей</td>\n",
       "    </tr>\n",
       "  </tbody>\n",
       "</table>\n",
       "</div>"
      ],
      "text/plain": [
       "     ICE  \\\n",
       "8  16.20   \n",
       "0  13.33   \n",
       "7  11.20   \n",
       "6   8.00   \n",
       "2   7.00   \n",
       "1   2.00   \n",
       "5   1.33   \n",
       "3   1.12   \n",
       "4   1.00   \n",
       "\n",
       "                                                                                            Hypothesis  \n",
       "8                                              Запустить акцию, дающую скидку на товар в день рождения  \n",
       "0   Добавить два новых канала привлечения трафика, что позволит привлекать на 30% больше пользователей  \n",
       "7     Добавить форму подписки на все основные страницы, чтобы собрать базу клиентов для email-рассылок  \n",
       "6  Показать на главной странице баннеры с актуальными акциями и распродажами, чтобы увеличить конве...  \n",
       "2  Добавить блоки рекомендаций товаров на сайт интернет магазина, чтобы повысить конверсию и средни...  \n",
       "1                            Запустить собственную службу доставки, что сократит срок доставки заказов  \n",
       "5             Добавить страницу отзывов клиентов о магазине, что позволит увеличить количество заказов  \n",
       "3  Изменить структура категорий, что увеличит конверсию, т.к. пользователи быстрее найдут нужный товар  \n",
       "4                     Изменить цвет фона главной страницы, чтобы увеличить вовлеченность пользователей  "
      ]
     },
     "metadata": {},
     "output_type": "display_data"
    }
   ],
   "source": [
    "hypothesis['ICE'] = (hypothesis['Impact'] * hypothesis['Confidence']) / hypothesis['Efforts']\n",
    "hypothesis = hypothesis.sort_values(by='ICE', ascending = False)\n",
    "hypothesis['ICE'] = round((hypothesis['ICE']),2)\n",
    "hypothesis_ice = hypothesis.copy()\n",
    "pd.options.display.max_colwidth = 100\n",
    "display(hypothesis[{'Hypothesis','ICE'}])\n"
   ]
  },
  {
   "cell_type": "code",
   "execution_count": 38,
   "metadata": {},
   "outputs": [
    {
     "name": "stderr",
     "output_type": "stream",
     "text": [
      "C:\\Users\\MaCSC LLC\\AppData\\Local\\Temp\\ipykernel_13684\\3321983567.py:5: FutureWarning: Passing a set as an indexer is deprecated and will raise in a future version. Use a list instead.\n",
      "  display(hypothesis[{'Hypothesis','RICE'}])\n"
     ]
    },
    {
     "data": {
      "text/html": [
       "<div>\n",
       "<style scoped>\n",
       "    .dataframe tbody tr th:only-of-type {\n",
       "        vertical-align: middle;\n",
       "    }\n",
       "\n",
       "    .dataframe tbody tr th {\n",
       "        vertical-align: top;\n",
       "    }\n",
       "\n",
       "    .dataframe thead th {\n",
       "        text-align: right;\n",
       "    }\n",
       "</style>\n",
       "<table border=\"1\" class=\"dataframe\">\n",
       "  <thead>\n",
       "    <tr style=\"text-align: right;\">\n",
       "      <th></th>\n",
       "      <th>RICE</th>\n",
       "      <th>Hypothesis</th>\n",
       "    </tr>\n",
       "  </thead>\n",
       "  <tbody>\n",
       "    <tr>\n",
       "      <th>7</th>\n",
       "      <td>112.0</td>\n",
       "      <td>Добавить форму подписки на все основные страницы, чтобы собрать базу клиентов для email-рассылок</td>\n",
       "    </tr>\n",
       "    <tr>\n",
       "      <th>2</th>\n",
       "      <td>56.0</td>\n",
       "      <td>Добавить блоки рекомендаций товаров на сайт интернет магазина, чтобы повысить конверсию и средни...</td>\n",
       "    </tr>\n",
       "    <tr>\n",
       "      <th>0</th>\n",
       "      <td>40.0</td>\n",
       "      <td>Добавить два новых канала привлечения трафика, что позволит привлекать на 30% больше пользователей</td>\n",
       "    </tr>\n",
       "    <tr>\n",
       "      <th>6</th>\n",
       "      <td>40.0</td>\n",
       "      <td>Показать на главной странице баннеры с актуальными акциями и распродажами, чтобы увеличить конве...</td>\n",
       "    </tr>\n",
       "    <tr>\n",
       "      <th>8</th>\n",
       "      <td>16.2</td>\n",
       "      <td>Запустить акцию, дающую скидку на товар в день рождения</td>\n",
       "    </tr>\n",
       "    <tr>\n",
       "      <th>3</th>\n",
       "      <td>9.0</td>\n",
       "      <td>Изменить структура категорий, что увеличит конверсию, т.к. пользователи быстрее найдут нужный товар</td>\n",
       "    </tr>\n",
       "    <tr>\n",
       "      <th>1</th>\n",
       "      <td>4.0</td>\n",
       "      <td>Запустить собственную службу доставки, что сократит срок доставки заказов</td>\n",
       "    </tr>\n",
       "    <tr>\n",
       "      <th>5</th>\n",
       "      <td>4.0</td>\n",
       "      <td>Добавить страницу отзывов клиентов о магазине, что позволит увеличить количество заказов</td>\n",
       "    </tr>\n",
       "    <tr>\n",
       "      <th>4</th>\n",
       "      <td>3.0</td>\n",
       "      <td>Изменить цвет фона главной страницы, чтобы увеличить вовлеченность пользователей</td>\n",
       "    </tr>\n",
       "  </tbody>\n",
       "</table>\n",
       "</div>"
      ],
      "text/plain": [
       "    RICE  \\\n",
       "7  112.0   \n",
       "2   56.0   \n",
       "0   40.0   \n",
       "6   40.0   \n",
       "8   16.2   \n",
       "3    9.0   \n",
       "1    4.0   \n",
       "5    4.0   \n",
       "4    3.0   \n",
       "\n",
       "                                                                                            Hypothesis  \n",
       "7     Добавить форму подписки на все основные страницы, чтобы собрать базу клиентов для email-рассылок  \n",
       "2  Добавить блоки рекомендаций товаров на сайт интернет магазина, чтобы повысить конверсию и средни...  \n",
       "0   Добавить два новых канала привлечения трафика, что позволит привлекать на 30% больше пользователей  \n",
       "6  Показать на главной странице баннеры с актуальными акциями и распродажами, чтобы увеличить конве...  \n",
       "8                                              Запустить акцию, дающую скидку на товар в день рождения  \n",
       "3  Изменить структура категорий, что увеличит конверсию, т.к. пользователи быстрее найдут нужный товар  \n",
       "1                            Запустить собственную службу доставки, что сократит срок доставки заказов  \n",
       "5             Добавить страницу отзывов клиентов о магазине, что позволит увеличить количество заказов  \n",
       "4                     Изменить цвет фона главной страницы, чтобы увеличить вовлеченность пользователей  "
      ]
     },
     "metadata": {},
     "output_type": "display_data"
    }
   ],
   "source": [
    "hypothesis['RICE'] = (hypothesis['Reach']  *hypothesis['Impact'] * hypothesis['Confidence']) / hypothesis['Efforts']\n",
    "hypothesis = hypothesis.sort_values(by='RICE', ascending = False)\n",
    "hypothesis_rice = hypothesis.copy()\n",
    "hypothesis_rice.style.bar(subset=['A', 'B'], color='#d65f5f')\n",
    "display(hypothesis[{'Hypothesis','RICE'}])"
   ]
  },
  {
   "cell_type": "code",
   "execution_count": 39,
   "metadata": {},
   "outputs": [
    {
     "name": "stderr",
     "output_type": "stream",
     "text": [
      "C:\\Users\\MaCSC LLC\\AppData\\Local\\Temp\\ipykernel_13684\\1469551441.py:2: FutureWarning: Passing a set as an indexer is deprecated and will raise in a future version. Use a list instead.\n",
      "  display(hypothesis[{'Hypothesis','RICE','ICE'}])\n"
     ]
    },
    {
     "data": {
      "text/html": [
       "<div>\n",
       "<style scoped>\n",
       "    .dataframe tbody tr th:only-of-type {\n",
       "        vertical-align: middle;\n",
       "    }\n",
       "\n",
       "    .dataframe tbody tr th {\n",
       "        vertical-align: top;\n",
       "    }\n",
       "\n",
       "    .dataframe thead th {\n",
       "        text-align: right;\n",
       "    }\n",
       "</style>\n",
       "<table border=\"1\" class=\"dataframe\">\n",
       "  <thead>\n",
       "    <tr style=\"text-align: right;\">\n",
       "      <th></th>\n",
       "      <th>ICE</th>\n",
       "      <th>RICE</th>\n",
       "      <th>Hypothesis</th>\n",
       "    </tr>\n",
       "  </thead>\n",
       "  <tbody>\n",
       "    <tr>\n",
       "      <th>7</th>\n",
       "      <td>11.20</td>\n",
       "      <td>112.0</td>\n",
       "      <td>Добавить форму подписки на все основные страницы, чтобы собрать базу клиентов для email-рассылок</td>\n",
       "    </tr>\n",
       "    <tr>\n",
       "      <th>2</th>\n",
       "      <td>7.00</td>\n",
       "      <td>56.0</td>\n",
       "      <td>Добавить блоки рекомендаций товаров на сайт интернет магазина, чтобы повысить конверсию и средни...</td>\n",
       "    </tr>\n",
       "    <tr>\n",
       "      <th>0</th>\n",
       "      <td>13.33</td>\n",
       "      <td>40.0</td>\n",
       "      <td>Добавить два новых канала привлечения трафика, что позволит привлекать на 30% больше пользователей</td>\n",
       "    </tr>\n",
       "    <tr>\n",
       "      <th>6</th>\n",
       "      <td>8.00</td>\n",
       "      <td>40.0</td>\n",
       "      <td>Показать на главной странице баннеры с актуальными акциями и распродажами, чтобы увеличить конве...</td>\n",
       "    </tr>\n",
       "    <tr>\n",
       "      <th>8</th>\n",
       "      <td>16.20</td>\n",
       "      <td>16.2</td>\n",
       "      <td>Запустить акцию, дающую скидку на товар в день рождения</td>\n",
       "    </tr>\n",
       "    <tr>\n",
       "      <th>3</th>\n",
       "      <td>1.12</td>\n",
       "      <td>9.0</td>\n",
       "      <td>Изменить структура категорий, что увеличит конверсию, т.к. пользователи быстрее найдут нужный товар</td>\n",
       "    </tr>\n",
       "    <tr>\n",
       "      <th>1</th>\n",
       "      <td>2.00</td>\n",
       "      <td>4.0</td>\n",
       "      <td>Запустить собственную службу доставки, что сократит срок доставки заказов</td>\n",
       "    </tr>\n",
       "    <tr>\n",
       "      <th>5</th>\n",
       "      <td>1.33</td>\n",
       "      <td>4.0</td>\n",
       "      <td>Добавить страницу отзывов клиентов о магазине, что позволит увеличить количество заказов</td>\n",
       "    </tr>\n",
       "    <tr>\n",
       "      <th>4</th>\n",
       "      <td>1.00</td>\n",
       "      <td>3.0</td>\n",
       "      <td>Изменить цвет фона главной страницы, чтобы увеличить вовлеченность пользователей</td>\n",
       "    </tr>\n",
       "  </tbody>\n",
       "</table>\n",
       "</div>"
      ],
      "text/plain": [
       "     ICE   RICE  \\\n",
       "7  11.20  112.0   \n",
       "2   7.00   56.0   \n",
       "0  13.33   40.0   \n",
       "6   8.00   40.0   \n",
       "8  16.20   16.2   \n",
       "3   1.12    9.0   \n",
       "1   2.00    4.0   \n",
       "5   1.33    4.0   \n",
       "4   1.00    3.0   \n",
       "\n",
       "                                                                                            Hypothesis  \n",
       "7     Добавить форму подписки на все основные страницы, чтобы собрать базу клиентов для email-рассылок  \n",
       "2  Добавить блоки рекомендаций товаров на сайт интернет магазина, чтобы повысить конверсию и средни...  \n",
       "0   Добавить два новых канала привлечения трафика, что позволит привлекать на 30% больше пользователей  \n",
       "6  Показать на главной странице баннеры с актуальными акциями и распродажами, чтобы увеличить конве...  \n",
       "8                                              Запустить акцию, дающую скидку на товар в день рождения  \n",
       "3  Изменить структура категорий, что увеличит конверсию, т.к. пользователи быстрее найдут нужный товар  \n",
       "1                            Запустить собственную службу доставки, что сократит срок доставки заказов  \n",
       "5             Добавить страницу отзывов клиентов о магазине, что позволит увеличить количество заказов  \n",
       "4                     Изменить цвет фона главной страницы, чтобы увеличить вовлеченность пользователей  "
      ]
     },
     "metadata": {},
     "output_type": "display_data"
    }
   ],
   "source": [
    "#Если объеденить таблицы, то сравнивать значения будет проще\n",
    "display(hypothesis[{'Hypothesis','RICE','ICE'}])"
   ]
  },
  {
   "cell_type": "code",
   "execution_count": 40,
   "metadata": {},
   "outputs": [
    {
     "name": "stderr",
     "output_type": "stream",
     "text": [
      "C:\\Users\\MaCSC LLC\\AppData\\Local\\Temp\\ipykernel_13684\\1810523382.py:2: FutureWarning: Passing a set as an indexer is deprecated and will raise in a future version. Use a list instead.\n",
      "  display(hypothesis_ice[{'Hypothesis_ice','ICE'}].head())\n"
     ]
    },
    {
     "data": {
      "text/html": [
       "<div>\n",
       "<style scoped>\n",
       "    .dataframe tbody tr th:only-of-type {\n",
       "        vertical-align: middle;\n",
       "    }\n",
       "\n",
       "    .dataframe tbody tr th {\n",
       "        vertical-align: top;\n",
       "    }\n",
       "\n",
       "    .dataframe thead th {\n",
       "        text-align: right;\n",
       "    }\n",
       "</style>\n",
       "<table border=\"1\" class=\"dataframe\">\n",
       "  <thead>\n",
       "    <tr style=\"text-align: right;\">\n",
       "      <th></th>\n",
       "      <th>Hypothesis_ice</th>\n",
       "      <th>ICE</th>\n",
       "    </tr>\n",
       "  </thead>\n",
       "  <tbody>\n",
       "    <tr>\n",
       "      <th>8</th>\n",
       "      <td>Запустить акцию, дающую скидку на товар в день рождения</td>\n",
       "      <td>16.20</td>\n",
       "    </tr>\n",
       "    <tr>\n",
       "      <th>0</th>\n",
       "      <td>Добавить два новых канала привлечения трафика, что позволит привлекать на 30% больше пользователей</td>\n",
       "      <td>13.33</td>\n",
       "    </tr>\n",
       "    <tr>\n",
       "      <th>7</th>\n",
       "      <td>Добавить форму подписки на все основные страницы, чтобы собрать базу клиентов для email-рассылок</td>\n",
       "      <td>11.20</td>\n",
       "    </tr>\n",
       "    <tr>\n",
       "      <th>6</th>\n",
       "      <td>Показать на главной странице баннеры с актуальными акциями и распродажами, чтобы увеличить конве...</td>\n",
       "      <td>8.00</td>\n",
       "    </tr>\n",
       "    <tr>\n",
       "      <th>2</th>\n",
       "      <td>Добавить блоки рекомендаций товаров на сайт интернет магазина, чтобы повысить конверсию и средни...</td>\n",
       "      <td>7.00</td>\n",
       "    </tr>\n",
       "  </tbody>\n",
       "</table>\n",
       "</div>"
      ],
      "text/plain": [
       "                                                                                        Hypothesis_ice  \\\n",
       "8                                              Запустить акцию, дающую скидку на товар в день рождения   \n",
       "0   Добавить два новых канала привлечения трафика, что позволит привлекать на 30% больше пользователей   \n",
       "7     Добавить форму подписки на все основные страницы, чтобы собрать базу клиентов для email-рассылок   \n",
       "6  Показать на главной странице баннеры с актуальными акциями и распродажами, чтобы увеличить конве...   \n",
       "2  Добавить блоки рекомендаций товаров на сайт интернет магазина, чтобы повысить конверсию и средни...   \n",
       "\n",
       "     ICE  \n",
       "8  16.20  \n",
       "0  13.33  \n",
       "7  11.20  \n",
       "6   8.00  \n",
       "2   7.00  "
      ]
     },
     "metadata": {},
     "output_type": "display_data"
    },
    {
     "name": "stderr",
     "output_type": "stream",
     "text": [
      "C:\\Users\\MaCSC LLC\\AppData\\Local\\Temp\\ipykernel_13684\\1810523382.py:5: FutureWarning: Passing a set as an indexer is deprecated and will raise in a future version. Use a list instead.\n",
      "  display(hypothesis_rice[{'Hypothesis_rice','RICE'}].head())\n"
     ]
    },
    {
     "data": {
      "text/html": [
       "<div>\n",
       "<style scoped>\n",
       "    .dataframe tbody tr th:only-of-type {\n",
       "        vertical-align: middle;\n",
       "    }\n",
       "\n",
       "    .dataframe tbody tr th {\n",
       "        vertical-align: top;\n",
       "    }\n",
       "\n",
       "    .dataframe thead th {\n",
       "        text-align: right;\n",
       "    }\n",
       "</style>\n",
       "<table border=\"1\" class=\"dataframe\">\n",
       "  <thead>\n",
       "    <tr style=\"text-align: right;\">\n",
       "      <th></th>\n",
       "      <th>Hypothesis_rice</th>\n",
       "      <th>RICE</th>\n",
       "    </tr>\n",
       "  </thead>\n",
       "  <tbody>\n",
       "    <tr>\n",
       "      <th>7</th>\n",
       "      <td>Добавить форму подписки на все основные страницы, чтобы собрать базу клиентов для email-рассылок</td>\n",
       "      <td>112.0</td>\n",
       "    </tr>\n",
       "    <tr>\n",
       "      <th>2</th>\n",
       "      <td>Добавить блоки рекомендаций товаров на сайт интернет магазина, чтобы повысить конверсию и средни...</td>\n",
       "      <td>56.0</td>\n",
       "    </tr>\n",
       "    <tr>\n",
       "      <th>0</th>\n",
       "      <td>Добавить два новых канала привлечения трафика, что позволит привлекать на 30% больше пользователей</td>\n",
       "      <td>40.0</td>\n",
       "    </tr>\n",
       "    <tr>\n",
       "      <th>6</th>\n",
       "      <td>Показать на главной странице баннеры с актуальными акциями и распродажами, чтобы увеличить конве...</td>\n",
       "      <td>40.0</td>\n",
       "    </tr>\n",
       "    <tr>\n",
       "      <th>8</th>\n",
       "      <td>Запустить акцию, дающую скидку на товар в день рождения</td>\n",
       "      <td>16.2</td>\n",
       "    </tr>\n",
       "  </tbody>\n",
       "</table>\n",
       "</div>"
      ],
      "text/plain": [
       "                                                                                       Hypothesis_rice  \\\n",
       "7     Добавить форму подписки на все основные страницы, чтобы собрать базу клиентов для email-рассылок   \n",
       "2  Добавить блоки рекомендаций товаров на сайт интернет магазина, чтобы повысить конверсию и средни...   \n",
       "0   Добавить два новых канала привлечения трафика, что позволит привлекать на 30% больше пользователей   \n",
       "6  Показать на главной странице баннеры с актуальными акциями и распродажами, чтобы увеличить конве...   \n",
       "8                                              Запустить акцию, дающую скидку на товар в день рождения   \n",
       "\n",
       "    RICE  \n",
       "7  112.0  \n",
       "2   56.0  \n",
       "0   40.0  \n",
       "6   40.0  \n",
       "8   16.2  "
      ]
     },
     "metadata": {},
     "output_type": "display_data"
    },
    {
     "name": "stdout",
     "output_type": "stream",
     "text": [
      "\n",
      "\n",
      "Cравниваем ICE и RICE\n",
      "______________________________________________________________________________________________________________ \n"
     ]
    },
    {
     "name": "stderr",
     "output_type": "stream",
     "text": [
      "C:\\Users\\MaCSC LLC\\AppData\\Local\\Temp\\ipykernel_13684\\1810523382.py:15: FutureWarning: Passing a set as an indexer is deprecated and will raise in a future version. Use a list instead.\n",
      "  display(hypothesis_ice[{'Hypothesis_ice','Hypothesis_rice' }].head())\n"
     ]
    },
    {
     "data": {
      "text/html": [
       "<div>\n",
       "<style scoped>\n",
       "    .dataframe tbody tr th:only-of-type {\n",
       "        vertical-align: middle;\n",
       "    }\n",
       "\n",
       "    .dataframe tbody tr th {\n",
       "        vertical-align: top;\n",
       "    }\n",
       "\n",
       "    .dataframe thead th {\n",
       "        text-align: right;\n",
       "    }\n",
       "</style>\n",
       "<table border=\"1\" class=\"dataframe\">\n",
       "  <thead>\n",
       "    <tr style=\"text-align: right;\">\n",
       "      <th></th>\n",
       "      <th>Hypothesis_rice</th>\n",
       "      <th>Hypothesis_ice</th>\n",
       "    </tr>\n",
       "  </thead>\n",
       "  <tbody>\n",
       "    <tr>\n",
       "      <th>8</th>\n",
       "      <td>Добавить форму подписки на все основные страницы, чтобы собрать базу клиентов для email-рассылок</td>\n",
       "      <td>Запустить акцию, дающую скидку на товар в день рождения</td>\n",
       "    </tr>\n",
       "    <tr>\n",
       "      <th>0</th>\n",
       "      <td>Добавить блоки рекомендаций товаров на сайт интернет магазина, чтобы повысить конверсию и средни...</td>\n",
       "      <td>Добавить два новых канала привлечения трафика, что позволит привлекать на 30% больше пользователей</td>\n",
       "    </tr>\n",
       "    <tr>\n",
       "      <th>7</th>\n",
       "      <td>Добавить два новых канала привлечения трафика, что позволит привлекать на 30% больше пользователей</td>\n",
       "      <td>Добавить форму подписки на все основные страницы, чтобы собрать базу клиентов для email-рассылок</td>\n",
       "    </tr>\n",
       "    <tr>\n",
       "      <th>6</th>\n",
       "      <td>Показать на главной странице баннеры с актуальными акциями и распродажами, чтобы увеличить конве...</td>\n",
       "      <td>Показать на главной странице баннеры с актуальными акциями и распродажами, чтобы увеличить конве...</td>\n",
       "    </tr>\n",
       "    <tr>\n",
       "      <th>2</th>\n",
       "      <td>Запустить акцию, дающую скидку на товар в день рождения</td>\n",
       "      <td>Добавить блоки рекомендаций товаров на сайт интернет магазина, чтобы повысить конверсию и средни...</td>\n",
       "    </tr>\n",
       "  </tbody>\n",
       "</table>\n",
       "</div>"
      ],
      "text/plain": [
       "                                                                                       Hypothesis_rice  \\\n",
       "8     Добавить форму подписки на все основные страницы, чтобы собрать базу клиентов для email-рассылок   \n",
       "0  Добавить блоки рекомендаций товаров на сайт интернет магазина, чтобы повысить конверсию и средни...   \n",
       "7   Добавить два новых канала привлечения трафика, что позволит привлекать на 30% больше пользователей   \n",
       "6  Показать на главной странице баннеры с актуальными акциями и распродажами, чтобы увеличить конве...   \n",
       "2                                              Запустить акцию, дающую скидку на товар в день рождения   \n",
       "\n",
       "                                                                                        Hypothesis_ice  \n",
       "8                                              Запустить акцию, дающую скидку на товар в день рождения  \n",
       "0   Добавить два новых канала привлечения трафика, что позволит привлекать на 30% больше пользователей  \n",
       "7     Добавить форму подписки на все основные страницы, чтобы собрать базу клиентов для email-рассылок  \n",
       "6  Показать на главной странице баннеры с актуальными акциями и распродажами, чтобы увеличить конве...  \n",
       "2  Добавить блоки рекомендаций товаров на сайт интернет магазина, чтобы повысить конверсию и средни...  "
      ]
     },
     "metadata": {},
     "output_type": "display_data"
    }
   ],
   "source": [
    "hypothesis_ice = hypothesis_ice.rename(columns={'Hypothesis': 'Hypothesis_ice'})\n",
    "display(hypothesis_ice[{'Hypothesis_ice','ICE'}].head())\n",
    "\n",
    "hypothesis_rice = hypothesis_rice.rename(columns={'Hypothesis': 'Hypothesis_rice'})\n",
    "display(hypothesis_rice[{'Hypothesis_rice','RICE'}].head())\n",
    "\n",
    "print()\n",
    "print()\n",
    "print ('Cравниваем ICE и RICE')\n",
    "print ('______________________________________________________________________________________________________________ ')\n",
    "\n",
    "hypothesis_ice['Hypothesis_rice'] = hypothesis_rice['Hypothesis_rice'].to_list() \n",
    "\n",
    "\n",
    "display(hypothesis_ice[{'Hypothesis_ice','Hypothesis_rice' }].head())\n",
    "\n"
   ]
  },
  {
   "cell_type": "markdown",
   "metadata": {},
   "source": [
    "Выводы: Результыты разные. Из 5 первых лидеров первой тиблицы, во второй есть только 2. Это гипотеха с номером 6,7 и 8 гипотеза, но в другом порядке. Необъодимо продолжить исследование."
   ]
  },
  {
   "cell_type": "markdown",
   "metadata": {},
   "source": [
    "# Часть 2. Анализ A/B-теста"
   ]
  },
  {
   "cell_type": "markdown",
   "metadata": {},
   "source": [
    "Работаем с данными таблицы orders и visitors. Предобратока была проведена ранее\n",
    "\n",
    "Проанализируйте A/B-тест:\n",
    "\n",
    "\n",
    "1.\tПостройте график кумулятивной выручки по группам. Сделайте выводы и предположения.\n",
    "2.\tПостройте график кумулятивного среднего чека по группам. Сделайте выводы и предположения.\n",
    "3.\tПостройте график относительного изменения кумулятивного среднего чека группы B к группе A. Сделайте выводы и предположения.\n",
    "4.\tПостройте график кумулятивной конверсии по группам. Сделайте выводы и предположения.\n",
    "5.\tПостройте график относительного изменения кумулятивной конверсии группы B к группе A. Сделайте выводы и предположения.\n",
    "6.\tПостройте точечный график количества заказов по пользователям. Сделайте выводы и предположения.\n",
    "7.\tПосчитайте 95-й и 99-й перцентили количества заказов на пользователя. Выберите границу для определения аномальных пользователей.\n",
    "8.\tПостройте точечный график стоимостей заказов. Сделайте выводы и предположения.\n",
    "9.\tПосчитайте 95-й и 99-й перцентили стоимости заказов. Выберите границу для определения аномальных заказов.\n",
    "10.\tПосчитайте статистическую значимость различий в конверсии между группами по «сырым» данным. Сделайте выводы и предположения.\n",
    "11.\tПосчитайте статистическую значимость различий в среднем чеке заказа между группами по «сырым» данным. Сделайте выводы и предположения.\n",
    "12.\tПосчитайте статистическую значимость различий в конверсии между группами по «очищенным» данным. Сделайте выводы и предположения.\n",
    "13.\tПосчитайте статистическую значимость различий в среднем чеке заказа между группами по «очищенным» данным. Сделайте выводы и предположения.\n",
    "14.\tПримите решение по результатам теста и объясните его. Варианты решений: 1. Остановить тест, зафиксировать победу одной из групп. 2. Остановить тест, зафиксировать отсутствие различий между группами. 3. Продолжить тест.\n"
   ]
  },
  {
   "cell_type": "markdown",
   "metadata": {},
   "source": [
    "2.1 Постройте график кумулятивной выручки по группам. Сделайте выводы и предположения."
   ]
  },
  {
   "cell_type": "markdown",
   "metadata": {},
   "source": [
    "возьмем код из тренажера. Для полного соответствия, переименуем столбцы таблицы orders в соответствии с кодом тренажера. Столбы таблицы visitы переименовывать не надо"
   ]
  },
  {
   "cell_type": "code",
   "execution_count": 41,
   "metadata": {},
   "outputs": [
    {
     "name": "stdout",
     "output_type": "stream",
     "text": [
      "<class 'pandas.core.frame.DataFrame'>\n",
      "RangeIndex: 1197 entries, 0 to 1196\n",
      "Data columns (total 5 columns):\n",
      " #   Column   Non-Null Count  Dtype         \n",
      "---  ------   --------------  -----         \n",
      " 0   orderId  1197 non-null   int64         \n",
      " 1   userId   1197 non-null   int64         \n",
      " 2   date     1197 non-null   datetime64[ns]\n",
      " 3   revenue  1197 non-null   int64         \n",
      " 4   group    1197 non-null   object        \n",
      "dtypes: datetime64[ns](1), int64(3), object(1)\n",
      "memory usage: 46.9+ KB\n",
      "None\n"
     ]
    }
   ],
   "source": [
    "# переимевываем столбцы\n",
    "orders.columns =['orderId', 'userId', 'date', 'revenue', 'group']\n",
    "print(orders.info())\n"
   ]
  },
  {
   "cell_type": "code",
   "execution_count": 42,
   "metadata": {},
   "outputs": [
    {
     "data": {
      "image/png": "[encoded data removed]",
      "text/plain": [
       "<Figure size 864x432 with 1 Axes>"
      ]
     },
     "metadata": {
      "needs_background": "light"
     },
     "output_type": "display_data"
    }
   ],
   "source": [
    "# конвертеры, которые позволяют использовать типы pandas в matplotlib  \n",
    "register_matplotlib_converters()\n",
    "\n",
    "\n",
    "datesGroups = orders[['date', 'group']].drop_duplicates()\n",
    "\n",
    "ordersAggregated = datesGroups.apply(\n",
    "    lambda x: orders[\n",
    "        np.logical_and(\n",
    "            orders['date'] <= x['date'], orders['group'] == x['group']\n",
    "        )\n",
    "    ].agg(\n",
    "        {\n",
    "            'date': 'max',\n",
    "            'group': 'max',\n",
    "            'orderId': 'nunique',\n",
    "            'userId': 'nunique',\n",
    "            'revenue': 'sum',\n",
    "        }\n",
    "    ),\n",
    "    axis=1,\n",
    ").sort_values(by=['date', 'group'])\n",
    "\n",
    "visitorsAggregated = datesGroups.apply(\n",
    "    lambda x: visitors[\n",
    "        np.logical_and(\n",
    "            visitors['date'] <= x['date'], visitors['group'] == x['group']\n",
    "        )\n",
    "    ].agg({'date': 'max', 'group': 'max', 'visitors': 'sum'}),\n",
    "    axis=1,\n",
    ").sort_values(by=['date', 'group'])\n",
    "\n",
    "cumulativeData = ordersAggregated.merge(\n",
    "    visitorsAggregated, left_on=['date', 'group'], right_on=['date', 'group']\n",
    ")\n",
    "cumulativeData.columns = [\n",
    "    'date',\n",
    "    'group',\n",
    "    'orders',\n",
    "    'buyers',\n",
    "    'revenue',\n",
    "    'visitors',\n",
    "]\n",
    "\n",
    "# датафрейм с кумулятивным количеством заказов и кумулятивной выручкой по дням в группе А\n",
    "cumulativeRevenueA = cumulativeData[cumulativeData['group']=='A'][['date','revenue', 'orders']]\n",
    "# датафрейм с кумулятивным количеством заказов и кумулятивной выручкой по дням в группе B\n",
    "cumulativeRevenueB = cumulativeData[cumulativeData['group']=='B'][['date','revenue', 'orders']]\n",
    "plt.figure(figsize=(12,6))\n",
    "# Строим график выручки группы А\n",
    "plt.plot(cumulativeRevenueA['date'], cumulativeRevenueA['revenue'], label='Кумулятивная выручка группы A')\n",
    "\n",
    "# Строим график выручки группы B\n",
    "plt.plot(cumulativeRevenueB['date'], cumulativeRevenueB['revenue'], label='Кумулятивная выручка группы В')\n",
    "plt.title('График кумулятивной выручки по группам')\n",
    "plt.grid()\n",
    "plt.legend()\n",
    "plt.show()\n"
   ]
  },
  {
   "cell_type": "markdown",
   "metadata": {},
   "source": [
    "Выводы: Группа В растет быстрее, но в районе 18-19 авгута возможна какая-то аномалия, и у группы В резко выросла кумулятивная выручка."
   ]
  },
  {
   "cell_type": "markdown",
   "metadata": {},
   "source": [
    "2.2\tПостройте график кумулятивного среднего чека по группам. Сделайте выводы и предположения."
   ]
  },
  {
   "cell_type": "code",
   "execution_count": 43,
   "metadata": {},
   "outputs": [
    {
     "data": {
      "image/png": "[encoded data removed]",
      "text/plain": [
       "<Figure size 864x432 with 1 Axes>"
      ]
     },
     "metadata": {
      "needs_background": "light"
     },
     "output_type": "display_data"
    }
   ],
   "source": [
    "# возьмем код из тренажера ))\n",
    "\n",
    "# конвертеры, которые позволяют использовать типы pandas в matplotlib \n",
    "register_matplotlib_converters()\n",
    "\n",
    "datesGroups = orders[['date', 'group']].drop_duplicates()\n",
    "\n",
    "ordersAggregated = datesGroups.apply(\n",
    "    lambda x: orders[\n",
    "        np.logical_and(\n",
    "            orders['date'] <= x['date'], orders['group'] == x['group']\n",
    "        )\n",
    "    ].agg(\n",
    "        {\n",
    "            'date': 'max',\n",
    "            'group': 'max',\n",
    "            'orderId': 'nunique',\n",
    "            'userId': 'nunique',\n",
    "            'revenue': 'sum',\n",
    "        }\n",
    "    ),\n",
    "    axis=1,\n",
    ").sort_values(by=['date', 'group'])\n",
    "\n",
    "visitorsAggregated = datesGroups.apply(\n",
    "    lambda x: visitors[\n",
    "        np.logical_and(\n",
    "            visitors['date'] <= x['date'], visitors['group'] == x['group']\n",
    "        )\n",
    "    ].agg({'date': 'max', 'group': 'max', 'visitors': 'sum'}),\n",
    "    axis=1,\n",
    ").sort_values(by=['date', 'group'])\n",
    "\n",
    "cumulativeData = ordersAggregated.merge(\n",
    "    visitorsAggregated, left_on=['date', 'group'], right_on=['date', 'group']\n",
    ")\n",
    "cumulativeData.columns = [\n",
    "    'date',\n",
    "    'group',\n",
    "    'orders',\n",
    "    'buyers',\n",
    "    'revenue',\n",
    "    'visitors',\n",
    "]\n",
    "\n",
    "cumulativeRevenueA = cumulativeData[cumulativeData['group'] == 'A'][\n",
    "    ['date', 'revenue', 'orders']\n",
    "]\n",
    "cumulativeRevenueB = cumulativeData[cumulativeData['group'] == 'B'][\n",
    "    ['date', 'revenue', 'orders']\n",
    "]\n",
    "plt.figure(figsize=(12,6))\n",
    "plt.grid()\n",
    "plt.title('Средний кумулятивный чек по группам')\n",
    "plt.plot(cumulativeRevenueA['date'], cumulativeRevenueA['revenue']/cumulativeRevenueA['orders'], label='Cредний кумулятивный чек группы A')\n",
    "plt.plot(cumulativeRevenueB['date'], cumulativeRevenueB['revenue']/cumulativeRevenueB['orders'], label='Cредний кумулятивный чек группы B')\n",
    "plt.legend() \n",
    "plt.show()"
   ]
  },
  {
   "cell_type": "markdown",
   "metadata": {},
   "source": [
    "Вывод: Здесь также виден аномальный скачек среднего кумулятивного чека группы В в районе 18-20 августа. "
   ]
  },
  {
   "cell_type": "markdown",
   "metadata": {},
   "source": [
    "2.3\tПостройте график относительного изменения кумулятивного среднего чека группы B к группе A. Сделайте выводы и предположения."
   ]
  },
  {
   "cell_type": "code",
   "execution_count": 44,
   "metadata": {},
   "outputs": [
    {
     "data": {
      "image/png": "[encoded data removed]",
      "text/plain": [
       "<Figure size 864x432 with 1 Axes>"
      ]
     },
     "metadata": {
      "needs_background": "light"
     },
     "output_type": "display_data"
    }
   ],
   "source": [
    "# конвертеры, которые позволяют использовать типы pandas в matplotlib  \n",
    "\n",
    "mergedCumulativeRevenue = cumulativeRevenueA.merge(cumulativeRevenueB, left_on='date', right_on='date', how='left', suffixes=['A', 'B'])\n",
    "\n",
    "plt.figure(figsize=(12,6))\n",
    "plt.grid()\n",
    "plt.plot(mergedCumulativeRevenue['date'], (mergedCumulativeRevenue['revenueB']/mergedCumulativeRevenue['ordersB'])/ \\\n",
    "         (mergedCumulativeRevenue['revenueA']/mergedCumulativeRevenue['ordersA'])-1)\n",
    "plt.title('Относительное изменение кумулятивного среднего чека группы В к Группе А')\n",
    "plt.axhline(y=0, color='black', linestyle='--') ;\n",
    "\n",
    "plt.show()"
   ]
  },
  {
   "cell_type": "markdown",
   "metadata": {},
   "source": [
    "Выводы: Средний кумулятивный чек группы В растет быстрее, за исключением 1 и 13 августа. После 20 августа, чек Группы В начинает постеменное снижение к Группе А. Однако на графике отчетвило видно, что средний кумялятивный чек Группы В явно выигрывает кумулятивному чеку группы А"
   ]
  },
  {
   "cell_type": "markdown",
   "metadata": {},
   "source": [
    "2.4 Постройте график кумулятивной конверсии по группам. Сделайте выводы и предположения."
   ]
  },
  {
   "cell_type": "markdown",
   "metadata": {},
   "source": [
    "Итак, продолжаем блуждания в дебрях аналитики"
   ]
  },
  {
   "cell_type": "code",
   "execution_count": 45,
   "metadata": {},
   "outputs": [
    {
     "data": {
      "image/png": "[encoded data removed]",
      "text/plain": [
       "<Figure size 864x432 with 1 Axes>"
      ]
     },
     "metadata": {
      "needs_background": "light"
     },
     "output_type": "display_data"
    }
   ],
   "source": [
    "register_matplotlib_converters()\n",
    "\n",
    "datesGroups = orders[['date', 'group']].drop_duplicates()\n",
    "\n",
    "ordersAggregated = datesGroups.apply(\n",
    "    lambda x: orders[\n",
    "        np.logical_and(\n",
    "            orders['date'] <= x['date'], orders['group'] == x['group']\n",
    "        )\n",
    "    ].agg(\n",
    "        {\n",
    "            'date': 'max',\n",
    "            'group': 'max',\n",
    "            'orderId': 'nunique',\n",
    "            'userId': 'nunique',\n",
    "            'revenue': 'sum',\n",
    "        }\n",
    "    ),\n",
    "    axis=1,\n",
    ").sort_values(by=['date', 'group'])\n",
    "\n",
    "visitorsAggregated = datesGroups.apply(\n",
    "    lambda x: visitors[\n",
    "        np.logical_and(\n",
    "            visitors['date'] <= x['date'], visitors['group'] == x['group']\n",
    "        )\n",
    "    ].agg({'date': 'max', 'group': 'max', 'visitors': 'sum'}),\n",
    "    axis=1,\n",
    ").sort_values(by=['date', 'group'])\n",
    "\n",
    "cumulativeData = ordersAggregated.merge(\n",
    "    visitorsAggregated, left_on=['date', 'group'], right_on=['date', 'group']\n",
    ")\n",
    "cumulativeData.columns = [\n",
    "    'date',\n",
    "    'group',\n",
    "    'orders',\n",
    "    'buyers',\n",
    "    'revenue',\n",
    "    'visitors',\n",
    "]\n",
    "\n",
    "# считаем кумулятивную конверсию\n",
    "cumulativeData['conversion'] = cumulativeData['orders']/cumulativeData['visitors']\n",
    "\n",
    "# отделяем данные по группе A\n",
    "cumulativeDataA = cumulativeData[cumulativeData['group']=='A']\n",
    "\n",
    "# отделяем данные по группе B\n",
    "cumulativeDataB = cumulativeData[cumulativeData['group']=='B']\n",
    "plt.figure(figsize=(12,6))\n",
    "# строим графики\n",
    "plt.plot(cumulativeDataA['date'], cumulativeDataA['conversion'], label='Кумулятивноя конверсия по дням группа A')\n",
    "plt.plot(cumulativeDataB['date'], cumulativeDataB['conversion'], label='Кумулятивная конверсия по дням группа B')\n",
    "plt.title('График кумулятивной конверсии по дням по группамм')\n",
    "plt.grid()\n",
    "plt.legend() \n",
    "plt.show()\n",
    "# задаем масштаб осей\n",
    "#plt.axis([dt.datetime(2019, 3, 10), dt.datetime(2019, 4, 23), 0, 0.05]) - это из тренажера"
   ]
  },
  {
   "cell_type": "markdown",
   "metadata": {},
   "source": [
    "Вывод: Не считая первых 6 дней августа, конверсия группы В лучше чем у группы А. Причем после 10 августа, конверсия группы В немного снижается, а вот конверсия группа А хоть и ниже, но стабильна.  "
   ]
  },
  {
   "cell_type": "markdown",
   "metadata": {},
   "source": [
    "2.5 Постройте график относительного изменения кумулятивной конверсии группы B к группе A. Сделайте выводы и предположения."
   ]
  },
  {
   "cell_type": "code",
   "execution_count": 46,
   "metadata": {},
   "outputs": [
    {
     "data": {
      "image/png": "[encoded data removed]",
      "text/plain": [
       "<Figure size 864x432 with 1 Axes>"
      ]
     },
     "metadata": {
      "needs_background": "light"
     },
     "output_type": "display_data"
    }
   ],
   "source": [
    "datesGroups = orders[['date', 'group']].drop_duplicates()\n",
    "\n",
    "ordersAggregated = datesGroups.apply(\n",
    "    lambda x: orders[\n",
    "        np.logical_and(\n",
    "            orders['date'] <= x['date'], orders['group'] == x['group']\n",
    "        )\n",
    "    ].agg(\n",
    "        {\n",
    "            'date': 'max',\n",
    "            'group': 'max',\n",
    "            'orderId': 'nunique',\n",
    "            'userId': 'nunique',\n",
    "            'revenue': 'sum',\n",
    "        }\n",
    "    ),\n",
    "    axis=1,\n",
    ").sort_values(by=['date', 'group'])\n",
    "\n",
    "visitorsAggregated = datesGroups.apply(\n",
    "    lambda x: visitors[\n",
    "        np.logical_and(\n",
    "            visitors['date'] <= x['date'], visitors['group'] == x['group']\n",
    "        )\n",
    "    ].agg({'date': 'max', 'group': 'max', 'visitors': 'sum'}),\n",
    "    axis=1,\n",
    ").sort_values(by=['date', 'group'])\n",
    "\n",
    "cumulativeData = ordersAggregated.merge(\n",
    "    visitorsAggregated, left_on=['date', 'group'], right_on=['date', 'group']\n",
    ")\n",
    "cumulativeData.columns = [\n",
    "    'date',\n",
    "    'group',\n",
    "    'orders',\n",
    "    'buyers',\n",
    "    'revenue',\n",
    "    'visitors',\n",
    "]\n",
    "\n",
    "cumulativeData['conversion'] = (\n",
    "    cumulativeData['orders'] / cumulativeData['visitors']\n",
    ")\n",
    "\n",
    "cumulativeDataA = cumulativeData[cumulativeData['group'] == 'A']\n",
    "cumulativeDataB = cumulativeData[cumulativeData['group'] == 'B']\n",
    "\n",
    "mergedCumulativeConversions = cumulativeDataA[['date','conversion']].merge(cumulativeDataB[['date','conversion']], left_on='date', right_on='date', how='left', suffixes=['A', 'B'])\n",
    "plt.figure(figsize=(12,6))\n",
    "plt.plot(mergedCumulativeConversions['date'], mergedCumulativeConversions['conversionB']/mergedCumulativeConversions['conversionA']-1, label=\"Относительный прирост конверсии группы B относительно группы A\")\n",
    "plt.legend()\n",
    "plt.axhline(y=0, color='green', linestyle='--')\n",
    "plt.axhline(y=0.2, color='grey', linestyle='--')\n",
    "plt.grid()\n",
    "plt.show()\n",
    "\n"
   ]
  },
  {
   "cell_type": "markdown",
   "metadata": {},
   "source": [
    "Выводы. Тут такжи виден резкий рост конверсии группы В в первую неделю августа, и с 6 августа конверсия группы В выше чем у группы А. 15-17 августа, прирост конверсии группы В был самый большой (это был пик), а дальше началось небольное и плавное снижение"
   ]
  },
  {
   "cell_type": "markdown",
   "metadata": {},
   "source": [
    "6.1 Постройте точечный график количества заказов по пользователям. Сделайте выводы и предположения."
   ]
  },
  {
   "cell_type": "code",
   "execution_count": 47,
   "metadata": {},
   "outputs": [
    {
     "name": "stdout",
     "output_type": "stream",
     "text": [
      "          userId  orders\n",
      "1023  4256040402      11\n",
      "591   2458001652      11\n",
      "569   2378935119       9\n",
      "487   2038680547       8\n",
      "44     199603092       5\n",
      "744   3062433592       5\n",
      "55     237748145       5\n",
      "917   3803269165       5\n",
      "299   1230306981       5\n",
      "897   3717692402       5\n"
     ]
    },
    {
     "data": {
      "image/png": "[encoded data removed]",
      "text/plain": [
       "<Figure size 864x432 with 1 Axes>"
      ]
     },
     "metadata": {
      "needs_background": "light"
     },
     "output_type": "display_data"
    }
   ],
   "source": [
    "ordersByUsers = (\n",
    "    orders.groupby('userId', as_index=False)\n",
    "    .agg({'orderId': 'nunique'})\n",
    ")\n",
    "ordersByUsers.columns = ['userId', 'orders']\n",
    "\n",
    "print(ordersByUsers.sort_values(by='orders', ascending=False).head(10))\n",
    "plt.figure(figsize=(12,6))\n",
    "plt.grid()\n",
    "plt.title('График количества заказов по пользователям')\n",
    "# серия из чисел от 0 до количества наблюдений в ordersByUsers\n",
    "x_values = pd.Series(range(0, len(ordersByUsers)))\n",
    "plt.scatter(x_values, ordersByUsers['orders'])\n",
    "plt.show()"
   ]
  },
  {
   "cell_type": "markdown",
   "metadata": {},
   "source": [
    "Вывод: График неинформативен. Пользователей с заказами больше 2 крайне мало, но явно не видно, выбросы это или нет. Будем считать новым изученным методом перцентелей"
   ]
  },
  {
   "cell_type": "markdown",
   "metadata": {},
   "source": [
    "2.7 Посчитайте 95-й и 99-й перцентили количества заказов на пользователя. Выберите границу для определения аномальных пользователей."
   ]
  },
  {
   "cell_type": "code",
   "execution_count": 48,
   "metadata": {},
   "outputs": [
    {
     "name": "stdout",
     "output_type": "stream",
     "text": [
      "          userId  orders\n",
      "1023  4256040402      11\n",
      "591   2458001652      11\n",
      "569   2378935119       9\n",
      "487   2038680547       8\n",
      "44     199603092       5\n",
      "744   3062433592       5\n",
      "55     237748145       5\n",
      "917   3803269165       5\n",
      "299   1230306981       5\n",
      "897   3717692402       5\n",
      "[2. 4.]\n",
      "[1. 2. 2. 2. 2. 2. 2. 2. 3. 4.]\n"
     ]
    }
   ],
   "source": [
    "ordersByUsers = (\n",
    "    orders.groupby('userId', as_index=False)\n",
    "    .agg({'orderId': 'nunique'})\n",
    ")\n",
    "ordersByUsers.columns = ['userId', 'orders']\n",
    "\n",
    "print(ordersByUsers.sort_values(by='orders', ascending=False).head(10))\n",
    "\n",
    "# Метод np.percentile('column', [percentile1, percentile2, percentile3]) находит перцентили.\n",
    "print(np.percentile(ordersByUsers['orders'], [95, 99]))\n",
    "print(np.percentile(ordersByUsers['orders'], [90,91,92,93,94,95,96,97,98,99]))"
   ]
  },
  {
   "cell_type": "markdown",
   "metadata": {},
   "source": [
    "Вывод. Пользователей с количество заказов больше 3 менее 2%, а с заказами больше 2 - менее 3%. Границу возьмем 97%, т.к. 97% пользателей сделали не более 2 заказов."
   ]
  },
  {
   "cell_type": "markdown",
   "metadata": {},
   "source": [
    "2.8 Постройте точечный график стоимостей заказов. Сделайте выводы и предположения."
   ]
  },
  {
   "cell_type": "code",
   "execution_count": 49,
   "metadata": {},
   "outputs": [
    {
     "name": "stdout",
     "output_type": "stream",
     "text": [
      "         orderId      userId       date  revenue group\n",
      "425    590470918  1920142716 2019-08-19  1294500     B\n",
      "1196  3936777065  2108080724 2019-08-15   202740     B\n",
      "858    192721366  1316129916 2019-08-27    93940     A\n",
      "1136   666610489  1307669133 2019-08-13    92550     A\n",
      "744   3668308183   888512513 2019-08-27    86620     B\n",
      "682   1216533772  4266935830 2019-08-29    78990     B\n",
      "662   1811671147  4266935830 2019-08-29    78990     A\n",
      "743   3603576309  4133034833 2019-08-09    67990     A\n",
      "1103  1348774318  1164614297 2019-08-12    66350     A\n",
      "1099   316924019   148427295 2019-08-12    65710     A\n"
     ]
    },
    {
     "data": {
      "image/png": "[encoded data removed]",
      "text/plain": [
       "<Figure size 864x432 with 1 Axes>"
      ]
     },
     "metadata": {
      "needs_background": "light"
     },
     "output_type": "display_data"
    }
   ],
   "source": [
    "print(orders.sort_values(by='revenue', ascending=False).head(10))\n",
    "plt.figure(figsize=(12,6))\n",
    "plt.grid()\n",
    "plt.title('Точечный график стоимостей заказо')\n",
    "# серия из чисел от 0 до количества наблюдений в ordersByUsers\n",
    "x_values = pd.Series(range(0,len(orders['revenue'])))\n",
    "plt.scatter(x_values, orders['revenue'])\n",
    "\n",
    "plt.show()"
   ]
  },
  {
   "cell_type": "markdown",
   "metadata": {},
   "source": [
    "Вывод: большинство заказов не превыщают 100тыс., но заказ под 1.3 млн все портит"
   ]
  },
  {
   "cell_type": "code",
   "execution_count": 50,
   "metadata": {},
   "outputs": [
    {
     "name": "stdout",
     "output_type": "stream",
     "text": [
      "      orderId      userId       date  revenue group\n",
      "0  3667963787  3312258926 2019-08-15     1650     B\n",
      "1  2804400009  3642806036 2019-08-15      730     B\n",
      "2  2961555356  4069496402 2019-08-15      400     A\n",
      "3  3797467345  1196621759 2019-08-15     9759     B\n",
      "4  2282983706  2322279887 2019-08-15     2308     B\n"
     ]
    },
    {
     "data": {
      "image/png": "[encoded data removed]",
      "text/plain": [
       "<Figure size 864x432 with 1 Axes>"
      ]
     },
     "metadata": {
      "needs_background": "light"
     },
     "output_type": "display_data"
    }
   ],
   "source": [
    "# отсортируем по стоимость до 100 тыс и еще раз построим график\n",
    "odrers_new_100 = orders[orders['revenue'] <= 100000]\n",
    "print(odrers_new_100.head())\n",
    "plt.figure(figsize=(12,6))\n",
    "plt.grid()\n",
    "plt.title('Точечный график стоимостей заказов до 100тыс')\n",
    "# серия из чисел от 0 до количества наблюдений в ordersByUsers\n",
    "x_values = pd.Series(range(0,len(odrers_new_100['revenue'])))\n",
    "plt.scatter(x_values, odrers_new_100['revenue'])\n",
    "plt.show()\n"
   ]
  },
  {
   "cell_type": "markdown",
   "metadata": {},
   "source": [
    "Вывод: Вот теперь видно, что заказы находятся в пределах 60тыс, а большинство составляют менее 10тыс."
   ]
  },
  {
   "cell_type": "markdown",
   "metadata": {},
   "source": [
    "2.9 Посчитайте 95-й и 99-й перцентили стоимости заказов. Выберите границу для определения аномальных заказов."
   ]
  },
  {
   "cell_type": "code",
   "execution_count": 51,
   "metadata": {},
   "outputs": [
    {
     "name": "stdout",
     "output_type": "stream",
     "text": [
      "      orderId      userId       date  revenue group\n",
      "0  3667963787  3312258926 2019-08-15     1650     B\n",
      "1  2804400009  3642806036 2019-08-15      730     B\n",
      "2  2961555356  4069496402 2019-08-15      400     A\n",
      "3  3797467345  1196621759 2019-08-15     9759     B\n",
      "4  2282983706  2322279887 2019-08-15     2308     B\n",
      "5   182168103   935554773 2019-08-15     2210     B\n",
      "6   398296753  2900797465 2019-08-15     1860     B\n",
      "7  2626614568    78758296 2019-08-15     1044     A\n",
      "8  1576988021   295230930 2019-08-15    13710     A\n",
      "9  1506739906  1882260405 2019-08-15     1855     B\n",
      "[28000.  58233.2]\n",
      "[25120.8 28000.  31382.  35485.  44133.2 58233.2]\n"
     ]
    }
   ],
   "source": [
    "print(orders.head(10))\n",
    "print(np.percentile(orders['revenue'], [95,99]))\n",
    "print(np.percentile(orders['revenue'], [94,95,96,97,98,99]))"
   ]
  },
  {
   "cell_type": "markdown",
   "metadata": {},
   "source": [
    "Выводы: Границу для аномальных заказов лучше взять 95% или стоимостью до 28 тысяч."
   ]
  },
  {
   "cell_type": "markdown",
   "metadata": {},
   "source": [
    "2.10 \tПосчитайте статистическую значимость различий в конверсии между группами по «сырым» данным. Сделайте выводы и предположения."
   ]
  },
  {
   "cell_type": "markdown",
   "metadata": {},
   "source": [
    "Сформулируем гипотезы. Нулевая: различий в среднем количестве заказов между группами нет. Альтернативная: различия в среднем между группами есть. Уровень значимости примем 0.05, Альтернативная: различия в среднем между группами есть. Используем тест Манна-Уитни."
   ]
  },
  {
   "cell_type": "code",
   "execution_count": 52,
   "metadata": {},
   "outputs": [
    {
     "name": "stdout",
     "output_type": "stream",
     "text": [
      "alpha = 0.05\n",
      "p-value = 0.0168\n",
      "Относительный показатель А и В = 0.138\n"
     ]
    }
   ],
   "source": [
    "visitorsADaily = visitors[visitors['group'] == 'A'][['date', 'visitors']]\n",
    "visitorsADaily.columns = ['date', 'visitorsPerDateA']\n",
    "\n",
    "visitorsACummulative = visitorsADaily.apply(\n",
    "    lambda x: visitorsADaily[visitorsADaily['date'] <= x['date']].agg(\n",
    "        {'date': 'max', 'visitorsPerDateA': 'sum'}\n",
    "    ),\n",
    "    axis=1,\n",
    ")\n",
    "visitorsACummulative.columns = ['date', 'visitorsCummulativeA']\n",
    "\n",
    "visitorsBDaily = visitors[visitors['group'] == 'B'][['date', 'visitors']]\n",
    "visitorsBDaily.columns = ['date', 'visitorsPerDateB']\n",
    "\n",
    "visitorsBCummulative = visitorsBDaily.apply(\n",
    "    lambda x: visitorsBDaily[visitorsBDaily['date'] <= x['date']].agg(\n",
    "        {'date': 'max', 'visitorsPerDateB': 'sum'}\n",
    "    ),\n",
    "    axis=1,\n",
    ")\n",
    "visitorsBCummulative.columns = ['date', 'visitorsCummulativeB']\n",
    "\n",
    "ordersADaily = (\n",
    "    orders[orders['group'] == 'A'][['date', 'orderId', 'userId', 'revenue']]\n",
    "    .groupby('date', as_index=False)\n",
    "    .agg({'orderId': pd.Series.nunique, 'revenue': 'sum'})\n",
    ")\n",
    "ordersADaily.columns = ['date', 'ordersPerDateA', 'revenuePerDateA']\n",
    "\n",
    "ordersACummulative = ordersADaily.apply(\n",
    "    lambda x: ordersADaily[ordersADaily['date'] <= x['date']].agg(\n",
    "        {'date': 'max', 'ordersPerDateA': 'sum', 'revenuePerDateA': 'sum'}\n",
    "    ),\n",
    "    axis=1,\n",
    ").sort_values(by=['date'])\n",
    "ordersACummulative.columns = [\n",
    "    'date',\n",
    "    'ordersCummulativeA',\n",
    "    'revenueCummulativeA',\n",
    "]\n",
    "\n",
    "ordersBDaily = (\n",
    "    orders[orders['group'] == 'B'][['date', 'orderId', 'userId', 'revenue']]\n",
    "    .groupby('date', as_index=False)\n",
    "    .agg({'orderId': pd.Series.nunique, 'revenue': 'sum'})\n",
    ")\n",
    "ordersBDaily.columns = ['date', 'ordersPerDateB', 'revenuePerDateB']\n",
    "\n",
    "ordersBCummulative = ordersBDaily.apply(\n",
    "    lambda x: ordersBDaily[ordersBDaily['date'] <= x['date']].agg(\n",
    "        {'date': 'max', 'ordersPerDateB': 'sum', 'revenuePerDateB': 'sum'}\n",
    "    ),\n",
    "    axis=1,\n",
    ").sort_values(by=['date'])\n",
    "ordersBCummulative.columns = [\n",
    "    'date',\n",
    "    'ordersCummulativeB',\n",
    "    'revenueCummulativeB',\n",
    "]\n",
    "\n",
    "data = (\n",
    "    ordersADaily.merge(\n",
    "        ordersBDaily, left_on='date', right_on='date', how='left'\n",
    "    )\n",
    "    .merge(ordersACummulative, left_on='date', right_on='date', how='left')\n",
    "    .merge(ordersBCummulative, left_on='date', right_on='date', how='left')\n",
    "    .merge(visitorsADaily, left_on='date', right_on='date', how='left')\n",
    "    .merge(visitorsBDaily, left_on='date', right_on='date', how='left')\n",
    "    .merge(visitorsACummulative, left_on='date', right_on='date', how='left')\n",
    "    .merge(visitorsBCummulative, left_on='date', right_on='date', how='left')\n",
    ")\n",
    "\n",
    "ordersByUsersA = (\n",
    "    orders[orders['group'] == 'A']\n",
    "    .groupby('userId', as_index=False)\n",
    "    .agg({'orderId': pd.Series.nunique})\n",
    ")\n",
    "ordersByUsersA.columns = ['userId', 'orders']\n",
    "\n",
    "ordersByUsersB = (\n",
    "    orders[orders['group'] == 'B']\n",
    "    .groupby('userId', as_index=False)\n",
    "    .agg({'orderId': pd.Series.nunique})\n",
    ")\n",
    "ordersByUsersB.columns = ['userId', 'orders']\n",
    "\n",
    "sampleA = pd.concat([ordersByUsersA['orders'],pd.Series(0, index=np.arange(data['visitorsPerDateA'].sum() - len(ordersByUsersA['orders'])), name='orders')],axis=0)\n",
    "\n",
    "sampleB = pd.concat([ordersByUsersB['orders'],pd.Series(0, index=np.arange(data['visitorsPerDateB'].sum() - len(ordersByUsersB['orders'])), name='orders')],axis=0)\n",
    "\n",
    "print(\"alpha =\",0.05)\n",
    "print('p-value =', \"{0:.4f}\".format(stats.mannwhitneyu(sampleA, sampleB)[1]))\n",
    "\n",
    "print('Относительный показатель А и В =',\"{0:.3f}\".format(sampleB.mean() / sampleA.mean() - 1))"
   ]
  },
  {
   "cell_type": "markdown",
   "metadata": {},
   "source": [
    "Вывод: p-value = 0.0168 меньше 0.05. Отвергаем нулевую гипотезу о том, что статистически значимых различий в конверсии между группами нет. По «сырым» данным различия в конверсии групп A и B есть. А относительный выигрыш группы \"B\" над \"A\" равен 13.8% ."
   ]
  },
  {
   "cell_type": "markdown",
   "metadata": {},
   "source": [
    "2.11 Посчитайте статистическую значимость различий в среднем чеке заказа между группами по «сырым» данным. Сделайте выводы и предположения."
   ]
  },
  {
   "cell_type": "code",
   "execution_count": 53,
   "metadata": {},
   "outputs": [
    {
     "name": "stdout",
     "output_type": "stream",
     "text": [
      "alpha = 0.05\n",
      "p-value= 0.729\n",
      "Относительный показатель В и А = 0.259\n"
     ]
    }
   ],
   "source": [
    "print(\"alpha =\",0.05)\n",
    "print('p-value=','{0:.3f}'.format(stats.mannwhitneyu(orders[orders['group']=='A']['revenue'], orders[orders['group']=='B']['revenue'])[1]))\n",
    "print('Относительный показатель В и А =','{0:.3f}'.format(orders[orders['group']=='B']['revenue'].mean()/orders[orders['group']=='A']['revenue'].mean()-1)) "
   ]
  },
  {
   "cell_type": "markdown",
   "metadata": {},
   "source": [
    "P-value больше 0.05. Значит, нет причин отвергать нулевую гипотезу и считать, что в среднем чеке есть различия. Хотя разница в среднем цеке между группой В и А на 25,9%"
   ]
  },
  {
   "cell_type": "markdown",
   "metadata": {},
   "source": [
    "2.12 Посчитайте статистическую значимость различий в конверсии между группами по «очищенным» данным. Сделайте выводы и предположения."
   ]
  },
  {
   "cell_type": "code",
   "execution_count": 54,
   "metadata": {},
   "outputs": [
    {
     "name": "stdout",
     "output_type": "stream",
     "text": [
      "1099    148427295\n",
      "18      199603092\n",
      "928     204675465\n",
      "23      237748145\n",
      "37      249864742\n",
      "Name: userId, dtype: int64\n"
     ]
    }
   ],
   "source": [
    "ordersByUsersA = (\n",
    "    orders[orders['group'] == 'A']\n",
    "    .groupby('userId', as_index=False)\n",
    "    .agg({'orderId': pd.Series.nunique})\n",
    ")\n",
    "ordersByUsersA.columns = ['userId', 'orders']\n",
    "\n",
    "ordersByUsersB = (\n",
    "    orders[orders['group'] == 'B']\n",
    "    .groupby('userId', as_index=False)\n",
    "    .agg({'orderId': pd.Series.nunique})\n",
    ")\n",
    "ordersByUsersB.columns = ['userId', 'orders']\n",
    "\n",
    "usersWithManyOrders = pd.concat(\n",
    "    [\n",
    "        ordersByUsersA[ordersByUsersA['orders'] >= 3]['userId'],\n",
    "        ordersByUsersB[ordersByUsersB['orders'] >= 3]['userId'],\n",
    "    ],\n",
    "    axis=0,\n",
    ")\n",
    "usersWithExpensiveOrders = orders[orders['revenue'] > 28000]['userId']\n",
    "abnormalUsers = (\n",
    "    pd.concat([usersWithManyOrders, usersWithExpensiveOrders], axis=0)\n",
    "    .drop_duplicates()\n",
    "    .sort_values()\n",
    ")\n",
    "print(abnormalUsers.head(5))"
   ]
  },
  {
   "cell_type": "code",
   "execution_count": 55,
   "metadata": {},
   "outputs": [
    {
     "name": "stdout",
     "output_type": "stream",
     "text": [
      "alpha = 0.05\n",
      "p-value = 0.01304\n",
      "Относительный показатель А и В = 0.173\n"
     ]
    }
   ],
   "source": [
    "sampleAFiltered = pd.concat(\n",
    "    [\n",
    "        ordersByUsersA[\n",
    "            np.logical_not(ordersByUsersA['userId'].isin(abnormalUsers))\n",
    "        ]['orders'],\n",
    "        pd.Series(\n",
    "            0,\n",
    "            index=np.arange(\n",
    "                data['visitorsPerDateA'].sum() - len(ordersByUsersA['orders'])\n",
    "            ),\n",
    "            name='orders',\n",
    "        ),\n",
    "    ],\n",
    "    axis=0,\n",
    ")\n",
    "\n",
    "sampleBFiltered = pd.concat(\n",
    "    [\n",
    "        ordersByUsersB[\n",
    "            np.logical_not(ordersByUsersB['userId'].isin(abnormalUsers))\n",
    "        ]['orders'],\n",
    "        pd.Series(\n",
    "            0,\n",
    "            index=np.arange(\n",
    "                data['visitorsPerDateB'].sum() - len(ordersByUsersB['orders'])\n",
    "            ),\n",
    "            name='orders',\n",
    "        ),\n",
    "    ],\n",
    "    axis=0,\n",
    ") \n",
    "\n",
    "\n",
    "print(\"alpha =\",0.05)\n",
    "print('p-value =','{0:.5f}'.format(stats.mannwhitneyu(sampleAFiltered, sampleBFiltered)[1]))\n",
    "print('Относительный показатель А и В =','{0:.3f}'.format(sampleBFiltered.mean()/sampleAFiltered.mean()-1)) "
   ]
  },
  {
   "cell_type": "markdown",
   "metadata": {},
   "source": [
    "Вывод: p-value меньше 0.05. Ответргаем нулевую гипотезу о том, что статистически значимых различий в конверсии между группами нет. По «очищенным» данным различия в конверсии групп есть. Разница группы \"B\" над \"A\" равен 17,3%"
   ]
  },
  {
   "cell_type": "markdown",
   "metadata": {},
   "source": [
    "2.13 Посчитайте статистическую значимость различий в среднем чеке заказа между группами по «очищенным» данным. Сделайте выводы и предположения."
   ]
  },
  {
   "cell_type": "code",
   "execution_count": 56,
   "metadata": {},
   "outputs": [
    {
     "name": "stdout",
     "output_type": "stream",
     "text": [
      "alpha = 0.05\n",
      "p-value =0.738\n",
      "Относительный показатель B и A -0.020\n"
     ]
    }
   ],
   "source": [
    "print(\"alpha =\",0.05)\n",
    "print('p-value ='\n",
    "    '{0:.3f}'.format(\n",
    "        stats.mannwhitneyu(\n",
    "            orders[\n",
    "                np.logical_and(\n",
    "                    orders['group'] == 'A',\n",
    "                    np.logical_not(orders['userId'].isin(abnormalUsers)),\n",
    "                )\n",
    "            ]['revenue'],\n",
    "            orders[\n",
    "                np.logical_and(\n",
    "                    orders['group'] == 'B',\n",
    "                    np.logical_not(orders['userId'].isin(abnormalUsers)),\n",
    "                )\n",
    "            ]['revenue'],\n",
    "        )[1]\n",
    "    )\n",
    ")\n",
    "\n",
    "print('Относительный показатель B и A',\n",
    "    \"{0:.3f}\".format(\n",
    "        orders[\n",
    "            np.logical_and(\n",
    "                orders['group'] == 'B',\n",
    "                np.logical_not(orders['userId'].isin(abnormalUsers)),\n",
    "            )\n",
    "        ]['revenue'].mean()\n",
    "        / orders[\n",
    "            np.logical_and(\n",
    "                orders['group'] == 'A',\n",
    "                np.logical_not(orders['userId'].isin(abnormalUsers)),\n",
    "            )\n",
    "        ]['revenue'].mean()\n",
    "        - 1\n",
    "    )\n",
    ")"
   ]
  },
  {
   "cell_type": "markdown",
   "metadata": {},
   "source": [
    "Вывод: P-value больше 0.05. Не отвергаем нулевую гипотезу и считаем, что в среднем чеке нет различий. Средний чек группы B оказался на 2% ниже среднего чека группы A, в то время как по \"сырым\" данным, он был больше на >17%"
   ]
  },
  {
   "cell_type": "markdown",
   "metadata": {},
   "source": [
    "2.14 Примите решение по результатам теста и объясните его. Варианты решений: 1. Остановить тест, зафиксировать победу одной из групп. 2. Остановить тест, зафиксировать отсутствие различий между группами. 3. Продолжить тест."
   ]
  },
  {
   "cell_type": "markdown",
   "metadata": {},
   "source": [
    "# Заключение"
   ]
  },
  {
   "cell_type": "markdown",
   "metadata": {},
   "source": [
    "По результатам исследований получены следующие выводы:\n",
    "\n",
    "1. Конверсии сырых и очищенных данных груп А и В различаются. Конверсия группы  B выше на 17,4% по очищенным и 13.8% по сырым данным по сравнению с группа А.\n",
    "\n",
    "2. По сырым и очищенным данным различия в средних чеках групп A и B отстутствуют. ( по сырым данным средний чек группы B на 2% ниже среднего чека группы A, а по очищенным, он был больше аж на 25%+). Данна аномалия вызвана сверх дорогим заказом, стоимость более 1,2млн.руб.\n",
    "\n",
    "Итогг: Конверсия группы В значительно лучше конверсии группы А"
   ]
  }
 ],
 "metadata": {
  "ExecuteTimeLog": [
   {
    "duration": 1302,
    "start_time": "2022-10-05T13:53:58.386Z"
   },
   {
    "duration": 3,
    "start_time": "2022-10-05T13:58:25.990Z"
   },
   {
    "duration": 199,
    "start_time": "2022-10-05T13:59:12.880Z"
   },
   {
    "duration": 7,
    "start_time": "2022-10-05T14:01:47.411Z"
   },
   {
    "duration": 17,
    "start_time": "2022-10-05T14:13:13.779Z"
   },
   {
    "duration": 2,
    "start_time": "2022-10-05T14:14:06.847Z"
   },
   {
    "duration": 3,
    "start_time": "2022-10-05T14:14:57.134Z"
   },
   {
    "duration": 79,
    "start_time": "2022-10-05T14:14:57.139Z"
   },
   {
    "duration": 2,
    "start_time": "2022-10-05T14:14:57.219Z"
   },
   {
    "duration": 18,
    "start_time": "2022-10-05T14:14:57.222Z"
   },
   {
    "duration": 15,
    "start_time": "2022-10-05T14:14:57.241Z"
   },
   {
    "duration": 15,
    "start_time": "2022-10-05T14:14:57.257Z"
   },
   {
    "duration": 5,
    "start_time": "2022-10-05T14:14:57.273Z"
   },
   {
    "duration": 18,
    "start_time": "2022-10-05T14:25:45.624Z"
   },
   {
    "duration": 2,
    "start_time": "2022-10-05T14:26:26.938Z"
   },
   {
    "duration": 79,
    "start_time": "2022-10-05T14:26:26.942Z"
   },
   {
    "duration": 2,
    "start_time": "2022-10-05T14:26:27.022Z"
   },
   {
    "duration": 16,
    "start_time": "2022-10-05T14:26:27.025Z"
   },
   {
    "duration": 14,
    "start_time": "2022-10-05T14:26:27.042Z"
   },
   {
    "duration": 16,
    "start_time": "2022-10-05T14:26:27.057Z"
   },
   {
    "duration": 18,
    "start_time": "2022-10-05T14:26:27.074Z"
   },
   {
    "duration": 103,
    "start_time": "2022-10-05T14:26:27.105Z"
   },
   {
    "duration": 0,
    "start_time": "2022-10-05T14:26:27.210Z"
   },
   {
    "duration": 2,
    "start_time": "2022-10-05T14:26:36.538Z"
   },
   {
    "duration": 78,
    "start_time": "2022-10-05T14:26:36.542Z"
   },
   {
    "duration": 2,
    "start_time": "2022-10-05T14:26:36.621Z"
   },
   {
    "duration": 18,
    "start_time": "2022-10-05T14:26:36.624Z"
   },
   {
    "duration": 15,
    "start_time": "2022-10-05T14:26:36.644Z"
   },
   {
    "duration": 24,
    "start_time": "2022-10-05T14:26:36.660Z"
   },
   {
    "duration": 17,
    "start_time": "2022-10-05T14:26:36.686Z"
   },
   {
    "duration": 7,
    "start_time": "2022-10-05T14:26:36.705Z"
   },
   {
    "duration": 8,
    "start_time": "2022-10-05T14:30:17.493Z"
   },
   {
    "duration": 4,
    "start_time": "2022-10-05T14:30:22.512Z"
   },
   {
    "duration": 102,
    "start_time": "2022-10-05T14:30:51.251Z"
   },
   {
    "duration": 8,
    "start_time": "2022-10-05T14:30:56.225Z"
   },
   {
    "duration": 3,
    "start_time": "2022-10-05T14:34:14.843Z"
   },
   {
    "duration": 3,
    "start_time": "2022-10-05T14:34:37.463Z"
   },
   {
    "duration": 3,
    "start_time": "2022-10-05T14:34:42.683Z"
   },
   {
    "duration": 4,
    "start_time": "2022-10-05T14:35:07.052Z"
   },
   {
    "duration": 7,
    "start_time": "2022-10-05T14:35:49.431Z"
   },
   {
    "duration": 3357,
    "start_time": "2022-10-05T14:36:20.702Z"
   },
   {
    "duration": 3443,
    "start_time": "2022-10-05T14:36:35.121Z"
   },
   {
    "duration": 3,
    "start_time": "2022-10-05T14:39:50.147Z"
   },
   {
    "duration": 10,
    "start_time": "2022-10-05T14:40:18.955Z"
   },
   {
    "duration": 8,
    "start_time": "2022-10-05T14:41:03.436Z"
   },
   {
    "duration": 8,
    "start_time": "2022-10-05T14:41:46.466Z"
   },
   {
    "duration": 7,
    "start_time": "2022-10-05T14:42:19.866Z"
   },
   {
    "duration": 7,
    "start_time": "2022-10-05T14:42:35.579Z"
   },
   {
    "duration": 4,
    "start_time": "2022-10-05T14:43:11.653Z"
   },
   {
    "duration": 8,
    "start_time": "2022-10-05T14:43:35.802Z"
   },
   {
    "duration": 7,
    "start_time": "2022-10-05T14:45:24.399Z"
   },
   {
    "duration": 8,
    "start_time": "2022-10-05T14:45:34.099Z"
   },
   {
    "duration": 8,
    "start_time": "2022-10-05T14:45:47.732Z"
   },
   {
    "duration": 8,
    "start_time": "2022-10-05T14:46:05.353Z"
   },
   {
    "duration": 1316,
    "start_time": "2022-10-06T06:58:41.902Z"
   },
   {
    "duration": 185,
    "start_time": "2022-10-06T06:58:43.220Z"
   },
   {
    "duration": 18,
    "start_time": "2022-10-06T06:58:43.406Z"
   },
   {
    "duration": 17,
    "start_time": "2022-10-06T06:58:43.425Z"
   },
   {
    "duration": 17,
    "start_time": "2022-10-06T06:58:43.444Z"
   },
   {
    "duration": 38,
    "start_time": "2022-10-06T06:58:43.462Z"
   },
   {
    "duration": 3,
    "start_time": "2022-10-06T06:58:43.501Z"
   },
   {
    "duration": 12,
    "start_time": "2022-10-06T06:58:43.506Z"
   },
   {
    "duration": 8,
    "start_time": "2022-10-06T06:58:43.520Z"
   },
   {
    "duration": 4,
    "start_time": "2022-10-06T07:14:12.279Z"
   },
   {
    "duration": 942,
    "start_time": "2022-10-06T07:14:23.530Z"
   },
   {
    "duration": 1118,
    "start_time": "2022-10-06T07:15:02.380Z"
   },
   {
    "duration": 714,
    "start_time": "2022-10-06T07:15:37.261Z"
   },
   {
    "duration": 3,
    "start_time": "2022-10-06T07:15:42.587Z"
   },
   {
    "duration": 75,
    "start_time": "2022-10-06T07:15:42.593Z"
   },
   {
    "duration": 16,
    "start_time": "2022-10-06T07:15:42.669Z"
   },
   {
    "duration": 16,
    "start_time": "2022-10-06T07:15:42.686Z"
   },
   {
    "duration": 14,
    "start_time": "2022-10-06T07:15:42.704Z"
   },
   {
    "duration": 19,
    "start_time": "2022-10-06T07:15:42.720Z"
   },
   {
    "duration": 3,
    "start_time": "2022-10-06T07:15:42.740Z"
   },
   {
    "duration": 10,
    "start_time": "2022-10-06T07:15:42.745Z"
   },
   {
    "duration": 39,
    "start_time": "2022-10-06T07:15:42.756Z"
   },
   {
    "duration": 703,
    "start_time": "2022-10-06T07:15:42.797Z"
   },
   {
    "duration": 37,
    "start_time": "2022-10-06T07:18:27.317Z"
   },
   {
    "duration": 3,
    "start_time": "2022-10-06T07:18:31.777Z"
   },
   {
    "duration": 85,
    "start_time": "2022-10-06T07:18:31.782Z"
   },
   {
    "duration": 17,
    "start_time": "2022-10-06T07:18:31.868Z"
   },
   {
    "duration": 20,
    "start_time": "2022-10-06T07:18:31.887Z"
   },
   {
    "duration": 15,
    "start_time": "2022-10-06T07:18:31.909Z"
   },
   {
    "duration": 20,
    "start_time": "2022-10-06T07:18:31.926Z"
   },
   {
    "duration": 3,
    "start_time": "2022-10-06T07:18:31.948Z"
   },
   {
    "duration": 12,
    "start_time": "2022-10-06T07:18:31.952Z"
   },
   {
    "duration": 33,
    "start_time": "2022-10-06T07:18:31.966Z"
   },
   {
    "duration": 29,
    "start_time": "2022-10-06T07:18:32.001Z"
   },
   {
    "duration": 716,
    "start_time": "2022-10-06T07:18:32.032Z"
   },
   {
    "duration": 3,
    "start_time": "2022-10-06T07:19:51.443Z"
   },
   {
    "duration": 38,
    "start_time": "2022-10-06T07:22:55.739Z"
   },
   {
    "duration": 3,
    "start_time": "2022-10-06T07:23:00.971Z"
   },
   {
    "duration": 77,
    "start_time": "2022-10-06T07:23:00.976Z"
   },
   {
    "duration": 17,
    "start_time": "2022-10-06T07:23:01.055Z"
   },
   {
    "duration": 33,
    "start_time": "2022-10-06T07:23:01.074Z"
   },
   {
    "duration": 18,
    "start_time": "2022-10-06T07:23:01.110Z"
   },
   {
    "duration": 34,
    "start_time": "2022-10-06T07:23:01.129Z"
   },
   {
    "duration": 13,
    "start_time": "2022-10-06T07:23:01.165Z"
   },
   {
    "duration": 18,
    "start_time": "2022-10-06T07:23:01.180Z"
   },
   {
    "duration": 15,
    "start_time": "2022-10-06T07:23:01.200Z"
   },
   {
    "duration": 31,
    "start_time": "2022-10-06T07:23:01.216Z"
   },
   {
    "duration": 705,
    "start_time": "2022-10-06T07:23:01.249Z"
   },
   {
    "duration": 40,
    "start_time": "2022-10-06T07:23:28.665Z"
   },
   {
    "duration": 3,
    "start_time": "2022-10-06T07:23:32.217Z"
   },
   {
    "duration": 81,
    "start_time": "2022-10-06T07:23:32.222Z"
   },
   {
    "duration": 25,
    "start_time": "2022-10-06T07:23:32.304Z"
   },
   {
    "duration": 22,
    "start_time": "2022-10-06T07:23:32.331Z"
   },
   {
    "duration": 15,
    "start_time": "2022-10-06T07:23:32.354Z"
   },
   {
    "duration": 27,
    "start_time": "2022-10-06T07:23:32.370Z"
   },
   {
    "duration": 2,
    "start_time": "2022-10-06T07:23:32.399Z"
   },
   {
    "duration": 13,
    "start_time": "2022-10-06T07:23:32.403Z"
   },
   {
    "duration": 11,
    "start_time": "2022-10-06T07:23:32.418Z"
   },
   {
    "duration": 31,
    "start_time": "2022-10-06T07:23:32.431Z"
   },
   {
    "duration": 712,
    "start_time": "2022-10-06T07:23:32.464Z"
   },
   {
    "duration": 767,
    "start_time": "2022-10-06T07:24:33.585Z"
   },
   {
    "duration": 31,
    "start_time": "2022-10-06T07:25:41.740Z"
   },
   {
    "duration": 4,
    "start_time": "2022-10-06T07:25:47.219Z"
   },
   {
    "duration": 77,
    "start_time": "2022-10-06T07:25:47.225Z"
   },
   {
    "duration": 16,
    "start_time": "2022-10-06T07:25:47.304Z"
   },
   {
    "duration": 17,
    "start_time": "2022-10-06T07:25:47.322Z"
   },
   {
    "duration": 16,
    "start_time": "2022-10-06T07:25:47.341Z"
   },
   {
    "duration": 42,
    "start_time": "2022-10-06T07:25:47.359Z"
   },
   {
    "duration": 4,
    "start_time": "2022-10-06T07:25:47.403Z"
   },
   {
    "duration": 10,
    "start_time": "2022-10-06T07:25:47.408Z"
   },
   {
    "duration": 12,
    "start_time": "2022-10-06T07:25:47.419Z"
   },
   {
    "duration": 29,
    "start_time": "2022-10-06T07:25:47.433Z"
   },
   {
    "duration": 19,
    "start_time": "2022-10-06T07:25:47.463Z"
   },
   {
    "duration": 681,
    "start_time": "2022-10-06T07:25:47.484Z"
   },
   {
    "duration": 4,
    "start_time": "2022-10-06T07:26:26.076Z"
   },
   {
    "duration": 79,
    "start_time": "2022-10-06T07:26:26.081Z"
   },
   {
    "duration": 17,
    "start_time": "2022-10-06T07:26:26.162Z"
   },
   {
    "duration": 19,
    "start_time": "2022-10-06T07:26:26.181Z"
   },
   {
    "duration": 18,
    "start_time": "2022-10-06T07:26:26.202Z"
   },
   {
    "duration": 21,
    "start_time": "2022-10-06T07:26:26.222Z"
   },
   {
    "duration": 3,
    "start_time": "2022-10-06T07:26:26.245Z"
   },
   {
    "duration": 11,
    "start_time": "2022-10-06T07:26:26.250Z"
   },
   {
    "duration": 33,
    "start_time": "2022-10-06T07:26:26.263Z"
   },
   {
    "duration": 28,
    "start_time": "2022-10-06T07:26:26.298Z"
   },
   {
    "duration": 68,
    "start_time": "2022-10-06T07:26:26.327Z"
   },
   {
    "duration": 0,
    "start_time": "2022-10-06T07:26:26.396Z"
   },
   {
    "duration": 299,
    "start_time": "2022-10-06T07:26:48.068Z"
   },
   {
    "duration": 3,
    "start_time": "2022-10-06T07:27:02.341Z"
   },
   {
    "duration": 84,
    "start_time": "2022-10-06T07:27:02.345Z"
   },
   {
    "duration": 16,
    "start_time": "2022-10-06T07:27:02.431Z"
   },
   {
    "duration": 17,
    "start_time": "2022-10-06T07:27:02.449Z"
   },
   {
    "duration": 17,
    "start_time": "2022-10-06T07:27:02.468Z"
   },
   {
    "duration": 20,
    "start_time": "2022-10-06T07:27:02.486Z"
   },
   {
    "duration": 9,
    "start_time": "2022-10-06T07:27:02.507Z"
   },
   {
    "duration": 16,
    "start_time": "2022-10-06T07:27:02.518Z"
   },
   {
    "duration": 17,
    "start_time": "2022-10-06T07:27:02.535Z"
   },
   {
    "duration": 33,
    "start_time": "2022-10-06T07:27:02.553Z"
   },
   {
    "duration": 345,
    "start_time": "2022-10-06T07:27:02.587Z"
   },
   {
    "duration": 0,
    "start_time": "2022-10-06T07:27:02.933Z"
   },
   {
    "duration": 3,
    "start_time": "2022-10-06T07:27:34.220Z"
   },
   {
    "duration": 76,
    "start_time": "2022-10-06T07:27:34.225Z"
   },
   {
    "duration": 18,
    "start_time": "2022-10-06T07:27:34.302Z"
   },
   {
    "duration": 16,
    "start_time": "2022-10-06T07:27:34.323Z"
   },
   {
    "duration": 17,
    "start_time": "2022-10-06T07:27:34.341Z"
   },
   {
    "duration": 43,
    "start_time": "2022-10-06T07:27:34.359Z"
   },
   {
    "duration": 3,
    "start_time": "2022-10-06T07:27:34.404Z"
   },
   {
    "duration": 11,
    "start_time": "2022-10-06T07:27:34.409Z"
   },
   {
    "duration": 14,
    "start_time": "2022-10-06T07:27:34.422Z"
   },
   {
    "duration": 35,
    "start_time": "2022-10-06T07:27:34.438Z"
   },
   {
    "duration": 19,
    "start_time": "2022-10-06T07:27:34.475Z"
   },
   {
    "duration": 677,
    "start_time": "2022-10-06T07:27:34.496Z"
   },
   {
    "duration": 327,
    "start_time": "2022-10-06T07:28:05.127Z"
   },
   {
    "duration": 3,
    "start_time": "2022-10-06T07:28:12.806Z"
   },
   {
    "duration": 92,
    "start_time": "2022-10-06T07:28:12.819Z"
   },
   {
    "duration": 19,
    "start_time": "2022-10-06T07:28:12.913Z"
   },
   {
    "duration": 31,
    "start_time": "2022-10-06T07:28:12.934Z"
   },
   {
    "duration": 19,
    "start_time": "2022-10-06T07:28:12.967Z"
   },
   {
    "duration": 23,
    "start_time": "2022-10-06T07:28:12.987Z"
   },
   {
    "duration": 4,
    "start_time": "2022-10-06T07:28:13.012Z"
   },
   {
    "duration": 11,
    "start_time": "2022-10-06T07:28:13.018Z"
   },
   {
    "duration": 10,
    "start_time": "2022-10-06T07:28:13.031Z"
   },
   {
    "duration": 33,
    "start_time": "2022-10-06T07:28:13.043Z"
   },
   {
    "duration": 346,
    "start_time": "2022-10-06T07:28:13.079Z"
   },
   {
    "duration": 553,
    "start_time": "2022-10-06T07:28:59.852Z"
   },
   {
    "duration": 3,
    "start_time": "2022-10-06T07:29:05.969Z"
   },
   {
    "duration": 75,
    "start_time": "2022-10-06T07:29:05.982Z"
   },
   {
    "duration": 16,
    "start_time": "2022-10-06T07:29:06.059Z"
   },
   {
    "duration": 21,
    "start_time": "2022-10-06T07:29:06.077Z"
   },
   {
    "duration": 14,
    "start_time": "2022-10-06T07:29:06.100Z"
   },
   {
    "duration": 17,
    "start_time": "2022-10-06T07:29:06.116Z"
   },
   {
    "duration": 3,
    "start_time": "2022-10-06T07:29:06.135Z"
   },
   {
    "duration": 11,
    "start_time": "2022-10-06T07:29:06.139Z"
   },
   {
    "duration": 11,
    "start_time": "2022-10-06T07:29:06.151Z"
   },
   {
    "duration": 55,
    "start_time": "2022-10-06T07:29:06.163Z"
   },
   {
    "duration": 348,
    "start_time": "2022-10-06T07:29:06.220Z"
   },
   {
    "duration": 2,
    "start_time": "2022-10-06T07:29:30.872Z"
   },
   {
    "duration": 3,
    "start_time": "2022-10-06T07:30:01.582Z"
   },
   {
    "duration": 81,
    "start_time": "2022-10-06T07:30:01.597Z"
   },
   {
    "duration": 16,
    "start_time": "2022-10-06T07:30:01.680Z"
   },
   {
    "duration": 34,
    "start_time": "2022-10-06T07:30:01.698Z"
   },
   {
    "duration": 17,
    "start_time": "2022-10-06T07:30:01.734Z"
   },
   {
    "duration": 38,
    "start_time": "2022-10-06T07:30:01.752Z"
   },
   {
    "duration": 14,
    "start_time": "2022-10-06T07:30:01.792Z"
   },
   {
    "duration": 25,
    "start_time": "2022-10-06T07:30:01.808Z"
   },
   {
    "duration": 14,
    "start_time": "2022-10-06T07:30:01.835Z"
   },
   {
    "duration": 57,
    "start_time": "2022-10-06T07:30:01.850Z"
   },
   {
    "duration": 623,
    "start_time": "2022-10-06T07:30:01.909Z"
   },
   {
    "duration": 9,
    "start_time": "2022-10-06T07:30:02.533Z"
   },
   {
    "duration": 3,
    "start_time": "2022-10-06T07:31:00.348Z"
   },
   {
    "duration": 92,
    "start_time": "2022-10-06T07:31:00.353Z"
   },
   {
    "duration": 16,
    "start_time": "2022-10-06T07:31:00.447Z"
   },
   {
    "duration": 39,
    "start_time": "2022-10-06T07:31:00.466Z"
   },
   {
    "duration": 20,
    "start_time": "2022-10-06T07:31:00.506Z"
   },
   {
    "duration": 72,
    "start_time": "2022-10-06T07:31:00.528Z"
   },
   {
    "duration": 0,
    "start_time": "2022-10-06T07:31:00.601Z"
   },
   {
    "duration": 0,
    "start_time": "2022-10-06T07:31:00.603Z"
   },
   {
    "duration": 0,
    "start_time": "2022-10-06T07:31:00.603Z"
   },
   {
    "duration": 0,
    "start_time": "2022-10-06T07:31:00.604Z"
   },
   {
    "duration": 0,
    "start_time": "2022-10-06T07:31:00.605Z"
   },
   {
    "duration": 0,
    "start_time": "2022-10-06T07:31:00.606Z"
   },
   {
    "duration": 429,
    "start_time": "2022-10-06T07:31:28.143Z"
   },
   {
    "duration": 4,
    "start_time": "2022-10-06T07:35:05.206Z"
   },
   {
    "duration": 81,
    "start_time": "2022-10-06T07:35:05.212Z"
   },
   {
    "duration": 18,
    "start_time": "2022-10-06T07:35:05.295Z"
   },
   {
    "duration": 21,
    "start_time": "2022-10-06T07:35:05.314Z"
   },
   {
    "duration": 18,
    "start_time": "2022-10-06T07:35:05.337Z"
   },
   {
    "duration": 2859,
    "start_time": "2022-10-06T07:35:05.357Z"
   },
   {
    "duration": 0,
    "start_time": "2022-10-06T07:35:08.217Z"
   },
   {
    "duration": 0,
    "start_time": "2022-10-06T07:35:08.219Z"
   },
   {
    "duration": 0,
    "start_time": "2022-10-06T07:35:08.219Z"
   },
   {
    "duration": 0,
    "start_time": "2022-10-06T07:35:08.220Z"
   },
   {
    "duration": 0,
    "start_time": "2022-10-06T07:35:08.221Z"
   },
   {
    "duration": 0,
    "start_time": "2022-10-06T07:35:08.222Z"
   },
   {
    "duration": 3,
    "start_time": "2022-10-06T07:35:42.170Z"
   },
   {
    "duration": 72,
    "start_time": "2022-10-06T07:35:42.176Z"
   },
   {
    "duration": 15,
    "start_time": "2022-10-06T07:35:42.250Z"
   },
   {
    "duration": 19,
    "start_time": "2022-10-06T07:35:42.266Z"
   },
   {
    "duration": 15,
    "start_time": "2022-10-06T07:35:42.287Z"
   },
   {
    "duration": 1022,
    "start_time": "2022-10-06T07:35:42.303Z"
   },
   {
    "duration": 0,
    "start_time": "2022-10-06T07:35:43.327Z"
   },
   {
    "duration": 0,
    "start_time": "2022-10-06T07:35:43.328Z"
   },
   {
    "duration": 0,
    "start_time": "2022-10-06T07:35:43.329Z"
   },
   {
    "duration": 0,
    "start_time": "2022-10-06T07:35:43.330Z"
   },
   {
    "duration": 0,
    "start_time": "2022-10-06T07:35:43.331Z"
   },
   {
    "duration": 0,
    "start_time": "2022-10-06T07:35:43.332Z"
   },
   {
    "duration": 491,
    "start_time": "2022-10-06T07:36:53.060Z"
   },
   {
    "duration": 3,
    "start_time": "2022-10-06T07:39:22.425Z"
   },
   {
    "duration": 83,
    "start_time": "2022-10-06T07:39:22.430Z"
   },
   {
    "duration": 15,
    "start_time": "2022-10-06T07:39:22.515Z"
   },
   {
    "duration": 16,
    "start_time": "2022-10-06T07:39:22.532Z"
   },
   {
    "duration": 16,
    "start_time": "2022-10-06T07:39:22.550Z"
   },
   {
    "duration": 31,
    "start_time": "2022-10-06T07:39:22.567Z"
   },
   {
    "duration": 3,
    "start_time": "2022-10-06T07:39:22.599Z"
   },
   {
    "duration": 9,
    "start_time": "2022-10-06T07:39:22.604Z"
   },
   {
    "duration": 9,
    "start_time": "2022-10-06T07:39:22.614Z"
   },
   {
    "duration": 31,
    "start_time": "2022-10-06T07:39:22.625Z"
   },
   {
    "duration": 686,
    "start_time": "2022-10-06T07:39:22.659Z"
   },
   {
    "duration": 9,
    "start_time": "2022-10-06T07:39:23.347Z"
   },
   {
    "duration": 532,
    "start_time": "2022-10-06T07:39:39.855Z"
   },
   {
    "duration": 3,
    "start_time": "2022-10-06T07:41:50.979Z"
   },
   {
    "duration": 77,
    "start_time": "2022-10-06T07:41:50.983Z"
   },
   {
    "duration": 16,
    "start_time": "2022-10-06T07:41:51.062Z"
   },
   {
    "duration": 17,
    "start_time": "2022-10-06T07:41:51.080Z"
   },
   {
    "duration": 17,
    "start_time": "2022-10-06T07:41:51.098Z"
   },
   {
    "duration": 19,
    "start_time": "2022-10-06T07:41:51.116Z"
   },
   {
    "duration": 7,
    "start_time": "2022-10-06T07:41:51.137Z"
   },
   {
    "duration": 11,
    "start_time": "2022-10-06T07:41:51.146Z"
   },
   {
    "duration": 10,
    "start_time": "2022-10-06T07:41:51.159Z"
   },
   {
    "duration": 28,
    "start_time": "2022-10-06T07:41:51.195Z"
   },
   {
    "duration": 0,
    "start_time": "2022-10-06T07:41:51.225Z"
   },
   {
    "duration": 3,
    "start_time": "2022-10-06T07:42:37.855Z"
   },
   {
    "duration": 77,
    "start_time": "2022-10-06T07:42:37.859Z"
   },
   {
    "duration": 15,
    "start_time": "2022-10-06T07:42:37.938Z"
   },
   {
    "duration": 23,
    "start_time": "2022-10-06T07:42:37.954Z"
   },
   {
    "duration": 14,
    "start_time": "2022-10-06T07:42:37.979Z"
   },
   {
    "duration": 22,
    "start_time": "2022-10-06T07:42:37.994Z"
   },
   {
    "duration": 3,
    "start_time": "2022-10-06T07:42:38.018Z"
   },
   {
    "duration": 11,
    "start_time": "2022-10-06T07:42:38.023Z"
   },
   {
    "duration": 14,
    "start_time": "2022-10-06T07:42:38.036Z"
   },
   {
    "duration": 45,
    "start_time": "2022-10-06T07:42:38.052Z"
   },
   {
    "duration": 0,
    "start_time": "2022-10-06T07:42:38.099Z"
   },
   {
    "duration": 313,
    "start_time": "2022-10-06T07:44:07.641Z"
   },
   {
    "duration": 19,
    "start_time": "2022-10-06T07:45:09.911Z"
   },
   {
    "duration": 20,
    "start_time": "2022-10-06T07:45:45.790Z"
   },
   {
    "duration": 3,
    "start_time": "2022-10-06T07:46:02.547Z"
   },
   {
    "duration": 78,
    "start_time": "2022-10-06T07:46:02.551Z"
   },
   {
    "duration": 16,
    "start_time": "2022-10-06T07:46:02.631Z"
   },
   {
    "duration": 17,
    "start_time": "2022-10-06T07:46:02.650Z"
   },
   {
    "duration": 15,
    "start_time": "2022-10-06T07:46:02.668Z"
   },
   {
    "duration": 19,
    "start_time": "2022-10-06T07:46:02.685Z"
   },
   {
    "duration": 3,
    "start_time": "2022-10-06T07:46:02.706Z"
   },
   {
    "duration": 10,
    "start_time": "2022-10-06T07:46:02.711Z"
   },
   {
    "duration": 8,
    "start_time": "2022-10-06T07:46:02.724Z"
   },
   {
    "duration": 26,
    "start_time": "2022-10-06T07:46:02.734Z"
   },
   {
    "duration": 0,
    "start_time": "2022-10-06T07:46:02.761Z"
   },
   {
    "duration": 17,
    "start_time": "2022-10-06T07:46:18.286Z"
   },
   {
    "duration": 3,
    "start_time": "2022-10-06T07:46:20.759Z"
   },
   {
    "duration": 74,
    "start_time": "2022-10-06T07:46:20.830Z"
   },
   {
    "duration": 17,
    "start_time": "2022-10-06T07:46:20.906Z"
   },
   {
    "duration": 19,
    "start_time": "2022-10-06T07:46:20.924Z"
   },
   {
    "duration": 16,
    "start_time": "2022-10-06T07:46:20.945Z"
   },
   {
    "duration": 39,
    "start_time": "2022-10-06T07:46:20.963Z"
   },
   {
    "duration": 4,
    "start_time": "2022-10-06T07:46:21.004Z"
   },
   {
    "duration": 14,
    "start_time": "2022-10-06T07:46:21.009Z"
   },
   {
    "duration": 16,
    "start_time": "2022-10-06T07:46:21.024Z"
   },
   {
    "duration": 28,
    "start_time": "2022-10-06T07:46:21.041Z"
   },
   {
    "duration": 0,
    "start_time": "2022-10-06T07:46:21.070Z"
   },
   {
    "duration": 369,
    "start_time": "2022-10-06T07:46:34.239Z"
   },
   {
    "duration": 304,
    "start_time": "2022-10-06T07:46:51.548Z"
   },
   {
    "duration": 76,
    "start_time": "2022-10-06T07:47:12.451Z"
   },
   {
    "duration": 347,
    "start_time": "2022-10-06T07:47:37.888Z"
   },
   {
    "duration": 73,
    "start_time": "2022-10-06T07:48:22.749Z"
   },
   {
    "duration": 85,
    "start_time": "2022-10-06T07:48:46.792Z"
   },
   {
    "duration": 70,
    "start_time": "2022-10-06T07:49:33.278Z"
   },
   {
    "duration": 107,
    "start_time": "2022-10-06T07:50:16.341Z"
   },
   {
    "duration": 118,
    "start_time": "2022-10-06T07:50:43.460Z"
   },
   {
    "duration": 120,
    "start_time": "2022-10-06T07:50:54.210Z"
   },
   {
    "duration": 11,
    "start_time": "2022-10-06T07:51:16.662Z"
   },
   {
    "duration": 7,
    "start_time": "2022-10-06T07:51:39.857Z"
   },
   {
    "duration": 4836,
    "start_time": "2022-10-06T07:51:44.282Z"
   },
   {
    "duration": 37,
    "start_time": "2022-10-06T07:52:52.578Z"
   },
   {
    "duration": 3,
    "start_time": "2022-10-06T07:53:08.532Z"
   },
   {
    "duration": 70,
    "start_time": "2022-10-06T07:53:08.545Z"
   },
   {
    "duration": 16,
    "start_time": "2022-10-06T07:53:08.617Z"
   },
   {
    "duration": 21,
    "start_time": "2022-10-06T07:53:08.634Z"
   },
   {
    "duration": 15,
    "start_time": "2022-10-06T07:53:08.657Z"
   },
   {
    "duration": 10,
    "start_time": "2022-10-06T07:53:08.673Z"
   },
   {
    "duration": 5,
    "start_time": "2022-10-06T07:53:08.684Z"
   },
   {
    "duration": 7,
    "start_time": "2022-10-06T07:53:08.695Z"
   },
   {
    "duration": 9,
    "start_time": "2022-10-06T07:53:08.704Z"
   },
   {
    "duration": 31,
    "start_time": "2022-10-06T07:53:08.714Z"
   },
   {
    "duration": 430,
    "start_time": "2022-10-06T07:53:08.747Z"
   },
   {
    "duration": 0,
    "start_time": "2022-10-06T07:53:09.178Z"
   },
   {
    "duration": 3,
    "start_time": "2022-10-06T07:54:01.102Z"
   },
   {
    "duration": 79,
    "start_time": "2022-10-06T07:54:01.107Z"
   },
   {
    "duration": 19,
    "start_time": "2022-10-06T07:54:01.188Z"
   },
   {
    "duration": 30,
    "start_time": "2022-10-06T07:54:01.209Z"
   },
   {
    "duration": 21,
    "start_time": "2022-10-06T07:54:01.240Z"
   },
   {
    "duration": 7,
    "start_time": "2022-10-06T07:54:01.263Z"
   },
   {
    "duration": 24,
    "start_time": "2022-10-06T07:54:01.272Z"
   },
   {
    "duration": 18,
    "start_time": "2022-10-06T07:54:01.298Z"
   },
   {
    "duration": 15,
    "start_time": "2022-10-06T07:54:01.319Z"
   },
   {
    "duration": 31,
    "start_time": "2022-10-06T07:54:01.336Z"
   },
   {
    "duration": 428,
    "start_time": "2022-10-06T07:54:01.369Z"
   },
   {
    "duration": 0,
    "start_time": "2022-10-06T07:54:01.798Z"
   },
   {
    "duration": 4,
    "start_time": "2022-10-06T07:54:35.257Z"
   },
   {
    "duration": 82,
    "start_time": "2022-10-06T07:54:35.263Z"
   },
   {
    "duration": 15,
    "start_time": "2022-10-06T07:54:35.347Z"
   },
   {
    "duration": 21,
    "start_time": "2022-10-06T07:54:35.363Z"
   },
   {
    "duration": 16,
    "start_time": "2022-10-06T07:54:35.386Z"
   },
   {
    "duration": 5,
    "start_time": "2022-10-06T07:54:35.404Z"
   },
   {
    "duration": 6,
    "start_time": "2022-10-06T07:54:35.410Z"
   },
   {
    "duration": 9,
    "start_time": "2022-10-06T07:54:35.417Z"
   },
   {
    "duration": 11,
    "start_time": "2022-10-06T07:54:35.427Z"
   },
   {
    "duration": 15,
    "start_time": "2022-10-06T07:54:35.439Z"
   },
   {
    "duration": 450,
    "start_time": "2022-10-06T07:54:35.455Z"
   },
   {
    "duration": 7,
    "start_time": "2022-10-06T07:54:35.907Z"
   },
   {
    "duration": 4,
    "start_time": "2022-10-06T07:54:51.799Z"
   },
   {
    "duration": 73,
    "start_time": "2022-10-06T07:54:51.807Z"
   },
   {
    "duration": 17,
    "start_time": "2022-10-06T07:54:51.881Z"
   },
   {
    "duration": 20,
    "start_time": "2022-10-06T07:54:51.900Z"
   },
   {
    "duration": 16,
    "start_time": "2022-10-06T07:54:51.922Z"
   },
   {
    "duration": 7,
    "start_time": "2022-10-06T07:54:51.940Z"
   },
   {
    "duration": 8,
    "start_time": "2022-10-06T07:54:51.948Z"
   },
   {
    "duration": 12,
    "start_time": "2022-10-06T07:54:51.957Z"
   },
   {
    "duration": 10,
    "start_time": "2022-10-06T07:54:51.994Z"
   },
   {
    "duration": 14,
    "start_time": "2022-10-06T07:54:52.006Z"
   },
   {
    "duration": 461,
    "start_time": "2022-10-06T07:54:52.023Z"
   },
   {
    "duration": 12,
    "start_time": "2022-10-06T07:54:52.486Z"
   },
   {
    "duration": 4,
    "start_time": "2022-10-06T07:56:15.458Z"
   },
   {
    "duration": 73,
    "start_time": "2022-10-06T07:56:15.466Z"
   },
   {
    "duration": 17,
    "start_time": "2022-10-06T07:56:15.541Z"
   },
   {
    "duration": 18,
    "start_time": "2022-10-06T07:56:15.559Z"
   },
   {
    "duration": 15,
    "start_time": "2022-10-06T07:56:15.579Z"
   },
   {
    "duration": 9,
    "start_time": "2022-10-06T07:56:15.596Z"
   },
   {
    "duration": 5,
    "start_time": "2022-10-06T07:56:15.606Z"
   },
   {
    "duration": 9,
    "start_time": "2022-10-06T07:56:15.613Z"
   },
   {
    "duration": 14,
    "start_time": "2022-10-06T07:56:15.623Z"
   },
   {
    "duration": 16,
    "start_time": "2022-10-06T07:56:15.638Z"
   },
   {
    "duration": 441,
    "start_time": "2022-10-06T07:56:15.656Z"
   },
   {
    "duration": 7,
    "start_time": "2022-10-06T07:56:16.099Z"
   },
   {
    "duration": 410,
    "start_time": "2022-10-06T08:01:40.158Z"
   },
   {
    "duration": 617,
    "start_time": "2022-10-06T08:03:10.885Z"
   },
   {
    "duration": 621,
    "start_time": "2022-10-06T08:03:32.015Z"
   },
   {
    "duration": 684,
    "start_time": "2022-10-06T08:03:40.256Z"
   },
   {
    "duration": 637,
    "start_time": "2022-10-06T08:04:50.673Z"
   },
   {
    "duration": 625,
    "start_time": "2022-10-06T08:05:40.535Z"
   },
   {
    "duration": 624,
    "start_time": "2022-10-06T08:05:48.311Z"
   },
   {
    "duration": 83,
    "start_time": "2022-10-06T08:06:11.248Z"
   },
   {
    "duration": 86,
    "start_time": "2022-10-06T08:06:32.730Z"
   },
   {
    "duration": 164,
    "start_time": "2022-10-06T08:06:52.661Z"
   },
   {
    "duration": 90,
    "start_time": "2022-10-06T08:07:03.763Z"
   },
   {
    "duration": 85,
    "start_time": "2022-10-06T08:07:10.818Z"
   },
   {
    "duration": 620,
    "start_time": "2022-10-06T08:07:21.229Z"
   },
   {
    "duration": 651,
    "start_time": "2022-10-06T08:08:37.970Z"
   },
   {
    "duration": 662,
    "start_time": "2022-10-06T08:08:45.650Z"
   },
   {
    "duration": 639,
    "start_time": "2022-10-06T08:10:09.501Z"
   },
   {
    "duration": 660,
    "start_time": "2022-10-06T08:10:29.715Z"
   },
   {
    "duration": 675,
    "start_time": "2022-10-06T08:10:48.455Z"
   },
   {
    "duration": 658,
    "start_time": "2022-10-06T08:10:57.824Z"
   },
   {
    "duration": 676,
    "start_time": "2022-10-06T08:11:05.350Z"
   },
   {
    "duration": 577,
    "start_time": "2022-10-06T08:13:30.097Z"
   },
   {
    "duration": 586,
    "start_time": "2022-10-06T08:13:44.946Z"
   },
   {
    "duration": 712,
    "start_time": "2022-10-06T08:14:36.786Z"
   },
   {
    "duration": 663,
    "start_time": "2022-10-06T08:14:56.428Z"
   },
   {
    "duration": 703,
    "start_time": "2022-10-06T08:39:11.260Z"
   },
   {
    "duration": 696,
    "start_time": "2022-10-06T08:40:40.038Z"
   },
   {
    "duration": 118,
    "start_time": "2022-10-06T08:44:40.174Z"
   },
   {
    "duration": 655,
    "start_time": "2022-10-06T08:44:50.135Z"
   },
   {
    "duration": 303,
    "start_time": "2022-10-06T08:45:54.002Z"
   },
   {
    "duration": 596,
    "start_time": "2022-10-06T08:46:12.555Z"
   },
   {
    "duration": 4,
    "start_time": "2022-10-06T08:46:16.545Z"
   },
   {
    "duration": 88,
    "start_time": "2022-10-06T08:46:16.551Z"
   },
   {
    "duration": 21,
    "start_time": "2022-10-06T08:46:16.642Z"
   },
   {
    "duration": 23,
    "start_time": "2022-10-06T08:46:16.665Z"
   },
   {
    "duration": 22,
    "start_time": "2022-10-06T08:46:16.690Z"
   },
   {
    "duration": 12,
    "start_time": "2022-10-06T08:46:16.714Z"
   },
   {
    "duration": 9,
    "start_time": "2022-10-06T08:46:16.728Z"
   },
   {
    "duration": 10,
    "start_time": "2022-10-06T08:46:16.739Z"
   },
   {
    "duration": 12,
    "start_time": "2022-10-06T08:46:16.752Z"
   },
   {
    "duration": 30,
    "start_time": "2022-10-06T08:46:16.765Z"
   },
   {
    "duration": 480,
    "start_time": "2022-10-06T08:46:16.796Z"
   },
   {
    "duration": 455,
    "start_time": "2022-10-06T08:46:17.278Z"
   },
   {
    "duration": 669,
    "start_time": "2022-10-06T08:46:17.735Z"
   },
   {
    "duration": 3,
    "start_time": "2022-10-06T08:48:32.289Z"
   },
   {
    "duration": 79,
    "start_time": "2022-10-06T08:48:32.294Z"
   },
   {
    "duration": 16,
    "start_time": "2022-10-06T08:48:32.376Z"
   },
   {
    "duration": 16,
    "start_time": "2022-10-06T08:48:32.393Z"
   },
   {
    "duration": 15,
    "start_time": "2022-10-06T08:48:32.411Z"
   },
   {
    "duration": 10,
    "start_time": "2022-10-06T08:48:32.428Z"
   },
   {
    "duration": 6,
    "start_time": "2022-10-06T08:48:32.439Z"
   },
   {
    "duration": 9,
    "start_time": "2022-10-06T08:48:32.446Z"
   },
   {
    "duration": 11,
    "start_time": "2022-10-06T08:48:32.456Z"
   },
   {
    "duration": 36,
    "start_time": "2022-10-06T08:48:32.468Z"
   },
   {
    "duration": 508,
    "start_time": "2022-10-06T08:48:32.506Z"
   },
   {
    "duration": 475,
    "start_time": "2022-10-06T08:48:33.015Z"
   },
   {
    "duration": 649,
    "start_time": "2022-10-06T08:48:33.495Z"
   },
   {
    "duration": 616,
    "start_time": "2022-10-06T08:53:55.102Z"
   },
   {
    "duration": 691,
    "start_time": "2022-10-06T08:55:20.709Z"
   },
   {
    "duration": 722,
    "start_time": "2022-10-06T08:55:32.836Z"
   },
   {
    "duration": 577,
    "start_time": "2022-10-06T08:56:53.168Z"
   },
   {
    "duration": 632,
    "start_time": "2022-10-06T08:58:45.980Z"
   },
   {
    "duration": 643,
    "start_time": "2022-10-06T09:02:05.515Z"
   },
   {
    "duration": 661,
    "start_time": "2022-10-06T09:02:33.203Z"
   },
   {
    "duration": 690,
    "start_time": "2022-10-06T09:02:39.882Z"
   },
   {
    "duration": 549,
    "start_time": "2022-10-06T09:03:18.340Z"
   },
   {
    "duration": 750,
    "start_time": "2022-10-06T09:03:25.953Z"
   },
   {
    "duration": 682,
    "start_time": "2022-10-06T09:03:32.286Z"
   },
   {
    "duration": 790,
    "start_time": "2022-10-06T09:03:36.405Z"
   },
   {
    "duration": 678,
    "start_time": "2022-10-06T09:04:00.018Z"
   },
   {
    "duration": 558,
    "start_time": "2022-10-06T09:04:14.499Z"
   },
   {
    "duration": 637,
    "start_time": "2022-10-06T09:04:25.871Z"
   },
   {
    "duration": 682,
    "start_time": "2022-10-06T09:04:37.278Z"
   },
   {
    "duration": 588,
    "start_time": "2022-10-06T09:07:16.745Z"
   },
   {
    "duration": 560,
    "start_time": "2022-10-06T09:07:34.897Z"
   },
   {
    "duration": 685,
    "start_time": "2022-10-06T09:07:44.318Z"
   },
   {
    "duration": 678,
    "start_time": "2022-10-06T09:07:55.602Z"
   },
   {
    "duration": 753,
    "start_time": "2022-10-06T09:08:33.554Z"
   },
   {
    "duration": 10,
    "start_time": "2022-10-06T09:32:56.148Z"
   },
   {
    "duration": 12,
    "start_time": "2022-10-06T09:33:05.288Z"
   },
   {
    "duration": 125,
    "start_time": "2022-10-06T09:34:08.453Z"
   },
   {
    "duration": 159,
    "start_time": "2022-10-06T09:35:07.471Z"
   },
   {
    "duration": 22,
    "start_time": "2022-10-06T09:39:40.047Z"
   },
   {
    "duration": 16,
    "start_time": "2022-10-06T09:42:57.822Z"
   },
   {
    "duration": 12,
    "start_time": "2022-10-06T09:45:47.757Z"
   },
   {
    "duration": 14,
    "start_time": "2022-10-06T09:55:14.410Z"
   },
   {
    "duration": 311,
    "start_time": "2022-10-06T09:55:20.620Z"
   },
   {
    "duration": 14,
    "start_time": "2022-10-06T09:55:29.747Z"
   },
   {
    "duration": 168,
    "start_time": "2022-10-06T09:56:35.787Z"
   },
   {
    "duration": 4,
    "start_time": "2022-10-06T09:56:42.634Z"
   },
   {
    "duration": 85,
    "start_time": "2022-10-06T09:56:42.640Z"
   },
   {
    "duration": 21,
    "start_time": "2022-10-06T09:56:42.726Z"
   },
   {
    "duration": 22,
    "start_time": "2022-10-06T09:56:42.749Z"
   },
   {
    "duration": 23,
    "start_time": "2022-10-06T09:56:42.775Z"
   },
   {
    "duration": 8,
    "start_time": "2022-10-06T09:56:42.800Z"
   },
   {
    "duration": 26,
    "start_time": "2022-10-06T09:56:42.810Z"
   },
   {
    "duration": 17,
    "start_time": "2022-10-06T09:56:42.838Z"
   },
   {
    "duration": 48,
    "start_time": "2022-10-06T09:56:42.857Z"
   },
   {
    "duration": 22,
    "start_time": "2022-10-06T09:56:42.907Z"
   },
   {
    "duration": 498,
    "start_time": "2022-10-06T09:56:42.931Z"
   },
   {
    "duration": 504,
    "start_time": "2022-10-06T09:56:43.431Z"
   },
   {
    "duration": 692,
    "start_time": "2022-10-06T09:56:43.937Z"
   },
   {
    "duration": 642,
    "start_time": "2022-10-06T09:56:44.631Z"
   },
   {
    "duration": 725,
    "start_time": "2022-10-06T09:56:45.274Z"
   },
   {
    "duration": 171,
    "start_time": "2022-10-06T09:56:46.001Z"
   },
   {
    "duration": 21,
    "start_time": "2022-10-06T09:56:46.174Z"
   },
   {
    "duration": 173,
    "start_time": "2022-10-06T09:56:46.197Z"
   },
   {
    "duration": 1737,
    "start_time": "2022-10-06T09:57:07.781Z"
   },
   {
    "duration": 189,
    "start_time": "2022-10-06T09:58:36.993Z"
   },
   {
    "duration": 189,
    "start_time": "2022-10-06T09:58:58.854Z"
   },
   {
    "duration": 350,
    "start_time": "2022-10-06T09:59:48.065Z"
   },
   {
    "duration": 171,
    "start_time": "2022-10-06T10:00:27.170Z"
   },
   {
    "duration": 169,
    "start_time": "2022-10-06T10:00:35.177Z"
   },
   {
    "duration": 4,
    "start_time": "2022-10-06T10:03:35.172Z"
   },
   {
    "duration": 174,
    "start_time": "2022-10-06T10:04:04.362Z"
   },
   {
    "duration": 138,
    "start_time": "2022-10-06T10:04:18.433Z"
   },
   {
    "duration": 9,
    "start_time": "2022-10-06T10:04:47.964Z"
   },
   {
    "duration": 9,
    "start_time": "2022-10-06T10:04:55.120Z"
   },
   {
    "duration": 10,
    "start_time": "2022-10-06T10:05:56.176Z"
   },
   {
    "duration": 1000,
    "start_time": "2022-10-06T10:06:13.175Z"
   },
   {
    "duration": 1090,
    "start_time": "2022-10-06T10:07:03.607Z"
   },
   {
    "duration": 4,
    "start_time": "2022-10-06T10:07:09.552Z"
   },
   {
    "duration": 71,
    "start_time": "2022-10-06T10:07:09.569Z"
   },
   {
    "duration": 16,
    "start_time": "2022-10-06T10:07:09.642Z"
   },
   {
    "duration": 20,
    "start_time": "2022-10-06T10:07:09.660Z"
   },
   {
    "duration": 21,
    "start_time": "2022-10-06T10:07:09.682Z"
   },
   {
    "duration": 5,
    "start_time": "2022-10-06T10:07:09.705Z"
   },
   {
    "duration": 6,
    "start_time": "2022-10-06T10:07:09.712Z"
   },
   {
    "duration": 11,
    "start_time": "2022-10-06T10:07:09.720Z"
   },
   {
    "duration": 9,
    "start_time": "2022-10-06T10:07:09.733Z"
   },
   {
    "duration": 13,
    "start_time": "2022-10-06T10:07:09.744Z"
   },
   {
    "duration": 491,
    "start_time": "2022-10-06T10:07:09.861Z"
   },
   {
    "duration": 494,
    "start_time": "2022-10-06T10:07:10.354Z"
   },
   {
    "duration": 676,
    "start_time": "2022-10-06T10:07:10.850Z"
   },
   {
    "duration": 670,
    "start_time": "2022-10-06T10:07:11.528Z"
   },
   {
    "duration": 901,
    "start_time": "2022-10-06T10:07:12.200Z"
   },
   {
    "duration": 164,
    "start_time": "2022-10-06T10:07:13.102Z"
   },
   {
    "duration": 13,
    "start_time": "2022-10-06T10:07:13.268Z"
   },
   {
    "duration": 189,
    "start_time": "2022-10-06T10:07:13.282Z"
   },
   {
    "duration": 1015,
    "start_time": "2022-10-06T10:07:13.473Z"
   },
   {
    "duration": 3254,
    "start_time": "2022-10-06T10:08:03.652Z"
   },
   {
    "duration": 5,
    "start_time": "2022-10-06T10:08:15.927Z"
   },
   {
    "duration": 5,
    "start_time": "2022-10-06T10:08:23.544Z"
   },
   {
    "duration": 1802,
    "start_time": "2022-10-06T10:09:03.293Z"
   },
   {
    "duration": 6,
    "start_time": "2022-10-06T10:09:56.369Z"
   },
   {
    "duration": 9,
    "start_time": "2022-10-06T10:10:40.498Z"
   },
   {
    "duration": 199,
    "start_time": "2022-10-06T10:11:03.444Z"
   },
   {
    "duration": 157,
    "start_time": "2022-10-06T10:12:16.279Z"
   },
   {
    "duration": 163,
    "start_time": "2022-10-06T10:12:39.468Z"
   },
   {
    "duration": 8,
    "start_time": "2022-10-06T10:14:54.380Z"
   },
   {
    "duration": 9,
    "start_time": "2022-10-06T10:15:13.802Z"
   },
   {
    "duration": 9,
    "start_time": "2022-10-06T10:15:22.304Z"
   },
   {
    "duration": 297,
    "start_time": "2022-10-06T10:23:33.320Z"
   },
   {
    "duration": 578,
    "start_time": "2022-10-06T10:27:04.220Z"
   },
   {
    "duration": 3,
    "start_time": "2022-10-06T10:27:10.872Z"
   },
   {
    "duration": 74,
    "start_time": "2022-10-06T10:27:10.877Z"
   },
   {
    "duration": 16,
    "start_time": "2022-10-06T10:27:10.953Z"
   },
   {
    "duration": 16,
    "start_time": "2022-10-06T10:27:10.971Z"
   },
   {
    "duration": 17,
    "start_time": "2022-10-06T10:27:10.989Z"
   },
   {
    "duration": 6,
    "start_time": "2022-10-06T10:27:11.007Z"
   },
   {
    "duration": 5,
    "start_time": "2022-10-06T10:27:11.015Z"
   },
   {
    "duration": 10,
    "start_time": "2022-10-06T10:27:11.021Z"
   },
   {
    "duration": 9,
    "start_time": "2022-10-06T10:27:11.033Z"
   },
   {
    "duration": 12,
    "start_time": "2022-10-06T10:27:11.044Z"
   },
   {
    "duration": 510,
    "start_time": "2022-10-06T10:27:11.059Z"
   },
   {
    "duration": 490,
    "start_time": "2022-10-06T10:27:11.570Z"
   },
   {
    "duration": 465,
    "start_time": "2022-10-06T10:27:12.062Z"
   },
   {
    "duration": 508,
    "start_time": "2022-10-06T10:27:12.528Z"
   },
   {
    "duration": 582,
    "start_time": "2022-10-06T10:27:13.037Z"
   },
   {
    "duration": 146,
    "start_time": "2022-10-06T10:27:13.621Z"
   },
   {
    "duration": 12,
    "start_time": "2022-10-06T10:27:13.769Z"
   },
   {
    "duration": 168,
    "start_time": "2022-10-06T10:27:13.794Z"
   },
   {
    "duration": 159,
    "start_time": "2022-10-06T10:27:13.964Z"
   },
   {
    "duration": 8,
    "start_time": "2022-10-06T10:27:14.125Z"
   },
   {
    "duration": 236,
    "start_time": "2022-10-06T10:27:14.135Z"
   },
   {
    "duration": 204,
    "start_time": "2022-10-06T10:36:55.829Z"
   },
   {
    "duration": 10,
    "start_time": "2022-10-06T10:37:16.281Z"
   },
   {
    "duration": 4,
    "start_time": "2022-10-06T10:37:23.965Z"
   },
   {
    "duration": 77,
    "start_time": "2022-10-06T10:37:23.974Z"
   },
   {
    "duration": 17,
    "start_time": "2022-10-06T10:37:24.053Z"
   },
   {
    "duration": 19,
    "start_time": "2022-10-06T10:37:24.072Z"
   },
   {
    "duration": 15,
    "start_time": "2022-10-06T10:37:24.092Z"
   },
   {
    "duration": 5,
    "start_time": "2022-10-06T10:37:24.109Z"
   },
   {
    "duration": 8,
    "start_time": "2022-10-06T10:37:24.116Z"
   },
   {
    "duration": 21,
    "start_time": "2022-10-06T10:37:24.125Z"
   },
   {
    "duration": 11,
    "start_time": "2022-10-06T10:37:24.148Z"
   },
   {
    "duration": 18,
    "start_time": "2022-10-06T10:37:24.161Z"
   },
   {
    "duration": 504,
    "start_time": "2022-10-06T10:37:24.180Z"
   },
   {
    "duration": 480,
    "start_time": "2022-10-06T10:37:24.686Z"
   },
   {
    "duration": 461,
    "start_time": "2022-10-06T10:37:25.167Z"
   },
   {
    "duration": 515,
    "start_time": "2022-10-06T10:37:25.630Z"
   },
   {
    "duration": 622,
    "start_time": "2022-10-06T10:37:26.148Z"
   },
   {
    "duration": 169,
    "start_time": "2022-10-06T10:37:26.772Z"
   },
   {
    "duration": 11,
    "start_time": "2022-10-06T10:37:26.942Z"
   },
   {
    "duration": 175,
    "start_time": "2022-10-06T10:37:26.954Z"
   },
   {
    "duration": 169,
    "start_time": "2022-10-06T10:37:27.131Z"
   },
   {
    "duration": 7,
    "start_time": "2022-10-06T10:37:27.302Z"
   },
   {
    "duration": 427,
    "start_time": "2022-10-06T10:37:27.311Z"
   },
   {
    "duration": 11,
    "start_time": "2022-10-06T10:37:27.739Z"
   },
   {
    "duration": 18,
    "start_time": "2022-10-06T10:38:22.834Z"
   },
   {
    "duration": 4,
    "start_time": "2022-10-06T10:38:54.206Z"
   },
   {
    "duration": 78,
    "start_time": "2022-10-06T10:38:54.212Z"
   },
   {
    "duration": 20,
    "start_time": "2022-10-06T10:38:54.292Z"
   },
   {
    "duration": 27,
    "start_time": "2022-10-06T10:38:54.314Z"
   },
   {
    "duration": 31,
    "start_time": "2022-10-06T10:38:54.344Z"
   },
   {
    "duration": 6,
    "start_time": "2022-10-06T10:38:54.395Z"
   },
   {
    "duration": 23,
    "start_time": "2022-10-06T10:38:54.403Z"
   },
   {
    "duration": 20,
    "start_time": "2022-10-06T10:38:54.428Z"
   },
   {
    "duration": 19,
    "start_time": "2022-10-06T10:38:54.450Z"
   },
   {
    "duration": 31,
    "start_time": "2022-10-06T10:38:54.471Z"
   },
   {
    "duration": 592,
    "start_time": "2022-10-06T10:38:54.505Z"
   },
   {
    "duration": 508,
    "start_time": "2022-10-06T10:38:55.099Z"
   },
   {
    "duration": 502,
    "start_time": "2022-10-06T10:38:55.610Z"
   },
   {
    "duration": 550,
    "start_time": "2022-10-06T10:38:56.114Z"
   },
   {
    "duration": 659,
    "start_time": "2022-10-06T10:38:56.666Z"
   },
   {
    "duration": 186,
    "start_time": "2022-10-06T10:38:57.326Z"
   },
   {
    "duration": 12,
    "start_time": "2022-10-06T10:38:57.513Z"
   },
   {
    "duration": 177,
    "start_time": "2022-10-06T10:38:57.527Z"
   },
   {
    "duration": 175,
    "start_time": "2022-10-06T10:38:57.706Z"
   },
   {
    "duration": 13,
    "start_time": "2022-10-06T10:38:57.883Z"
   },
   {
    "duration": 235,
    "start_time": "2022-10-06T10:38:57.898Z"
   },
   {
    "duration": 10,
    "start_time": "2022-10-06T10:38:58.135Z"
   },
   {
    "duration": 225,
    "start_time": "2022-10-06T10:39:20.445Z"
   },
   {
    "duration": 222,
    "start_time": "2022-10-06T10:39:31.115Z"
   },
   {
    "duration": 362,
    "start_time": "2022-10-06T10:40:31.628Z"
   },
   {
    "duration": 352,
    "start_time": "2022-10-06T10:41:07.443Z"
   },
   {
    "duration": 10,
    "start_time": "2022-10-06T10:42:31.293Z"
   },
   {
    "duration": 331,
    "start_time": "2022-10-06T10:43:42.961Z"
   },
   {
    "duration": 354,
    "start_time": "2022-10-06T10:44:23.573Z"
   },
   {
    "duration": 339,
    "start_time": "2022-10-06T10:44:29.262Z"
   },
   {
    "duration": 332,
    "start_time": "2022-10-06T10:44:46.067Z"
   },
   {
    "duration": 332,
    "start_time": "2022-10-06T10:44:54.808Z"
   },
   {
    "duration": 13,
    "start_time": "2022-10-06T10:45:10.827Z"
   },
   {
    "duration": 333,
    "start_time": "2022-10-06T10:53:28.902Z"
   },
   {
    "duration": 333,
    "start_time": "2022-10-06T10:54:33.367Z"
   },
   {
    "duration": 142,
    "start_time": "2022-10-06T10:56:20.562Z"
   },
   {
    "duration": 173,
    "start_time": "2022-10-06T12:02:19.821Z"
   },
   {
    "duration": 331,
    "start_time": "2022-10-06T12:02:43.105Z"
   },
   {
    "duration": 1305,
    "start_time": "2022-10-06T12:03:27.201Z"
   },
   {
    "duration": 16,
    "start_time": "2022-10-06T12:03:46.759Z"
   },
   {
    "duration": 337,
    "start_time": "2022-10-06T12:04:23.115Z"
   },
   {
    "duration": 363,
    "start_time": "2022-10-06T12:05:13.526Z"
   },
   {
    "duration": 355,
    "start_time": "2022-10-06T12:05:23.773Z"
   },
   {
    "duration": 349,
    "start_time": "2022-10-06T12:11:11.929Z"
   },
   {
    "duration": 339,
    "start_time": "2022-10-06T12:11:45.882Z"
   },
   {
    "duration": 3,
    "start_time": "2022-10-06T12:12:25.874Z"
   },
   {
    "duration": 81,
    "start_time": "2022-10-06T12:12:25.879Z"
   },
   {
    "duration": 18,
    "start_time": "2022-10-06T12:12:25.962Z"
   },
   {
    "duration": 24,
    "start_time": "2022-10-06T12:12:25.981Z"
   },
   {
    "duration": 18,
    "start_time": "2022-10-06T12:12:26.007Z"
   },
   {
    "duration": 11,
    "start_time": "2022-10-06T12:12:26.027Z"
   },
   {
    "duration": 9,
    "start_time": "2022-10-06T12:12:26.039Z"
   },
   {
    "duration": 12,
    "start_time": "2022-10-06T12:12:26.049Z"
   },
   {
    "duration": 11,
    "start_time": "2022-10-06T12:12:26.063Z"
   },
   {
    "duration": 28,
    "start_time": "2022-10-06T12:12:26.076Z"
   },
   {
    "duration": 520,
    "start_time": "2022-10-06T12:12:26.105Z"
   },
   {
    "duration": 520,
    "start_time": "2022-10-06T12:12:26.627Z"
   },
   {
    "duration": 490,
    "start_time": "2022-10-06T12:12:27.148Z"
   },
   {
    "duration": 521,
    "start_time": "2022-10-06T12:12:27.641Z"
   },
   {
    "duration": 579,
    "start_time": "2022-10-06T12:12:28.164Z"
   },
   {
    "duration": 163,
    "start_time": "2022-10-06T12:12:28.745Z"
   },
   {
    "duration": 12,
    "start_time": "2022-10-06T12:12:28.910Z"
   },
   {
    "duration": 185,
    "start_time": "2022-10-06T12:12:28.924Z"
   },
   {
    "duration": 174,
    "start_time": "2022-10-06T12:12:29.112Z"
   },
   {
    "duration": 13,
    "start_time": "2022-10-06T12:12:29.287Z"
   },
   {
    "duration": 360,
    "start_time": "2022-10-06T12:12:29.302Z"
   },
   {
    "duration": 12,
    "start_time": "2022-10-06T12:12:29.664Z"
   },
   {
    "duration": 148,
    "start_time": "2022-10-06T12:12:29.678Z"
   },
   {
    "duration": 347,
    "start_time": "2022-10-06T12:12:29.828Z"
   },
   {
    "duration": 368,
    "start_time": "2022-10-06T12:12:30.177Z"
   },
   {
    "duration": 11,
    "start_time": "2022-10-06T12:14:40.646Z"
   },
   {
    "duration": 129,
    "start_time": "2022-10-06T12:14:52.954Z"
   },
   {
    "duration": 3,
    "start_time": "2022-10-06T12:15:09.395Z"
   },
   {
    "duration": 76,
    "start_time": "2022-10-06T12:15:09.403Z"
   },
   {
    "duration": 16,
    "start_time": "2022-10-06T12:15:09.481Z"
   },
   {
    "duration": 18,
    "start_time": "2022-10-06T12:15:09.498Z"
   },
   {
    "duration": 23,
    "start_time": "2022-10-06T12:15:09.518Z"
   },
   {
    "duration": 7,
    "start_time": "2022-10-06T12:15:09.542Z"
   },
   {
    "duration": 5,
    "start_time": "2022-10-06T12:15:09.551Z"
   },
   {
    "duration": 9,
    "start_time": "2022-10-06T12:15:09.557Z"
   },
   {
    "duration": 29,
    "start_time": "2022-10-06T12:15:09.568Z"
   },
   {
    "duration": 14,
    "start_time": "2022-10-06T12:15:09.599Z"
   },
   {
    "duration": 529,
    "start_time": "2022-10-06T12:15:09.615Z"
   },
   {
    "duration": 451,
    "start_time": "2022-10-06T12:15:10.146Z"
   },
   {
    "duration": 478,
    "start_time": "2022-10-06T12:15:10.599Z"
   },
   {
    "duration": 488,
    "start_time": "2022-10-06T12:15:11.079Z"
   },
   {
    "duration": 585,
    "start_time": "2022-10-06T12:15:11.569Z"
   },
   {
    "duration": 158,
    "start_time": "2022-10-06T12:15:12.155Z"
   },
   {
    "duration": 12,
    "start_time": "2022-10-06T12:15:12.314Z"
   },
   {
    "duration": 170,
    "start_time": "2022-10-06T12:15:12.327Z"
   },
   {
    "duration": 167,
    "start_time": "2022-10-06T12:15:12.499Z"
   },
   {
    "duration": 8,
    "start_time": "2022-10-06T12:15:12.668Z"
   },
   {
    "duration": 361,
    "start_time": "2022-10-06T12:15:12.678Z"
   },
   {
    "duration": 10,
    "start_time": "2022-10-06T12:15:13.042Z"
   },
   {
    "duration": 154,
    "start_time": "2022-10-06T12:15:13.054Z"
   },
   {
    "duration": 367,
    "start_time": "2022-10-06T12:15:13.210Z"
   },
   {
    "duration": 351,
    "start_time": "2022-10-06T12:15:13.579Z"
   },
   {
    "duration": 4,
    "start_time": "2022-10-06T12:32:51.631Z"
   },
   {
    "duration": 86,
    "start_time": "2022-10-06T12:32:51.637Z"
   },
   {
    "duration": 18,
    "start_time": "2022-10-06T12:32:51.725Z"
   },
   {
    "duration": 20,
    "start_time": "2022-10-06T12:32:51.745Z"
   },
   {
    "duration": 17,
    "start_time": "2022-10-06T12:32:51.768Z"
   },
   {
    "duration": 14,
    "start_time": "2022-10-06T12:32:51.787Z"
   },
   {
    "duration": 18,
    "start_time": "2022-10-06T12:32:51.805Z"
   },
   {
    "duration": 12,
    "start_time": "2022-10-06T12:32:51.825Z"
   },
   {
    "duration": 15,
    "start_time": "2022-10-06T12:32:51.839Z"
   },
   {
    "duration": 21,
    "start_time": "2022-10-06T12:32:51.857Z"
   },
   {
    "duration": 537,
    "start_time": "2022-10-06T12:32:51.880Z"
   },
   {
    "duration": 769,
    "start_time": "2022-10-06T12:32:52.419Z"
   },
   {
    "duration": 521,
    "start_time": "2022-10-06T12:32:53.190Z"
   },
   {
    "duration": 602,
    "start_time": "2022-10-06T12:32:53.714Z"
   },
   {
    "duration": 630,
    "start_time": "2022-10-06T12:32:54.318Z"
   },
   {
    "duration": 170,
    "start_time": "2022-10-06T12:32:54.950Z"
   },
   {
    "duration": 13,
    "start_time": "2022-10-06T12:32:55.122Z"
   },
   {
    "duration": 198,
    "start_time": "2022-10-06T12:32:55.137Z"
   },
   {
    "duration": 178,
    "start_time": "2022-10-06T12:32:55.337Z"
   },
   {
    "duration": 12,
    "start_time": "2022-10-06T12:32:55.517Z"
   },
   {
    "duration": 398,
    "start_time": "2022-10-06T12:32:55.531Z"
   },
   {
    "duration": 13,
    "start_time": "2022-10-06T12:32:55.931Z"
   },
   {
    "duration": 157,
    "start_time": "2022-10-06T12:32:55.946Z"
   },
   {
    "duration": 371,
    "start_time": "2022-10-06T12:32:56.108Z"
   },
   {
    "duration": 452,
    "start_time": "2022-10-06T12:32:56.481Z"
   },
   {
    "duration": 1088,
    "start_time": "2022-10-06T12:52:49.705Z"
   },
   {
    "duration": 75,
    "start_time": "2022-10-06T12:52:50.794Z"
   },
   {
    "duration": 17,
    "start_time": "2022-10-06T12:52:50.870Z"
   },
   {
    "duration": 16,
    "start_time": "2022-10-06T12:52:50.889Z"
   },
   {
    "duration": 18,
    "start_time": "2022-10-06T12:52:50.906Z"
   },
   {
    "duration": 10,
    "start_time": "2022-10-06T12:52:50.926Z"
   },
   {
    "duration": 6,
    "start_time": "2022-10-06T12:52:50.938Z"
   },
   {
    "duration": 14,
    "start_time": "2022-10-06T12:52:50.945Z"
   },
   {
    "duration": 9,
    "start_time": "2022-10-06T12:52:50.961Z"
   },
   {
    "duration": 14,
    "start_time": "2022-10-06T12:52:50.973Z"
   },
   {
    "duration": 564,
    "start_time": "2022-10-06T12:52:50.989Z"
   },
   {
    "duration": 465,
    "start_time": "2022-10-06T12:52:51.554Z"
   },
   {
    "duration": 453,
    "start_time": "2022-10-06T12:52:52.021Z"
   },
   {
    "duration": 486,
    "start_time": "2022-10-06T12:52:52.475Z"
   },
   {
    "duration": 571,
    "start_time": "2022-10-06T12:52:52.963Z"
   },
   {
    "duration": 144,
    "start_time": "2022-10-06T12:52:53.535Z"
   },
   {
    "duration": 10,
    "start_time": "2022-10-06T12:52:53.681Z"
   },
   {
    "duration": 172,
    "start_time": "2022-10-06T12:52:53.693Z"
   },
   {
    "duration": 213,
    "start_time": "2022-10-06T12:52:53.866Z"
   },
   {
    "duration": 8,
    "start_time": "2022-10-06T12:52:54.080Z"
   },
   {
    "duration": 359,
    "start_time": "2022-10-06T12:52:54.089Z"
   },
   {
    "duration": 12,
    "start_time": "2022-10-06T12:52:54.450Z"
   },
   {
    "duration": 194,
    "start_time": "2022-10-06T12:52:54.465Z"
   },
   {
    "duration": 391,
    "start_time": "2022-10-06T12:52:54.662Z"
   },
   {
    "duration": 371,
    "start_time": "2022-10-06T12:52:55.055Z"
   },
   {
    "duration": 1281,
    "start_time": "2022-10-06T15:29:11.425Z"
   },
   {
    "duration": 189,
    "start_time": "2022-10-06T15:29:12.708Z"
   },
   {
    "duration": 24,
    "start_time": "2022-10-06T15:29:17.964Z"
   },
   {
    "duration": 22,
    "start_time": "2022-10-06T15:29:26.724Z"
   },
   {
    "duration": 20,
    "start_time": "2022-10-06T15:29:28.889Z"
   },
   {
    "duration": 73,
    "start_time": "2022-10-06T15:31:11.260Z"
   },
   {
    "duration": 12,
    "start_time": "2022-10-06T15:31:17.133Z"
   },
   {
    "duration": 9,
    "start_time": "2022-10-06T15:31:20.357Z"
   },
   {
    "duration": 116,
    "start_time": "2022-10-07T06:36:14.331Z"
   },
   {
    "duration": 1307,
    "start_time": "2022-10-07T07:39:49.799Z"
   },
   {
    "duration": 205,
    "start_time": "2022-10-07T07:39:51.108Z"
   },
   {
    "duration": 18,
    "start_time": "2022-10-07T07:39:51.315Z"
   },
   {
    "duration": 19,
    "start_time": "2022-10-07T07:39:51.334Z"
   },
   {
    "duration": 17,
    "start_time": "2022-10-07T07:39:51.355Z"
   },
   {
    "duration": 7,
    "start_time": "2022-10-07T07:39:51.373Z"
   },
   {
    "duration": 6,
    "start_time": "2022-10-07T07:39:51.395Z"
   },
   {
    "duration": 10,
    "start_time": "2022-10-07T07:39:51.402Z"
   },
   {
    "duration": 15,
    "start_time": "2022-10-07T07:39:51.414Z"
   },
   {
    "duration": 18,
    "start_time": "2022-10-07T07:39:51.430Z"
   },
   {
    "duration": 584,
    "start_time": "2022-10-07T07:39:51.450Z"
   },
   {
    "duration": 478,
    "start_time": "2022-10-07T07:39:52.036Z"
   },
   {
    "duration": 531,
    "start_time": "2022-10-07T07:39:52.516Z"
   },
   {
    "duration": 507,
    "start_time": "2022-10-07T07:39:53.052Z"
   },
   {
    "duration": 650,
    "start_time": "2022-10-07T07:39:53.560Z"
   },
   {
    "duration": 155,
    "start_time": "2022-10-07T07:39:54.212Z"
   },
   {
    "duration": 25,
    "start_time": "2022-10-07T07:39:54.370Z"
   },
   {
    "duration": 181,
    "start_time": "2022-10-07T07:39:54.397Z"
   },
   {
    "duration": 229,
    "start_time": "2022-10-07T07:39:54.579Z"
   },
   {
    "duration": 9,
    "start_time": "2022-10-07T07:39:54.810Z"
   },
   {
    "duration": 399,
    "start_time": "2022-10-07T07:39:54.820Z"
   },
   {
    "duration": 11,
    "start_time": "2022-10-07T07:39:55.221Z"
   },
   {
    "duration": 167,
    "start_time": "2022-10-07T07:39:55.234Z"
   },
   {
    "duration": 351,
    "start_time": "2022-10-07T07:39:55.403Z"
   },
   {
    "duration": 345,
    "start_time": "2022-10-07T07:39:55.756Z"
   },
   {
    "duration": 30,
    "start_time": "2022-10-07T07:42:16.712Z"
   },
   {
    "duration": 24,
    "start_time": "2022-10-07T07:42:26.879Z"
   },
   {
    "duration": 22,
    "start_time": "2022-10-07T07:42:42.313Z"
   },
   {
    "duration": 19,
    "start_time": "2022-10-07T07:42:50.900Z"
   },
   {
    "duration": 67,
    "start_time": "2022-10-07T07:43:51.503Z"
   },
   {
    "duration": 20,
    "start_time": "2022-10-07T07:44:13.550Z"
   },
   {
    "duration": 33,
    "start_time": "2022-10-07T07:44:30.736Z"
   },
   {
    "duration": 20,
    "start_time": "2022-10-07T07:44:40.611Z"
   },
   {
    "duration": 24,
    "start_time": "2022-10-07T07:44:52.342Z"
   },
   {
    "duration": 24,
    "start_time": "2022-10-07T07:45:05.600Z"
   },
   {
    "duration": 3,
    "start_time": "2022-10-07T07:45:11.256Z"
   },
   {
    "duration": 76,
    "start_time": "2022-10-07T07:45:11.266Z"
   },
   {
    "duration": 19,
    "start_time": "2022-10-07T07:45:11.344Z"
   },
   {
    "duration": 21,
    "start_time": "2022-10-07T07:45:11.364Z"
   },
   {
    "duration": 16,
    "start_time": "2022-10-07T07:45:11.387Z"
   },
   {
    "duration": 12,
    "start_time": "2022-10-07T07:45:11.405Z"
   },
   {
    "duration": 6,
    "start_time": "2022-10-07T07:45:11.418Z"
   },
   {
    "duration": 9,
    "start_time": "2022-10-07T07:45:11.425Z"
   },
   {
    "duration": 11,
    "start_time": "2022-10-07T07:45:11.436Z"
   },
   {
    "duration": 13,
    "start_time": "2022-10-07T07:45:11.448Z"
   },
   {
    "duration": 533,
    "start_time": "2022-10-07T07:45:11.463Z"
   },
   {
    "duration": 455,
    "start_time": "2022-10-07T07:45:11.998Z"
   },
   {
    "duration": 492,
    "start_time": "2022-10-07T07:45:12.455Z"
   },
   {
    "duration": 486,
    "start_time": "2022-10-07T07:45:12.949Z"
   },
   {
    "duration": 584,
    "start_time": "2022-10-07T07:45:13.437Z"
   },
   {
    "duration": 149,
    "start_time": "2022-10-07T07:45:14.023Z"
   },
   {
    "duration": 11,
    "start_time": "2022-10-07T07:45:14.173Z"
   },
   {
    "duration": 159,
    "start_time": "2022-10-07T07:45:14.194Z"
   },
   {
    "duration": 162,
    "start_time": "2022-10-07T07:45:14.355Z"
   },
   {
    "duration": 8,
    "start_time": "2022-10-07T07:45:14.519Z"
   },
   {
    "duration": 385,
    "start_time": "2022-10-07T07:45:14.528Z"
   },
   {
    "duration": 12,
    "start_time": "2022-10-07T07:45:14.915Z"
   },
   {
    "duration": 167,
    "start_time": "2022-10-07T07:45:14.928Z"
   },
   {
    "duration": 357,
    "start_time": "2022-10-07T07:45:15.097Z"
   },
   {
    "duration": 350,
    "start_time": "2022-10-07T07:45:15.456Z"
   },
   {
    "duration": 20,
    "start_time": "2022-10-07T07:45:29.862Z"
   },
   {
    "duration": 23,
    "start_time": "2022-10-07T07:45:43.852Z"
   },
   {
    "duration": 22,
    "start_time": "2022-10-07T07:47:43.012Z"
   },
   {
    "duration": 3,
    "start_time": "2022-10-07T07:47:50.249Z"
   },
   {
    "duration": 83,
    "start_time": "2022-10-07T07:47:50.255Z"
   },
   {
    "duration": 18,
    "start_time": "2022-10-07T07:47:50.340Z"
   },
   {
    "duration": 17,
    "start_time": "2022-10-07T07:47:50.360Z"
   },
   {
    "duration": 23,
    "start_time": "2022-10-07T07:47:50.379Z"
   },
   {
    "duration": 21,
    "start_time": "2022-10-07T07:47:50.404Z"
   },
   {
    "duration": 5,
    "start_time": "2022-10-07T07:47:50.427Z"
   },
   {
    "duration": 15,
    "start_time": "2022-10-07T07:47:50.433Z"
   },
   {
    "duration": 17,
    "start_time": "2022-10-07T07:47:50.450Z"
   },
   {
    "duration": 16,
    "start_time": "2022-10-07T07:47:50.469Z"
   },
   {
    "duration": 17,
    "start_time": "2022-10-07T07:47:50.486Z"
   },
   {
    "duration": 487,
    "start_time": "2022-10-07T07:47:50.505Z"
   },
   {
    "duration": 448,
    "start_time": "2022-10-07T07:47:50.996Z"
   },
   {
    "duration": 540,
    "start_time": "2022-10-07T07:47:51.446Z"
   },
   {
    "duration": 471,
    "start_time": "2022-10-07T07:47:51.994Z"
   },
   {
    "duration": 586,
    "start_time": "2022-10-07T07:47:52.466Z"
   },
   {
    "duration": 156,
    "start_time": "2022-10-07T07:47:53.053Z"
   },
   {
    "duration": 11,
    "start_time": "2022-10-07T07:47:53.210Z"
   },
   {
    "duration": 167,
    "start_time": "2022-10-07T07:47:53.223Z"
   },
   {
    "duration": 154,
    "start_time": "2022-10-07T07:47:53.395Z"
   },
   {
    "duration": 9,
    "start_time": "2022-10-07T07:47:53.551Z"
   },
   {
    "duration": 362,
    "start_time": "2022-10-07T07:47:53.562Z"
   },
   {
    "duration": 11,
    "start_time": "2022-10-07T07:47:53.926Z"
   },
   {
    "duration": 152,
    "start_time": "2022-10-07T07:47:53.939Z"
   },
   {
    "duration": 358,
    "start_time": "2022-10-07T07:47:54.095Z"
   },
   {
    "duration": 337,
    "start_time": "2022-10-07T07:47:54.456Z"
   },
   {
    "duration": 22,
    "start_time": "2022-10-07T07:48:32.674Z"
   },
   {
    "duration": 21,
    "start_time": "2022-10-07T07:49:55.590Z"
   },
   {
    "duration": 22,
    "start_time": "2022-10-07T07:50:11.213Z"
   },
   {
    "duration": 4,
    "start_time": "2022-10-07T07:50:16.982Z"
   },
   {
    "duration": 3,
    "start_time": "2022-10-07T07:50:20.375Z"
   },
   {
    "duration": 85,
    "start_time": "2022-10-07T07:50:20.380Z"
   },
   {
    "duration": 4,
    "start_time": "2022-10-07T07:50:20.467Z"
   },
   {
    "duration": 26,
    "start_time": "2022-10-07T07:50:20.472Z"
   },
   {
    "duration": 22,
    "start_time": "2022-10-07T07:50:20.500Z"
   },
   {
    "duration": 22,
    "start_time": "2022-10-07T07:50:20.524Z"
   },
   {
    "duration": 6,
    "start_time": "2022-10-07T07:50:20.548Z"
   },
   {
    "duration": 40,
    "start_time": "2022-10-07T07:50:20.556Z"
   },
   {
    "duration": 25,
    "start_time": "2022-10-07T07:50:20.598Z"
   },
   {
    "duration": 11,
    "start_time": "2022-10-07T07:50:20.625Z"
   },
   {
    "duration": 22,
    "start_time": "2022-10-07T07:50:20.637Z"
   },
   {
    "duration": 505,
    "start_time": "2022-10-07T07:50:20.660Z"
   },
   {
    "duration": 500,
    "start_time": "2022-10-07T07:50:21.168Z"
   },
   {
    "duration": 511,
    "start_time": "2022-10-07T07:50:21.670Z"
   },
   {
    "duration": 508,
    "start_time": "2022-10-07T07:50:22.184Z"
   },
   {
    "duration": 623,
    "start_time": "2022-10-07T07:50:22.694Z"
   },
   {
    "duration": 156,
    "start_time": "2022-10-07T07:50:23.319Z"
   },
   {
    "duration": 23,
    "start_time": "2022-10-07T07:50:23.478Z"
   },
   {
    "duration": 171,
    "start_time": "2022-10-07T07:50:23.503Z"
   },
   {
    "duration": 270,
    "start_time": "2022-10-07T07:50:23.676Z"
   },
   {
    "duration": 9,
    "start_time": "2022-10-07T07:50:23.947Z"
   },
   {
    "duration": 359,
    "start_time": "2022-10-07T07:50:23.958Z"
   },
   {
    "duration": 12,
    "start_time": "2022-10-07T07:50:24.319Z"
   },
   {
    "duration": 145,
    "start_time": "2022-10-07T07:50:24.333Z"
   },
   {
    "duration": 384,
    "start_time": "2022-10-07T07:50:24.479Z"
   },
   {
    "duration": 385,
    "start_time": "2022-10-07T07:50:24.866Z"
   },
   {
    "duration": 20,
    "start_time": "2022-10-07T07:50:57.707Z"
   },
   {
    "duration": 21,
    "start_time": "2022-10-07T07:51:19.482Z"
   },
   {
    "duration": 18,
    "start_time": "2022-10-07T07:51:33.780Z"
   },
   {
    "duration": 5,
    "start_time": "2022-10-07T07:52:08.380Z"
   },
   {
    "duration": 99,
    "start_time": "2022-10-07T07:52:11.942Z"
   },
   {
    "duration": 4,
    "start_time": "2022-10-07T07:52:19.242Z"
   },
   {
    "duration": 25,
    "start_time": "2022-10-07T07:52:21.132Z"
   },
   {
    "duration": 4,
    "start_time": "2022-10-07T07:52:34.682Z"
   },
   {
    "duration": 3,
    "start_time": "2022-10-07T07:52:40.781Z"
   },
   {
    "duration": 20,
    "start_time": "2022-10-07T07:52:45.992Z"
   },
   {
    "duration": 83,
    "start_time": "2022-10-07T07:53:27.290Z"
   },
   {
    "duration": 4,
    "start_time": "2022-10-07T07:53:32.228Z"
   },
   {
    "duration": 4,
    "start_time": "2022-10-07T07:53:36.321Z"
   },
   {
    "duration": 78,
    "start_time": "2022-10-07T07:53:36.327Z"
   },
   {
    "duration": 4,
    "start_time": "2022-10-07T07:53:36.407Z"
   },
   {
    "duration": 21,
    "start_time": "2022-10-07T07:53:36.412Z"
   },
   {
    "duration": 19,
    "start_time": "2022-10-07T07:53:36.436Z"
   },
   {
    "duration": 42,
    "start_time": "2022-10-07T07:53:36.457Z"
   },
   {
    "duration": 5,
    "start_time": "2022-10-07T07:53:36.501Z"
   },
   {
    "duration": 6,
    "start_time": "2022-10-07T07:53:36.508Z"
   },
   {
    "duration": 17,
    "start_time": "2022-10-07T07:53:36.516Z"
   },
   {
    "duration": 16,
    "start_time": "2022-10-07T07:53:36.535Z"
   },
   {
    "duration": 20,
    "start_time": "2022-10-07T07:53:36.553Z"
   },
   {
    "duration": 529,
    "start_time": "2022-10-07T07:53:36.575Z"
   },
   {
    "duration": 455,
    "start_time": "2022-10-07T07:53:37.106Z"
   },
   {
    "duration": 490,
    "start_time": "2022-10-07T07:53:37.563Z"
   },
   {
    "duration": 488,
    "start_time": "2022-10-07T07:53:38.055Z"
   },
   {
    "duration": 575,
    "start_time": "2022-10-07T07:53:38.545Z"
   },
   {
    "duration": 143,
    "start_time": "2022-10-07T07:53:39.122Z"
   },
   {
    "duration": 11,
    "start_time": "2022-10-07T07:53:39.267Z"
   },
   {
    "duration": 168,
    "start_time": "2022-10-07T07:53:39.279Z"
   },
   {
    "duration": 162,
    "start_time": "2022-10-07T07:53:39.448Z"
   },
   {
    "duration": 7,
    "start_time": "2022-10-07T07:53:39.612Z"
   },
   {
    "duration": 338,
    "start_time": "2022-10-07T07:53:39.620Z"
   },
   {
    "duration": 13,
    "start_time": "2022-10-07T07:53:39.960Z"
   },
   {
    "duration": 167,
    "start_time": "2022-10-07T07:53:39.974Z"
   },
   {
    "duration": 343,
    "start_time": "2022-10-07T07:53:40.142Z"
   },
   {
    "duration": 338,
    "start_time": "2022-10-07T07:53:40.486Z"
   },
   {
    "duration": 6,
    "start_time": "2022-10-07T07:54:20.358Z"
   },
   {
    "duration": 9,
    "start_time": "2022-10-07T07:56:01.034Z"
   },
   {
    "duration": 9,
    "start_time": "2022-10-07T07:56:08.270Z"
   },
   {
    "duration": 8,
    "start_time": "2022-10-07T07:56:13.642Z"
   },
   {
    "duration": 10,
    "start_time": "2022-10-07T07:56:27.940Z"
   },
   {
    "duration": 8,
    "start_time": "2022-10-07T07:58:25.219Z"
   },
   {
    "duration": 12,
    "start_time": "2022-10-07T07:58:39.050Z"
   },
   {
    "duration": 3,
    "start_time": "2022-10-07T07:59:32.683Z"
   },
   {
    "duration": 89,
    "start_time": "2022-10-07T07:59:32.688Z"
   },
   {
    "duration": 4,
    "start_time": "2022-10-07T07:59:32.779Z"
   },
   {
    "duration": 21,
    "start_time": "2022-10-07T07:59:32.784Z"
   },
   {
    "duration": 23,
    "start_time": "2022-10-07T07:59:32.807Z"
   },
   {
    "duration": 18,
    "start_time": "2022-10-07T07:59:32.831Z"
   },
   {
    "duration": 6,
    "start_time": "2022-10-07T07:59:32.851Z"
   },
   {
    "duration": 37,
    "start_time": "2022-10-07T07:59:32.859Z"
   },
   {
    "duration": 13,
    "start_time": "2022-10-07T07:59:32.898Z"
   },
   {
    "duration": 13,
    "start_time": "2022-10-07T07:59:32.913Z"
   },
   {
    "duration": 12,
    "start_time": "2022-10-07T07:59:32.927Z"
   },
   {
    "duration": 496,
    "start_time": "2022-10-07T07:59:32.940Z"
   },
   {
    "duration": 465,
    "start_time": "2022-10-07T07:59:33.438Z"
   },
   {
    "duration": 498,
    "start_time": "2022-10-07T07:59:33.906Z"
   },
   {
    "duration": 478,
    "start_time": "2022-10-07T07:59:34.405Z"
   },
   {
    "duration": 661,
    "start_time": "2022-10-07T07:59:34.884Z"
   },
   {
    "duration": 198,
    "start_time": "2022-10-07T07:59:35.547Z"
   },
   {
    "duration": 11,
    "start_time": "2022-10-07T07:59:35.747Z"
   },
   {
    "duration": 278,
    "start_time": "2022-10-07T07:59:35.759Z"
   },
   {
    "duration": 162,
    "start_time": "2022-10-07T07:59:36.038Z"
   },
   {
    "duration": 9,
    "start_time": "2022-10-07T07:59:36.202Z"
   },
   {
    "duration": 400,
    "start_time": "2022-10-07T07:59:36.213Z"
   },
   {
    "duration": 13,
    "start_time": "2022-10-07T07:59:36.616Z"
   },
   {
    "duration": 197,
    "start_time": "2022-10-07T07:59:36.631Z"
   },
   {
    "duration": 365,
    "start_time": "2022-10-07T07:59:36.830Z"
   },
   {
    "duration": 369,
    "start_time": "2022-10-07T07:59:37.197Z"
   },
   {
    "duration": 10,
    "start_time": "2022-10-07T08:04:50.733Z"
   },
   {
    "duration": 12,
    "start_time": "2022-10-07T08:06:07.340Z"
   },
   {
    "duration": 9,
    "start_time": "2022-10-07T08:06:41.451Z"
   },
   {
    "duration": 8,
    "start_time": "2022-10-07T08:06:46.162Z"
   },
   {
    "duration": 9,
    "start_time": "2022-10-07T08:06:50.963Z"
   },
   {
    "duration": 4,
    "start_time": "2022-10-07T08:07:15.602Z"
   },
   {
    "duration": 81,
    "start_time": "2022-10-07T08:07:15.608Z"
   },
   {
    "duration": 3,
    "start_time": "2022-10-07T08:07:15.691Z"
   },
   {
    "duration": 23,
    "start_time": "2022-10-07T08:07:15.696Z"
   },
   {
    "duration": 18,
    "start_time": "2022-10-07T08:07:15.721Z"
   },
   {
    "duration": 18,
    "start_time": "2022-10-07T08:07:15.740Z"
   },
   {
    "duration": 5,
    "start_time": "2022-10-07T08:07:15.760Z"
   },
   {
    "duration": 31,
    "start_time": "2022-10-07T08:07:15.766Z"
   },
   {
    "duration": 13,
    "start_time": "2022-10-07T08:07:15.798Z"
   },
   {
    "duration": 13,
    "start_time": "2022-10-07T08:07:15.813Z"
   },
   {
    "duration": 13,
    "start_time": "2022-10-07T08:07:15.828Z"
   },
   {
    "duration": 10,
    "start_time": "2022-10-07T08:07:15.843Z"
   },
   {
    "duration": 496,
    "start_time": "2022-10-07T08:07:15.855Z"
   },
   {
    "duration": 543,
    "start_time": "2022-10-07T08:07:16.354Z"
   },
   {
    "duration": 469,
    "start_time": "2022-10-07T08:07:16.899Z"
   },
   {
    "duration": 495,
    "start_time": "2022-10-07T08:07:17.370Z"
   },
   {
    "duration": 602,
    "start_time": "2022-10-07T08:07:17.867Z"
   },
   {
    "duration": 154,
    "start_time": "2022-10-07T08:07:18.471Z"
   },
   {
    "duration": 12,
    "start_time": "2022-10-07T08:07:18.627Z"
   },
   {
    "duration": 169,
    "start_time": "2022-10-07T08:07:18.640Z"
   },
   {
    "duration": 166,
    "start_time": "2022-10-07T08:07:18.812Z"
   },
   {
    "duration": 16,
    "start_time": "2022-10-07T08:07:18.979Z"
   },
   {
    "duration": 338,
    "start_time": "2022-10-07T08:07:18.997Z"
   },
   {
    "duration": 12,
    "start_time": "2022-10-07T08:07:19.337Z"
   },
   {
    "duration": 147,
    "start_time": "2022-10-07T08:07:19.351Z"
   },
   {
    "duration": 362,
    "start_time": "2022-10-07T08:07:19.500Z"
   },
   {
    "duration": 346,
    "start_time": "2022-10-07T08:07:19.864Z"
   },
   {
    "duration": 88,
    "start_time": "2022-10-07T08:07:38.894Z"
   },
   {
    "duration": 16,
    "start_time": "2022-10-07T08:07:44.582Z"
   },
   {
    "duration": 10,
    "start_time": "2022-10-07T08:09:05.165Z"
   },
   {
    "duration": 9,
    "start_time": "2022-10-07T08:09:23.195Z"
   },
   {
    "duration": 148,
    "start_time": "2022-10-07T08:10:32.400Z"
   },
   {
    "duration": 10,
    "start_time": "2022-10-07T08:10:54.771Z"
   },
   {
    "duration": 4,
    "start_time": "2022-10-07T08:11:41.707Z"
   },
   {
    "duration": 83,
    "start_time": "2022-10-07T08:11:41.713Z"
   },
   {
    "duration": 3,
    "start_time": "2022-10-07T08:11:41.798Z"
   },
   {
    "duration": 21,
    "start_time": "2022-10-07T08:11:41.803Z"
   },
   {
    "duration": 17,
    "start_time": "2022-10-07T08:11:41.826Z"
   },
   {
    "duration": 17,
    "start_time": "2022-10-07T08:11:41.845Z"
   },
   {
    "duration": 6,
    "start_time": "2022-10-07T08:11:41.895Z"
   },
   {
    "duration": 6,
    "start_time": "2022-10-07T08:11:41.902Z"
   },
   {
    "duration": 11,
    "start_time": "2022-10-07T08:11:41.910Z"
   },
   {
    "duration": 12,
    "start_time": "2022-10-07T08:11:41.923Z"
   },
   {
    "duration": 17,
    "start_time": "2022-10-07T08:11:41.937Z"
   },
   {
    "duration": 15,
    "start_time": "2022-10-07T08:11:41.956Z"
   },
   {
    "duration": 499,
    "start_time": "2022-10-07T08:11:41.973Z"
   },
   {
    "duration": 482,
    "start_time": "2022-10-07T08:11:42.473Z"
   },
   {
    "duration": 465,
    "start_time": "2022-10-07T08:11:42.957Z"
   },
   {
    "duration": 494,
    "start_time": "2022-10-07T08:11:43.424Z"
   },
   {
    "duration": 598,
    "start_time": "2022-10-07T08:11:43.920Z"
   },
   {
    "duration": 157,
    "start_time": "2022-10-07T08:11:44.520Z"
   },
   {
    "duration": 19,
    "start_time": "2022-10-07T08:11:44.679Z"
   },
   {
    "duration": 158,
    "start_time": "2022-10-07T08:11:44.700Z"
   },
   {
    "duration": 167,
    "start_time": "2022-10-07T08:11:44.860Z"
   },
   {
    "duration": 7,
    "start_time": "2022-10-07T08:11:45.029Z"
   },
   {
    "duration": 486,
    "start_time": "2022-10-07T08:11:45.038Z"
   },
   {
    "duration": 10,
    "start_time": "2022-10-07T08:11:45.525Z"
   },
   {
    "duration": 141,
    "start_time": "2022-10-07T08:11:45.536Z"
   },
   {
    "duration": 362,
    "start_time": "2022-10-07T08:11:45.679Z"
   },
   {
    "duration": 359,
    "start_time": "2022-10-07T08:11:46.043Z"
   },
   {
    "duration": 11,
    "start_time": "2022-10-07T08:14:27.210Z"
   },
   {
    "duration": 12,
    "start_time": "2022-10-07T08:14:52.141Z"
   },
   {
    "duration": 11,
    "start_time": "2022-10-07T08:16:14.821Z"
   },
   {
    "duration": 14,
    "start_time": "2022-10-07T08:16:41.639Z"
   },
   {
    "duration": 11,
    "start_time": "2022-10-07T08:16:59.471Z"
   },
   {
    "duration": 6,
    "start_time": "2022-10-07T08:17:05.937Z"
   },
   {
    "duration": 6,
    "start_time": "2022-10-07T08:17:26.559Z"
   },
   {
    "duration": 10,
    "start_time": "2022-10-07T08:20:17.621Z"
   },
   {
    "duration": 10,
    "start_time": "2022-10-07T08:20:24.626Z"
   },
   {
    "duration": 9,
    "start_time": "2022-10-07T08:20:46.919Z"
   },
   {
    "duration": 9,
    "start_time": "2022-10-07T08:20:53.617Z"
   },
   {
    "duration": 5,
    "start_time": "2022-10-07T08:25:04.512Z"
   },
   {
    "duration": 4,
    "start_time": "2022-10-07T08:25:36.057Z"
   },
   {
    "duration": 868,
    "start_time": "2022-10-07T08:26:18.302Z"
   },
   {
    "duration": 919,
    "start_time": "2022-10-07T08:26:33.406Z"
   },
   {
    "duration": 10,
    "start_time": "2022-10-07T08:26:50.567Z"
   },
   {
    "duration": 12,
    "start_time": "2022-10-07T08:27:21.301Z"
   },
   {
    "duration": 11,
    "start_time": "2022-10-07T08:27:32.303Z"
   },
   {
    "duration": 10,
    "start_time": "2022-10-07T08:27:40.902Z"
   },
   {
    "duration": 10,
    "start_time": "2022-10-07T08:28:18.716Z"
   },
   {
    "duration": 12,
    "start_time": "2022-10-07T08:28:27.079Z"
   },
   {
    "duration": 9,
    "start_time": "2022-10-07T08:28:49.799Z"
   },
   {
    "duration": 10,
    "start_time": "2022-10-07T08:29:18.157Z"
   },
   {
    "duration": 8,
    "start_time": "2022-10-07T08:29:29.517Z"
   },
   {
    "duration": 10,
    "start_time": "2022-10-07T08:30:06.171Z"
   },
   {
    "duration": 16,
    "start_time": "2022-10-07T08:30:25.734Z"
   },
   {
    "duration": 11,
    "start_time": "2022-10-07T08:30:30.853Z"
   },
   {
    "duration": 9,
    "start_time": "2022-10-07T08:31:40.198Z"
   },
   {
    "duration": 10,
    "start_time": "2022-10-07T08:31:45.718Z"
   },
   {
    "duration": 3,
    "start_time": "2022-10-07T08:31:56.353Z"
   },
   {
    "duration": 82,
    "start_time": "2022-10-07T08:31:56.358Z"
   },
   {
    "duration": 4,
    "start_time": "2022-10-07T08:31:56.442Z"
   },
   {
    "duration": 21,
    "start_time": "2022-10-07T08:31:56.447Z"
   },
   {
    "duration": 19,
    "start_time": "2022-10-07T08:31:56.470Z"
   },
   {
    "duration": 19,
    "start_time": "2022-10-07T08:31:56.490Z"
   },
   {
    "duration": 6,
    "start_time": "2022-10-07T08:31:56.510Z"
   },
   {
    "duration": 11,
    "start_time": "2022-10-07T08:31:56.518Z"
   },
   {
    "duration": 15,
    "start_time": "2022-10-07T08:31:56.531Z"
   },
   {
    "duration": 14,
    "start_time": "2022-10-07T08:31:56.548Z"
   },
   {
    "duration": 38,
    "start_time": "2022-10-07T08:31:56.566Z"
   },
   {
    "duration": 15,
    "start_time": "2022-10-07T08:31:56.606Z"
   },
   {
    "duration": 23,
    "start_time": "2022-10-07T08:31:56.623Z"
   },
   {
    "duration": 533,
    "start_time": "2022-10-07T08:31:56.649Z"
   },
   {
    "duration": 460,
    "start_time": "2022-10-07T08:31:57.183Z"
   },
   {
    "duration": 494,
    "start_time": "2022-10-07T08:31:57.646Z"
   },
   {
    "duration": 476,
    "start_time": "2022-10-07T08:31:58.142Z"
   },
   {
    "duration": 590,
    "start_time": "2022-10-07T08:31:58.620Z"
   },
   {
    "duration": 157,
    "start_time": "2022-10-07T08:31:59.212Z"
   },
   {
    "duration": 12,
    "start_time": "2022-10-07T08:31:59.371Z"
   },
   {
    "duration": 167,
    "start_time": "2022-10-07T08:31:59.396Z"
   },
   {
    "duration": 168,
    "start_time": "2022-10-07T08:31:59.565Z"
   },
   {
    "duration": 8,
    "start_time": "2022-10-07T08:31:59.735Z"
   },
   {
    "duration": 354,
    "start_time": "2022-10-07T08:31:59.745Z"
   },
   {
    "duration": 10,
    "start_time": "2022-10-07T08:32:00.101Z"
   },
   {
    "duration": 172,
    "start_time": "2022-10-07T08:32:00.112Z"
   },
   {
    "duration": 380,
    "start_time": "2022-10-07T08:32:00.286Z"
   },
   {
    "duration": 363,
    "start_time": "2022-10-07T08:32:00.668Z"
   },
   {
    "duration": 27,
    "start_time": "2022-10-07T08:33:11.475Z"
   },
   {
    "duration": 12,
    "start_time": "2022-10-07T08:33:54.724Z"
   },
   {
    "duration": 10,
    "start_time": "2022-10-07T08:33:57.479Z"
   },
   {
    "duration": 14,
    "start_time": "2022-10-07T08:34:17.789Z"
   },
   {
    "duration": 4,
    "start_time": "2022-10-07T08:35:03.207Z"
   },
   {
    "duration": 85,
    "start_time": "2022-10-07T08:35:03.217Z"
   },
   {
    "duration": 4,
    "start_time": "2022-10-07T08:35:03.304Z"
   },
   {
    "duration": 44,
    "start_time": "2022-10-07T08:35:03.310Z"
   },
   {
    "duration": 40,
    "start_time": "2022-10-07T08:35:03.357Z"
   },
   {
    "duration": 29,
    "start_time": "2022-10-07T08:35:03.399Z"
   },
   {
    "duration": 18,
    "start_time": "2022-10-07T08:35:03.429Z"
   },
   {
    "duration": 45,
    "start_time": "2022-10-07T08:35:03.449Z"
   },
   {
    "duration": 15,
    "start_time": "2022-10-07T08:35:03.496Z"
   },
   {
    "duration": 27,
    "start_time": "2022-10-07T08:35:03.513Z"
   },
   {
    "duration": 37,
    "start_time": "2022-10-07T08:35:03.543Z"
   },
   {
    "duration": 45,
    "start_time": "2022-10-07T08:35:03.582Z"
   },
   {
    "duration": 10,
    "start_time": "2022-10-07T08:35:03.628Z"
   },
   {
    "duration": 505,
    "start_time": "2022-10-07T08:35:03.640Z"
   },
   {
    "duration": 462,
    "start_time": "2022-10-07T08:35:04.147Z"
   },
   {
    "duration": 479,
    "start_time": "2022-10-07T08:35:04.611Z"
   },
   {
    "duration": 497,
    "start_time": "2022-10-07T08:35:05.095Z"
   },
   {
    "duration": 581,
    "start_time": "2022-10-07T08:35:05.595Z"
   },
   {
    "duration": 150,
    "start_time": "2022-10-07T08:35:06.177Z"
   },
   {
    "duration": 11,
    "start_time": "2022-10-07T08:35:06.328Z"
   },
   {
    "duration": 162,
    "start_time": "2022-10-07T08:35:06.340Z"
   },
   {
    "duration": 213,
    "start_time": "2022-10-07T08:35:06.503Z"
   },
   {
    "duration": 10,
    "start_time": "2022-10-07T08:35:06.718Z"
   },
   {
    "duration": 396,
    "start_time": "2022-10-07T08:35:06.732Z"
   },
   {
    "duration": 10,
    "start_time": "2022-10-07T08:35:07.130Z"
   },
   {
    "duration": 147,
    "start_time": "2022-10-07T08:35:07.142Z"
   },
   {
    "duration": 346,
    "start_time": "2022-10-07T08:35:07.291Z"
   },
   {
    "duration": 359,
    "start_time": "2022-10-07T08:35:07.639Z"
   },
   {
    "duration": 24,
    "start_time": "2022-10-07T08:36:09.193Z"
   },
   {
    "duration": 17,
    "start_time": "2022-10-07T08:36:21.733Z"
   },
   {
    "duration": 3,
    "start_time": "2022-10-07T08:37:31.246Z"
   },
   {
    "duration": 89,
    "start_time": "2022-10-07T08:37:31.251Z"
   },
   {
    "duration": 4,
    "start_time": "2022-10-07T08:37:31.342Z"
   },
   {
    "duration": 20,
    "start_time": "2022-10-07T08:37:31.347Z"
   },
   {
    "duration": 18,
    "start_time": "2022-10-07T08:37:31.369Z"
   },
   {
    "duration": 17,
    "start_time": "2022-10-07T08:37:31.388Z"
   },
   {
    "duration": 5,
    "start_time": "2022-10-07T08:37:31.406Z"
   },
   {
    "duration": 16,
    "start_time": "2022-10-07T08:37:31.412Z"
   },
   {
    "duration": 15,
    "start_time": "2022-10-07T08:37:31.429Z"
   },
   {
    "duration": 12,
    "start_time": "2022-10-07T08:37:31.446Z"
   },
   {
    "duration": 11,
    "start_time": "2022-10-07T08:37:31.460Z"
   },
   {
    "duration": 32,
    "start_time": "2022-10-07T08:37:31.472Z"
   },
   {
    "duration": 10,
    "start_time": "2022-10-07T08:37:31.505Z"
   },
   {
    "duration": 473,
    "start_time": "2022-10-07T08:37:31.517Z"
   },
   {
    "duration": 474,
    "start_time": "2022-10-07T08:37:31.991Z"
   },
   {
    "duration": 485,
    "start_time": "2022-10-07T08:37:32.467Z"
   },
   {
    "duration": 491,
    "start_time": "2022-10-07T08:37:32.954Z"
   },
   {
    "duration": 767,
    "start_time": "2022-10-07T08:37:33.447Z"
   },
   {
    "duration": 149,
    "start_time": "2022-10-07T08:37:34.215Z"
   },
   {
    "duration": 30,
    "start_time": "2022-10-07T08:37:34.366Z"
   },
   {
    "duration": 162,
    "start_time": "2022-10-07T08:37:34.398Z"
   },
   {
    "duration": 171,
    "start_time": "2022-10-07T08:37:34.561Z"
   },
   {
    "duration": 10,
    "start_time": "2022-10-07T08:37:34.733Z"
   },
   {
    "duration": 375,
    "start_time": "2022-10-07T08:37:34.745Z"
   },
   {
    "duration": 12,
    "start_time": "2022-10-07T08:37:35.121Z"
   },
   {
    "duration": 165,
    "start_time": "2022-10-07T08:37:35.135Z"
   },
   {
    "duration": 347,
    "start_time": "2022-10-07T08:37:35.301Z"
   },
   {
    "duration": 345,
    "start_time": "2022-10-07T08:37:35.650Z"
   },
   {
    "duration": 18,
    "start_time": "2022-10-07T08:38:32.957Z"
   },
   {
    "duration": 17,
    "start_time": "2022-10-07T08:38:42.659Z"
   },
   {
    "duration": 4,
    "start_time": "2022-10-07T08:38:52.755Z"
   },
   {
    "duration": 84,
    "start_time": "2022-10-07T08:38:52.765Z"
   },
   {
    "duration": 4,
    "start_time": "2022-10-07T08:38:52.852Z"
   },
   {
    "duration": 56,
    "start_time": "2022-10-07T08:38:52.858Z"
   },
   {
    "duration": 33,
    "start_time": "2022-10-07T08:38:52.916Z"
   },
   {
    "duration": 44,
    "start_time": "2022-10-07T08:38:52.951Z"
   },
   {
    "duration": 6,
    "start_time": "2022-10-07T08:38:52.997Z"
   },
   {
    "duration": 10,
    "start_time": "2022-10-07T08:38:53.004Z"
   },
   {
    "duration": 22,
    "start_time": "2022-10-07T08:38:53.015Z"
   },
   {
    "duration": 16,
    "start_time": "2022-10-07T08:38:53.038Z"
   },
   {
    "duration": 18,
    "start_time": "2022-10-07T08:38:53.056Z"
   },
   {
    "duration": 33,
    "start_time": "2022-10-07T08:38:53.076Z"
   },
   {
    "duration": 22,
    "start_time": "2022-10-07T08:38:53.111Z"
   },
   {
    "duration": 486,
    "start_time": "2022-10-07T08:38:53.136Z"
   },
   {
    "duration": 473,
    "start_time": "2022-10-07T08:38:53.624Z"
   },
   {
    "duration": 474,
    "start_time": "2022-10-07T08:38:54.099Z"
   },
   {
    "duration": 494,
    "start_time": "2022-10-07T08:38:54.575Z"
   },
   {
    "duration": 556,
    "start_time": "2022-10-07T08:38:55.071Z"
   },
   {
    "duration": 146,
    "start_time": "2022-10-07T08:38:55.628Z"
   },
   {
    "duration": 20,
    "start_time": "2022-10-07T08:38:55.775Z"
   },
   {
    "duration": 154,
    "start_time": "2022-10-07T08:38:55.797Z"
   },
   {
    "duration": 162,
    "start_time": "2022-10-07T08:38:55.953Z"
   },
   {
    "duration": 8,
    "start_time": "2022-10-07T08:38:56.117Z"
   },
   {
    "duration": 352,
    "start_time": "2022-10-07T08:38:56.128Z"
   },
   {
    "duration": 18,
    "start_time": "2022-10-07T08:38:56.482Z"
   },
   {
    "duration": 203,
    "start_time": "2022-10-07T08:38:56.502Z"
   },
   {
    "duration": 375,
    "start_time": "2022-10-07T08:38:56.708Z"
   },
   {
    "duration": 347,
    "start_time": "2022-10-07T08:38:57.086Z"
   },
   {
    "duration": 12,
    "start_time": "2022-10-07T08:39:42.492Z"
   },
   {
    "duration": 11,
    "start_time": "2022-10-07T08:39:47.733Z"
   },
   {
    "duration": 10,
    "start_time": "2022-10-07T08:39:50.719Z"
   },
   {
    "duration": 9,
    "start_time": "2022-10-07T08:39:53.255Z"
   },
   {
    "duration": 14,
    "start_time": "2022-10-07T08:40:03.204Z"
   },
   {
    "duration": 10,
    "start_time": "2022-10-07T08:40:31.557Z"
   },
   {
    "duration": 14,
    "start_time": "2022-10-07T08:40:49.092Z"
   },
   {
    "duration": 11,
    "start_time": "2022-10-07T08:41:17.706Z"
   },
   {
    "duration": 11,
    "start_time": "2022-10-07T08:41:20.454Z"
   },
   {
    "duration": 15,
    "start_time": "2022-10-07T08:41:28.100Z"
   },
   {
    "duration": 8,
    "start_time": "2022-10-07T08:42:08.669Z"
   },
   {
    "duration": 11,
    "start_time": "2022-10-07T08:43:07.956Z"
   },
   {
    "duration": 13,
    "start_time": "2022-10-07T08:43:14.809Z"
   },
   {
    "duration": 4,
    "start_time": "2022-10-07T08:43:18.576Z"
   },
   {
    "duration": 88,
    "start_time": "2022-10-07T08:43:18.583Z"
   },
   {
    "duration": 5,
    "start_time": "2022-10-07T08:43:18.673Z"
   },
   {
    "duration": 36,
    "start_time": "2022-10-07T08:43:18.680Z"
   },
   {
    "duration": 17,
    "start_time": "2022-10-07T08:43:18.718Z"
   },
   {
    "duration": 16,
    "start_time": "2022-10-07T08:43:18.737Z"
   },
   {
    "duration": 5,
    "start_time": "2022-10-07T08:43:18.755Z"
   },
   {
    "duration": 33,
    "start_time": "2022-10-07T08:43:18.762Z"
   },
   {
    "duration": 12,
    "start_time": "2022-10-07T08:43:18.797Z"
   },
   {
    "duration": 15,
    "start_time": "2022-10-07T08:43:18.811Z"
   },
   {
    "duration": 33,
    "start_time": "2022-10-07T08:43:18.828Z"
   },
   {
    "duration": 12,
    "start_time": "2022-10-07T08:43:18.863Z"
   },
   {
    "duration": 14,
    "start_time": "2022-10-07T08:43:18.876Z"
   },
   {
    "duration": 479,
    "start_time": "2022-10-07T08:43:18.895Z"
   },
   {
    "duration": 470,
    "start_time": "2022-10-07T08:43:19.376Z"
   },
   {
    "duration": 499,
    "start_time": "2022-10-07T08:43:19.848Z"
   },
   {
    "duration": 473,
    "start_time": "2022-10-07T08:43:20.349Z"
   },
   {
    "duration": 592,
    "start_time": "2022-10-07T08:43:20.824Z"
   },
   {
    "duration": 185,
    "start_time": "2022-10-07T08:43:21.418Z"
   },
   {
    "duration": 13,
    "start_time": "2022-10-07T08:43:21.605Z"
   },
   {
    "duration": 176,
    "start_time": "2022-10-07T08:43:21.620Z"
   },
   {
    "duration": 160,
    "start_time": "2022-10-07T08:43:21.798Z"
   },
   {
    "duration": 8,
    "start_time": "2022-10-07T08:43:21.959Z"
   },
   {
    "duration": 347,
    "start_time": "2022-10-07T08:43:21.969Z"
   },
   {
    "duration": 10,
    "start_time": "2022-10-07T08:43:22.317Z"
   },
   {
    "duration": 143,
    "start_time": "2022-10-07T08:43:22.329Z"
   },
   {
    "duration": 372,
    "start_time": "2022-10-07T08:43:22.476Z"
   },
   {
    "duration": 341,
    "start_time": "2022-10-07T08:43:22.850Z"
   },
   {
    "duration": 11,
    "start_time": "2022-10-07T08:44:00.363Z"
   },
   {
    "duration": 18,
    "start_time": "2022-10-07T08:44:09.715Z"
   },
   {
    "duration": 22,
    "start_time": "2022-10-07T08:44:24.655Z"
   },
   {
    "duration": 25,
    "start_time": "2022-10-07T08:44:59.351Z"
   },
   {
    "duration": 26,
    "start_time": "2022-10-07T08:45:26.326Z"
   },
   {
    "duration": 4,
    "start_time": "2022-10-07T08:45:33.015Z"
   },
   {
    "duration": 78,
    "start_time": "2022-10-07T08:45:33.020Z"
   },
   {
    "duration": 5,
    "start_time": "2022-10-07T08:45:33.100Z"
   },
   {
    "duration": 25,
    "start_time": "2022-10-07T08:45:33.107Z"
   },
   {
    "duration": 22,
    "start_time": "2022-10-07T08:45:33.134Z"
   },
   {
    "duration": 44,
    "start_time": "2022-10-07T08:45:33.158Z"
   },
   {
    "duration": 6,
    "start_time": "2022-10-07T08:45:33.204Z"
   },
   {
    "duration": 6,
    "start_time": "2022-10-07T08:45:33.212Z"
   },
   {
    "duration": 15,
    "start_time": "2022-10-07T08:45:33.219Z"
   },
   {
    "duration": 16,
    "start_time": "2022-10-07T08:45:33.235Z"
   },
   {
    "duration": 11,
    "start_time": "2022-10-07T08:45:33.253Z"
   },
   {
    "duration": 51,
    "start_time": "2022-10-07T08:45:33.266Z"
   },
   {
    "duration": 12,
    "start_time": "2022-10-07T08:45:33.319Z"
   },
   {
    "duration": 494,
    "start_time": "2022-10-07T08:45:33.334Z"
   },
   {
    "duration": 464,
    "start_time": "2022-10-07T08:45:33.831Z"
   },
   {
    "duration": 478,
    "start_time": "2022-10-07T08:45:34.297Z"
   },
   {
    "duration": 515,
    "start_time": "2022-10-07T08:45:34.777Z"
   },
   {
    "duration": 835,
    "start_time": "2022-10-07T08:45:35.295Z"
   },
   {
    "duration": 153,
    "start_time": "2022-10-07T08:45:36.132Z"
   },
   {
    "duration": 15,
    "start_time": "2022-10-07T08:45:36.287Z"
   },
   {
    "duration": 178,
    "start_time": "2022-10-07T08:45:36.303Z"
   },
   {
    "duration": 196,
    "start_time": "2022-10-07T08:45:36.483Z"
   },
   {
    "duration": 18,
    "start_time": "2022-10-07T08:45:36.681Z"
   },
   {
    "duration": 399,
    "start_time": "2022-10-07T08:45:36.702Z"
   },
   {
    "duration": 10,
    "start_time": "2022-10-07T08:45:37.103Z"
   },
   {
    "duration": 156,
    "start_time": "2022-10-07T08:45:37.115Z"
   },
   {
    "duration": 346,
    "start_time": "2022-10-07T08:45:37.273Z"
   },
   {
    "duration": 352,
    "start_time": "2022-10-07T08:45:37.621Z"
   },
   {
    "duration": 1337,
    "start_time": "2022-10-07T08:47:09.236Z"
   },
   {
    "duration": 26,
    "start_time": "2022-10-07T08:47:27.393Z"
   },
   {
    "duration": 4,
    "start_time": "2022-10-07T08:47:37.501Z"
   },
   {
    "duration": 83,
    "start_time": "2022-10-07T08:47:37.508Z"
   },
   {
    "duration": 4,
    "start_time": "2022-10-07T08:47:37.593Z"
   },
   {
    "duration": 19,
    "start_time": "2022-10-07T08:47:37.600Z"
   },
   {
    "duration": 18,
    "start_time": "2022-10-07T08:47:37.621Z"
   },
   {
    "duration": 17,
    "start_time": "2022-10-07T08:47:37.641Z"
   },
   {
    "duration": 7,
    "start_time": "2022-10-07T08:47:37.694Z"
   },
   {
    "duration": 6,
    "start_time": "2022-10-07T08:47:37.702Z"
   },
   {
    "duration": 11,
    "start_time": "2022-10-07T08:47:37.710Z"
   },
   {
    "duration": 10,
    "start_time": "2022-10-07T08:47:37.724Z"
   },
   {
    "duration": 10,
    "start_time": "2022-10-07T08:47:37.736Z"
   },
   {
    "duration": 53,
    "start_time": "2022-10-07T08:47:37.748Z"
   },
   {
    "duration": 11,
    "start_time": "2022-10-07T08:47:37.802Z"
   },
   {
    "duration": 508,
    "start_time": "2022-10-07T08:47:37.815Z"
   },
   {
    "duration": 449,
    "start_time": "2022-10-07T08:47:38.325Z"
   },
   {
    "duration": 474,
    "start_time": "2022-10-07T08:47:38.776Z"
   },
   {
    "duration": 487,
    "start_time": "2022-10-07T08:47:39.252Z"
   },
   {
    "duration": 581,
    "start_time": "2022-10-07T08:47:39.740Z"
   },
   {
    "duration": 161,
    "start_time": "2022-10-07T08:47:40.322Z"
   },
   {
    "duration": 17,
    "start_time": "2022-10-07T08:47:40.485Z"
   },
   {
    "duration": 162,
    "start_time": "2022-10-07T08:47:40.503Z"
   },
   {
    "duration": 164,
    "start_time": "2022-10-07T08:47:40.667Z"
   },
   {
    "duration": 9,
    "start_time": "2022-10-07T08:47:40.833Z"
   },
   {
    "duration": 357,
    "start_time": "2022-10-07T08:47:40.844Z"
   },
   {
    "duration": 12,
    "start_time": "2022-10-07T08:47:41.203Z"
   },
   {
    "duration": 153,
    "start_time": "2022-10-07T08:47:41.217Z"
   },
   {
    "duration": 380,
    "start_time": "2022-10-07T08:47:41.372Z"
   },
   {
    "duration": 343,
    "start_time": "2022-10-07T08:47:41.755Z"
   },
   {
    "duration": 3,
    "start_time": "2022-10-07T08:48:33.981Z"
   },
   {
    "duration": 79,
    "start_time": "2022-10-07T08:48:33.986Z"
   },
   {
    "duration": 3,
    "start_time": "2022-10-07T08:48:34.067Z"
   },
   {
    "duration": 30,
    "start_time": "2022-10-07T08:48:34.071Z"
   },
   {
    "duration": 17,
    "start_time": "2022-10-07T08:48:34.104Z"
   },
   {
    "duration": 16,
    "start_time": "2022-10-07T08:48:34.122Z"
   },
   {
    "duration": 6,
    "start_time": "2022-10-07T08:48:34.139Z"
   },
   {
    "duration": 7,
    "start_time": "2022-10-07T08:48:34.146Z"
   },
   {
    "duration": 41,
    "start_time": "2022-10-07T08:48:34.155Z"
   },
   {
    "duration": 10,
    "start_time": "2022-10-07T08:48:34.198Z"
   },
   {
    "duration": 11,
    "start_time": "2022-10-07T08:48:34.210Z"
   },
   {
    "duration": 24,
    "start_time": "2022-10-07T08:48:34.223Z"
   },
   {
    "duration": 9,
    "start_time": "2022-10-07T08:48:34.249Z"
   },
   {
    "duration": 498,
    "start_time": "2022-10-07T08:48:34.261Z"
   },
   {
    "duration": 469,
    "start_time": "2022-10-07T08:48:34.761Z"
   },
   {
    "duration": 489,
    "start_time": "2022-10-07T08:48:35.232Z"
   },
   {
    "duration": 484,
    "start_time": "2022-10-07T08:48:35.723Z"
   },
   {
    "duration": 614,
    "start_time": "2022-10-07T08:48:36.209Z"
   },
   {
    "duration": 156,
    "start_time": "2022-10-07T08:48:36.824Z"
   },
   {
    "duration": 15,
    "start_time": "2022-10-07T08:48:36.981Z"
   },
   {
    "duration": 168,
    "start_time": "2022-10-07T08:48:36.997Z"
   },
   {
    "duration": 167,
    "start_time": "2022-10-07T08:48:37.167Z"
   },
   {
    "duration": 8,
    "start_time": "2022-10-07T08:48:37.335Z"
   },
   {
    "duration": 347,
    "start_time": "2022-10-07T08:48:37.345Z"
   },
   {
    "duration": 11,
    "start_time": "2022-10-07T08:48:37.693Z"
   },
   {
    "duration": 149,
    "start_time": "2022-10-07T08:48:37.706Z"
   },
   {
    "duration": 376,
    "start_time": "2022-10-07T08:48:37.857Z"
   },
   {
    "duration": 356,
    "start_time": "2022-10-07T08:48:38.235Z"
   },
   {
    "duration": 1610,
    "start_time": "2022-10-07T08:51:35.810Z"
   },
   {
    "duration": 30,
    "start_time": "2022-10-07T08:52:06.826Z"
   },
   {
    "duration": 19,
    "start_time": "2022-10-07T08:52:52.496Z"
   },
   {
    "duration": 4,
    "start_time": "2022-10-07T08:52:59.572Z"
   },
   {
    "duration": 81,
    "start_time": "2022-10-07T08:52:59.578Z"
   },
   {
    "duration": 4,
    "start_time": "2022-10-07T08:52:59.660Z"
   },
   {
    "duration": 21,
    "start_time": "2022-10-07T08:52:59.665Z"
   },
   {
    "duration": 18,
    "start_time": "2022-10-07T08:52:59.688Z"
   },
   {
    "duration": 18,
    "start_time": "2022-10-07T08:52:59.708Z"
   },
   {
    "duration": 5,
    "start_time": "2022-10-07T08:52:59.728Z"
   },
   {
    "duration": 6,
    "start_time": "2022-10-07T08:52:59.735Z"
   },
   {
    "duration": 12,
    "start_time": "2022-10-07T08:52:59.742Z"
   },
   {
    "duration": 47,
    "start_time": "2022-10-07T08:52:59.756Z"
   },
   {
    "duration": 15,
    "start_time": "2022-10-07T08:52:59.804Z"
   },
   {
    "duration": 18,
    "start_time": "2022-10-07T08:52:59.820Z"
   },
   {
    "duration": 10,
    "start_time": "2022-10-07T08:52:59.840Z"
   },
   {
    "duration": 492,
    "start_time": "2022-10-07T08:52:59.853Z"
   },
   {
    "duration": 463,
    "start_time": "2022-10-07T08:53:00.347Z"
   },
   {
    "duration": 487,
    "start_time": "2022-10-07T08:53:00.812Z"
   },
   {
    "duration": 504,
    "start_time": "2022-10-07T08:53:01.300Z"
   },
   {
    "duration": 610,
    "start_time": "2022-10-07T08:53:01.806Z"
   },
   {
    "duration": 162,
    "start_time": "2022-10-07T08:53:02.417Z"
   },
   {
    "duration": 19,
    "start_time": "2022-10-07T08:53:02.581Z"
   },
   {
    "duration": 165,
    "start_time": "2022-10-07T08:53:02.602Z"
   },
   {
    "duration": 203,
    "start_time": "2022-10-07T08:53:02.769Z"
   },
   {
    "duration": 9,
    "start_time": "2022-10-07T08:53:02.975Z"
   },
   {
    "duration": 362,
    "start_time": "2022-10-07T08:53:02.995Z"
   },
   {
    "duration": 11,
    "start_time": "2022-10-07T08:53:03.359Z"
   },
   {
    "duration": 151,
    "start_time": "2022-10-07T08:53:03.372Z"
   },
   {
    "duration": 344,
    "start_time": "2022-10-07T08:53:03.525Z"
   },
   {
    "duration": 373,
    "start_time": "2022-10-07T08:53:03.871Z"
   },
   {
    "duration": 20,
    "start_time": "2022-10-07T08:54:04.746Z"
   },
   {
    "duration": 3,
    "start_time": "2022-10-07T08:54:11.266Z"
   },
   {
    "duration": 80,
    "start_time": "2022-10-07T08:54:11.271Z"
   },
   {
    "duration": 4,
    "start_time": "2022-10-07T08:54:11.352Z"
   },
   {
    "duration": 21,
    "start_time": "2022-10-07T08:54:11.358Z"
   },
   {
    "duration": 18,
    "start_time": "2022-10-07T08:54:11.381Z"
   },
   {
    "duration": 18,
    "start_time": "2022-10-07T08:54:11.400Z"
   },
   {
    "duration": 6,
    "start_time": "2022-10-07T08:54:11.420Z"
   },
   {
    "duration": 6,
    "start_time": "2022-10-07T08:54:11.427Z"
   },
   {
    "duration": 14,
    "start_time": "2022-10-07T08:54:11.434Z"
   },
   {
    "duration": 13,
    "start_time": "2022-10-07T08:54:11.449Z"
   },
   {
    "duration": 37,
    "start_time": "2022-10-07T08:54:11.463Z"
   },
   {
    "duration": 29,
    "start_time": "2022-10-07T08:54:11.502Z"
   },
   {
    "duration": 11,
    "start_time": "2022-10-07T08:54:11.533Z"
   },
   {
    "duration": 525,
    "start_time": "2022-10-07T08:54:11.547Z"
   },
   {
    "duration": 721,
    "start_time": "2022-10-07T08:54:12.074Z"
   },
   {
    "duration": 511,
    "start_time": "2022-10-07T08:54:12.797Z"
   },
   {
    "duration": 492,
    "start_time": "2022-10-07T08:54:13.310Z"
   },
   {
    "duration": 604,
    "start_time": "2022-10-07T08:54:13.804Z"
   },
   {
    "duration": 147,
    "start_time": "2022-10-07T08:54:14.410Z"
   },
   {
    "duration": 11,
    "start_time": "2022-10-07T08:54:14.559Z"
   },
   {
    "duration": 173,
    "start_time": "2022-10-07T08:54:14.572Z"
   },
   {
    "duration": 164,
    "start_time": "2022-10-07T08:54:14.747Z"
   },
   {
    "duration": 8,
    "start_time": "2022-10-07T08:54:14.913Z"
   },
   {
    "duration": 361,
    "start_time": "2022-10-07T08:54:14.922Z"
   },
   {
    "duration": 15,
    "start_time": "2022-10-07T08:54:15.285Z"
   },
   {
    "duration": 154,
    "start_time": "2022-10-07T08:54:15.302Z"
   },
   {
    "duration": 357,
    "start_time": "2022-10-07T08:54:15.458Z"
   },
   {
    "duration": 349,
    "start_time": "2022-10-07T08:54:15.817Z"
   },
   {
    "duration": 79,
    "start_time": "2022-10-07T08:57:56.413Z"
   },
   {
    "duration": 26,
    "start_time": "2022-10-07T08:58:55.088Z"
   },
   {
    "duration": 24,
    "start_time": "2022-10-07T08:59:29.575Z"
   },
   {
    "duration": 24,
    "start_time": "2022-10-07T08:59:53.137Z"
   },
   {
    "duration": 4,
    "start_time": "2022-10-07T09:00:03.809Z"
   },
   {
    "duration": 95,
    "start_time": "2022-10-07T09:00:03.815Z"
   },
   {
    "duration": 4,
    "start_time": "2022-10-07T09:00:03.912Z"
   },
   {
    "duration": 27,
    "start_time": "2022-10-07T09:00:03.917Z"
   },
   {
    "duration": 19,
    "start_time": "2022-10-07T09:00:03.946Z"
   },
   {
    "duration": 28,
    "start_time": "2022-10-07T09:00:03.967Z"
   },
   {
    "duration": 5,
    "start_time": "2022-10-07T09:00:03.997Z"
   },
   {
    "duration": 18,
    "start_time": "2022-10-07T09:00:04.004Z"
   },
   {
    "duration": 17,
    "start_time": "2022-10-07T09:00:04.024Z"
   },
   {
    "duration": 24,
    "start_time": "2022-10-07T09:00:04.042Z"
   },
   {
    "duration": 22,
    "start_time": "2022-10-07T09:00:04.068Z"
   },
   {
    "duration": 29,
    "start_time": "2022-10-07T09:00:04.091Z"
   },
   {
    "duration": 11,
    "start_time": "2022-10-07T09:00:04.122Z"
   },
   {
    "duration": 500,
    "start_time": "2022-10-07T09:00:04.135Z"
   },
   {
    "duration": 481,
    "start_time": "2022-10-07T09:00:04.637Z"
   },
   {
    "duration": 477,
    "start_time": "2022-10-07T09:00:05.120Z"
   },
   {
    "duration": 498,
    "start_time": "2022-10-07T09:00:05.599Z"
   },
   {
    "duration": 624,
    "start_time": "2022-10-07T09:00:06.099Z"
   },
   {
    "duration": 162,
    "start_time": "2022-10-07T09:00:06.724Z"
   },
   {
    "duration": 14,
    "start_time": "2022-10-07T09:00:06.888Z"
   },
   {
    "duration": 173,
    "start_time": "2022-10-07T09:00:06.904Z"
   },
   {
    "duration": 190,
    "start_time": "2022-10-07T09:00:07.079Z"
   },
   {
    "duration": 8,
    "start_time": "2022-10-07T09:00:07.271Z"
   },
   {
    "duration": 371,
    "start_time": "2022-10-07T09:00:07.281Z"
   },
   {
    "duration": 11,
    "start_time": "2022-10-07T09:00:07.654Z"
   },
   {
    "duration": 158,
    "start_time": "2022-10-07T09:00:07.667Z"
   },
   {
    "duration": 402,
    "start_time": "2022-10-07T09:00:07.827Z"
   },
   {
    "duration": 342,
    "start_time": "2022-10-07T09:00:08.231Z"
   },
   {
    "duration": 4,
    "start_time": "2022-10-07T09:00:56.840Z"
   },
   {
    "duration": 89,
    "start_time": "2022-10-07T09:00:56.846Z"
   },
   {
    "duration": 4,
    "start_time": "2022-10-07T09:00:56.937Z"
   },
   {
    "duration": 25,
    "start_time": "2022-10-07T09:00:56.943Z"
   },
   {
    "duration": 18,
    "start_time": "2022-10-07T09:00:56.969Z"
   },
   {
    "duration": 17,
    "start_time": "2022-10-07T09:00:56.989Z"
   },
   {
    "duration": 5,
    "start_time": "2022-10-07T09:00:57.008Z"
   },
   {
    "duration": 7,
    "start_time": "2022-10-07T09:00:57.015Z"
   },
   {
    "duration": 14,
    "start_time": "2022-10-07T09:00:57.025Z"
   },
   {
    "duration": 14,
    "start_time": "2022-10-07T09:00:57.040Z"
   },
   {
    "duration": 14,
    "start_time": "2022-10-07T09:00:57.055Z"
   },
   {
    "duration": 22,
    "start_time": "2022-10-07T09:00:57.096Z"
   },
   {
    "duration": 10,
    "start_time": "2022-10-07T09:00:57.120Z"
   },
   {
    "duration": 496,
    "start_time": "2022-10-07T09:00:57.132Z"
   },
   {
    "duration": 510,
    "start_time": "2022-10-07T09:00:57.629Z"
   },
   {
    "duration": 475,
    "start_time": "2022-10-07T09:00:58.141Z"
   },
   {
    "duration": 536,
    "start_time": "2022-10-07T09:00:58.617Z"
   },
   {
    "duration": 570,
    "start_time": "2022-10-07T09:00:59.155Z"
   },
   {
    "duration": 147,
    "start_time": "2022-10-07T09:00:59.727Z"
   },
   {
    "duration": 22,
    "start_time": "2022-10-07T09:00:59.876Z"
   },
   {
    "duration": 154,
    "start_time": "2022-10-07T09:00:59.900Z"
   },
   {
    "duration": 163,
    "start_time": "2022-10-07T09:01:00.056Z"
   },
   {
    "duration": 8,
    "start_time": "2022-10-07T09:01:00.220Z"
   },
   {
    "duration": 357,
    "start_time": "2022-10-07T09:01:00.231Z"
   },
   {
    "duration": 11,
    "start_time": "2022-10-07T09:01:00.595Z"
   },
   {
    "duration": 141,
    "start_time": "2022-10-07T09:01:00.608Z"
   },
   {
    "duration": 373,
    "start_time": "2022-10-07T09:01:00.751Z"
   },
   {
    "duration": 366,
    "start_time": "2022-10-07T09:01:01.126Z"
   },
   {
    "duration": 25,
    "start_time": "2022-10-07T09:01:40.656Z"
   },
   {
    "duration": 25,
    "start_time": "2022-10-07T09:01:49.896Z"
   },
   {
    "duration": 26,
    "start_time": "2022-10-07T09:02:06.981Z"
   },
   {
    "duration": 25,
    "start_time": "2022-10-07T09:02:17.030Z"
   },
   {
    "duration": 22,
    "start_time": "2022-10-07T09:02:59.757Z"
   },
   {
    "duration": 17,
    "start_time": "2022-10-07T09:03:29.068Z"
   },
   {
    "duration": 24,
    "start_time": "2022-10-07T09:04:41.304Z"
   },
   {
    "duration": 24,
    "start_time": "2022-10-07T09:04:53.740Z"
   },
   {
    "duration": 18,
    "start_time": "2022-10-07T09:05:20.433Z"
   },
   {
    "duration": 20,
    "start_time": "2022-10-07T09:05:35.615Z"
   },
   {
    "duration": 4,
    "start_time": "2022-10-07T09:05:41.853Z"
   },
   {
    "duration": 80,
    "start_time": "2022-10-07T09:05:41.859Z"
   },
   {
    "duration": 4,
    "start_time": "2022-10-07T09:05:41.941Z"
   },
   {
    "duration": 20,
    "start_time": "2022-10-07T09:05:41.947Z"
   },
   {
    "duration": 20,
    "start_time": "2022-10-07T09:05:41.970Z"
   },
   {
    "duration": 20,
    "start_time": "2022-10-07T09:05:41.992Z"
   },
   {
    "duration": 7,
    "start_time": "2022-10-07T09:05:42.014Z"
   },
   {
    "duration": 5,
    "start_time": "2022-10-07T09:05:42.023Z"
   },
   {
    "duration": 12,
    "start_time": "2022-10-07T09:05:42.030Z"
   },
   {
    "duration": 14,
    "start_time": "2022-10-07T09:05:42.044Z"
   },
   {
    "duration": 40,
    "start_time": "2022-10-07T09:05:42.060Z"
   },
   {
    "duration": 1436,
    "start_time": "2022-10-07T09:05:42.102Z"
   },
   {
    "duration": 0,
    "start_time": "2022-10-07T09:05:43.540Z"
   },
   {
    "duration": 0,
    "start_time": "2022-10-07T09:05:43.541Z"
   },
   {
    "duration": 0,
    "start_time": "2022-10-07T09:05:43.542Z"
   },
   {
    "duration": 0,
    "start_time": "2022-10-07T09:05:43.543Z"
   },
   {
    "duration": 0,
    "start_time": "2022-10-07T09:05:43.545Z"
   },
   {
    "duration": 0,
    "start_time": "2022-10-07T09:05:43.546Z"
   },
   {
    "duration": 0,
    "start_time": "2022-10-07T09:05:43.548Z"
   },
   {
    "duration": 0,
    "start_time": "2022-10-07T09:05:43.549Z"
   },
   {
    "duration": 0,
    "start_time": "2022-10-07T09:05:43.551Z"
   },
   {
    "duration": 0,
    "start_time": "2022-10-07T09:05:43.552Z"
   },
   {
    "duration": 0,
    "start_time": "2022-10-07T09:05:43.554Z"
   },
   {
    "duration": 0,
    "start_time": "2022-10-07T09:05:43.555Z"
   },
   {
    "duration": 0,
    "start_time": "2022-10-07T09:05:43.556Z"
   },
   {
    "duration": 0,
    "start_time": "2022-10-07T09:05:43.558Z"
   },
   {
    "duration": 0,
    "start_time": "2022-10-07T09:05:43.559Z"
   },
   {
    "duration": 0,
    "start_time": "2022-10-07T09:05:43.561Z"
   },
   {
    "duration": 1237,
    "start_time": "2022-10-07T09:07:46.004Z"
   },
   {
    "duration": 1369,
    "start_time": "2022-10-07T09:10:51.745Z"
   },
   {
    "duration": 20,
    "start_time": "2022-10-07T09:11:13.753Z"
   },
   {
    "duration": 22,
    "start_time": "2022-10-07T09:11:26.643Z"
   },
   {
    "duration": 20,
    "start_time": "2022-10-07T09:12:10.635Z"
   },
   {
    "duration": 19,
    "start_time": "2022-10-07T09:12:25.791Z"
   },
   {
    "duration": 3,
    "start_time": "2022-10-07T09:12:35.183Z"
   },
   {
    "duration": 79,
    "start_time": "2022-10-07T09:12:35.188Z"
   },
   {
    "duration": 4,
    "start_time": "2022-10-07T09:12:35.270Z"
   },
   {
    "duration": 22,
    "start_time": "2022-10-07T09:12:35.276Z"
   },
   {
    "duration": 18,
    "start_time": "2022-10-07T09:12:35.300Z"
   },
   {
    "duration": 18,
    "start_time": "2022-10-07T09:12:35.320Z"
   },
   {
    "duration": 5,
    "start_time": "2022-10-07T09:12:35.340Z"
   },
   {
    "duration": 8,
    "start_time": "2022-10-07T09:12:35.347Z"
   },
   {
    "duration": 40,
    "start_time": "2022-10-07T09:12:35.357Z"
   },
   {
    "duration": 15,
    "start_time": "2022-10-07T09:12:35.399Z"
   },
   {
    "duration": 14,
    "start_time": "2022-10-07T09:12:35.416Z"
   },
   {
    "duration": 22,
    "start_time": "2022-10-07T09:12:35.432Z"
   },
   {
    "duration": 10,
    "start_time": "2022-10-07T09:12:35.456Z"
   },
   {
    "duration": 488,
    "start_time": "2022-10-07T09:12:35.469Z"
   },
   {
    "duration": 478,
    "start_time": "2022-10-07T09:12:35.959Z"
   },
   {
    "duration": 563,
    "start_time": "2022-10-07T09:12:36.438Z"
   },
   {
    "duration": 505,
    "start_time": "2022-10-07T09:12:37.003Z"
   },
   {
    "duration": 617,
    "start_time": "2022-10-07T09:12:37.510Z"
   },
   {
    "duration": 157,
    "start_time": "2022-10-07T09:12:38.128Z"
   },
   {
    "duration": 15,
    "start_time": "2022-10-07T09:12:38.287Z"
   },
   {
    "duration": 176,
    "start_time": "2022-10-07T09:12:38.303Z"
   },
   {
    "duration": 165,
    "start_time": "2022-10-07T09:12:38.480Z"
   },
   {
    "duration": 8,
    "start_time": "2022-10-07T09:12:38.646Z"
   },
   {
    "duration": 390,
    "start_time": "2022-10-07T09:12:38.656Z"
   },
   {
    "duration": 11,
    "start_time": "2022-10-07T09:12:39.048Z"
   },
   {
    "duration": 144,
    "start_time": "2022-10-07T09:12:39.061Z"
   },
   {
    "duration": 421,
    "start_time": "2022-10-07T09:12:39.207Z"
   },
   {
    "duration": 333,
    "start_time": "2022-10-07T09:12:39.629Z"
   },
   {
    "duration": 22,
    "start_time": "2022-10-07T09:13:15.465Z"
   },
   {
    "duration": 11,
    "start_time": "2022-10-07T09:15:37.843Z"
   },
   {
    "duration": 13,
    "start_time": "2022-10-07T09:15:45.776Z"
   },
   {
    "duration": 16,
    "start_time": "2022-10-07T09:15:55.292Z"
   },
   {
    "duration": 3,
    "start_time": "2022-10-07T09:16:19.142Z"
   },
   {
    "duration": 78,
    "start_time": "2022-10-07T09:16:19.147Z"
   },
   {
    "duration": 5,
    "start_time": "2022-10-07T09:16:19.227Z"
   },
   {
    "duration": 21,
    "start_time": "2022-10-07T09:16:19.233Z"
   },
   {
    "duration": 19,
    "start_time": "2022-10-07T09:16:19.256Z"
   },
   {
    "duration": 25,
    "start_time": "2022-10-07T09:16:19.276Z"
   },
   {
    "duration": 5,
    "start_time": "2022-10-07T09:16:19.303Z"
   },
   {
    "duration": 14,
    "start_time": "2022-10-07T09:16:19.310Z"
   },
   {
    "duration": 15,
    "start_time": "2022-10-07T09:16:19.326Z"
   },
   {
    "duration": 13,
    "start_time": "2022-10-07T09:16:19.343Z"
   },
   {
    "duration": 28,
    "start_time": "2022-10-07T09:16:19.358Z"
   },
   {
    "duration": 28,
    "start_time": "2022-10-07T09:16:19.388Z"
   },
   {
    "duration": 11,
    "start_time": "2022-10-07T09:16:19.418Z"
   },
   {
    "duration": 514,
    "start_time": "2022-10-07T09:16:19.431Z"
   },
   {
    "duration": 470,
    "start_time": "2022-10-07T09:16:19.947Z"
   },
   {
    "duration": 769,
    "start_time": "2022-10-07T09:16:20.419Z"
   },
   {
    "duration": 496,
    "start_time": "2022-10-07T09:16:21.189Z"
   },
   {
    "duration": 579,
    "start_time": "2022-10-07T09:16:21.686Z"
   },
   {
    "duration": 156,
    "start_time": "2022-10-07T09:16:22.267Z"
   },
   {
    "duration": 11,
    "start_time": "2022-10-07T09:16:22.425Z"
   },
   {
    "duration": 182,
    "start_time": "2022-10-07T09:16:22.438Z"
   },
   {
    "duration": 181,
    "start_time": "2022-10-07T09:16:22.622Z"
   },
   {
    "duration": 8,
    "start_time": "2022-10-07T09:16:22.805Z"
   },
   {
    "duration": 381,
    "start_time": "2022-10-07T09:16:22.815Z"
   },
   {
    "duration": 12,
    "start_time": "2022-10-07T09:16:23.198Z"
   },
   {
    "duration": 144,
    "start_time": "2022-10-07T09:16:23.212Z"
   },
   {
    "duration": 371,
    "start_time": "2022-10-07T09:16:23.358Z"
   },
   {
    "duration": 355,
    "start_time": "2022-10-07T09:16:23.731Z"
   },
   {
    "duration": 23,
    "start_time": "2022-10-07T09:16:55.604Z"
   },
   {
    "duration": 25,
    "start_time": "2022-10-07T09:17:25.964Z"
   },
   {
    "duration": 25,
    "start_time": "2022-10-07T09:18:07.565Z"
   },
   {
    "duration": 21,
    "start_time": "2022-10-07T09:18:27.448Z"
   },
   {
    "duration": 30,
    "start_time": "2022-10-07T09:18:37.006Z"
   },
   {
    "duration": 20,
    "start_time": "2022-10-07T09:19:33.659Z"
   },
   {
    "duration": 23,
    "start_time": "2022-10-07T09:20:15.661Z"
   },
   {
    "duration": 21,
    "start_time": "2022-10-07T09:20:27.086Z"
   },
   {
    "duration": 525,
    "start_time": "2022-10-07T09:22:56.430Z"
   },
   {
    "duration": 467,
    "start_time": "2022-10-07T09:57:43.003Z"
   },
   {
    "duration": 463,
    "start_time": "2022-10-07T09:59:05.390Z"
   },
   {
    "duration": 4,
    "start_time": "2022-10-07T09:59:23.217Z"
   },
   {
    "duration": 81,
    "start_time": "2022-10-07T09:59:23.223Z"
   },
   {
    "duration": 3,
    "start_time": "2022-10-07T09:59:23.306Z"
   },
   {
    "duration": 22,
    "start_time": "2022-10-07T09:59:23.311Z"
   },
   {
    "duration": 17,
    "start_time": "2022-10-07T09:59:23.335Z"
   },
   {
    "duration": 16,
    "start_time": "2022-10-07T09:59:23.353Z"
   },
   {
    "duration": 7,
    "start_time": "2022-10-07T09:59:23.394Z"
   },
   {
    "duration": 6,
    "start_time": "2022-10-07T09:59:23.402Z"
   },
   {
    "duration": 13,
    "start_time": "2022-10-07T09:59:23.410Z"
   },
   {
    "duration": 12,
    "start_time": "2022-10-07T09:59:23.425Z"
   },
   {
    "duration": 11,
    "start_time": "2022-10-07T09:59:23.439Z"
   },
   {
    "duration": 49,
    "start_time": "2022-10-07T09:59:23.452Z"
   },
   {
    "duration": 10,
    "start_time": "2022-10-07T09:59:23.503Z"
   },
   {
    "duration": 474,
    "start_time": "2022-10-07T09:59:23.515Z"
   },
   {
    "duration": 472,
    "start_time": "2022-10-07T09:59:23.994Z"
   },
   {
    "duration": 468,
    "start_time": "2022-10-07T09:59:24.468Z"
   },
   {
    "duration": 501,
    "start_time": "2022-10-07T09:59:24.938Z"
   },
   {
    "duration": 590,
    "start_time": "2022-10-07T09:59:25.440Z"
   },
   {
    "duration": 156,
    "start_time": "2022-10-07T09:59:26.032Z"
   },
   {
    "duration": 11,
    "start_time": "2022-10-07T09:59:26.195Z"
   },
   {
    "duration": 164,
    "start_time": "2022-10-07T09:59:26.208Z"
   },
   {
    "duration": 183,
    "start_time": "2022-10-07T09:59:26.374Z"
   },
   {
    "duration": 9,
    "start_time": "2022-10-07T09:59:26.559Z"
   },
   {
    "duration": 403,
    "start_time": "2022-10-07T09:59:26.570Z"
   },
   {
    "duration": 23,
    "start_time": "2022-10-07T09:59:26.974Z"
   },
   {
    "duration": 163,
    "start_time": "2022-10-07T09:59:26.999Z"
   },
   {
    "duration": 384,
    "start_time": "2022-10-07T09:59:27.165Z"
   },
   {
    "duration": 361,
    "start_time": "2022-10-07T09:59:27.551Z"
   },
   {
    "duration": 84,
    "start_time": "2022-10-07T09:59:59.619Z"
   },
   {
    "duration": 501,
    "start_time": "2022-10-07T10:01:30.966Z"
   },
   {
    "duration": 401,
    "start_time": "2022-10-07T10:01:41.868Z"
   },
   {
    "duration": 9,
    "start_time": "2022-10-07T10:01:46.710Z"
   },
   {
    "duration": 479,
    "start_time": "2022-10-07T10:01:49.890Z"
   },
   {
    "duration": 493,
    "start_time": "2022-10-07T10:02:00.360Z"
   },
   {
    "duration": 506,
    "start_time": "2022-10-07T10:02:26.645Z"
   },
   {
    "duration": 521,
    "start_time": "2022-10-07T10:04:05.440Z"
   },
   {
    "duration": 484,
    "start_time": "2022-10-07T10:04:29.505Z"
   },
   {
    "duration": 601,
    "start_time": "2022-10-07T10:04:48.520Z"
   },
   {
    "duration": 679,
    "start_time": "2022-10-07T10:04:58.517Z"
   },
   {
    "duration": 584,
    "start_time": "2022-10-07T10:05:17.465Z"
   },
   {
    "duration": 562,
    "start_time": "2022-10-07T10:05:29.598Z"
   },
   {
    "duration": 579,
    "start_time": "2022-10-07T10:05:34.890Z"
   },
   {
    "duration": 625,
    "start_time": "2022-10-07T10:05:50.707Z"
   },
   {
    "duration": 613,
    "start_time": "2022-10-07T10:05:59.296Z"
   },
   {
    "duration": 487,
    "start_time": "2022-10-07T10:06:10.512Z"
   },
   {
    "duration": 554,
    "start_time": "2022-10-07T10:06:15.575Z"
   },
   {
    "duration": 566,
    "start_time": "2022-10-07T10:14:37.950Z"
   },
   {
    "duration": 601,
    "start_time": "2022-10-07T10:14:52.328Z"
   },
   {
    "duration": 249,
    "start_time": "2022-10-07T10:19:59.083Z"
   },
   {
    "duration": 150,
    "start_time": "2022-10-07T10:21:40.256Z"
   },
   {
    "duration": 4,
    "start_time": "2022-10-07T10:29:06.032Z"
   },
   {
    "duration": 85,
    "start_time": "2022-10-07T10:29:06.039Z"
   },
   {
    "duration": 4,
    "start_time": "2022-10-07T10:29:06.126Z"
   },
   {
    "duration": 28,
    "start_time": "2022-10-07T10:29:06.132Z"
   },
   {
    "duration": 22,
    "start_time": "2022-10-07T10:29:06.162Z"
   },
   {
    "duration": 26,
    "start_time": "2022-10-07T10:29:06.186Z"
   },
   {
    "duration": 6,
    "start_time": "2022-10-07T10:29:06.214Z"
   },
   {
    "duration": 12,
    "start_time": "2022-10-07T10:29:06.222Z"
   },
   {
    "duration": 14,
    "start_time": "2022-10-07T10:29:06.237Z"
   },
   {
    "duration": 43,
    "start_time": "2022-10-07T10:29:06.253Z"
   },
   {
    "duration": 10,
    "start_time": "2022-10-07T10:29:06.298Z"
   },
   {
    "duration": 26,
    "start_time": "2022-10-07T10:29:06.310Z"
   },
   {
    "duration": 12,
    "start_time": "2022-10-07T10:29:06.338Z"
   },
   {
    "duration": 594,
    "start_time": "2022-10-07T10:29:06.354Z"
   },
   {
    "duration": 851,
    "start_time": "2022-10-07T10:29:06.950Z"
   },
   {
    "duration": 510,
    "start_time": "2022-10-07T10:29:07.803Z"
   },
   {
    "duration": 483,
    "start_time": "2022-10-07T10:29:08.315Z"
   },
   {
    "duration": 622,
    "start_time": "2022-10-07T10:29:08.800Z"
   },
   {
    "duration": 153,
    "start_time": "2022-10-07T10:29:09.424Z"
   },
   {
    "duration": 20,
    "start_time": "2022-10-07T10:29:09.579Z"
   },
   {
    "duration": 167,
    "start_time": "2022-10-07T10:29:09.600Z"
   },
   {
    "duration": 174,
    "start_time": "2022-10-07T10:29:09.769Z"
   },
   {
    "duration": 8,
    "start_time": "2022-10-07T10:29:09.945Z"
   },
   {
    "duration": 359,
    "start_time": "2022-10-07T10:29:09.955Z"
   },
   {
    "duration": 11,
    "start_time": "2022-10-07T10:29:10.316Z"
   },
   {
    "duration": 152,
    "start_time": "2022-10-07T10:29:10.329Z"
   },
   {
    "duration": 361,
    "start_time": "2022-10-07T10:29:10.494Z"
   },
   {
    "duration": 360,
    "start_time": "2022-10-07T10:29:10.857Z"
   },
   {
    "duration": 25,
    "start_time": "2022-10-07T10:31:31.654Z"
   },
   {
    "duration": 3,
    "start_time": "2022-10-07T10:31:38.162Z"
   },
   {
    "duration": 92,
    "start_time": "2022-10-07T10:31:38.168Z"
   },
   {
    "duration": 4,
    "start_time": "2022-10-07T10:31:38.262Z"
   },
   {
    "duration": 23,
    "start_time": "2022-10-07T10:31:38.268Z"
   },
   {
    "duration": 19,
    "start_time": "2022-10-07T10:31:38.294Z"
   },
   {
    "duration": 18,
    "start_time": "2022-10-07T10:31:38.315Z"
   },
   {
    "duration": 5,
    "start_time": "2022-10-07T10:31:38.335Z"
   },
   {
    "duration": 8,
    "start_time": "2022-10-07T10:31:38.342Z"
   },
   {
    "duration": 46,
    "start_time": "2022-10-07T10:31:38.351Z"
   },
   {
    "duration": 12,
    "start_time": "2022-10-07T10:31:38.399Z"
   },
   {
    "duration": 12,
    "start_time": "2022-10-07T10:31:38.413Z"
   },
   {
    "duration": 25,
    "start_time": "2022-10-07T10:31:38.426Z"
   },
   {
    "duration": 12,
    "start_time": "2022-10-07T10:31:38.452Z"
   },
   {
    "duration": 526,
    "start_time": "2022-10-07T10:31:38.466Z"
   },
   {
    "duration": 488,
    "start_time": "2022-10-07T10:31:38.994Z"
   },
   {
    "duration": 483,
    "start_time": "2022-10-07T10:31:39.484Z"
   },
   {
    "duration": 503,
    "start_time": "2022-10-07T10:31:39.968Z"
   },
   {
    "duration": 565,
    "start_time": "2022-10-07T10:31:40.473Z"
   },
   {
    "duration": 168,
    "start_time": "2022-10-07T10:31:41.040Z"
   },
   {
    "duration": 12,
    "start_time": "2022-10-07T10:31:41.209Z"
   },
   {
    "duration": 179,
    "start_time": "2022-10-07T10:31:41.222Z"
   },
   {
    "duration": 160,
    "start_time": "2022-10-07T10:31:41.403Z"
   },
   {
    "duration": 8,
    "start_time": "2022-10-07T10:31:41.565Z"
   },
   {
    "duration": 39,
    "start_time": "2022-10-07T10:31:41.575Z"
   },
   {
    "duration": 379,
    "start_time": "2022-10-07T10:31:41.617Z"
   },
   {
    "duration": 12,
    "start_time": "2022-10-07T10:31:41.998Z"
   },
   {
    "duration": 152,
    "start_time": "2022-10-07T10:31:42.012Z"
   },
   {
    "duration": 394,
    "start_time": "2022-10-07T10:31:42.167Z"
   },
   {
    "duration": 409,
    "start_time": "2022-10-07T10:31:42.563Z"
   },
   {
    "duration": 346,
    "start_time": "2022-10-07T10:32:45.587Z"
   },
   {
    "duration": 23,
    "start_time": "2022-10-07T10:33:57.563Z"
   },
   {
    "duration": 3,
    "start_time": "2022-10-07T10:34:07.608Z"
   },
   {
    "duration": 81,
    "start_time": "2022-10-07T10:34:07.613Z"
   },
   {
    "duration": 4,
    "start_time": "2022-10-07T10:34:07.696Z"
   },
   {
    "duration": 23,
    "start_time": "2022-10-07T10:34:07.701Z"
   },
   {
    "duration": 18,
    "start_time": "2022-10-07T10:34:07.726Z"
   },
   {
    "duration": 17,
    "start_time": "2022-10-07T10:34:07.745Z"
   },
   {
    "duration": 36,
    "start_time": "2022-10-07T10:34:07.764Z"
   },
   {
    "duration": 6,
    "start_time": "2022-10-07T10:34:07.802Z"
   },
   {
    "duration": 12,
    "start_time": "2022-10-07T10:34:07.809Z"
   },
   {
    "duration": 15,
    "start_time": "2022-10-07T10:34:07.823Z"
   },
   {
    "duration": 10,
    "start_time": "2022-10-07T10:34:07.839Z"
   },
   {
    "duration": 22,
    "start_time": "2022-10-07T10:34:07.850Z"
   },
   {
    "duration": 11,
    "start_time": "2022-10-07T10:34:07.896Z"
   },
   {
    "duration": 488,
    "start_time": "2022-10-07T10:34:07.910Z"
   },
   {
    "duration": 462,
    "start_time": "2022-10-07T10:34:08.400Z"
   },
   {
    "duration": 462,
    "start_time": "2022-10-07T10:34:08.863Z"
   },
   {
    "duration": 498,
    "start_time": "2022-10-07T10:34:09.327Z"
   },
   {
    "duration": 595,
    "start_time": "2022-10-07T10:34:09.826Z"
   },
   {
    "duration": 150,
    "start_time": "2022-10-07T10:34:10.423Z"
   },
   {
    "duration": 11,
    "start_time": "2022-10-07T10:34:10.575Z"
   },
   {
    "duration": 158,
    "start_time": "2022-10-07T10:34:10.599Z"
   },
   {
    "duration": 172,
    "start_time": "2022-10-07T10:34:10.759Z"
   },
   {
    "duration": 7,
    "start_time": "2022-10-07T10:34:10.933Z"
   },
   {
    "duration": 27,
    "start_time": "2022-10-07T10:34:10.942Z"
   },
   {
    "duration": 26,
    "start_time": "2022-10-07T10:34:10.971Z"
   },
   {
    "duration": 161,
    "start_time": "2022-10-07T10:34:10.999Z"
   },
   {
    "duration": 20,
    "start_time": "2022-10-07T10:34:11.162Z"
   },
   {
    "duration": 387,
    "start_time": "2022-10-07T10:34:11.184Z"
   },
   {
    "duration": 377,
    "start_time": "2022-10-07T10:34:11.573Z"
   },
   {
    "duration": 3,
    "start_time": "2022-10-07T10:34:53.434Z"
   },
   {
    "duration": 80,
    "start_time": "2022-10-07T10:34:53.439Z"
   },
   {
    "duration": 3,
    "start_time": "2022-10-07T10:34:53.521Z"
   },
   {
    "duration": 26,
    "start_time": "2022-10-07T10:34:53.526Z"
   },
   {
    "duration": 19,
    "start_time": "2022-10-07T10:34:53.555Z"
   },
   {
    "duration": 26,
    "start_time": "2022-10-07T10:34:53.575Z"
   },
   {
    "duration": 6,
    "start_time": "2022-10-07T10:34:53.604Z"
   },
   {
    "duration": 6,
    "start_time": "2022-10-07T10:34:53.611Z"
   },
   {
    "duration": 19,
    "start_time": "2022-10-07T10:34:53.619Z"
   },
   {
    "duration": 18,
    "start_time": "2022-10-07T10:34:53.640Z"
   },
   {
    "duration": 10,
    "start_time": "2022-10-07T10:34:53.660Z"
   },
   {
    "duration": 44,
    "start_time": "2022-10-07T10:34:53.672Z"
   },
   {
    "duration": 11,
    "start_time": "2022-10-07T10:34:53.717Z"
   },
   {
    "duration": 515,
    "start_time": "2022-10-07T10:34:53.731Z"
   },
   {
    "duration": 489,
    "start_time": "2022-10-07T10:34:54.248Z"
   },
   {
    "duration": 479,
    "start_time": "2022-10-07T10:34:54.739Z"
   },
   {
    "duration": 492,
    "start_time": "2022-10-07T10:34:55.220Z"
   },
   {
    "duration": 603,
    "start_time": "2022-10-07T10:34:55.713Z"
   },
   {
    "duration": 164,
    "start_time": "2022-10-07T10:34:56.317Z"
   },
   {
    "duration": 16,
    "start_time": "2022-10-07T10:34:56.482Z"
   },
   {
    "duration": 218,
    "start_time": "2022-10-07T10:34:56.499Z"
   },
   {
    "duration": 180,
    "start_time": "2022-10-07T10:34:56.719Z"
   },
   {
    "duration": 8,
    "start_time": "2022-10-07T10:34:56.901Z"
   },
   {
    "duration": 52,
    "start_time": "2022-10-07T10:34:56.910Z"
   },
   {
    "duration": 11,
    "start_time": "2022-10-07T10:34:56.964Z"
   },
   {
    "duration": 151,
    "start_time": "2022-10-07T10:34:56.976Z"
   },
   {
    "duration": 21,
    "start_time": "2022-10-07T10:34:57.129Z"
   },
   {
    "duration": 382,
    "start_time": "2022-10-07T10:34:57.152Z"
   },
   {
    "duration": 344,
    "start_time": "2022-10-07T10:34:57.536Z"
   },
   {
    "duration": 3,
    "start_time": "2022-10-07T10:35:44.793Z"
   },
   {
    "duration": 96,
    "start_time": "2022-10-07T10:35:44.798Z"
   },
   {
    "duration": 4,
    "start_time": "2022-10-07T10:35:44.896Z"
   },
   {
    "duration": 22,
    "start_time": "2022-10-07T10:35:44.901Z"
   },
   {
    "duration": 21,
    "start_time": "2022-10-07T10:35:44.925Z"
   },
   {
    "duration": 16,
    "start_time": "2022-10-07T10:35:44.947Z"
   },
   {
    "duration": 5,
    "start_time": "2022-10-07T10:35:44.996Z"
   },
   {
    "duration": 11,
    "start_time": "2022-10-07T10:35:45.003Z"
   },
   {
    "duration": 24,
    "start_time": "2022-10-07T10:35:45.016Z"
   },
   {
    "duration": 16,
    "start_time": "2022-10-07T10:35:45.042Z"
   },
   {
    "duration": 17,
    "start_time": "2022-10-07T10:35:45.059Z"
   },
   {
    "duration": 31,
    "start_time": "2022-10-07T10:35:45.078Z"
   },
   {
    "duration": 12,
    "start_time": "2022-10-07T10:35:45.111Z"
   },
   {
    "duration": 498,
    "start_time": "2022-10-07T10:35:45.127Z"
   },
   {
    "duration": 472,
    "start_time": "2022-10-07T10:35:45.626Z"
   },
   {
    "duration": 491,
    "start_time": "2022-10-07T10:35:46.100Z"
   },
   {
    "duration": 542,
    "start_time": "2022-10-07T10:35:46.592Z"
   },
   {
    "duration": 571,
    "start_time": "2022-10-07T10:35:47.136Z"
   },
   {
    "duration": 149,
    "start_time": "2022-10-07T10:35:47.708Z"
   },
   {
    "duration": 12,
    "start_time": "2022-10-07T10:35:47.859Z"
   },
   {
    "duration": 184,
    "start_time": "2022-10-07T10:35:47.874Z"
   },
   {
    "duration": 181,
    "start_time": "2022-10-07T10:35:48.060Z"
   },
   {
    "duration": 8,
    "start_time": "2022-10-07T10:35:48.243Z"
   },
   {
    "duration": 27,
    "start_time": "2022-10-07T10:35:48.253Z"
   },
   {
    "duration": 23,
    "start_time": "2022-10-07T10:35:48.281Z"
   },
   {
    "duration": 151,
    "start_time": "2022-10-07T10:35:48.306Z"
   },
   {
    "duration": 22,
    "start_time": "2022-10-07T10:35:48.459Z"
   },
   {
    "duration": 360,
    "start_time": "2022-10-07T10:35:48.496Z"
   },
   {
    "duration": 4,
    "start_time": "2022-10-07T10:36:09.693Z"
   },
   {
    "duration": 79,
    "start_time": "2022-10-07T10:36:09.699Z"
   },
   {
    "duration": 4,
    "start_time": "2022-10-07T10:36:09.780Z"
   },
   {
    "duration": 22,
    "start_time": "2022-10-07T10:36:09.786Z"
   },
   {
    "duration": 19,
    "start_time": "2022-10-07T10:36:09.810Z"
   },
   {
    "duration": 16,
    "start_time": "2022-10-07T10:36:09.830Z"
   },
   {
    "duration": 5,
    "start_time": "2022-10-07T10:36:09.848Z"
   },
   {
    "duration": 7,
    "start_time": "2022-10-07T10:36:09.854Z"
   },
   {
    "duration": 42,
    "start_time": "2022-10-07T10:36:09.862Z"
   },
   {
    "duration": 14,
    "start_time": "2022-10-07T10:36:09.906Z"
   },
   {
    "duration": 10,
    "start_time": "2022-10-07T10:36:09.922Z"
   },
   {
    "duration": 27,
    "start_time": "2022-10-07T10:36:09.934Z"
   },
   {
    "duration": 37,
    "start_time": "2022-10-07T10:36:09.962Z"
   },
   {
    "duration": 832,
    "start_time": "2022-10-07T10:36:10.001Z"
   },
   {
    "duration": 479,
    "start_time": "2022-10-07T10:36:10.835Z"
   },
   {
    "duration": 487,
    "start_time": "2022-10-07T10:36:11.315Z"
   },
   {
    "duration": 499,
    "start_time": "2022-10-07T10:36:11.804Z"
   },
   {
    "duration": 619,
    "start_time": "2022-10-07T10:36:12.305Z"
   },
   {
    "duration": 148,
    "start_time": "2022-10-07T10:36:12.925Z"
   },
   {
    "duration": 20,
    "start_time": "2022-10-07T10:36:13.075Z"
   },
   {
    "duration": 160,
    "start_time": "2022-10-07T10:36:13.097Z"
   },
   {
    "duration": 165,
    "start_time": "2022-10-07T10:36:13.259Z"
   },
   {
    "duration": 7,
    "start_time": "2022-10-07T10:36:13.426Z"
   },
   {
    "duration": 27,
    "start_time": "2022-10-07T10:36:13.435Z"
   },
   {
    "duration": 32,
    "start_time": "2022-10-07T10:36:13.464Z"
   },
   {
    "duration": 20,
    "start_time": "2022-10-07T10:36:13.498Z"
   },
   {
    "duration": 355,
    "start_time": "2022-10-07T10:36:13.520Z"
   },
   {
    "duration": 137,
    "start_time": "2022-10-07T10:36:34.193Z"
   },
   {
    "duration": 3,
    "start_time": "2022-10-07T10:37:00.154Z"
   },
   {
    "duration": 95,
    "start_time": "2022-10-07T10:37:00.159Z"
   },
   {
    "duration": 4,
    "start_time": "2022-10-07T10:37:00.255Z"
   },
   {
    "duration": 38,
    "start_time": "2022-10-07T10:37:00.261Z"
   },
   {
    "duration": 24,
    "start_time": "2022-10-07T10:37:00.301Z"
   },
   {
    "duration": 20,
    "start_time": "2022-10-07T10:37:00.326Z"
   },
   {
    "duration": 7,
    "start_time": "2022-10-07T10:37:00.348Z"
   },
   {
    "duration": 38,
    "start_time": "2022-10-07T10:37:00.357Z"
   },
   {
    "duration": 39,
    "start_time": "2022-10-07T10:37:00.397Z"
   },
   {
    "duration": 22,
    "start_time": "2022-10-07T10:37:00.438Z"
   },
   {
    "duration": 31,
    "start_time": "2022-10-07T10:37:00.462Z"
   },
   {
    "duration": 49,
    "start_time": "2022-10-07T10:37:00.495Z"
   },
   {
    "duration": 12,
    "start_time": "2022-10-07T10:37:00.546Z"
   },
   {
    "duration": 498,
    "start_time": "2022-10-07T10:37:00.562Z"
   },
   {
    "duration": 476,
    "start_time": "2022-10-07T10:37:01.063Z"
   },
   {
    "duration": 471,
    "start_time": "2022-10-07T10:37:01.541Z"
   },
   {
    "duration": 500,
    "start_time": "2022-10-07T10:37:02.014Z"
   },
   {
    "duration": 618,
    "start_time": "2022-10-07T10:37:02.516Z"
   },
   {
    "duration": 159,
    "start_time": "2022-10-07T10:37:03.136Z"
   },
   {
    "duration": 12,
    "start_time": "2022-10-07T10:37:03.297Z"
   },
   {
    "duration": 180,
    "start_time": "2022-10-07T10:37:03.310Z"
   },
   {
    "duration": 160,
    "start_time": "2022-10-07T10:37:03.492Z"
   },
   {
    "duration": 8,
    "start_time": "2022-10-07T10:37:03.654Z"
   },
   {
    "duration": 44,
    "start_time": "2022-10-07T10:37:03.664Z"
   },
   {
    "duration": 11,
    "start_time": "2022-10-07T10:37:03.709Z"
   },
   {
    "duration": 160,
    "start_time": "2022-10-07T10:37:03.722Z"
   },
   {
    "duration": 24,
    "start_time": "2022-10-07T10:37:03.884Z"
   },
   {
    "duration": 362,
    "start_time": "2022-10-07T10:37:03.910Z"
   },
   {
    "duration": 28,
    "start_time": "2022-10-07T10:46:28.539Z"
   },
   {
    "duration": 23,
    "start_time": "2022-10-07T10:47:31.344Z"
   },
   {
    "duration": 24,
    "start_time": "2022-10-07T10:47:38.265Z"
   },
   {
    "duration": 3,
    "start_time": "2022-10-07T11:21:29.469Z"
   },
   {
    "duration": 78,
    "start_time": "2022-10-07T11:21:29.474Z"
   },
   {
    "duration": 5,
    "start_time": "2022-10-07T11:21:29.554Z"
   },
   {
    "duration": 28,
    "start_time": "2022-10-07T11:21:29.561Z"
   },
   {
    "duration": 17,
    "start_time": "2022-10-07T11:21:29.591Z"
   },
   {
    "duration": 15,
    "start_time": "2022-10-07T11:21:29.610Z"
   },
   {
    "duration": 4,
    "start_time": "2022-10-07T11:21:29.627Z"
   },
   {
    "duration": 5,
    "start_time": "2022-10-07T11:21:29.633Z"
   },
   {
    "duration": 14,
    "start_time": "2022-10-07T11:21:29.640Z"
   },
   {
    "duration": 46,
    "start_time": "2022-10-07T11:21:29.656Z"
   },
   {
    "duration": 12,
    "start_time": "2022-10-07T11:21:29.703Z"
   },
   {
    "duration": 21,
    "start_time": "2022-10-07T11:21:29.717Z"
   },
   {
    "duration": 10,
    "start_time": "2022-10-07T11:21:29.740Z"
   },
   {
    "duration": 485,
    "start_time": "2022-10-07T11:21:29.752Z"
   },
   {
    "duration": 480,
    "start_time": "2022-10-07T11:21:30.240Z"
   },
   {
    "duration": 471,
    "start_time": "2022-10-07T11:21:30.722Z"
   },
   {
    "duration": 482,
    "start_time": "2022-10-07T11:21:31.194Z"
   },
   {
    "duration": 554,
    "start_time": "2022-10-07T11:21:31.678Z"
   },
   {
    "duration": 149,
    "start_time": "2022-10-07T11:21:32.234Z"
   },
   {
    "duration": 17,
    "start_time": "2022-10-07T11:21:32.385Z"
   },
   {
    "duration": 166,
    "start_time": "2022-10-07T11:21:32.404Z"
   },
   {
    "duration": 153,
    "start_time": "2022-10-07T11:21:32.572Z"
   },
   {
    "duration": 8,
    "start_time": "2022-10-07T11:21:32.726Z"
   },
   {
    "duration": 28,
    "start_time": "2022-10-07T11:21:32.736Z"
   },
   {
    "duration": 29,
    "start_time": "2022-10-07T11:21:32.766Z"
   },
   {
    "duration": 173,
    "start_time": "2022-10-07T11:21:32.796Z"
   },
   {
    "duration": 31,
    "start_time": "2022-10-07T11:21:32.970Z"
   },
   {
    "duration": 342,
    "start_time": "2022-10-07T11:21:33.002Z"
   },
   {
    "duration": 293,
    "start_time": "2022-10-07T11:39:13.708Z"
   },
   {
    "duration": 136,
    "start_time": "2022-10-07T11:39:52.400Z"
   },
   {
    "duration": 282,
    "start_time": "2022-10-07T11:40:00.019Z"
   },
   {
    "duration": 304,
    "start_time": "2022-10-07T11:40:12.964Z"
   },
   {
    "duration": 3,
    "start_time": "2022-10-07T11:44:29.606Z"
   },
   {
    "duration": 78,
    "start_time": "2022-10-07T11:44:29.612Z"
   },
   {
    "duration": 3,
    "start_time": "2022-10-07T11:44:29.692Z"
   },
   {
    "duration": 26,
    "start_time": "2022-10-07T11:44:29.697Z"
   },
   {
    "duration": 17,
    "start_time": "2022-10-07T11:44:29.725Z"
   },
   {
    "duration": 17,
    "start_time": "2022-10-07T11:44:29.744Z"
   },
   {
    "duration": 33,
    "start_time": "2022-10-07T11:44:29.762Z"
   },
   {
    "duration": 4,
    "start_time": "2022-10-07T11:44:29.796Z"
   },
   {
    "duration": 13,
    "start_time": "2022-10-07T11:44:29.802Z"
   },
   {
    "duration": 12,
    "start_time": "2022-10-07T11:44:29.816Z"
   },
   {
    "duration": 10,
    "start_time": "2022-10-07T11:44:29.829Z"
   },
   {
    "duration": 23,
    "start_time": "2022-10-07T11:44:29.840Z"
   },
   {
    "duration": 40,
    "start_time": "2022-10-07T11:44:29.864Z"
   },
   {
    "duration": 460,
    "start_time": "2022-10-07T11:44:29.907Z"
   },
   {
    "duration": 452,
    "start_time": "2022-10-07T11:44:30.368Z"
   },
   {
    "duration": 303,
    "start_time": "2022-10-07T11:44:30.822Z"
   },
   {
    "duration": 488,
    "start_time": "2022-10-07T11:44:31.127Z"
   },
   {
    "duration": 591,
    "start_time": "2022-10-07T11:44:31.616Z"
   },
   {
    "duration": 147,
    "start_time": "2022-10-07T11:44:32.208Z"
   },
   {
    "duration": 11,
    "start_time": "2022-10-07T11:44:32.357Z"
   },
   {
    "duration": 172,
    "start_time": "2022-10-07T11:44:32.370Z"
   },
   {
    "duration": 166,
    "start_time": "2022-10-07T11:44:32.543Z"
   },
   {
    "duration": 8,
    "start_time": "2022-10-07T11:44:32.710Z"
   },
   {
    "duration": 28,
    "start_time": "2022-10-07T11:44:32.720Z"
   },
   {
    "duration": 11,
    "start_time": "2022-10-07T11:44:32.749Z"
   },
   {
    "duration": 167,
    "start_time": "2022-10-07T11:44:32.762Z"
   },
   {
    "duration": 19,
    "start_time": "2022-10-07T11:44:32.931Z"
   },
   {
    "duration": 349,
    "start_time": "2022-10-07T11:44:32.952Z"
   },
   {
    "duration": 139,
    "start_time": "2022-10-07T11:50:05.730Z"
   },
   {
    "duration": 166,
    "start_time": "2022-10-07T11:50:21.504Z"
   },
   {
    "duration": 1519,
    "start_time": "2022-10-07T12:18:41.429Z"
   },
   {
    "duration": 82,
    "start_time": "2022-10-07T12:18:42.950Z"
   },
   {
    "duration": 6,
    "start_time": "2022-10-07T12:18:43.034Z"
   },
   {
    "duration": 37,
    "start_time": "2022-10-07T12:18:43.043Z"
   },
   {
    "duration": 42,
    "start_time": "2022-10-07T12:18:43.082Z"
   },
   {
    "duration": 25,
    "start_time": "2022-10-07T12:18:43.127Z"
   },
   {
    "duration": 9,
    "start_time": "2022-10-07T12:18:43.154Z"
   },
   {
    "duration": 11,
    "start_time": "2022-10-07T12:18:43.166Z"
   },
   {
    "duration": 47,
    "start_time": "2022-10-07T12:18:43.180Z"
   },
   {
    "duration": 17,
    "start_time": "2022-10-07T12:18:43.231Z"
   },
   {
    "duration": 18,
    "start_time": "2022-10-07T12:18:43.250Z"
   },
   {
    "duration": 63,
    "start_time": "2022-10-07T12:18:43.270Z"
   },
   {
    "duration": 16,
    "start_time": "2022-10-07T12:18:43.335Z"
   },
   {
    "duration": 978,
    "start_time": "2022-10-07T12:18:43.353Z"
   },
   {
    "duration": 817,
    "start_time": "2022-10-07T12:18:44.333Z"
   },
   {
    "duration": 475,
    "start_time": "2022-10-07T12:18:45.153Z"
   },
   {
    "duration": 790,
    "start_time": "2022-10-07T12:18:45.631Z"
   },
   {
    "duration": 943,
    "start_time": "2022-10-07T12:18:46.423Z"
   },
   {
    "duration": 237,
    "start_time": "2022-10-07T12:18:47.369Z"
   },
   {
    "duration": 16,
    "start_time": "2022-10-07T12:18:47.620Z"
   },
   {
    "duration": 247,
    "start_time": "2022-10-07T12:18:47.639Z"
   },
   {
    "duration": 339,
    "start_time": "2022-10-07T12:18:47.889Z"
   },
   {
    "duration": 12,
    "start_time": "2022-10-07T12:18:48.232Z"
   },
   {
    "duration": 181,
    "start_time": "2022-10-07T12:18:48.246Z"
   },
   {
    "duration": 0,
    "start_time": "2022-10-07T12:18:48.431Z"
   },
   {
    "duration": 0,
    "start_time": "2022-10-07T12:18:48.432Z"
   },
   {
    "duration": 0,
    "start_time": "2022-10-07T12:18:48.434Z"
   },
   {
    "duration": 0,
    "start_time": "2022-10-07T12:18:48.435Z"
   },
   {
    "duration": 12,
    "start_time": "2022-10-07T12:23:05.818Z"
   },
   {
    "duration": 11,
    "start_time": "2022-10-07T12:23:28.332Z"
   },
   {
    "duration": 15,
    "start_time": "2022-10-07T12:23:37.273Z"
   },
   {
    "duration": 15,
    "start_time": "2022-10-07T12:23:44.029Z"
   },
   {
    "duration": 15,
    "start_time": "2022-10-07T12:23:47.801Z"
   },
   {
    "duration": 15,
    "start_time": "2022-10-07T12:23:59.873Z"
   },
   {
    "duration": 12,
    "start_time": "2022-10-07T12:24:06.210Z"
   },
   {
    "duration": 18,
    "start_time": "2022-10-07T12:24:25.074Z"
   },
   {
    "duration": 17,
    "start_time": "2022-10-07T12:24:43.500Z"
   },
   {
    "duration": 4,
    "start_time": "2022-10-07T12:26:18.061Z"
   },
   {
    "duration": 83,
    "start_time": "2022-10-07T12:26:18.253Z"
   },
   {
    "duration": 5,
    "start_time": "2022-10-07T12:26:18.558Z"
   },
   {
    "duration": 26,
    "start_time": "2022-10-07T12:26:18.693Z"
   },
   {
    "duration": 31,
    "start_time": "2022-10-07T12:26:19.267Z"
   },
   {
    "duration": 23,
    "start_time": "2022-10-07T12:26:19.417Z"
   },
   {
    "duration": 7,
    "start_time": "2022-10-07T12:26:19.550Z"
   },
   {
    "duration": 4,
    "start_time": "2022-10-07T12:26:20.468Z"
   },
   {
    "duration": 18,
    "start_time": "2022-10-07T12:26:20.724Z"
   },
   {
    "duration": 22,
    "start_time": "2022-10-07T12:26:21.691Z"
   },
   {
    "duration": 14,
    "start_time": "2022-10-07T12:26:22.037Z"
   },
   {
    "duration": 32,
    "start_time": "2022-10-07T12:26:23.245Z"
   },
   {
    "duration": 30,
    "start_time": "2022-10-07T12:26:35.986Z"
   },
   {
    "duration": 9,
    "start_time": "2022-10-07T12:35:48.279Z"
   },
   {
    "duration": 15,
    "start_time": "2022-10-07T12:35:58.261Z"
   },
   {
    "duration": 8,
    "start_time": "2022-10-07T12:36:01.158Z"
   },
   {
    "duration": 5,
    "start_time": "2022-10-07T12:36:19.109Z"
   },
   {
    "duration": 5,
    "start_time": "2022-10-07T12:36:21.514Z"
   },
   {
    "duration": 1263,
    "start_time": "2022-10-07T13:33:21.974Z"
   },
   {
    "duration": 187,
    "start_time": "2022-10-07T13:33:23.239Z"
   },
   {
    "duration": 5,
    "start_time": "2022-10-07T13:33:23.427Z"
   },
   {
    "duration": 34,
    "start_time": "2022-10-07T13:33:23.433Z"
   },
   {
    "duration": 26,
    "start_time": "2022-10-07T13:33:23.470Z"
   },
   {
    "duration": 20,
    "start_time": "2022-10-07T13:33:23.498Z"
   },
   {
    "duration": 5,
    "start_time": "2022-10-07T13:33:23.520Z"
   },
   {
    "duration": 11,
    "start_time": "2022-10-07T13:33:23.527Z"
   },
   {
    "duration": 25,
    "start_time": "2022-10-07T13:33:23.540Z"
   },
   {
    "duration": 10,
    "start_time": "2022-10-07T13:33:23.567Z"
   },
   {
    "duration": 25,
    "start_time": "2022-10-07T13:33:23.579Z"
   },
   {
    "duration": 27,
    "start_time": "2022-10-07T13:33:23.606Z"
   },
   {
    "duration": 11,
    "start_time": "2022-10-07T13:33:23.634Z"
   },
   {
    "duration": 599,
    "start_time": "2022-10-07T13:33:23.648Z"
   },
   {
    "duration": 562,
    "start_time": "2022-10-07T13:33:24.249Z"
   },
   {
    "duration": 365,
    "start_time": "2022-10-07T13:33:24.813Z"
   },
   {
    "duration": 513,
    "start_time": "2022-10-07T13:33:25.180Z"
   },
   {
    "duration": 584,
    "start_time": "2022-10-07T13:33:25.700Z"
   },
   {
    "duration": 150,
    "start_time": "2022-10-07T13:33:26.287Z"
   },
   {
    "duration": 11,
    "start_time": "2022-10-07T13:33:26.439Z"
   },
   {
    "duration": 179,
    "start_time": "2022-10-07T13:33:26.452Z"
   },
   {
    "duration": 245,
    "start_time": "2022-10-07T13:33:26.633Z"
   },
   {
    "duration": 7,
    "start_time": "2022-10-07T13:33:26.879Z"
   },
   {
    "duration": 145,
    "start_time": "2022-10-07T13:33:26.888Z"
   },
   {
    "duration": 0,
    "start_time": "2022-10-07T13:33:27.035Z"
   },
   {
    "duration": 0,
    "start_time": "2022-10-07T13:33:27.036Z"
   },
   {
    "duration": 0,
    "start_time": "2022-10-07T13:33:27.037Z"
   },
   {
    "duration": 0,
    "start_time": "2022-10-07T13:33:27.038Z"
   },
   {
    "duration": 3,
    "start_time": "2022-10-07T13:33:58.864Z"
   },
   {
    "duration": 27,
    "start_time": "2022-10-07T13:34:05.897Z"
   },
   {
    "duration": 3,
    "start_time": "2022-10-07T13:34:10.434Z"
   },
   {
    "duration": 105,
    "start_time": "2022-10-07T13:34:10.439Z"
   },
   {
    "duration": 4,
    "start_time": "2022-10-07T13:34:10.545Z"
   },
   {
    "duration": 28,
    "start_time": "2022-10-07T13:34:10.551Z"
   },
   {
    "duration": 0,
    "start_time": "2022-10-07T13:34:10.581Z"
   },
   {
    "duration": 0,
    "start_time": "2022-10-07T13:34:10.583Z"
   },
   {
    "duration": 0,
    "start_time": "2022-10-07T13:34:10.584Z"
   },
   {
    "duration": 0,
    "start_time": "2022-10-07T13:34:10.585Z"
   },
   {
    "duration": 0,
    "start_time": "2022-10-07T13:34:10.586Z"
   },
   {
    "duration": 0,
    "start_time": "2022-10-07T13:34:10.587Z"
   },
   {
    "duration": 0,
    "start_time": "2022-10-07T13:34:10.588Z"
   },
   {
    "duration": 0,
    "start_time": "2022-10-07T13:34:10.589Z"
   },
   {
    "duration": 0,
    "start_time": "2022-10-07T13:34:10.590Z"
   },
   {
    "duration": 0,
    "start_time": "2022-10-07T13:34:10.591Z"
   },
   {
    "duration": 0,
    "start_time": "2022-10-07T13:34:10.592Z"
   },
   {
    "duration": 0,
    "start_time": "2022-10-07T13:34:10.593Z"
   },
   {
    "duration": 0,
    "start_time": "2022-10-07T13:34:10.594Z"
   },
   {
    "duration": 0,
    "start_time": "2022-10-07T13:34:10.595Z"
   },
   {
    "duration": 0,
    "start_time": "2022-10-07T13:34:10.596Z"
   },
   {
    "duration": 0,
    "start_time": "2022-10-07T13:34:10.597Z"
   },
   {
    "duration": 0,
    "start_time": "2022-10-07T13:34:10.598Z"
   },
   {
    "duration": 0,
    "start_time": "2022-10-07T13:34:10.599Z"
   },
   {
    "duration": 0,
    "start_time": "2022-10-07T13:34:10.599Z"
   },
   {
    "duration": 0,
    "start_time": "2022-10-07T13:34:10.600Z"
   },
   {
    "duration": 0,
    "start_time": "2022-10-07T13:34:10.601Z"
   },
   {
    "duration": 0,
    "start_time": "2022-10-07T13:34:10.606Z"
   },
   {
    "duration": 0,
    "start_time": "2022-10-07T13:34:10.607Z"
   },
   {
    "duration": 0,
    "start_time": "2022-10-07T13:34:10.608Z"
   },
   {
    "duration": 4,
    "start_time": "2022-10-07T13:36:49.701Z"
   },
   {
    "duration": 21,
    "start_time": "2022-10-07T13:36:52.482Z"
   },
   {
    "duration": 17,
    "start_time": "2022-10-07T13:37:23.885Z"
   },
   {
    "duration": 4,
    "start_time": "2022-10-07T13:37:27.081Z"
   },
   {
    "duration": 18,
    "start_time": "2022-10-07T13:37:30.132Z"
   },
   {
    "duration": 20,
    "start_time": "2022-10-07T13:37:38.106Z"
   },
   {
    "duration": 19,
    "start_time": "2022-10-07T13:37:57.613Z"
   },
   {
    "duration": 17,
    "start_time": "2022-10-07T13:38:13.293Z"
   },
   {
    "duration": 4,
    "start_time": "2022-10-07T13:38:17.460Z"
   },
   {
    "duration": 80,
    "start_time": "2022-10-07T13:38:17.466Z"
   },
   {
    "duration": 3,
    "start_time": "2022-10-07T13:38:17.547Z"
   },
   {
    "duration": 19,
    "start_time": "2022-10-07T13:38:17.552Z"
   },
   {
    "duration": 16,
    "start_time": "2022-10-07T13:38:17.573Z"
   },
   {
    "duration": 15,
    "start_time": "2022-10-07T13:38:17.591Z"
   },
   {
    "duration": 5,
    "start_time": "2022-10-07T13:38:17.607Z"
   },
   {
    "duration": 8,
    "start_time": "2022-10-07T13:38:17.613Z"
   },
   {
    "duration": 12,
    "start_time": "2022-10-07T13:38:17.623Z"
   },
   {
    "duration": 12,
    "start_time": "2022-10-07T13:38:17.636Z"
   },
   {
    "duration": 10,
    "start_time": "2022-10-07T13:38:17.650Z"
   },
   {
    "duration": 43,
    "start_time": "2022-10-07T13:38:17.661Z"
   },
   {
    "duration": 10,
    "start_time": "2022-10-07T13:38:17.706Z"
   },
   {
    "duration": 473,
    "start_time": "2022-10-07T13:38:17.719Z"
   },
   {
    "duration": 464,
    "start_time": "2022-10-07T13:38:18.193Z"
   },
   {
    "duration": 295,
    "start_time": "2022-10-07T13:38:18.659Z"
   },
   {
    "duration": 469,
    "start_time": "2022-10-07T13:38:18.955Z"
   },
   {
    "duration": 585,
    "start_time": "2022-10-07T13:38:19.426Z"
   },
   {
    "duration": 146,
    "start_time": "2022-10-07T13:38:20.013Z"
   },
   {
    "duration": 10,
    "start_time": "2022-10-07T13:38:20.161Z"
   },
   {
    "duration": 162,
    "start_time": "2022-10-07T13:38:20.173Z"
   },
   {
    "duration": 160,
    "start_time": "2022-10-07T13:38:20.336Z"
   },
   {
    "duration": 7,
    "start_time": "2022-10-07T13:38:20.497Z"
   },
   {
    "duration": 17,
    "start_time": "2022-10-07T13:38:20.505Z"
   },
   {
    "duration": 0,
    "start_time": "2022-10-07T13:38:20.524Z"
   },
   {
    "duration": 0,
    "start_time": "2022-10-07T13:38:20.525Z"
   },
   {
    "duration": 0,
    "start_time": "2022-10-07T13:38:20.526Z"
   },
   {
    "duration": 0,
    "start_time": "2022-10-07T13:38:20.527Z"
   },
   {
    "duration": 20,
    "start_time": "2022-10-07T13:40:24.262Z"
   },
   {
    "duration": 4,
    "start_time": "2022-10-07T13:40:33.185Z"
   },
   {
    "duration": 78,
    "start_time": "2022-10-07T13:40:33.191Z"
   },
   {
    "duration": 3,
    "start_time": "2022-10-07T13:40:33.271Z"
   },
   {
    "duration": 24,
    "start_time": "2022-10-07T13:40:33.275Z"
   },
   {
    "duration": 18,
    "start_time": "2022-10-07T13:40:33.301Z"
   },
   {
    "duration": 15,
    "start_time": "2022-10-07T13:40:33.321Z"
   },
   {
    "duration": 5,
    "start_time": "2022-10-07T13:40:33.338Z"
   },
   {
    "duration": 11,
    "start_time": "2022-10-07T13:40:33.344Z"
   },
   {
    "duration": 15,
    "start_time": "2022-10-07T13:40:33.356Z"
   },
   {
    "duration": 36,
    "start_time": "2022-10-07T13:40:33.373Z"
   },
   {
    "duration": 16,
    "start_time": "2022-10-07T13:40:33.411Z"
   },
   {
    "duration": 26,
    "start_time": "2022-10-07T13:40:33.429Z"
   },
   {
    "duration": 16,
    "start_time": "2022-10-07T13:40:33.456Z"
   },
   {
    "duration": 483,
    "start_time": "2022-10-07T13:40:33.475Z"
   },
   {
    "duration": 597,
    "start_time": "2022-10-07T13:40:33.960Z"
   },
   {
    "duration": 342,
    "start_time": "2022-10-07T13:40:34.559Z"
   },
   {
    "duration": 468,
    "start_time": "2022-10-07T13:40:34.903Z"
   },
   {
    "duration": 544,
    "start_time": "2022-10-07T13:40:35.373Z"
   },
   {
    "duration": 141,
    "start_time": "2022-10-07T13:40:35.919Z"
   },
   {
    "duration": 11,
    "start_time": "2022-10-07T13:40:36.062Z"
   },
   {
    "duration": 153,
    "start_time": "2022-10-07T13:40:36.074Z"
   },
   {
    "duration": 154,
    "start_time": "2022-10-07T13:40:36.229Z"
   },
   {
    "duration": 17,
    "start_time": "2022-10-07T13:40:36.384Z"
   },
   {
    "duration": 17,
    "start_time": "2022-10-07T13:40:36.402Z"
   },
   {
    "duration": 0,
    "start_time": "2022-10-07T13:40:36.420Z"
   },
   {
    "duration": 0,
    "start_time": "2022-10-07T13:40:36.421Z"
   },
   {
    "duration": 0,
    "start_time": "2022-10-07T13:40:36.423Z"
   },
   {
    "duration": 0,
    "start_time": "2022-10-07T13:40:36.424Z"
   },
   {
    "duration": 1113,
    "start_time": "2022-10-07T13:48:54.964Z"
   },
   {
    "duration": 75,
    "start_time": "2022-10-07T13:48:56.079Z"
   },
   {
    "duration": 4,
    "start_time": "2022-10-07T13:48:56.155Z"
   },
   {
    "duration": 25,
    "start_time": "2022-10-07T13:48:56.160Z"
   },
   {
    "duration": 19,
    "start_time": "2022-10-07T13:48:56.187Z"
   },
   {
    "duration": 17,
    "start_time": "2022-10-07T13:48:56.207Z"
   },
   {
    "duration": 5,
    "start_time": "2022-10-07T13:48:56.226Z"
   },
   {
    "duration": 9,
    "start_time": "2022-10-07T13:48:56.233Z"
   },
   {
    "duration": 33,
    "start_time": "2022-10-07T13:48:56.244Z"
   },
   {
    "duration": 27,
    "start_time": "2022-10-07T13:48:56.278Z"
   },
   {
    "duration": 29,
    "start_time": "2022-10-07T13:48:56.306Z"
   },
   {
    "duration": 42,
    "start_time": "2022-10-07T13:48:56.337Z"
   },
   {
    "duration": 23,
    "start_time": "2022-10-07T13:48:56.381Z"
   },
   {
    "duration": 535,
    "start_time": "2022-10-07T13:48:56.407Z"
   },
   {
    "duration": 440,
    "start_time": "2022-10-07T13:48:56.944Z"
   },
   {
    "duration": 325,
    "start_time": "2022-10-07T13:48:57.386Z"
   },
   {
    "duration": 488,
    "start_time": "2022-10-07T13:48:57.713Z"
   },
   {
    "duration": 608,
    "start_time": "2022-10-07T13:48:58.202Z"
   },
   {
    "duration": 140,
    "start_time": "2022-10-07T13:48:58.812Z"
   },
   {
    "duration": 10,
    "start_time": "2022-10-07T13:48:58.953Z"
   },
   {
    "duration": 166,
    "start_time": "2022-10-07T13:48:58.965Z"
   },
   {
    "duration": 219,
    "start_time": "2022-10-07T13:48:59.133Z"
   },
   {
    "duration": 8,
    "start_time": "2022-10-07T13:48:59.354Z"
   },
   {
    "duration": 117,
    "start_time": "2022-10-07T13:48:59.363Z"
   },
   {
    "duration": 0,
    "start_time": "2022-10-07T13:48:59.482Z"
   },
   {
    "duration": 0,
    "start_time": "2022-10-07T13:48:59.483Z"
   },
   {
    "duration": 0,
    "start_time": "2022-10-07T13:48:59.484Z"
   },
   {
    "duration": 0,
    "start_time": "2022-10-07T13:48:59.485Z"
   },
   {
    "duration": 125,
    "start_time": "2022-10-07T13:51:54.233Z"
   },
   {
    "duration": 371,
    "start_time": "2022-10-07T13:53:02.971Z"
   },
   {
    "duration": 325,
    "start_time": "2022-10-07T13:53:18.819Z"
   },
   {
    "duration": 347,
    "start_time": "2022-10-07T13:53:26.508Z"
   },
   {
    "duration": 1095,
    "start_time": "2022-10-07T13:53:53.638Z"
   },
   {
    "duration": 78,
    "start_time": "2022-10-07T13:53:54.735Z"
   },
   {
    "duration": 5,
    "start_time": "2022-10-07T13:53:54.815Z"
   },
   {
    "duration": 28,
    "start_time": "2022-10-07T13:53:54.821Z"
   },
   {
    "duration": 16,
    "start_time": "2022-10-07T13:53:54.852Z"
   },
   {
    "duration": 30,
    "start_time": "2022-10-07T13:53:54.870Z"
   },
   {
    "duration": 5,
    "start_time": "2022-10-07T13:53:54.902Z"
   },
   {
    "duration": 6,
    "start_time": "2022-10-07T13:53:54.909Z"
   },
   {
    "duration": 12,
    "start_time": "2022-10-07T13:53:54.916Z"
   },
   {
    "duration": 10,
    "start_time": "2022-10-07T13:53:54.929Z"
   },
   {
    "duration": 16,
    "start_time": "2022-10-07T13:53:54.940Z"
   },
   {
    "duration": 45,
    "start_time": "2022-10-07T13:53:54.957Z"
   },
   {
    "duration": 10,
    "start_time": "2022-10-07T13:53:55.003Z"
   },
   {
    "duration": 561,
    "start_time": "2022-10-07T13:53:55.016Z"
   },
   {
    "duration": 457,
    "start_time": "2022-10-07T13:53:55.579Z"
   },
   {
    "duration": 297,
    "start_time": "2022-10-07T13:53:56.037Z"
   },
   {
    "duration": 469,
    "start_time": "2022-10-07T13:53:56.336Z"
   },
   {
    "duration": 547,
    "start_time": "2022-10-07T13:53:56.806Z"
   },
   {
    "duration": 146,
    "start_time": "2022-10-07T13:53:57.354Z"
   },
   {
    "duration": 10,
    "start_time": "2022-10-07T13:53:57.502Z"
   },
   {
    "duration": 166,
    "start_time": "2022-10-07T13:53:57.514Z"
   },
   {
    "duration": 230,
    "start_time": "2022-10-07T13:53:57.682Z"
   },
   {
    "duration": 8,
    "start_time": "2022-10-07T13:53:57.913Z"
   },
   {
    "duration": 346,
    "start_time": "2022-10-07T13:53:57.922Z"
   },
   {
    "duration": 9,
    "start_time": "2022-10-07T13:53:58.269Z"
   },
   {
    "duration": 157,
    "start_time": "2022-10-07T13:53:58.279Z"
   },
   {
    "duration": 97,
    "start_time": "2022-10-07T13:53:58.438Z"
   },
   {
    "duration": 0,
    "start_time": "2022-10-07T13:53:58.537Z"
   },
   {
    "duration": 10,
    "start_time": "2022-10-07T13:57:02.614Z"
   },
   {
    "duration": 191,
    "start_time": "2022-10-07T13:57:04.414Z"
   },
   {
    "duration": 29,
    "start_time": "2022-10-07T13:58:44.202Z"
   },
   {
    "duration": 1097,
    "start_time": "2022-10-07T13:59:11.692Z"
   },
   {
    "duration": 76,
    "start_time": "2022-10-07T13:59:12.791Z"
   },
   {
    "duration": 4,
    "start_time": "2022-10-07T13:59:12.868Z"
   },
   {
    "duration": 26,
    "start_time": "2022-10-07T13:59:12.873Z"
   },
   {
    "duration": 18,
    "start_time": "2022-10-07T13:59:12.901Z"
   },
   {
    "duration": 15,
    "start_time": "2022-10-07T13:59:12.921Z"
   },
   {
    "duration": 5,
    "start_time": "2022-10-07T13:59:12.938Z"
   },
   {
    "duration": 8,
    "start_time": "2022-10-07T13:59:12.944Z"
   },
   {
    "duration": 15,
    "start_time": "2022-10-07T13:59:12.953Z"
   },
   {
    "duration": 38,
    "start_time": "2022-10-07T13:59:12.969Z"
   },
   {
    "duration": 12,
    "start_time": "2022-10-07T13:59:13.009Z"
   },
   {
    "duration": 23,
    "start_time": "2022-10-07T13:59:13.022Z"
   },
   {
    "duration": 10,
    "start_time": "2022-10-07T13:59:13.046Z"
   },
   {
    "duration": 578,
    "start_time": "2022-10-07T13:59:13.059Z"
   },
   {
    "duration": 467,
    "start_time": "2022-10-07T13:59:13.639Z"
   },
   {
    "duration": 304,
    "start_time": "2022-10-07T13:59:14.108Z"
   },
   {
    "duration": 523,
    "start_time": "2022-10-07T13:59:14.414Z"
   },
   {
    "duration": 597,
    "start_time": "2022-10-07T13:59:14.939Z"
   },
   {
    "duration": 145,
    "start_time": "2022-10-07T13:59:15.538Z"
   },
   {
    "duration": 17,
    "start_time": "2022-10-07T13:59:15.685Z"
   },
   {
    "duration": 185,
    "start_time": "2022-10-07T13:59:15.704Z"
   },
   {
    "duration": 232,
    "start_time": "2022-10-07T13:59:15.899Z"
   },
   {
    "duration": 8,
    "start_time": "2022-10-07T13:59:16.132Z"
   },
   {
    "duration": 344,
    "start_time": "2022-10-07T13:59:16.142Z"
   },
   {
    "duration": 20,
    "start_time": "2022-10-07T13:59:16.488Z"
   },
   {
    "duration": 131,
    "start_time": "2022-10-07T13:59:16.510Z"
   },
   {
    "duration": 26,
    "start_time": "2022-10-07T13:59:16.643Z"
   },
   {
    "duration": 346,
    "start_time": "2022-10-07T13:59:16.671Z"
   },
   {
    "duration": 1040,
    "start_time": "2022-10-07T14:02:05.340Z"
   },
   {
    "duration": 75,
    "start_time": "2022-10-07T14:02:06.382Z"
   },
   {
    "duration": 3,
    "start_time": "2022-10-07T14:02:06.459Z"
   },
   {
    "duration": 27,
    "start_time": "2022-10-07T14:02:06.464Z"
   },
   {
    "duration": 16,
    "start_time": "2022-10-07T14:02:06.493Z"
   },
   {
    "duration": 22,
    "start_time": "2022-10-07T14:02:06.511Z"
   },
   {
    "duration": 5,
    "start_time": "2022-10-07T14:02:06.535Z"
   },
   {
    "duration": 6,
    "start_time": "2022-10-07T14:02:06.542Z"
   },
   {
    "duration": 14,
    "start_time": "2022-10-07T14:02:06.549Z"
   },
   {
    "duration": 11,
    "start_time": "2022-10-07T14:02:06.565Z"
   },
   {
    "duration": 9,
    "start_time": "2022-10-07T14:02:06.600Z"
   },
   {
    "duration": 28,
    "start_time": "2022-10-07T14:02:06.610Z"
   },
   {
    "duration": 11,
    "start_time": "2022-10-07T14:02:06.640Z"
   },
   {
    "duration": 562,
    "start_time": "2022-10-07T14:02:06.653Z"
   },
   {
    "duration": 477,
    "start_time": "2022-10-07T14:02:07.216Z"
   },
   {
    "duration": 316,
    "start_time": "2022-10-07T14:02:07.700Z"
   },
   {
    "duration": 462,
    "start_time": "2022-10-07T14:02:08.018Z"
   },
   {
    "duration": 537,
    "start_time": "2022-10-07T14:02:08.481Z"
   },
   {
    "duration": 137,
    "start_time": "2022-10-07T14:02:09.020Z"
   },
   {
    "duration": 10,
    "start_time": "2022-10-07T14:02:09.158Z"
   },
   {
    "duration": 155,
    "start_time": "2022-10-07T14:02:09.170Z"
   },
   {
    "duration": 221,
    "start_time": "2022-10-07T14:02:09.327Z"
   },
   {
    "duration": 7,
    "start_time": "2022-10-07T14:02:09.550Z"
   },
   {
    "duration": 370,
    "start_time": "2022-10-07T14:02:09.559Z"
   },
   {
    "duration": 9,
    "start_time": "2022-10-07T14:02:09.930Z"
   },
   {
    "duration": 134,
    "start_time": "2022-10-07T14:02:09.941Z"
   },
   {
    "duration": 30,
    "start_time": "2022-10-07T14:02:10.077Z"
   },
   {
    "duration": 13,
    "start_time": "2022-10-07T14:02:10.109Z"
   },
   {
    "duration": 16,
    "start_time": "2022-10-07T14:02:33.427Z"
   },
   {
    "duration": 1123,
    "start_time": "2022-10-07T14:02:45.885Z"
   },
   {
    "duration": 79,
    "start_time": "2022-10-07T14:02:47.010Z"
   },
   {
    "duration": 3,
    "start_time": "2022-10-07T14:02:47.091Z"
   },
   {
    "duration": 26,
    "start_time": "2022-10-07T14:02:47.095Z"
   },
   {
    "duration": 18,
    "start_time": "2022-10-07T14:02:47.123Z"
   },
   {
    "duration": 17,
    "start_time": "2022-10-07T14:02:47.142Z"
   },
   {
    "duration": 5,
    "start_time": "2022-10-07T14:02:47.160Z"
   },
   {
    "duration": 34,
    "start_time": "2022-10-07T14:02:47.167Z"
   },
   {
    "duration": 13,
    "start_time": "2022-10-07T14:02:47.203Z"
   },
   {
    "duration": 11,
    "start_time": "2022-10-07T14:02:47.218Z"
   },
   {
    "duration": 11,
    "start_time": "2022-10-07T14:02:47.231Z"
   },
   {
    "duration": 23,
    "start_time": "2022-10-07T14:02:47.243Z"
   },
   {
    "duration": 11,
    "start_time": "2022-10-07T14:02:47.301Z"
   },
   {
    "duration": 577,
    "start_time": "2022-10-07T14:02:47.314Z"
   },
   {
    "duration": 470,
    "start_time": "2022-10-07T14:02:47.893Z"
   },
   {
    "duration": 317,
    "start_time": "2022-10-07T14:02:48.365Z"
   },
   {
    "duration": 491,
    "start_time": "2022-10-07T14:02:48.684Z"
   },
   {
    "duration": 563,
    "start_time": "2022-10-07T14:02:49.177Z"
   },
   {
    "duration": 144,
    "start_time": "2022-10-07T14:02:49.741Z"
   },
   {
    "duration": 21,
    "start_time": "2022-10-07T14:02:49.886Z"
   },
   {
    "duration": 160,
    "start_time": "2022-10-07T14:02:49.909Z"
   },
   {
    "duration": 233,
    "start_time": "2022-10-07T14:02:50.070Z"
   },
   {
    "duration": 7,
    "start_time": "2022-10-07T14:02:50.306Z"
   },
   {
    "duration": 358,
    "start_time": "2022-10-07T14:02:50.315Z"
   },
   {
    "duration": 12,
    "start_time": "2022-10-07T14:02:50.674Z"
   },
   {
    "duration": 164,
    "start_time": "2022-10-07T14:02:50.687Z"
   },
   {
    "duration": 28,
    "start_time": "2022-10-07T14:02:50.853Z"
   },
   {
    "duration": 28,
    "start_time": "2022-10-07T14:02:50.885Z"
   },
   {
    "duration": 26,
    "start_time": "2022-10-07T14:03:16.827Z"
   },
   {
    "duration": 13,
    "start_time": "2022-10-07T14:03:21.276Z"
   },
   {
    "duration": 1117,
    "start_time": "2022-10-07T14:03:36.916Z"
   },
   {
    "duration": 74,
    "start_time": "2022-10-07T14:03:38.035Z"
   },
   {
    "duration": 4,
    "start_time": "2022-10-07T14:03:38.111Z"
   },
   {
    "duration": 25,
    "start_time": "2022-10-07T14:03:38.117Z"
   },
   {
    "duration": 18,
    "start_time": "2022-10-07T14:03:38.144Z"
   },
   {
    "duration": 38,
    "start_time": "2022-10-07T14:03:38.164Z"
   },
   {
    "duration": 6,
    "start_time": "2022-10-07T14:03:38.203Z"
   },
   {
    "duration": 6,
    "start_time": "2022-10-07T14:03:38.210Z"
   },
   {
    "duration": 14,
    "start_time": "2022-10-07T14:03:38.217Z"
   },
   {
    "duration": 11,
    "start_time": "2022-10-07T14:03:38.233Z"
   },
   {
    "duration": 15,
    "start_time": "2022-10-07T14:03:38.246Z"
   },
   {
    "duration": 45,
    "start_time": "2022-10-07T14:03:38.263Z"
   },
   {
    "duration": 10,
    "start_time": "2022-10-07T14:03:38.309Z"
   },
   {
    "duration": 544,
    "start_time": "2022-10-07T14:03:38.321Z"
   },
   {
    "duration": 452,
    "start_time": "2022-10-07T14:03:38.867Z"
   },
   {
    "duration": 290,
    "start_time": "2022-10-07T14:03:39.321Z"
   },
   {
    "duration": 450,
    "start_time": "2022-10-07T14:03:39.613Z"
   },
   {
    "duration": 559,
    "start_time": "2022-10-07T14:03:40.064Z"
   },
   {
    "duration": 141,
    "start_time": "2022-10-07T14:03:40.624Z"
   },
   {
    "duration": 11,
    "start_time": "2022-10-07T14:03:40.767Z"
   },
   {
    "duration": 169,
    "start_time": "2022-10-07T14:03:40.780Z"
   },
   {
    "duration": 232,
    "start_time": "2022-10-07T14:03:40.951Z"
   },
   {
    "duration": 18,
    "start_time": "2022-10-07T14:03:41.185Z"
   },
   {
    "duration": 353,
    "start_time": "2022-10-07T14:03:41.205Z"
   },
   {
    "duration": 13,
    "start_time": "2022-10-07T14:03:41.560Z"
   },
   {
    "duration": 155,
    "start_time": "2022-10-07T14:03:41.575Z"
   },
   {
    "duration": 26,
    "start_time": "2022-10-07T14:03:41.732Z"
   },
   {
    "duration": 15,
    "start_time": "2022-10-07T14:03:41.759Z"
   },
   {
    "duration": 1930,
    "start_time": "2022-10-07T15:53:46.648Z"
   },
   {
    "duration": 263,
    "start_time": "2022-10-07T15:53:48.581Z"
   },
   {
    "duration": 9,
    "start_time": "2022-10-07T15:53:48.854Z"
   },
   {
    "duration": 94,
    "start_time": "2022-10-07T15:53:48.866Z"
   },
   {
    "duration": 44,
    "start_time": "2022-10-07T15:53:48.963Z"
   },
   {
    "duration": 55,
    "start_time": "2022-10-07T15:53:49.009Z"
   },
   {
    "duration": 28,
    "start_time": "2022-10-07T15:53:49.075Z"
   },
   {
    "duration": 51,
    "start_time": "2022-10-07T15:53:49.105Z"
   },
   {
    "duration": 24,
    "start_time": "2022-10-07T15:53:49.162Z"
   },
   {
    "duration": 85,
    "start_time": "2022-10-07T15:53:49.190Z"
   },
   {
    "duration": 41,
    "start_time": "2022-10-07T15:53:49.278Z"
   },
   {
    "duration": 79,
    "start_time": "2022-10-07T15:53:49.329Z"
   },
   {
    "duration": 22,
    "start_time": "2022-10-07T15:53:49.410Z"
   },
   {
    "duration": 742,
    "start_time": "2022-10-07T15:53:49.438Z"
   },
   {
    "duration": 902,
    "start_time": "2022-10-07T15:53:50.183Z"
   },
   {
    "duration": 445,
    "start_time": "2022-10-07T15:53:51.088Z"
   },
   {
    "duration": 831,
    "start_time": "2022-10-07T15:53:51.539Z"
   },
   {
    "duration": 891,
    "start_time": "2022-10-07T15:53:52.372Z"
   },
   {
    "duration": 243,
    "start_time": "2022-10-07T15:53:53.265Z"
   },
   {
    "duration": 32,
    "start_time": "2022-10-07T15:53:53.510Z"
   },
   {
    "duration": 244,
    "start_time": "2022-10-07T15:53:53.550Z"
   },
   {
    "duration": 360,
    "start_time": "2022-10-07T15:53:53.796Z"
   },
   {
    "duration": 9,
    "start_time": "2022-10-07T15:53:54.159Z"
   },
   {
    "duration": 592,
    "start_time": "2022-10-07T15:53:54.170Z"
   },
   {
    "duration": 16,
    "start_time": "2022-10-07T15:53:54.765Z"
   },
   {
    "duration": 364,
    "start_time": "2022-10-07T15:53:54.784Z"
   },
   {
    "duration": 49,
    "start_time": "2022-10-07T15:53:55.151Z"
   },
   {
    "duration": 39,
    "start_time": "2022-10-07T15:53:55.205Z"
   },
   {
    "duration": 1344,
    "start_time": "2022-10-09T15:39:30.562Z"
   },
   {
    "duration": 188,
    "start_time": "2022-10-09T15:39:31.908Z"
   },
   {
    "duration": 5,
    "start_time": "2022-10-09T15:39:32.098Z"
   },
   {
    "duration": 26,
    "start_time": "2022-10-09T15:39:32.112Z"
   },
   {
    "duration": 19,
    "start_time": "2022-10-09T15:39:32.140Z"
   },
   {
    "duration": 48,
    "start_time": "2022-10-09T15:39:32.161Z"
   },
   {
    "duration": 7,
    "start_time": "2022-10-09T15:39:32.211Z"
   },
   {
    "duration": 6,
    "start_time": "2022-10-09T15:39:32.220Z"
   },
   {
    "duration": 13,
    "start_time": "2022-10-09T15:39:32.228Z"
   },
   {
    "duration": 10,
    "start_time": "2022-10-09T15:39:32.244Z"
   },
   {
    "duration": 9,
    "start_time": "2022-10-09T15:39:32.256Z"
   },
   {
    "duration": 52,
    "start_time": "2022-10-09T15:39:32.266Z"
   },
   {
    "duration": 11,
    "start_time": "2022-10-09T15:39:32.319Z"
   },
   {
    "duration": 619,
    "start_time": "2022-10-09T15:39:32.331Z"
   },
   {
    "duration": 504,
    "start_time": "2022-10-09T15:39:32.951Z"
   },
   {
    "duration": 364,
    "start_time": "2022-10-09T15:39:33.457Z"
   },
   {
    "duration": 493,
    "start_time": "2022-10-09T15:39:33.823Z"
   },
   {
    "duration": 787,
    "start_time": "2022-10-09T15:39:34.317Z"
   },
   {
    "duration": 150,
    "start_time": "2022-10-09T15:39:35.107Z"
   },
   {
    "duration": 12,
    "start_time": "2022-10-09T15:39:35.259Z"
   },
   {
    "duration": 183,
    "start_time": "2022-10-09T15:39:35.273Z"
   },
   {
    "duration": 254,
    "start_time": "2022-10-09T15:39:35.458Z"
   },
   {
    "duration": 8,
    "start_time": "2022-10-09T15:39:35.714Z"
   },
   {
    "duration": 389,
    "start_time": "2022-10-09T15:39:35.724Z"
   },
   {
    "duration": 12,
    "start_time": "2022-10-09T15:39:36.118Z"
   },
   {
    "duration": 179,
    "start_time": "2022-10-09T15:39:36.132Z"
   },
   {
    "duration": 28,
    "start_time": "2022-10-09T15:39:36.312Z"
   },
   {
    "duration": 14,
    "start_time": "2022-10-09T15:39:36.343Z"
   },
   {
    "duration": 105,
    "start_time": "2022-10-09T15:41:10.626Z"
   },
   {
    "duration": 47,
    "start_time": "2022-10-09T15:41:19.409Z"
   },
   {
    "duration": 4,
    "start_time": "2022-10-09T15:41:23.859Z"
   },
   {
    "duration": 77,
    "start_time": "2022-10-09T15:41:23.865Z"
   },
   {
    "duration": 3,
    "start_time": "2022-10-09T15:41:23.944Z"
   },
   {
    "duration": 26,
    "start_time": "2022-10-09T15:41:23.949Z"
   },
   {
    "duration": 22,
    "start_time": "2022-10-09T15:41:23.978Z"
   },
   {
    "duration": 21,
    "start_time": "2022-10-09T15:41:24.001Z"
   },
   {
    "duration": 6,
    "start_time": "2022-10-09T15:41:24.024Z"
   },
   {
    "duration": 10,
    "start_time": "2022-10-09T15:41:24.032Z"
   },
   {
    "duration": 24,
    "start_time": "2022-10-09T15:41:24.043Z"
   },
   {
    "duration": 35,
    "start_time": "2022-10-09T15:41:24.068Z"
   },
   {
    "duration": 11,
    "start_time": "2022-10-09T15:41:24.108Z"
   },
   {
    "duration": 21,
    "start_time": "2022-10-09T15:41:24.121Z"
   },
   {
    "duration": 11,
    "start_time": "2022-10-09T15:41:24.143Z"
   },
   {
    "duration": 556,
    "start_time": "2022-10-09T15:41:24.157Z"
   },
   {
    "duration": 511,
    "start_time": "2022-10-09T15:41:24.715Z"
   },
   {
    "duration": 307,
    "start_time": "2022-10-09T15:41:25.227Z"
   },
   {
    "duration": 544,
    "start_time": "2022-10-09T15:41:25.535Z"
   },
   {
    "duration": 643,
    "start_time": "2022-10-09T15:41:26.081Z"
   },
   {
    "duration": 210,
    "start_time": "2022-10-09T15:41:26.727Z"
   },
   {
    "duration": 14,
    "start_time": "2022-10-09T15:41:26.940Z"
   },
   {
    "duration": 175,
    "start_time": "2022-10-09T15:41:26.956Z"
   },
   {
    "duration": 175,
    "start_time": "2022-10-09T15:41:27.133Z"
   },
   {
    "duration": 9,
    "start_time": "2022-10-09T15:41:27.312Z"
   },
   {
    "duration": 448,
    "start_time": "2022-10-09T15:41:27.322Z"
   },
   {
    "duration": 11,
    "start_time": "2022-10-09T15:41:27.771Z"
   },
   {
    "duration": 158,
    "start_time": "2022-10-09T15:41:27.797Z"
   },
   {
    "duration": 26,
    "start_time": "2022-10-09T15:41:27.956Z"
   },
   {
    "duration": 17,
    "start_time": "2022-10-09T15:41:28.006Z"
   }
  ],
  "kernelspec": {
   "display_name": "Python 3 (ipykernel)",
   "language": "python",
   "name": "python3"
  },
  "language_info": {
   "codemirror_mode": {
    "name": "ipython",
    "version": 3
   },
   "file_extension": ".py",
   "mimetype": "text/x-python",
   "name": "python",
   "nbconvert_exporter": "python",
   "pygments_lexer": "ipython3",
   "version": "3.9.12"
  },
  "toc": {
   "base_numbering": 1,
   "nav_menu": {},
   "number_sections": true,
   "sideBar": true,
   "skip_h1_title": true,
   "title_cell": "Table of Contents",
   "title_sidebar": "Contents",
   "toc_cell": false,
   "toc_position": {},
   "toc_section_display": true,
   "toc_window_display": false
  }
 },
 "nbformat": 4,
 "nbformat_minor": 2
}
